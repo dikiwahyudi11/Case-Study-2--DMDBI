{
  "cells": [
    {
      "cell_type": "markdown",
      "metadata": {
        "id": "view-in-github",
        "colab_type": "text"
      },
      "source": [
        "<a href=\"https://colab.research.google.com/github/dikiwahyudi11/Case-Study-2-DMDBI/blob/main/Case_Study_2_DMDBI_Kelompok_A_Fixed.ipynb\" target=\"_parent\"><img src=\"https://colab.research.google.com/assets/colab-badge.svg\" alt=\"Open In Colab\"/></a>"
      ]
    },
    {
      "cell_type": "markdown",
      "metadata": {
        "id": "ZVZkZw31lXzL"
      },
      "source": [
        "# **Case Study 2 Data Mining dan Business Intellegence**\n",
        "\n",
        "## **Aplikasi Model Klasifikasi**\n",
        "\n",
        "## **Anggota Kelompok A DMDBI (B)**\n",
        "| No. | Nama| NPM| Deskripsi| Kontribusi|\n",
        "|:---:|-----|:---:|-----|-----|\n",
        "|1.|Aristriana Muhamad|2106709043|Membentuk model klasifikasi|100%|\n",
        "|2.|Diki Wahyudi|2106709131|Membentuk model klasifikasi|100%|\n",
        "|3.|Kirono Dwi Saputro|2106656365|Melakukan preprocessing|100%|\n",
        "|4.|Myra Azzahra Putri Syah Indra|2106726844|Melakukan EDA|100%|\n",
        "|5.|Naufal Hafidz|1906377731|Melakukan EDA|100%|\n",
        "|6.|Zahrah Aulia Putri|2106724896|Membuat laporan|100%|"
      ]
    },
    {
      "cell_type": "markdown",
      "metadata": {
        "id": "wPvKW2RLV-Uy"
      },
      "source": [
        "## Domain Knowledge & Data Understanding\n",
        "\n",
        "- Data di bawah ini adalah data *hoax* dari https://www.mafindo.or.id/ yang didapatkan secara **legal** dengan meminta izin kepada pimpinan perusahaan Mafindo.\n",
        "- Label \"0\" menyatakan **bukan hoax** dan \"1\" menyatakan **post hoax**.\n",
        "\n",
        "## Tugas Anda\n",
        "\n",
        "- Lakukan preprocessing pada variabel \"teks\" di data.\n",
        "- Lalukan EDA pada data *hoax* tersebut.\n",
        "- Buat **Model Klasifikasi Hoax** terbaik dengan **parameter optimal** (dan **cross validated**)\n",
        "- Buatlah sebuah **laporan Analisis Data** tersebut (di Jupyter Notebook) seolah-olah Anda adalah seorang Data Scientist Kominfo dan ditugaskan oleh menteri-nya untuk menjelaskan tentang data *hoax* yang ada.\n",
        "- Jangan lupa jika Anda akan melakukan *attach* gambar (misalnya screenshot dari Voyant Tools), maka **jangan _load local file_**, tetapi upload terlebih dahulu ke GitHub (kalian sendiri) lalu *load* di Jupyter Notebook.\n",
        "- Cara *load image* dengan Markdown saat gambar ada di GitHub: https://stackoverflow.com/a/63270255/2844866\n",
        "- Ingat jangan *load local image(s)* karena dosen tidak akan bisa membukanya.\n",
        "- Teknik preprocessing, slicing data, variabel selection & engineering, pemilihan visualisasi, interpretasi, performa model klasifikasi, dan penyajian report adalah hal-hal yang akan dinilai dari kasus ini.\n",
        "- Code harus bisa di-\"Run-All\" di **Google Colaboratory** \"Error Free\" dan **TIDAK PERLU REQUEST ACCESS** (bisa dibuka oleh umum/publik)."
      ]
    },
    {
      "cell_type": "markdown",
      "metadata": {
        "id": "NWxTitXNnHqh"
      },
      "source": [
        "## Import Data"
      ]
    },
    {
      "cell_type": "code",
      "execution_count": 1,
      "metadata": {
        "id": "HBJU7RkmmPG1"
      },
      "outputs": [],
      "source": [
        "# Loading data\n",
        "import warnings; warnings.simplefilter('ignore')\n",
        "import pandas as pd\n",
        "\n",
        "fData = 'data/Data-Hoax-Mafindo.csv'\n",
        "try:\n",
        "    data = pd.read_csv(fData)\n",
        "except:\n",
        "    !mkdir data\n",
        "    !wget -P data/ https://raw.githubusercontent.com/taudataanalytics/taudata-Academy/master/data/Data-Hoax-Mafindo.csv\n",
        "    data = pd.read_csv(fData)"
      ]
    },
    {
      "cell_type": "code",
      "execution_count": 2,
      "metadata": {
        "colab": {
          "base_uri": "https://localhost:8080/",
          "height": 206
        },
        "id": "U74LSkf_zr87",
        "outputId": "bddfdb6a-b025-4c96-9fe6-3cbe9ade2b8c"
      },
      "outputs": [
        {
          "output_type": "execute_result",
          "data": {
            "text/plain": [
              "    ID  label    tanggal                                              judul  \\\n",
              "0   71      1  17-Aug-20  Pemakaian Masker Menyebabkan Penyakit Legionna...   \n",
              "1  461      1  17-Jul-20  Instruksi Gubernur Jateng tentang penilangan  ...   \n",
              "2  495      1  13-Jul-20  Foto Jim Rohn: Jokowi adalah presiden terbaik ...   \n",
              "3  550      1   8-Jul-20  ini bukan politik, tapi kenyataan Pak Jokowi b...   \n",
              "4  681      1  24-Jun-20       Foto Kadrun kalo lihat foto ini panas dingin   \n",
              "\n",
              "                                              narasi nama file gambar  \n",
              "0  A caller to a radio talk show recently shared ...           71.jpg  \n",
              "1  Yth.Seluruh Anggota Grup Sesuai Instruksi Gube...          461.png  \n",
              "2  Jokowi adalah presiden terbaik dlm sejarah ban...          495.png  \n",
              "3  Maaf Mas2 dan Mbak2, ini bukan politik, tapi k...          550.png  \n",
              "4        Kadrun kalo lihat foto ini panas dingin . .          681.jpg  "
            ],
            "text/html": [
              "\n",
              "  <div id=\"df-45991c9f-ba2b-40c5-94c9-28a4c8b0ba0b\" class=\"colab-df-container\">\n",
              "    <div>\n",
              "<style scoped>\n",
              "    .dataframe tbody tr th:only-of-type {\n",
              "        vertical-align: middle;\n",
              "    }\n",
              "\n",
              "    .dataframe tbody tr th {\n",
              "        vertical-align: top;\n",
              "    }\n",
              "\n",
              "    .dataframe thead th {\n",
              "        text-align: right;\n",
              "    }\n",
              "</style>\n",
              "<table border=\"1\" class=\"dataframe\">\n",
              "  <thead>\n",
              "    <tr style=\"text-align: right;\">\n",
              "      <th></th>\n",
              "      <th>ID</th>\n",
              "      <th>label</th>\n",
              "      <th>tanggal</th>\n",
              "      <th>judul</th>\n",
              "      <th>narasi</th>\n",
              "      <th>nama file gambar</th>\n",
              "    </tr>\n",
              "  </thead>\n",
              "  <tbody>\n",
              "    <tr>\n",
              "      <th>0</th>\n",
              "      <td>71</td>\n",
              "      <td>1</td>\n",
              "      <td>17-Aug-20</td>\n",
              "      <td>Pemakaian Masker Menyebabkan Penyakit Legionna...</td>\n",
              "      <td>A caller to a radio talk show recently shared ...</td>\n",
              "      <td>71.jpg</td>\n",
              "    </tr>\n",
              "    <tr>\n",
              "      <th>1</th>\n",
              "      <td>461</td>\n",
              "      <td>1</td>\n",
              "      <td>17-Jul-20</td>\n",
              "      <td>Instruksi Gubernur Jateng tentang penilangan  ...</td>\n",
              "      <td>Yth.Seluruh Anggota Grup Sesuai Instruksi Gube...</td>\n",
              "      <td>461.png</td>\n",
              "    </tr>\n",
              "    <tr>\n",
              "      <th>2</th>\n",
              "      <td>495</td>\n",
              "      <td>1</td>\n",
              "      <td>13-Jul-20</td>\n",
              "      <td>Foto Jim Rohn: Jokowi adalah presiden terbaik ...</td>\n",
              "      <td>Jokowi adalah presiden terbaik dlm sejarah ban...</td>\n",
              "      <td>495.png</td>\n",
              "    </tr>\n",
              "    <tr>\n",
              "      <th>3</th>\n",
              "      <td>550</td>\n",
              "      <td>1</td>\n",
              "      <td>8-Jul-20</td>\n",
              "      <td>ini bukan politik, tapi kenyataan Pak Jokowi b...</td>\n",
              "      <td>Maaf Mas2 dan Mbak2, ini bukan politik, tapi k...</td>\n",
              "      <td>550.png</td>\n",
              "    </tr>\n",
              "    <tr>\n",
              "      <th>4</th>\n",
              "      <td>681</td>\n",
              "      <td>1</td>\n",
              "      <td>24-Jun-20</td>\n",
              "      <td>Foto Kadrun kalo lihat foto ini panas dingin</td>\n",
              "      <td>Kadrun kalo lihat foto ini panas dingin . .</td>\n",
              "      <td>681.jpg</td>\n",
              "    </tr>\n",
              "  </tbody>\n",
              "</table>\n",
              "</div>\n",
              "    <div class=\"colab-df-buttons\">\n",
              "\n",
              "  <div class=\"colab-df-container\">\n",
              "    <button class=\"colab-df-convert\" onclick=\"convertToInteractive('df-45991c9f-ba2b-40c5-94c9-28a4c8b0ba0b')\"\n",
              "            title=\"Convert this dataframe to an interactive table.\"\n",
              "            style=\"display:none;\">\n",
              "\n",
              "  <svg xmlns=\"http://www.w3.org/2000/svg\" height=\"24px\" viewBox=\"0 -960 960 960\">\n",
              "    <path d=\"M120-120v-720h720v720H120Zm60-500h600v-160H180v160Zm220 220h160v-160H400v160Zm0 220h160v-160H400v160ZM180-400h160v-160H180v160Zm440 0h160v-160H620v160ZM180-180h160v-160H180v160Zm440 0h160v-160H620v160Z\"/>\n",
              "  </svg>\n",
              "    </button>\n",
              "\n",
              "  <style>\n",
              "    .colab-df-container {\n",
              "      display:flex;\n",
              "      gap: 12px;\n",
              "    }\n",
              "\n",
              "    .colab-df-convert {\n",
              "      background-color: #E8F0FE;\n",
              "      border: none;\n",
              "      border-radius: 50%;\n",
              "      cursor: pointer;\n",
              "      display: none;\n",
              "      fill: #1967D2;\n",
              "      height: 32px;\n",
              "      padding: 0 0 0 0;\n",
              "      width: 32px;\n",
              "    }\n",
              "\n",
              "    .colab-df-convert:hover {\n",
              "      background-color: #E2EBFA;\n",
              "      box-shadow: 0px 1px 2px rgba(60, 64, 67, 0.3), 0px 1px 3px 1px rgba(60, 64, 67, 0.15);\n",
              "      fill: #174EA6;\n",
              "    }\n",
              "\n",
              "    .colab-df-buttons div {\n",
              "      margin-bottom: 4px;\n",
              "    }\n",
              "\n",
              "    [theme=dark] .colab-df-convert {\n",
              "      background-color: #3B4455;\n",
              "      fill: #D2E3FC;\n",
              "    }\n",
              "\n",
              "    [theme=dark] .colab-df-convert:hover {\n",
              "      background-color: #434B5C;\n",
              "      box-shadow: 0px 1px 3px 1px rgba(0, 0, 0, 0.15);\n",
              "      filter: drop-shadow(0px 1px 2px rgba(0, 0, 0, 0.3));\n",
              "      fill: #FFFFFF;\n",
              "    }\n",
              "  </style>\n",
              "\n",
              "    <script>\n",
              "      const buttonEl =\n",
              "        document.querySelector('#df-45991c9f-ba2b-40c5-94c9-28a4c8b0ba0b button.colab-df-convert');\n",
              "      buttonEl.style.display =\n",
              "        google.colab.kernel.accessAllowed ? 'block' : 'none';\n",
              "\n",
              "      async function convertToInteractive(key) {\n",
              "        const element = document.querySelector('#df-45991c9f-ba2b-40c5-94c9-28a4c8b0ba0b');\n",
              "        const dataTable =\n",
              "          await google.colab.kernel.invokeFunction('convertToInteractive',\n",
              "                                                    [key], {});\n",
              "        if (!dataTable) return;\n",
              "\n",
              "        const docLinkHtml = 'Like what you see? Visit the ' +\n",
              "          '<a target=\"_blank\" href=https://colab.research.google.com/notebooks/data_table.ipynb>data table notebook</a>'\n",
              "          + ' to learn more about interactive tables.';\n",
              "        element.innerHTML = '';\n",
              "        dataTable['output_type'] = 'display_data';\n",
              "        await google.colab.output.renderOutput(dataTable, element);\n",
              "        const docLink = document.createElement('div');\n",
              "        docLink.innerHTML = docLinkHtml;\n",
              "        element.appendChild(docLink);\n",
              "      }\n",
              "    </script>\n",
              "  </div>\n",
              "\n",
              "\n",
              "<div id=\"df-9d6e529d-fcd6-4c66-ac12-fdb183c0e918\">\n",
              "  <button class=\"colab-df-quickchart\" onclick=\"quickchart('df-9d6e529d-fcd6-4c66-ac12-fdb183c0e918')\"\n",
              "            title=\"Suggest charts\"\n",
              "            style=\"display:none;\">\n",
              "\n",
              "<svg xmlns=\"http://www.w3.org/2000/svg\" height=\"24px\"viewBox=\"0 0 24 24\"\n",
              "     width=\"24px\">\n",
              "    <g>\n",
              "        <path d=\"M19 3H5c-1.1 0-2 .9-2 2v14c0 1.1.9 2 2 2h14c1.1 0 2-.9 2-2V5c0-1.1-.9-2-2-2zM9 17H7v-7h2v7zm4 0h-2V7h2v10zm4 0h-2v-4h2v4z\"/>\n",
              "    </g>\n",
              "</svg>\n",
              "  </button>\n",
              "\n",
              "<style>\n",
              "  .colab-df-quickchart {\n",
              "      --bg-color: #E8F0FE;\n",
              "      --fill-color: #1967D2;\n",
              "      --hover-bg-color: #E2EBFA;\n",
              "      --hover-fill-color: #174EA6;\n",
              "      --disabled-fill-color: #AAA;\n",
              "      --disabled-bg-color: #DDD;\n",
              "  }\n",
              "\n",
              "  [theme=dark] .colab-df-quickchart {\n",
              "      --bg-color: #3B4455;\n",
              "      --fill-color: #D2E3FC;\n",
              "      --hover-bg-color: #434B5C;\n",
              "      --hover-fill-color: #FFFFFF;\n",
              "      --disabled-bg-color: #3B4455;\n",
              "      --disabled-fill-color: #666;\n",
              "  }\n",
              "\n",
              "  .colab-df-quickchart {\n",
              "    background-color: var(--bg-color);\n",
              "    border: none;\n",
              "    border-radius: 50%;\n",
              "    cursor: pointer;\n",
              "    display: none;\n",
              "    fill: var(--fill-color);\n",
              "    height: 32px;\n",
              "    padding: 0;\n",
              "    width: 32px;\n",
              "  }\n",
              "\n",
              "  .colab-df-quickchart:hover {\n",
              "    background-color: var(--hover-bg-color);\n",
              "    box-shadow: 0 1px 2px rgba(60, 64, 67, 0.3), 0 1px 3px 1px rgba(60, 64, 67, 0.15);\n",
              "    fill: var(--button-hover-fill-color);\n",
              "  }\n",
              "\n",
              "  .colab-df-quickchart-complete:disabled,\n",
              "  .colab-df-quickchart-complete:disabled:hover {\n",
              "    background-color: var(--disabled-bg-color);\n",
              "    fill: var(--disabled-fill-color);\n",
              "    box-shadow: none;\n",
              "  }\n",
              "\n",
              "  .colab-df-spinner {\n",
              "    border: 2px solid var(--fill-color);\n",
              "    border-color: transparent;\n",
              "    border-bottom-color: var(--fill-color);\n",
              "    animation:\n",
              "      spin 1s steps(1) infinite;\n",
              "  }\n",
              "\n",
              "  @keyframes spin {\n",
              "    0% {\n",
              "      border-color: transparent;\n",
              "      border-bottom-color: var(--fill-color);\n",
              "      border-left-color: var(--fill-color);\n",
              "    }\n",
              "    20% {\n",
              "      border-color: transparent;\n",
              "      border-left-color: var(--fill-color);\n",
              "      border-top-color: var(--fill-color);\n",
              "    }\n",
              "    30% {\n",
              "      border-color: transparent;\n",
              "      border-left-color: var(--fill-color);\n",
              "      border-top-color: var(--fill-color);\n",
              "      border-right-color: var(--fill-color);\n",
              "    }\n",
              "    40% {\n",
              "      border-color: transparent;\n",
              "      border-right-color: var(--fill-color);\n",
              "      border-top-color: var(--fill-color);\n",
              "    }\n",
              "    60% {\n",
              "      border-color: transparent;\n",
              "      border-right-color: var(--fill-color);\n",
              "    }\n",
              "    80% {\n",
              "      border-color: transparent;\n",
              "      border-right-color: var(--fill-color);\n",
              "      border-bottom-color: var(--fill-color);\n",
              "    }\n",
              "    90% {\n",
              "      border-color: transparent;\n",
              "      border-bottom-color: var(--fill-color);\n",
              "    }\n",
              "  }\n",
              "</style>\n",
              "\n",
              "  <script>\n",
              "    async function quickchart(key) {\n",
              "      const quickchartButtonEl =\n",
              "        document.querySelector('#' + key + ' button');\n",
              "      quickchartButtonEl.disabled = true;  // To prevent multiple clicks.\n",
              "      quickchartButtonEl.classList.add('colab-df-spinner');\n",
              "      try {\n",
              "        const charts = await google.colab.kernel.invokeFunction(\n",
              "            'suggestCharts', [key], {});\n",
              "      } catch (error) {\n",
              "        console.error('Error during call to suggestCharts:', error);\n",
              "      }\n",
              "      quickchartButtonEl.classList.remove('colab-df-spinner');\n",
              "      quickchartButtonEl.classList.add('colab-df-quickchart-complete');\n",
              "    }\n",
              "    (() => {\n",
              "      let quickchartButtonEl =\n",
              "        document.querySelector('#df-9d6e529d-fcd6-4c66-ac12-fdb183c0e918 button');\n",
              "      quickchartButtonEl.style.display =\n",
              "        google.colab.kernel.accessAllowed ? 'block' : 'none';\n",
              "    })();\n",
              "  </script>\n",
              "</div>\n",
              "    </div>\n",
              "  </div>\n"
            ]
          },
          "metadata": {},
          "execution_count": 2
        }
      ],
      "source": [
        "data.head()"
      ]
    },
    {
      "cell_type": "code",
      "execution_count": 3,
      "metadata": {
        "colab": {
          "base_uri": "https://localhost:8080/"
        },
        "id": "UtBDiwxyTPS-",
        "outputId": "3afdfbc1-d475-4ebd-e6e7-6fabccf80e61"
      },
      "outputs": [
        {
          "output_type": "execute_result",
          "data": {
            "text/plain": [
              "(4701, 6)"
            ]
          },
          "metadata": {},
          "execution_count": 3
        }
      ],
      "source": [
        "# Ukuran data\n",
        "data.shape"
      ]
    },
    {
      "cell_type": "markdown",
      "source": [
        "## Import Library"
      ],
      "metadata": {
        "id": "PNfBLVwU6RoI"
      }
    },
    {
      "cell_type": "code",
      "execution_count": 4,
      "metadata": {
        "colab": {
          "base_uri": "https://localhost:8080/"
        },
        "id": "8ImGBJ_oITLU",
        "outputId": "f5bec57b-1464-4e30-8619-902b3898c379"
      },
      "outputs": [
        {
          "output_type": "stream",
          "name": "stdout",
          "text": [
            "--2023-11-24 14:19:28--  https://raw.githubusercontent.com/taudataanalytics/taudata-Academy/master/taudataNlpTm.py\n",
            "Resolving raw.githubusercontent.com (raw.githubusercontent.com)... 185.199.110.133, 185.199.108.133, 185.199.109.133, ...\n",
            "Connecting to raw.githubusercontent.com (raw.githubusercontent.com)|185.199.110.133|:443... connected.\n",
            "HTTP request sent, awaiting response... 200 OK\n",
            "Length: 14001 (14K) [text/plain]\n",
            "Saving to: ‘taudataNlpTm.py.2’\n",
            "\n",
            "\rtaudataNlpTm.py.2     0%[                    ]       0  --.-KB/s               \rtaudataNlpTm.py.2   100%[===================>]  13.67K  --.-KB/s    in 0.001s  \n",
            "\n",
            "2023-11-24 14:19:28 (19.0 MB/s) - ‘taudataNlpTm.py.2’ saved [14001/14001]\n",
            "\n",
            "mkdir: cannot create directory ‘data’: File exists\n",
            "--2023-11-24 14:19:28--  https://raw.githubusercontent.com/taudataanalytics/taudata-Academy/master/data/slang.txt\n",
            "Resolving raw.githubusercontent.com (raw.githubusercontent.com)... 185.199.111.133, 185.199.108.133, 185.199.109.133, ...\n",
            "Connecting to raw.githubusercontent.com (raw.githubusercontent.com)|185.199.111.133|:443... connected.\n",
            "HTTP request sent, awaiting response... 200 OK\n",
            "Length: 29041 (28K) [text/plain]\n",
            "Saving to: ‘data/slang.txt.2’\n",
            "\n",
            "slang.txt.2         100%[===================>]  28.36K  --.-KB/s    in 0.003s  \n",
            "\n",
            "2023-11-24 14:19:28 (8.35 MB/s) - ‘data/slang.txt.2’ saved [29041/29041]\n",
            "\n",
            "--2023-11-24 14:19:28--  https://raw.githubusercontent.com/taudataanalytics/taudata-Academy/master/data/stopwords_id.txt\n",
            "Resolving raw.githubusercontent.com (raw.githubusercontent.com)... 185.199.108.133, 185.199.109.133, 185.199.110.133, ...\n",
            "Connecting to raw.githubusercontent.com (raw.githubusercontent.com)|185.199.108.133|:443... connected.\n",
            "HTTP request sent, awaiting response... 200 OK\n",
            "Length: 6446 (6.3K) [text/plain]\n",
            "Saving to: ‘data/stopwords_id.txt.2’\n",
            "\n",
            "stopwords_id.txt.2  100%[===================>]   6.29K  --.-KB/s    in 0s      \n",
            "\n",
            "2023-11-24 14:19:29 (77.1 MB/s) - ‘data/stopwords_id.txt.2’ saved [6446/6446]\n",
            "\n",
            "--2023-11-24 14:19:29--  https://raw.githubusercontent.com/taudataanalytics/taudata-Academy/master/data/stopwords_en.txt\n",
            "Resolving raw.githubusercontent.com (raw.githubusercontent.com)... 185.199.108.133, 185.199.109.133, 185.199.110.133, ...\n",
            "Connecting to raw.githubusercontent.com (raw.githubusercontent.com)|185.199.108.133|:443... connected.\n",
            "HTTP request sent, awaiting response... 200 OK\n",
            "Length: 15140 (15K) [text/plain]\n",
            "Saving to: ‘data/stopwords_en.txt.2’\n",
            "\n",
            "stopwords_en.txt.2  100%[===================>]  14.79K  --.-KB/s    in 0s      \n",
            "\n",
            "2023-11-24 14:19:29 (31.4 MB/s) - ‘data/stopwords_en.txt.2’ saved [15140/15140]\n",
            "\n",
            "--2023-11-24 14:19:29--  https://raw.githubusercontent.com/taudataanalytics/taudata-Academy/master/data/kata_dasar.txt\n",
            "Resolving raw.githubusercontent.com (raw.githubusercontent.com)... 185.199.109.133, 185.199.110.133, 185.199.108.133, ...\n",
            "Connecting to raw.githubusercontent.com (raw.githubusercontent.com)|185.199.109.133|:443... connected.\n",
            "HTTP request sent, awaiting response... 200 OK\n",
            "Length: 348507 (340K) [text/plain]\n",
            "Saving to: ‘data/kata_dasar.txt.2’\n",
            "\n",
            "kata_dasar.txt.2    100%[===================>] 340.34K  --.-KB/s    in 0.05s   \n",
            "\n",
            "2023-11-24 14:19:29 (6.10 MB/s) - ‘data/kata_dasar.txt.2’ saved [348507/348507]\n",
            "\n",
            "--2023-11-24 14:19:29--  https://raw.githubusercontent.com/taudataanalytics/taudata-Academy/master/data/wn-ind-def.tab\n",
            "Resolving raw.githubusercontent.com (raw.githubusercontent.com)... 185.199.108.133, 185.199.109.133, 185.199.110.133, ...\n",
            "Connecting to raw.githubusercontent.com (raw.githubusercontent.com)|185.199.108.133|:443... connected.\n",
            "HTTP request sent, awaiting response... 200 OK\n",
            "Length: 868322 (848K) [text/plain]\n",
            "Saving to: ‘data/wn-ind-def.tab.2’\n",
            "\n",
            "wn-ind-def.tab.2    100%[===================>] 847.97K  --.-KB/s    in 0.07s   \n",
            "\n",
            "2023-11-24 14:19:30 (11.7 MB/s) - ‘data/wn-ind-def.tab.2’ saved [868322/868322]\n",
            "\n",
            "--2023-11-24 14:19:30--  https://raw.githubusercontent.com/taudataanalytics/taudata-Academy/master/data/wn-msa-all.tab\n",
            "Resolving raw.githubusercontent.com (raw.githubusercontent.com)... 185.199.111.133, 185.199.108.133, 185.199.109.133, ...\n",
            "Connecting to raw.githubusercontent.com (raw.githubusercontent.com)|185.199.111.133|:443... connected.\n",
            "HTTP request sent, awaiting response... 200 OK\n",
            "Length: 17003012 (16M) [text/plain]\n",
            "Saving to: ‘data/wn-msa-all.tab.2’\n",
            "\n",
            "wn-msa-all.tab.2    100%[===================>]  16.21M   107MB/s    in 0.2s    \n",
            "\n",
            "2023-11-24 14:19:30 (107 MB/s) - ‘data/wn-msa-all.tab.2’ saved [17003012/17003012]\n",
            "\n",
            "--2023-11-24 14:19:30--  https://raw.githubusercontent.com/taudataanalytics/taudata-Academy/master/data/ind_SA.csv\n",
            "Resolving raw.githubusercontent.com (raw.githubusercontent.com)... 185.199.108.133, 185.199.109.133, 185.199.110.133, ...\n",
            "Connecting to raw.githubusercontent.com (raw.githubusercontent.com)|185.199.108.133|:443... connected.\n",
            "HTTP request sent, awaiting response... 200 OK\n",
            "Length: 918025 (897K) [text/plain]\n",
            "Saving to: ‘data/ind_SA.csv.2’\n",
            "\n",
            "ind_SA.csv.2        100%[===================>] 896.51K  --.-KB/s    in 0.07s   \n",
            "\n",
            "2023-11-24 14:19:30 (12.2 MB/s) - ‘data/ind_SA.csv.2’ saved [918025/918025]\n",
            "\n",
            "--2023-11-24 14:19:31--  https://raw.githubusercontent.com/taudataanalytics/taudata-Academy/master/data/all_indo_man_tag_corpus_model.crf.tagger\n",
            "Resolving raw.githubusercontent.com (raw.githubusercontent.com)... 185.199.108.133, 185.199.109.133, 185.199.110.133, ...\n",
            "Connecting to raw.githubusercontent.com (raw.githubusercontent.com)|185.199.108.133|:443... connected.\n",
            "HTTP request sent, awaiting response... 200 OK\n",
            "Length: 1722780 (1.6M) [application/octet-stream]\n",
            "Saving to: ‘data/all_indo_man_tag_corpus_model.crf.tagger.2’\n",
            "\n",
            "all_indo_man_tag_co 100%[===================>]   1.64M  --.-KB/s    in 0.09s   \n",
            "\n",
            "2023-11-24 14:19:31 (19.2 MB/s) - ‘data/all_indo_man_tag_corpus_model.crf.tagger.2’ saved [1722780/1722780]\n",
            "\n",
            "Requirement already satisfied: spacy in /usr/local/lib/python3.10/dist-packages (3.6.1)\n",
            "Requirement already satisfied: python-crfsuite in /usr/local/lib/python3.10/dist-packages (0.9.9)\n",
            "Requirement already satisfied: unidecode in /usr/local/lib/python3.10/dist-packages (1.3.7)\n",
            "Requirement already satisfied: textblob in /usr/local/lib/python3.10/dist-packages (0.17.1)\n",
            "Requirement already satisfied: sastrawi in /usr/local/lib/python3.10/dist-packages (1.0.1)\n",
            "Requirement already satisfied: spacy-legacy<3.1.0,>=3.0.11 in /usr/local/lib/python3.10/dist-packages (from spacy) (3.0.12)\n",
            "Requirement already satisfied: spacy-loggers<2.0.0,>=1.0.0 in /usr/local/lib/python3.10/dist-packages (from spacy) (1.0.5)\n",
            "Requirement already satisfied: murmurhash<1.1.0,>=0.28.0 in /usr/local/lib/python3.10/dist-packages (from spacy) (1.0.10)\n",
            "Requirement already satisfied: cymem<2.1.0,>=2.0.2 in /usr/local/lib/python3.10/dist-packages (from spacy) (2.0.8)\n",
            "Requirement already satisfied: preshed<3.1.0,>=3.0.2 in /usr/local/lib/python3.10/dist-packages (from spacy) (3.0.9)\n",
            "Requirement already satisfied: thinc<8.2.0,>=8.1.8 in /usr/local/lib/python3.10/dist-packages (from spacy) (8.1.12)\n",
            "Requirement already satisfied: wasabi<1.2.0,>=0.9.1 in /usr/local/lib/python3.10/dist-packages (from spacy) (1.1.2)\n",
            "Requirement already satisfied: srsly<3.0.0,>=2.4.3 in /usr/local/lib/python3.10/dist-packages (from spacy) (2.4.8)\n",
            "Requirement already satisfied: catalogue<2.1.0,>=2.0.6 in /usr/local/lib/python3.10/dist-packages (from spacy) (2.0.10)\n",
            "Requirement already satisfied: typer<0.10.0,>=0.3.0 in /usr/local/lib/python3.10/dist-packages (from spacy) (0.9.0)\n",
            "Requirement already satisfied: pathy>=0.10.0 in /usr/local/lib/python3.10/dist-packages (from spacy) (0.10.3)\n",
            "Requirement already satisfied: smart-open<7.0.0,>=5.2.1 in /usr/local/lib/python3.10/dist-packages (from spacy) (6.4.0)\n",
            "Requirement already satisfied: tqdm<5.0.0,>=4.38.0 in /usr/local/lib/python3.10/dist-packages (from spacy) (4.66.1)\n",
            "Requirement already satisfied: numpy>=1.15.0 in /usr/local/lib/python3.10/dist-packages (from spacy) (1.26.2)\n",
            "Requirement already satisfied: requests<3.0.0,>=2.13.0 in /usr/local/lib/python3.10/dist-packages (from spacy) (2.31.0)\n",
            "Requirement already satisfied: pydantic!=1.8,!=1.8.1,<3.0.0,>=1.7.4 in /usr/local/lib/python3.10/dist-packages (from spacy) (1.10.13)\n",
            "Requirement already satisfied: jinja2 in /usr/local/lib/python3.10/dist-packages (from spacy) (3.1.2)\n",
            "Requirement already satisfied: setuptools in /usr/local/lib/python3.10/dist-packages (from spacy) (67.7.2)\n",
            "Requirement already satisfied: packaging>=20.0 in /usr/local/lib/python3.10/dist-packages (from spacy) (23.2)\n",
            "Requirement already satisfied: langcodes<4.0.0,>=3.2.0 in /usr/local/lib/python3.10/dist-packages (from spacy) (3.3.0)\n",
            "Requirement already satisfied: nltk>=3.1 in /usr/local/lib/python3.10/dist-packages (from textblob) (3.8.1)\n",
            "Requirement already satisfied: click in /usr/local/lib/python3.10/dist-packages (from nltk>=3.1->textblob) (8.1.7)\n",
            "Requirement already satisfied: joblib in /usr/local/lib/python3.10/dist-packages (from nltk>=3.1->textblob) (1.3.2)\n",
            "Requirement already satisfied: regex>=2021.8.3 in /usr/local/lib/python3.10/dist-packages (from nltk>=3.1->textblob) (2023.6.3)\n",
            "Requirement already satisfied: typing-extensions>=4.2.0 in /usr/local/lib/python3.10/dist-packages (from pydantic!=1.8,!=1.8.1,<3.0.0,>=1.7.4->spacy) (4.5.0)\n",
            "Requirement already satisfied: charset-normalizer<4,>=2 in /usr/local/lib/python3.10/dist-packages (from requests<3.0.0,>=2.13.0->spacy) (3.3.2)\n",
            "Requirement already satisfied: idna<4,>=2.5 in /usr/local/lib/python3.10/dist-packages (from requests<3.0.0,>=2.13.0->spacy) (3.4)\n",
            "Requirement already satisfied: urllib3<3,>=1.21.1 in /usr/local/lib/python3.10/dist-packages (from requests<3.0.0,>=2.13.0->spacy) (2.0.7)\n",
            "Requirement already satisfied: certifi>=2017.4.17 in /usr/local/lib/python3.10/dist-packages (from requests<3.0.0,>=2.13.0->spacy) (2023.7.22)\n",
            "Requirement already satisfied: blis<0.8.0,>=0.7.8 in /usr/local/lib/python3.10/dist-packages (from thinc<8.2.0,>=8.1.8->spacy) (0.7.11)\n",
            "Requirement already satisfied: confection<1.0.0,>=0.0.1 in /usr/local/lib/python3.10/dist-packages (from thinc<8.2.0,>=8.1.8->spacy) (0.1.3)\n",
            "Requirement already satisfied: MarkupSafe>=2.0 in /usr/local/lib/python3.10/dist-packages (from jinja2->spacy) (2.1.3)\n",
            "2023-11-24 14:19:54.027573: E tensorflow/compiler/xla/stream_executor/cuda/cuda_dnn.cc:9342] Unable to register cuDNN factory: Attempting to register factory for plugin cuDNN when one has already been registered\n",
            "2023-11-24 14:19:54.027652: E tensorflow/compiler/xla/stream_executor/cuda/cuda_fft.cc:609] Unable to register cuFFT factory: Attempting to register factory for plugin cuFFT when one has already been registered\n",
            "2023-11-24 14:19:54.029443: E tensorflow/compiler/xla/stream_executor/cuda/cuda_blas.cc:1518] Unable to register cuBLAS factory: Attempting to register factory for plugin cuBLAS when one has already been registered\n",
            "2023-11-24 14:19:54.058398: I tensorflow/core/platform/cpu_feature_guard.cc:182] This TensorFlow binary is optimized to use available CPU instructions in performance-critical operations.\n",
            "To enable the following instructions: AVX2 FMA, in other operations, rebuild TensorFlow with the appropriate compiler flags.\n",
            "2023-11-24 14:19:57.554131: W tensorflow/compiler/tf2tensorrt/utils/py_utils.cc:38] TF-TRT Warning: Could not find TensorRT\n",
            "\u001b[38;5;3m⚠ As of spaCy v3.0, shortcuts like 'xx' are deprecated. Please use the\n",
            "full pipeline package name 'xx_ent_wiki_sm' instead.\u001b[0m\n",
            "Collecting xx-ent-wiki-sm==3.6.0\n",
            "  Downloading https://github.com/explosion/spacy-models/releases/download/xx_ent_wiki_sm-3.6.0/xx_ent_wiki_sm-3.6.0-py3-none-any.whl (11.1 MB)\n",
            "\u001b[2K     \u001b[90m━━━━━━━━━━━━━━━━━━━━━━━━━━━━━━━━━━━━━━━━\u001b[0m \u001b[32m11.1/11.1 MB\u001b[0m \u001b[31m48.1 MB/s\u001b[0m eta \u001b[36m0:00:00\u001b[0m\n",
            "\u001b[?25hRequirement already satisfied: spacy<3.7.0,>=3.6.0 in /usr/local/lib/python3.10/dist-packages (from xx-ent-wiki-sm==3.6.0) (3.6.1)\n",
            "Requirement already satisfied: spacy-legacy<3.1.0,>=3.0.11 in /usr/local/lib/python3.10/dist-packages (from spacy<3.7.0,>=3.6.0->xx-ent-wiki-sm==3.6.0) (3.0.12)\n",
            "Requirement already satisfied: spacy-loggers<2.0.0,>=1.0.0 in /usr/local/lib/python3.10/dist-packages (from spacy<3.7.0,>=3.6.0->xx-ent-wiki-sm==3.6.0) (1.0.5)\n",
            "Requirement already satisfied: murmurhash<1.1.0,>=0.28.0 in /usr/local/lib/python3.10/dist-packages (from spacy<3.7.0,>=3.6.0->xx-ent-wiki-sm==3.6.0) (1.0.10)\n",
            "Requirement already satisfied: cymem<2.1.0,>=2.0.2 in /usr/local/lib/python3.10/dist-packages (from spacy<3.7.0,>=3.6.0->xx-ent-wiki-sm==3.6.0) (2.0.8)\n",
            "Requirement already satisfied: preshed<3.1.0,>=3.0.2 in /usr/local/lib/python3.10/dist-packages (from spacy<3.7.0,>=3.6.0->xx-ent-wiki-sm==3.6.0) (3.0.9)\n",
            "Requirement already satisfied: thinc<8.2.0,>=8.1.8 in /usr/local/lib/python3.10/dist-packages (from spacy<3.7.0,>=3.6.0->xx-ent-wiki-sm==3.6.0) (8.1.12)\n",
            "Requirement already satisfied: wasabi<1.2.0,>=0.9.1 in /usr/local/lib/python3.10/dist-packages (from spacy<3.7.0,>=3.6.0->xx-ent-wiki-sm==3.6.0) (1.1.2)\n",
            "Requirement already satisfied: srsly<3.0.0,>=2.4.3 in /usr/local/lib/python3.10/dist-packages (from spacy<3.7.0,>=3.6.0->xx-ent-wiki-sm==3.6.0) (2.4.8)\n",
            "Requirement already satisfied: catalogue<2.1.0,>=2.0.6 in /usr/local/lib/python3.10/dist-packages (from spacy<3.7.0,>=3.6.0->xx-ent-wiki-sm==3.6.0) (2.0.10)\n",
            "Requirement already satisfied: typer<0.10.0,>=0.3.0 in /usr/local/lib/python3.10/dist-packages (from spacy<3.7.0,>=3.6.0->xx-ent-wiki-sm==3.6.0) (0.9.0)\n",
            "Requirement already satisfied: pathy>=0.10.0 in /usr/local/lib/python3.10/dist-packages (from spacy<3.7.0,>=3.6.0->xx-ent-wiki-sm==3.6.0) (0.10.3)\n",
            "Requirement already satisfied: smart-open<7.0.0,>=5.2.1 in /usr/local/lib/python3.10/dist-packages (from spacy<3.7.0,>=3.6.0->xx-ent-wiki-sm==3.6.0) (6.4.0)\n",
            "Requirement already satisfied: tqdm<5.0.0,>=4.38.0 in /usr/local/lib/python3.10/dist-packages (from spacy<3.7.0,>=3.6.0->xx-ent-wiki-sm==3.6.0) (4.66.1)\n",
            "Requirement already satisfied: numpy>=1.15.0 in /usr/local/lib/python3.10/dist-packages (from spacy<3.7.0,>=3.6.0->xx-ent-wiki-sm==3.6.0) (1.26.2)\n",
            "Requirement already satisfied: requests<3.0.0,>=2.13.0 in /usr/local/lib/python3.10/dist-packages (from spacy<3.7.0,>=3.6.0->xx-ent-wiki-sm==3.6.0) (2.31.0)\n",
            "Requirement already satisfied: pydantic!=1.8,!=1.8.1,<3.0.0,>=1.7.4 in /usr/local/lib/python3.10/dist-packages (from spacy<3.7.0,>=3.6.0->xx-ent-wiki-sm==3.6.0) (1.10.13)\n",
            "Requirement already satisfied: jinja2 in /usr/local/lib/python3.10/dist-packages (from spacy<3.7.0,>=3.6.0->xx-ent-wiki-sm==3.6.0) (3.1.2)\n",
            "Requirement already satisfied: setuptools in /usr/local/lib/python3.10/dist-packages (from spacy<3.7.0,>=3.6.0->xx-ent-wiki-sm==3.6.0) (67.7.2)\n",
            "Requirement already satisfied: packaging>=20.0 in /usr/local/lib/python3.10/dist-packages (from spacy<3.7.0,>=3.6.0->xx-ent-wiki-sm==3.6.0) (23.2)\n",
            "Requirement already satisfied: langcodes<4.0.0,>=3.2.0 in /usr/local/lib/python3.10/dist-packages (from spacy<3.7.0,>=3.6.0->xx-ent-wiki-sm==3.6.0) (3.3.0)\n",
            "Requirement already satisfied: typing-extensions>=4.2.0 in /usr/local/lib/python3.10/dist-packages (from pydantic!=1.8,!=1.8.1,<3.0.0,>=1.7.4->spacy<3.7.0,>=3.6.0->xx-ent-wiki-sm==3.6.0) (4.5.0)\n",
            "Requirement already satisfied: charset-normalizer<4,>=2 in /usr/local/lib/python3.10/dist-packages (from requests<3.0.0,>=2.13.0->spacy<3.7.0,>=3.6.0->xx-ent-wiki-sm==3.6.0) (3.3.2)\n",
            "Requirement already satisfied: idna<4,>=2.5 in /usr/local/lib/python3.10/dist-packages (from requests<3.0.0,>=2.13.0->spacy<3.7.0,>=3.6.0->xx-ent-wiki-sm==3.6.0) (3.4)\n",
            "Requirement already satisfied: urllib3<3,>=1.21.1 in /usr/local/lib/python3.10/dist-packages (from requests<3.0.0,>=2.13.0->spacy<3.7.0,>=3.6.0->xx-ent-wiki-sm==3.6.0) (2.0.7)\n",
            "Requirement already satisfied: certifi>=2017.4.17 in /usr/local/lib/python3.10/dist-packages (from requests<3.0.0,>=2.13.0->spacy<3.7.0,>=3.6.0->xx-ent-wiki-sm==3.6.0) (2023.7.22)\n",
            "Requirement already satisfied: blis<0.8.0,>=0.7.8 in /usr/local/lib/python3.10/dist-packages (from thinc<8.2.0,>=8.1.8->spacy<3.7.0,>=3.6.0->xx-ent-wiki-sm==3.6.0) (0.7.11)\n",
            "Requirement already satisfied: confection<1.0.0,>=0.0.1 in /usr/local/lib/python3.10/dist-packages (from thinc<8.2.0,>=8.1.8->spacy<3.7.0,>=3.6.0->xx-ent-wiki-sm==3.6.0) (0.1.3)\n",
            "Requirement already satisfied: click<9.0.0,>=7.1.1 in /usr/local/lib/python3.10/dist-packages (from typer<0.10.0,>=0.3.0->spacy<3.7.0,>=3.6.0->xx-ent-wiki-sm==3.6.0) (8.1.7)\n",
            "Requirement already satisfied: MarkupSafe>=2.0 in /usr/local/lib/python3.10/dist-packages (from jinja2->spacy<3.7.0,>=3.6.0->xx-ent-wiki-sm==3.6.0) (2.1.3)\n",
            "\u001b[38;5;2m✔ Download and installation successful\u001b[0m\n",
            "You can now load the package via spacy.load('xx_ent_wiki_sm')\n",
            "2023-11-24 14:20:23.634071: E tensorflow/compiler/xla/stream_executor/cuda/cuda_dnn.cc:9342] Unable to register cuDNN factory: Attempting to register factory for plugin cuDNN when one has already been registered\n",
            "2023-11-24 14:20:23.634142: E tensorflow/compiler/xla/stream_executor/cuda/cuda_fft.cc:609] Unable to register cuFFT factory: Attempting to register factory for plugin cuFFT when one has already been registered\n",
            "2023-11-24 14:20:23.634191: E tensorflow/compiler/xla/stream_executor/cuda/cuda_blas.cc:1518] Unable to register cuBLAS factory: Attempting to register factory for plugin cuBLAS when one has already been registered\n",
            "2023-11-24 14:20:23.647245: I tensorflow/core/platform/cpu_feature_guard.cc:182] This TensorFlow binary is optimized to use available CPU instructions in performance-critical operations.\n",
            "To enable the following instructions: AVX2 FMA, in other operations, rebuild TensorFlow with the appropriate compiler flags.\n",
            "2023-11-24 14:20:25.617776: W tensorflow/compiler/tf2tensorrt/utils/py_utils.cc:38] TF-TRT Warning: Could not find TensorRT\n",
            "Collecting en-core-web-sm==3.6.0\n",
            "  Downloading https://github.com/explosion/spacy-models/releases/download/en_core_web_sm-3.6.0/en_core_web_sm-3.6.0-py3-none-any.whl (12.8 MB)\n",
            "\u001b[2K     \u001b[90m━━━━━━━━━━━━━━━━━━━━━━━━━━━━━━━━━━━━━━━━\u001b[0m \u001b[32m12.8/12.8 MB\u001b[0m \u001b[31m78.3 MB/s\u001b[0m eta \u001b[36m0:00:00\u001b[0m\n",
            "\u001b[?25hRequirement already satisfied: spacy<3.7.0,>=3.6.0 in /usr/local/lib/python3.10/dist-packages (from en-core-web-sm==3.6.0) (3.6.1)\n",
            "Requirement already satisfied: spacy-legacy<3.1.0,>=3.0.11 in /usr/local/lib/python3.10/dist-packages (from spacy<3.7.0,>=3.6.0->en-core-web-sm==3.6.0) (3.0.12)\n",
            "Requirement already satisfied: spacy-loggers<2.0.0,>=1.0.0 in /usr/local/lib/python3.10/dist-packages (from spacy<3.7.0,>=3.6.0->en-core-web-sm==3.6.0) (1.0.5)\n",
            "Requirement already satisfied: murmurhash<1.1.0,>=0.28.0 in /usr/local/lib/python3.10/dist-packages (from spacy<3.7.0,>=3.6.0->en-core-web-sm==3.6.0) (1.0.10)\n",
            "Requirement already satisfied: cymem<2.1.0,>=2.0.2 in /usr/local/lib/python3.10/dist-packages (from spacy<3.7.0,>=3.6.0->en-core-web-sm==3.6.0) (2.0.8)\n",
            "Requirement already satisfied: preshed<3.1.0,>=3.0.2 in /usr/local/lib/python3.10/dist-packages (from spacy<3.7.0,>=3.6.0->en-core-web-sm==3.6.0) (3.0.9)\n",
            "Requirement already satisfied: thinc<8.2.0,>=8.1.8 in /usr/local/lib/python3.10/dist-packages (from spacy<3.7.0,>=3.6.0->en-core-web-sm==3.6.0) (8.1.12)\n",
            "Requirement already satisfied: wasabi<1.2.0,>=0.9.1 in /usr/local/lib/python3.10/dist-packages (from spacy<3.7.0,>=3.6.0->en-core-web-sm==3.6.0) (1.1.2)\n",
            "Requirement already satisfied: srsly<3.0.0,>=2.4.3 in /usr/local/lib/python3.10/dist-packages (from spacy<3.7.0,>=3.6.0->en-core-web-sm==3.6.0) (2.4.8)\n",
            "Requirement already satisfied: catalogue<2.1.0,>=2.0.6 in /usr/local/lib/python3.10/dist-packages (from spacy<3.7.0,>=3.6.0->en-core-web-sm==3.6.0) (2.0.10)\n",
            "Requirement already satisfied: typer<0.10.0,>=0.3.0 in /usr/local/lib/python3.10/dist-packages (from spacy<3.7.0,>=3.6.0->en-core-web-sm==3.6.0) (0.9.0)\n",
            "Requirement already satisfied: pathy>=0.10.0 in /usr/local/lib/python3.10/dist-packages (from spacy<3.7.0,>=3.6.0->en-core-web-sm==3.6.0) (0.10.3)\n",
            "Requirement already satisfied: smart-open<7.0.0,>=5.2.1 in /usr/local/lib/python3.10/dist-packages (from spacy<3.7.0,>=3.6.0->en-core-web-sm==3.6.0) (6.4.0)\n",
            "Requirement already satisfied: tqdm<5.0.0,>=4.38.0 in /usr/local/lib/python3.10/dist-packages (from spacy<3.7.0,>=3.6.0->en-core-web-sm==3.6.0) (4.66.1)\n",
            "Requirement already satisfied: numpy>=1.15.0 in /usr/local/lib/python3.10/dist-packages (from spacy<3.7.0,>=3.6.0->en-core-web-sm==3.6.0) (1.26.2)\n",
            "Requirement already satisfied: requests<3.0.0,>=2.13.0 in /usr/local/lib/python3.10/dist-packages (from spacy<3.7.0,>=3.6.0->en-core-web-sm==3.6.0) (2.31.0)\n",
            "Requirement already satisfied: pydantic!=1.8,!=1.8.1,<3.0.0,>=1.7.4 in /usr/local/lib/python3.10/dist-packages (from spacy<3.7.0,>=3.6.0->en-core-web-sm==3.6.0) (1.10.13)\n",
            "Requirement already satisfied: jinja2 in /usr/local/lib/python3.10/dist-packages (from spacy<3.7.0,>=3.6.0->en-core-web-sm==3.6.0) (3.1.2)\n",
            "Requirement already satisfied: setuptools in /usr/local/lib/python3.10/dist-packages (from spacy<3.7.0,>=3.6.0->en-core-web-sm==3.6.0) (67.7.2)\n",
            "Requirement already satisfied: packaging>=20.0 in /usr/local/lib/python3.10/dist-packages (from spacy<3.7.0,>=3.6.0->en-core-web-sm==3.6.0) (23.2)\n",
            "Requirement already satisfied: langcodes<4.0.0,>=3.2.0 in /usr/local/lib/python3.10/dist-packages (from spacy<3.7.0,>=3.6.0->en-core-web-sm==3.6.0) (3.3.0)\n",
            "Requirement already satisfied: typing-extensions>=4.2.0 in /usr/local/lib/python3.10/dist-packages (from pydantic!=1.8,!=1.8.1,<3.0.0,>=1.7.4->spacy<3.7.0,>=3.6.0->en-core-web-sm==3.6.0) (4.5.0)\n",
            "Requirement already satisfied: charset-normalizer<4,>=2 in /usr/local/lib/python3.10/dist-packages (from requests<3.0.0,>=2.13.0->spacy<3.7.0,>=3.6.0->en-core-web-sm==3.6.0) (3.3.2)\n",
            "Requirement already satisfied: idna<4,>=2.5 in /usr/local/lib/python3.10/dist-packages (from requests<3.0.0,>=2.13.0->spacy<3.7.0,>=3.6.0->en-core-web-sm==3.6.0) (3.4)\n",
            "Requirement already satisfied: urllib3<3,>=1.21.1 in /usr/local/lib/python3.10/dist-packages (from requests<3.0.0,>=2.13.0->spacy<3.7.0,>=3.6.0->en-core-web-sm==3.6.0) (2.0.7)\n",
            "Requirement already satisfied: certifi>=2017.4.17 in /usr/local/lib/python3.10/dist-packages (from requests<3.0.0,>=2.13.0->spacy<3.7.0,>=3.6.0->en-core-web-sm==3.6.0) (2023.7.22)\n",
            "Requirement already satisfied: blis<0.8.0,>=0.7.8 in /usr/local/lib/python3.10/dist-packages (from thinc<8.2.0,>=8.1.8->spacy<3.7.0,>=3.6.0->en-core-web-sm==3.6.0) (0.7.11)\n",
            "Requirement already satisfied: confection<1.0.0,>=0.0.1 in /usr/local/lib/python3.10/dist-packages (from thinc<8.2.0,>=8.1.8->spacy<3.7.0,>=3.6.0->en-core-web-sm==3.6.0) (0.1.3)\n",
            "Requirement already satisfied: click<9.0.0,>=7.1.1 in /usr/local/lib/python3.10/dist-packages (from typer<0.10.0,>=0.3.0->spacy<3.7.0,>=3.6.0->en-core-web-sm==3.6.0) (8.1.7)\n",
            "Requirement already satisfied: MarkupSafe>=2.0 in /usr/local/lib/python3.10/dist-packages (from jinja2->spacy<3.7.0,>=3.6.0->en-core-web-sm==3.6.0) (2.1.3)\n",
            "\u001b[38;5;2m✔ Download and installation successful\u001b[0m\n",
            "You can now load the package via spacy.load('en_core_web_sm')\n",
            "Requirement already satisfied: spacy in /usr/local/lib/python3.10/dist-packages (3.6.1)\n",
            "Requirement already satisfied: unidecode in /usr/local/lib/python3.10/dist-packages (1.3.7)\n",
            "Requirement already satisfied: textblob in /usr/local/lib/python3.10/dist-packages (0.17.1)\n",
            "Requirement already satisfied: sastrawi in /usr/local/lib/python3.10/dist-packages (1.0.1)\n",
            "Requirement already satisfied: pyLDAvis in /usr/local/lib/python3.10/dist-packages (3.4.1)\n",
            "Requirement already satisfied: spacy-legacy<3.1.0,>=3.0.11 in /usr/local/lib/python3.10/dist-packages (from spacy) (3.0.12)\n",
            "Requirement already satisfied: spacy-loggers<2.0.0,>=1.0.0 in /usr/local/lib/python3.10/dist-packages (from spacy) (1.0.5)\n",
            "Requirement already satisfied: murmurhash<1.1.0,>=0.28.0 in /usr/local/lib/python3.10/dist-packages (from spacy) (1.0.10)\n",
            "Requirement already satisfied: cymem<2.1.0,>=2.0.2 in /usr/local/lib/python3.10/dist-packages (from spacy) (2.0.8)\n",
            "Requirement already satisfied: preshed<3.1.0,>=3.0.2 in /usr/local/lib/python3.10/dist-packages (from spacy) (3.0.9)\n",
            "Requirement already satisfied: thinc<8.2.0,>=8.1.8 in /usr/local/lib/python3.10/dist-packages (from spacy) (8.1.12)\n",
            "Requirement already satisfied: wasabi<1.2.0,>=0.9.1 in /usr/local/lib/python3.10/dist-packages (from spacy) (1.1.2)\n",
            "Requirement already satisfied: srsly<3.0.0,>=2.4.3 in /usr/local/lib/python3.10/dist-packages (from spacy) (2.4.8)\n",
            "Requirement already satisfied: catalogue<2.1.0,>=2.0.6 in /usr/local/lib/python3.10/dist-packages (from spacy) (2.0.10)\n",
            "Requirement already satisfied: typer<0.10.0,>=0.3.0 in /usr/local/lib/python3.10/dist-packages (from spacy) (0.9.0)\n",
            "Requirement already satisfied: pathy>=0.10.0 in /usr/local/lib/python3.10/dist-packages (from spacy) (0.10.3)\n",
            "Requirement already satisfied: smart-open<7.0.0,>=5.2.1 in /usr/local/lib/python3.10/dist-packages (from spacy) (6.4.0)\n",
            "Requirement already satisfied: tqdm<5.0.0,>=4.38.0 in /usr/local/lib/python3.10/dist-packages (from spacy) (4.66.1)\n",
            "Requirement already satisfied: numpy>=1.15.0 in /usr/local/lib/python3.10/dist-packages (from spacy) (1.26.2)\n",
            "Requirement already satisfied: requests<3.0.0,>=2.13.0 in /usr/local/lib/python3.10/dist-packages (from spacy) (2.31.0)\n",
            "Requirement already satisfied: pydantic!=1.8,!=1.8.1,<3.0.0,>=1.7.4 in /usr/local/lib/python3.10/dist-packages (from spacy) (1.10.13)\n",
            "Requirement already satisfied: jinja2 in /usr/local/lib/python3.10/dist-packages (from spacy) (3.1.2)\n",
            "Requirement already satisfied: setuptools in /usr/local/lib/python3.10/dist-packages (from spacy) (67.7.2)\n",
            "Requirement already satisfied: packaging>=20.0 in /usr/local/lib/python3.10/dist-packages (from spacy) (23.2)\n",
            "Requirement already satisfied: langcodes<4.0.0,>=3.2.0 in /usr/local/lib/python3.10/dist-packages (from spacy) (3.3.0)\n",
            "Requirement already satisfied: nltk>=3.1 in /usr/local/lib/python3.10/dist-packages (from textblob) (3.8.1)\n",
            "Requirement already satisfied: scipy in /usr/local/lib/python3.10/dist-packages (from pyLDAvis) (1.11.3)\n",
            "Collecting pandas>=2.0.0 (from pyLDAvis)\n",
            "  Using cached pandas-2.1.3-cp310-cp310-manylinux_2_17_x86_64.manylinux2014_x86_64.whl (12.3 MB)\n",
            "Requirement already satisfied: joblib>=1.2.0 in /usr/local/lib/python3.10/dist-packages (from pyLDAvis) (1.3.2)\n",
            "Requirement already satisfied: numexpr in /usr/local/lib/python3.10/dist-packages (from pyLDAvis) (2.8.7)\n",
            "Requirement already satisfied: funcy in /usr/local/lib/python3.10/dist-packages (from pyLDAvis) (2.0)\n",
            "Requirement already satisfied: scikit-learn>=1.0.0 in /usr/local/lib/python3.10/dist-packages (from pyLDAvis) (1.2.2)\n",
            "Requirement already satisfied: gensim in /usr/local/lib/python3.10/dist-packages (from pyLDAvis) (4.3.2)\n",
            "Requirement already satisfied: click in /usr/local/lib/python3.10/dist-packages (from nltk>=3.1->textblob) (8.1.7)\n",
            "Requirement already satisfied: regex>=2021.8.3 in /usr/local/lib/python3.10/dist-packages (from nltk>=3.1->textblob) (2023.6.3)\n",
            "Requirement already satisfied: python-dateutil>=2.8.2 in /usr/local/lib/python3.10/dist-packages (from pandas>=2.0.0->pyLDAvis) (2.8.2)\n",
            "Requirement already satisfied: pytz>=2020.1 in /usr/local/lib/python3.10/dist-packages (from pandas>=2.0.0->pyLDAvis) (2023.3.post1)\n",
            "Requirement already satisfied: tzdata>=2022.1 in /usr/local/lib/python3.10/dist-packages (from pandas>=2.0.0->pyLDAvis) (2023.3)\n",
            "Requirement already satisfied: typing-extensions>=4.2.0 in /usr/local/lib/python3.10/dist-packages (from pydantic!=1.8,!=1.8.1,<3.0.0,>=1.7.4->spacy) (4.5.0)\n",
            "Requirement already satisfied: charset-normalizer<4,>=2 in /usr/local/lib/python3.10/dist-packages (from requests<3.0.0,>=2.13.0->spacy) (3.3.2)\n",
            "Requirement already satisfied: idna<4,>=2.5 in /usr/local/lib/python3.10/dist-packages (from requests<3.0.0,>=2.13.0->spacy) (3.4)\n",
            "Requirement already satisfied: urllib3<3,>=1.21.1 in /usr/local/lib/python3.10/dist-packages (from requests<3.0.0,>=2.13.0->spacy) (2.0.7)\n",
            "Requirement already satisfied: certifi>=2017.4.17 in /usr/local/lib/python3.10/dist-packages (from requests<3.0.0,>=2.13.0->spacy) (2023.7.22)\n",
            "Requirement already satisfied: threadpoolctl>=2.0.0 in /usr/local/lib/python3.10/dist-packages (from scikit-learn>=1.0.0->pyLDAvis) (3.2.0)\n",
            "Requirement already satisfied: blis<0.8.0,>=0.7.8 in /usr/local/lib/python3.10/dist-packages (from thinc<8.2.0,>=8.1.8->spacy) (0.7.11)\n",
            "Requirement already satisfied: confection<1.0.0,>=0.0.1 in /usr/local/lib/python3.10/dist-packages (from thinc<8.2.0,>=8.1.8->spacy) (0.1.3)\n",
            "Requirement already satisfied: MarkupSafe>=2.0 in /usr/local/lib/python3.10/dist-packages (from jinja2->spacy) (2.1.3)\n",
            "Requirement already satisfied: six>=1.5 in /usr/local/lib/python3.10/dist-packages (from python-dateutil>=2.8.2->pandas>=2.0.0->pyLDAvis) (1.16.0)\n",
            "Installing collected packages: pandas\n",
            "  Attempting uninstall: pandas\n",
            "    Found existing installation: pandas 1.5.3\n",
            "    Uninstalling pandas-1.5.3:\n",
            "      Successfully uninstalled pandas-1.5.3\n",
            "\u001b[31mERROR: pip's dependency resolver does not currently take into account all the packages that are installed. This behaviour is the source of the following dependency conflicts.\n",
            "lida 0.0.10 requires fastapi, which is not installed.\n",
            "lida 0.0.10 requires kaleido, which is not installed.\n",
            "lida 0.0.10 requires python-multipart, which is not installed.\n",
            "lida 0.0.10 requires uvicorn, which is not installed.\n",
            "google-colab 1.0.0 requires pandas==1.5.3, but you have pandas 2.1.3 which is incompatible.\u001b[0m\u001b[31m\n",
            "\u001b[0mSuccessfully installed pandas-2.1.3\n",
            "Requirement already satisfied: python-crfsuite in /usr/local/lib/python3.10/dist-packages (0.9.9)\n",
            "Requirement already satisfied: gensim in /usr/local/lib/python3.10/dist-packages (4.3.2)\n",
            "Requirement already satisfied: numpy>=1.18.5 in /usr/local/lib/python3.10/dist-packages (from gensim) (1.26.2)\n",
            "Requirement already satisfied: scipy>=1.7.0 in /usr/local/lib/python3.10/dist-packages (from gensim) (1.11.3)\n",
            "Requirement already satisfied: smart-open>=1.8.1 in /usr/local/lib/python3.10/dist-packages (from gensim) (6.4.0)\n",
            "Collecting sklearn-pycrfsuite\n",
            "  Using cached sklearn_pycrfsuite-0.4.0-py2.py3-none-any.whl\n",
            "Requirement already satisfied: tqdm>=2.0 in /usr/local/lib/python3.10/dist-packages (from sklearn-pycrfsuite) (4.66.1)\n",
            "Requirement already satisfied: six in /usr/local/lib/python3.10/dist-packages (from sklearn-pycrfsuite) (1.16.0)\n",
            "Requirement already satisfied: tabulate in /usr/local/lib/python3.10/dist-packages (from sklearn-pycrfsuite) (0.9.0)\n",
            "Collecting python-crfsuite-extension (from sklearn-pycrfsuite)\n",
            "  Using cached python-crfsuite-extension-0.9.7.tar.gz (485 kB)\n",
            "  Preparing metadata (setup.py) ... \u001b[?25l\u001b[?25hdone\n",
            "Building wheels for collected packages: python-crfsuite-extension\n",
            "  \u001b[1;31merror\u001b[0m: \u001b[1msubprocess-exited-with-error\u001b[0m\n",
            "  \n",
            "  \u001b[31m×\u001b[0m \u001b[32mpython setup.py bdist_wheel\u001b[0m did not run successfully.\n",
            "  \u001b[31m│\u001b[0m exit code: \u001b[1;36m1\u001b[0m\n",
            "  \u001b[31m╰─>\u001b[0m See above for output.\n",
            "  \n",
            "  \u001b[1;35mnote\u001b[0m: This error originates from a subprocess, and is likely not a problem with pip.\n",
            "  Building wheel for python-crfsuite-extension (setup.py) ... \u001b[?25lerror\n",
            "\u001b[31m  ERROR: Failed building wheel for python-crfsuite-extension\u001b[0m\u001b[31m\n",
            "\u001b[0m\u001b[?25h  Running setup.py clean for python-crfsuite-extension\n",
            "Failed to build python-crfsuite-extension\n",
            "\u001b[31mERROR: Could not build wheels for python-crfsuite-extension, which is required to install pyproject.toml-based projects\u001b[0m\u001b[31m\n",
            "\u001b[0m2023-11-24 14:21:16.707776: E tensorflow/compiler/xla/stream_executor/cuda/cuda_dnn.cc:9342] Unable to register cuDNN factory: Attempting to register factory for plugin cuDNN when one has already been registered\n",
            "2023-11-24 14:21:16.707856: E tensorflow/compiler/xla/stream_executor/cuda/cuda_fft.cc:609] Unable to register cuFFT factory: Attempting to register factory for plugin cuFFT when one has already been registered\n",
            "2023-11-24 14:21:16.707911: E tensorflow/compiler/xla/stream_executor/cuda/cuda_blas.cc:1518] Unable to register cuBLAS factory: Attempting to register factory for plugin cuBLAS when one has already been registered\n",
            "2023-11-24 14:21:16.721931: I tensorflow/core/platform/cpu_feature_guard.cc:182] This TensorFlow binary is optimized to use available CPU instructions in performance-critical operations.\n",
            "To enable the following instructions: AVX2 FMA, in other operations, rebuild TensorFlow with the appropriate compiler flags.\n",
            "2023-11-24 14:21:18.683635: W tensorflow/compiler/tf2tensorrt/utils/py_utils.cc:38] TF-TRT Warning: Could not find TensorRT\n",
            "Collecting xx-ent-wiki-sm==3.6.0\n",
            "  Downloading https://github.com/explosion/spacy-models/releases/download/xx_ent_wiki_sm-3.6.0/xx_ent_wiki_sm-3.6.0-py3-none-any.whl (11.1 MB)\n",
            "\u001b[2K     \u001b[90m━━━━━━━━━━━━━━━━━━━━━━━━━━━━━━━━━━━━━━━━\u001b[0m \u001b[32m11.1/11.1 MB\u001b[0m \u001b[31m81.3 MB/s\u001b[0m eta \u001b[36m0:00:00\u001b[0m\n",
            "\u001b[?25hRequirement already satisfied: spacy<3.7.0,>=3.6.0 in /usr/local/lib/python3.10/dist-packages (from xx-ent-wiki-sm==3.6.0) (3.6.1)\n",
            "Requirement already satisfied: spacy-legacy<3.1.0,>=3.0.11 in /usr/local/lib/python3.10/dist-packages (from spacy<3.7.0,>=3.6.0->xx-ent-wiki-sm==3.6.0) (3.0.12)\n",
            "Requirement already satisfied: spacy-loggers<2.0.0,>=1.0.0 in /usr/local/lib/python3.10/dist-packages (from spacy<3.7.0,>=3.6.0->xx-ent-wiki-sm==3.6.0) (1.0.5)\n",
            "Requirement already satisfied: murmurhash<1.1.0,>=0.28.0 in /usr/local/lib/python3.10/dist-packages (from spacy<3.7.0,>=3.6.0->xx-ent-wiki-sm==3.6.0) (1.0.10)\n",
            "Requirement already satisfied: cymem<2.1.0,>=2.0.2 in /usr/local/lib/python3.10/dist-packages (from spacy<3.7.0,>=3.6.0->xx-ent-wiki-sm==3.6.0) (2.0.8)\n",
            "Requirement already satisfied: preshed<3.1.0,>=3.0.2 in /usr/local/lib/python3.10/dist-packages (from spacy<3.7.0,>=3.6.0->xx-ent-wiki-sm==3.6.0) (3.0.9)\n",
            "Requirement already satisfied: thinc<8.2.0,>=8.1.8 in /usr/local/lib/python3.10/dist-packages (from spacy<3.7.0,>=3.6.0->xx-ent-wiki-sm==3.6.0) (8.1.12)\n",
            "Requirement already satisfied: wasabi<1.2.0,>=0.9.1 in /usr/local/lib/python3.10/dist-packages (from spacy<3.7.0,>=3.6.0->xx-ent-wiki-sm==3.6.0) (1.1.2)\n",
            "Requirement already satisfied: srsly<3.0.0,>=2.4.3 in /usr/local/lib/python3.10/dist-packages (from spacy<3.7.0,>=3.6.0->xx-ent-wiki-sm==3.6.0) (2.4.8)\n",
            "Requirement already satisfied: catalogue<2.1.0,>=2.0.6 in /usr/local/lib/python3.10/dist-packages (from spacy<3.7.0,>=3.6.0->xx-ent-wiki-sm==3.6.0) (2.0.10)\n",
            "Requirement already satisfied: typer<0.10.0,>=0.3.0 in /usr/local/lib/python3.10/dist-packages (from spacy<3.7.0,>=3.6.0->xx-ent-wiki-sm==3.6.0) (0.9.0)\n",
            "Requirement already satisfied: pathy>=0.10.0 in /usr/local/lib/python3.10/dist-packages (from spacy<3.7.0,>=3.6.0->xx-ent-wiki-sm==3.6.0) (0.10.3)\n",
            "Requirement already satisfied: smart-open<7.0.0,>=5.2.1 in /usr/local/lib/python3.10/dist-packages (from spacy<3.7.0,>=3.6.0->xx-ent-wiki-sm==3.6.0) (6.4.0)\n",
            "Requirement already satisfied: tqdm<5.0.0,>=4.38.0 in /usr/local/lib/python3.10/dist-packages (from spacy<3.7.0,>=3.6.0->xx-ent-wiki-sm==3.6.0) (4.66.1)\n",
            "Requirement already satisfied: numpy>=1.15.0 in /usr/local/lib/python3.10/dist-packages (from spacy<3.7.0,>=3.6.0->xx-ent-wiki-sm==3.6.0) (1.26.2)\n",
            "Requirement already satisfied: requests<3.0.0,>=2.13.0 in /usr/local/lib/python3.10/dist-packages (from spacy<3.7.0,>=3.6.0->xx-ent-wiki-sm==3.6.0) (2.31.0)\n",
            "Requirement already satisfied: pydantic!=1.8,!=1.8.1,<3.0.0,>=1.7.4 in /usr/local/lib/python3.10/dist-packages (from spacy<3.7.0,>=3.6.0->xx-ent-wiki-sm==3.6.0) (1.10.13)\n",
            "Requirement already satisfied: jinja2 in /usr/local/lib/python3.10/dist-packages (from spacy<3.7.0,>=3.6.0->xx-ent-wiki-sm==3.6.0) (3.1.2)\n",
            "Requirement already satisfied: setuptools in /usr/local/lib/python3.10/dist-packages (from spacy<3.7.0,>=3.6.0->xx-ent-wiki-sm==3.6.0) (67.7.2)\n",
            "Requirement already satisfied: packaging>=20.0 in /usr/local/lib/python3.10/dist-packages (from spacy<3.7.0,>=3.6.0->xx-ent-wiki-sm==3.6.0) (23.2)\n",
            "Requirement already satisfied: langcodes<4.0.0,>=3.2.0 in /usr/local/lib/python3.10/dist-packages (from spacy<3.7.0,>=3.6.0->xx-ent-wiki-sm==3.6.0) (3.3.0)\n",
            "Requirement already satisfied: typing-extensions>=4.2.0 in /usr/local/lib/python3.10/dist-packages (from pydantic!=1.8,!=1.8.1,<3.0.0,>=1.7.4->spacy<3.7.0,>=3.6.0->xx-ent-wiki-sm==3.6.0) (4.5.0)\n",
            "Requirement already satisfied: charset-normalizer<4,>=2 in /usr/local/lib/python3.10/dist-packages (from requests<3.0.0,>=2.13.0->spacy<3.7.0,>=3.6.0->xx-ent-wiki-sm==3.6.0) (3.3.2)\n",
            "Requirement already satisfied: idna<4,>=2.5 in /usr/local/lib/python3.10/dist-packages (from requests<3.0.0,>=2.13.0->spacy<3.7.0,>=3.6.0->xx-ent-wiki-sm==3.6.0) (3.4)\n",
            "Requirement already satisfied: urllib3<3,>=1.21.1 in /usr/local/lib/python3.10/dist-packages (from requests<3.0.0,>=2.13.0->spacy<3.7.0,>=3.6.0->xx-ent-wiki-sm==3.6.0) (2.0.7)\n",
            "Requirement already satisfied: certifi>=2017.4.17 in /usr/local/lib/python3.10/dist-packages (from requests<3.0.0,>=2.13.0->spacy<3.7.0,>=3.6.0->xx-ent-wiki-sm==3.6.0) (2023.7.22)\n",
            "Requirement already satisfied: blis<0.8.0,>=0.7.8 in /usr/local/lib/python3.10/dist-packages (from thinc<8.2.0,>=8.1.8->spacy<3.7.0,>=3.6.0->xx-ent-wiki-sm==3.6.0) (0.7.11)\n",
            "Requirement already satisfied: confection<1.0.0,>=0.0.1 in /usr/local/lib/python3.10/dist-packages (from thinc<8.2.0,>=8.1.8->spacy<3.7.0,>=3.6.0->xx-ent-wiki-sm==3.6.0) (0.1.3)\n",
            "Requirement already satisfied: click<9.0.0,>=7.1.1 in /usr/local/lib/python3.10/dist-packages (from typer<0.10.0,>=0.3.0->spacy<3.7.0,>=3.6.0->xx-ent-wiki-sm==3.6.0) (8.1.7)\n",
            "Requirement already satisfied: MarkupSafe>=2.0 in /usr/local/lib/python3.10/dist-packages (from jinja2->spacy<3.7.0,>=3.6.0->xx-ent-wiki-sm==3.6.0) (2.1.3)\n",
            "\u001b[38;5;2m✔ Download and installation successful\u001b[0m\n",
            "You can now load the package via spacy.load('xx_ent_wiki_sm')\n",
            "2023-11-24 14:21:33.753698: E tensorflow/compiler/xla/stream_executor/cuda/cuda_dnn.cc:9342] Unable to register cuDNN factory: Attempting to register factory for plugin cuDNN when one has already been registered\n",
            "2023-11-24 14:21:33.753768: E tensorflow/compiler/xla/stream_executor/cuda/cuda_fft.cc:609] Unable to register cuFFT factory: Attempting to register factory for plugin cuFFT when one has already been registered\n",
            "2023-11-24 14:21:33.753817: E tensorflow/compiler/xla/stream_executor/cuda/cuda_blas.cc:1518] Unable to register cuBLAS factory: Attempting to register factory for plugin cuBLAS when one has already been registered\n",
            "2023-11-24 14:21:33.767036: I tensorflow/core/platform/cpu_feature_guard.cc:182] This TensorFlow binary is optimized to use available CPU instructions in performance-critical operations.\n",
            "To enable the following instructions: AVX2 FMA, in other operations, rebuild TensorFlow with the appropriate compiler flags.\n",
            "2023-11-24 14:21:35.800820: W tensorflow/compiler/tf2tensorrt/utils/py_utils.cc:38] TF-TRT Warning: Could not find TensorRT\n",
            "Collecting xx-sent-ud-sm==3.6.0\n",
            "  Downloading https://github.com/explosion/spacy-models/releases/download/xx_sent_ud_sm-3.6.0/xx_sent_ud_sm-3.6.0-py3-none-any.whl (4.3 MB)\n",
            "\u001b[2K     \u001b[90m━━━━━━━━━━━━━━━━━━━━━━━━━━━━━━━━━━━━━━━━\u001b[0m \u001b[32m4.3/4.3 MB\u001b[0m \u001b[31m33.7 MB/s\u001b[0m eta \u001b[36m0:00:00\u001b[0m\n",
            "\u001b[?25hRequirement already satisfied: spacy<3.7.0,>=3.6.0 in /usr/local/lib/python3.10/dist-packages (from xx-sent-ud-sm==3.6.0) (3.6.1)\n",
            "Requirement already satisfied: spacy-legacy<3.1.0,>=3.0.11 in /usr/local/lib/python3.10/dist-packages (from spacy<3.7.0,>=3.6.0->xx-sent-ud-sm==3.6.0) (3.0.12)\n",
            "Requirement already satisfied: spacy-loggers<2.0.0,>=1.0.0 in /usr/local/lib/python3.10/dist-packages (from spacy<3.7.0,>=3.6.0->xx-sent-ud-sm==3.6.0) (1.0.5)\n",
            "Requirement already satisfied: murmurhash<1.1.0,>=0.28.0 in /usr/local/lib/python3.10/dist-packages (from spacy<3.7.0,>=3.6.0->xx-sent-ud-sm==3.6.0) (1.0.10)\n",
            "Requirement already satisfied: cymem<2.1.0,>=2.0.2 in /usr/local/lib/python3.10/dist-packages (from spacy<3.7.0,>=3.6.0->xx-sent-ud-sm==3.6.0) (2.0.8)\n",
            "Requirement already satisfied: preshed<3.1.0,>=3.0.2 in /usr/local/lib/python3.10/dist-packages (from spacy<3.7.0,>=3.6.0->xx-sent-ud-sm==3.6.0) (3.0.9)\n",
            "Requirement already satisfied: thinc<8.2.0,>=8.1.8 in /usr/local/lib/python3.10/dist-packages (from spacy<3.7.0,>=3.6.0->xx-sent-ud-sm==3.6.0) (8.1.12)\n",
            "Requirement already satisfied: wasabi<1.2.0,>=0.9.1 in /usr/local/lib/python3.10/dist-packages (from spacy<3.7.0,>=3.6.0->xx-sent-ud-sm==3.6.0) (1.1.2)\n",
            "Requirement already satisfied: srsly<3.0.0,>=2.4.3 in /usr/local/lib/python3.10/dist-packages (from spacy<3.7.0,>=3.6.0->xx-sent-ud-sm==3.6.0) (2.4.8)\n",
            "Requirement already satisfied: catalogue<2.1.0,>=2.0.6 in /usr/local/lib/python3.10/dist-packages (from spacy<3.7.0,>=3.6.0->xx-sent-ud-sm==3.6.0) (2.0.10)\n",
            "Requirement already satisfied: typer<0.10.0,>=0.3.0 in /usr/local/lib/python3.10/dist-packages (from spacy<3.7.0,>=3.6.0->xx-sent-ud-sm==3.6.0) (0.9.0)\n",
            "Requirement already satisfied: pathy>=0.10.0 in /usr/local/lib/python3.10/dist-packages (from spacy<3.7.0,>=3.6.0->xx-sent-ud-sm==3.6.0) (0.10.3)\n",
            "Requirement already satisfied: smart-open<7.0.0,>=5.2.1 in /usr/local/lib/python3.10/dist-packages (from spacy<3.7.0,>=3.6.0->xx-sent-ud-sm==3.6.0) (6.4.0)\n",
            "Requirement already satisfied: tqdm<5.0.0,>=4.38.0 in /usr/local/lib/python3.10/dist-packages (from spacy<3.7.0,>=3.6.0->xx-sent-ud-sm==3.6.0) (4.66.1)\n",
            "Requirement already satisfied: numpy>=1.15.0 in /usr/local/lib/python3.10/dist-packages (from spacy<3.7.0,>=3.6.0->xx-sent-ud-sm==3.6.0) (1.26.2)\n",
            "Requirement already satisfied: requests<3.0.0,>=2.13.0 in /usr/local/lib/python3.10/dist-packages (from spacy<3.7.0,>=3.6.0->xx-sent-ud-sm==3.6.0) (2.31.0)\n",
            "Requirement already satisfied: pydantic!=1.8,!=1.8.1,<3.0.0,>=1.7.4 in /usr/local/lib/python3.10/dist-packages (from spacy<3.7.0,>=3.6.0->xx-sent-ud-sm==3.6.0) (1.10.13)\n",
            "Requirement already satisfied: jinja2 in /usr/local/lib/python3.10/dist-packages (from spacy<3.7.0,>=3.6.0->xx-sent-ud-sm==3.6.0) (3.1.2)\n",
            "Requirement already satisfied: setuptools in /usr/local/lib/python3.10/dist-packages (from spacy<3.7.0,>=3.6.0->xx-sent-ud-sm==3.6.0) (67.7.2)\n",
            "Requirement already satisfied: packaging>=20.0 in /usr/local/lib/python3.10/dist-packages (from spacy<3.7.0,>=3.6.0->xx-sent-ud-sm==3.6.0) (23.2)\n",
            "Requirement already satisfied: langcodes<4.0.0,>=3.2.0 in /usr/local/lib/python3.10/dist-packages (from spacy<3.7.0,>=3.6.0->xx-sent-ud-sm==3.6.0) (3.3.0)\n",
            "Requirement already satisfied: typing-extensions>=4.2.0 in /usr/local/lib/python3.10/dist-packages (from pydantic!=1.8,!=1.8.1,<3.0.0,>=1.7.4->spacy<3.7.0,>=3.6.0->xx-sent-ud-sm==3.6.0) (4.5.0)\n",
            "Requirement already satisfied: charset-normalizer<4,>=2 in /usr/local/lib/python3.10/dist-packages (from requests<3.0.0,>=2.13.0->spacy<3.7.0,>=3.6.0->xx-sent-ud-sm==3.6.0) (3.3.2)\n",
            "Requirement already satisfied: idna<4,>=2.5 in /usr/local/lib/python3.10/dist-packages (from requests<3.0.0,>=2.13.0->spacy<3.7.0,>=3.6.0->xx-sent-ud-sm==3.6.0) (3.4)\n",
            "Requirement already satisfied: urllib3<3,>=1.21.1 in /usr/local/lib/python3.10/dist-packages (from requests<3.0.0,>=2.13.0->spacy<3.7.0,>=3.6.0->xx-sent-ud-sm==3.6.0) (2.0.7)\n",
            "Requirement already satisfied: certifi>=2017.4.17 in /usr/local/lib/python3.10/dist-packages (from requests<3.0.0,>=2.13.0->spacy<3.7.0,>=3.6.0->xx-sent-ud-sm==3.6.0) (2023.7.22)\n",
            "Requirement already satisfied: blis<0.8.0,>=0.7.8 in /usr/local/lib/python3.10/dist-packages (from thinc<8.2.0,>=8.1.8->spacy<3.7.0,>=3.6.0->xx-sent-ud-sm==3.6.0) (0.7.11)\n",
            "Requirement already satisfied: confection<1.0.0,>=0.0.1 in /usr/local/lib/python3.10/dist-packages (from thinc<8.2.0,>=8.1.8->spacy<3.7.0,>=3.6.0->xx-sent-ud-sm==3.6.0) (0.1.3)\n",
            "Requirement already satisfied: click<9.0.0,>=7.1.1 in /usr/local/lib/python3.10/dist-packages (from typer<0.10.0,>=0.3.0->spacy<3.7.0,>=3.6.0->xx-sent-ud-sm==3.6.0) (8.1.7)\n",
            "Requirement already satisfied: MarkupSafe>=2.0 in /usr/local/lib/python3.10/dist-packages (from jinja2->spacy<3.7.0,>=3.6.0->xx-sent-ud-sm==3.6.0) (2.1.3)\n",
            "\u001b[38;5;2m✔ Download and installation successful\u001b[0m\n",
            "You can now load the package via spacy.load('xx_sent_ud_sm')\n",
            "2023-11-24 14:21:51.639654: E tensorflow/compiler/xla/stream_executor/cuda/cuda_dnn.cc:9342] Unable to register cuDNN factory: Attempting to register factory for plugin cuDNN when one has already been registered\n",
            "2023-11-24 14:21:51.639726: E tensorflow/compiler/xla/stream_executor/cuda/cuda_fft.cc:609] Unable to register cuFFT factory: Attempting to register factory for plugin cuFFT when one has already been registered\n",
            "2023-11-24 14:21:51.639774: E tensorflow/compiler/xla/stream_executor/cuda/cuda_blas.cc:1518] Unable to register cuBLAS factory: Attempting to register factory for plugin cuBLAS when one has already been registered\n",
            "2023-11-24 14:21:51.652865: I tensorflow/core/platform/cpu_feature_guard.cc:182] This TensorFlow binary is optimized to use available CPU instructions in performance-critical operations.\n",
            "To enable the following instructions: AVX2 FMA, in other operations, rebuild TensorFlow with the appropriate compiler flags.\n",
            "2023-11-24 14:21:53.486968: W tensorflow/compiler/tf2tensorrt/utils/py_utils.cc:38] TF-TRT Warning: Could not find TensorRT\n",
            "Collecting en-core-web-sm==3.6.0\n",
            "  Downloading https://github.com/explosion/spacy-models/releases/download/en_core_web_sm-3.6.0/en_core_web_sm-3.6.0-py3-none-any.whl (12.8 MB)\n",
            "\u001b[2K     \u001b[90m━━━━━━━━━━━━━━━━━━━━━━━━━━━━━━━━━━━━━━━━\u001b[0m \u001b[32m12.8/12.8 MB\u001b[0m \u001b[31m84.0 MB/s\u001b[0m eta \u001b[36m0:00:00\u001b[0m\n",
            "\u001b[?25hRequirement already satisfied: spacy<3.7.0,>=3.6.0 in /usr/local/lib/python3.10/dist-packages (from en-core-web-sm==3.6.0) (3.6.1)\n",
            "Requirement already satisfied: spacy-legacy<3.1.0,>=3.0.11 in /usr/local/lib/python3.10/dist-packages (from spacy<3.7.0,>=3.6.0->en-core-web-sm==3.6.0) (3.0.12)\n",
            "Requirement already satisfied: spacy-loggers<2.0.0,>=1.0.0 in /usr/local/lib/python3.10/dist-packages (from spacy<3.7.0,>=3.6.0->en-core-web-sm==3.6.0) (1.0.5)\n",
            "Requirement already satisfied: murmurhash<1.1.0,>=0.28.0 in /usr/local/lib/python3.10/dist-packages (from spacy<3.7.0,>=3.6.0->en-core-web-sm==3.6.0) (1.0.10)\n",
            "Requirement already satisfied: cymem<2.1.0,>=2.0.2 in /usr/local/lib/python3.10/dist-packages (from spacy<3.7.0,>=3.6.0->en-core-web-sm==3.6.0) (2.0.8)\n",
            "Requirement already satisfied: preshed<3.1.0,>=3.0.2 in /usr/local/lib/python3.10/dist-packages (from spacy<3.7.0,>=3.6.0->en-core-web-sm==3.6.0) (3.0.9)\n",
            "Requirement already satisfied: thinc<8.2.0,>=8.1.8 in /usr/local/lib/python3.10/dist-packages (from spacy<3.7.0,>=3.6.0->en-core-web-sm==3.6.0) (8.1.12)\n",
            "Requirement already satisfied: wasabi<1.2.0,>=0.9.1 in /usr/local/lib/python3.10/dist-packages (from spacy<3.7.0,>=3.6.0->en-core-web-sm==3.6.0) (1.1.2)\n",
            "Requirement already satisfied: srsly<3.0.0,>=2.4.3 in /usr/local/lib/python3.10/dist-packages (from spacy<3.7.0,>=3.6.0->en-core-web-sm==3.6.0) (2.4.8)\n",
            "Requirement already satisfied: catalogue<2.1.0,>=2.0.6 in /usr/local/lib/python3.10/dist-packages (from spacy<3.7.0,>=3.6.0->en-core-web-sm==3.6.0) (2.0.10)\n",
            "Requirement already satisfied: typer<0.10.0,>=0.3.0 in /usr/local/lib/python3.10/dist-packages (from spacy<3.7.0,>=3.6.0->en-core-web-sm==3.6.0) (0.9.0)\n",
            "Requirement already satisfied: pathy>=0.10.0 in /usr/local/lib/python3.10/dist-packages (from spacy<3.7.0,>=3.6.0->en-core-web-sm==3.6.0) (0.10.3)\n",
            "Requirement already satisfied: smart-open<7.0.0,>=5.2.1 in /usr/local/lib/python3.10/dist-packages (from spacy<3.7.0,>=3.6.0->en-core-web-sm==3.6.0) (6.4.0)\n",
            "Requirement already satisfied: tqdm<5.0.0,>=4.38.0 in /usr/local/lib/python3.10/dist-packages (from spacy<3.7.0,>=3.6.0->en-core-web-sm==3.6.0) (4.66.1)\n",
            "Requirement already satisfied: numpy>=1.15.0 in /usr/local/lib/python3.10/dist-packages (from spacy<3.7.0,>=3.6.0->en-core-web-sm==3.6.0) (1.26.2)\n",
            "Requirement already satisfied: requests<3.0.0,>=2.13.0 in /usr/local/lib/python3.10/dist-packages (from spacy<3.7.0,>=3.6.0->en-core-web-sm==3.6.0) (2.31.0)\n",
            "Requirement already satisfied: pydantic!=1.8,!=1.8.1,<3.0.0,>=1.7.4 in /usr/local/lib/python3.10/dist-packages (from spacy<3.7.0,>=3.6.0->en-core-web-sm==3.6.0) (1.10.13)\n",
            "Requirement already satisfied: jinja2 in /usr/local/lib/python3.10/dist-packages (from spacy<3.7.0,>=3.6.0->en-core-web-sm==3.6.0) (3.1.2)\n",
            "Requirement already satisfied: setuptools in /usr/local/lib/python3.10/dist-packages (from spacy<3.7.0,>=3.6.0->en-core-web-sm==3.6.0) (67.7.2)\n",
            "Requirement already satisfied: packaging>=20.0 in /usr/local/lib/python3.10/dist-packages (from spacy<3.7.0,>=3.6.0->en-core-web-sm==3.6.0) (23.2)\n",
            "Requirement already satisfied: langcodes<4.0.0,>=3.2.0 in /usr/local/lib/python3.10/dist-packages (from spacy<3.7.0,>=3.6.0->en-core-web-sm==3.6.0) (3.3.0)\n",
            "Requirement already satisfied: typing-extensions>=4.2.0 in /usr/local/lib/python3.10/dist-packages (from pydantic!=1.8,!=1.8.1,<3.0.0,>=1.7.4->spacy<3.7.0,>=3.6.0->en-core-web-sm==3.6.0) (4.5.0)\n",
            "Requirement already satisfied: charset-normalizer<4,>=2 in /usr/local/lib/python3.10/dist-packages (from requests<3.0.0,>=2.13.0->spacy<3.7.0,>=3.6.0->en-core-web-sm==3.6.0) (3.3.2)\n",
            "Requirement already satisfied: idna<4,>=2.5 in /usr/local/lib/python3.10/dist-packages (from requests<3.0.0,>=2.13.0->spacy<3.7.0,>=3.6.0->en-core-web-sm==3.6.0) (3.4)\n",
            "Requirement already satisfied: urllib3<3,>=1.21.1 in /usr/local/lib/python3.10/dist-packages (from requests<3.0.0,>=2.13.0->spacy<3.7.0,>=3.6.0->en-core-web-sm==3.6.0) (2.0.7)\n",
            "Requirement already satisfied: certifi>=2017.4.17 in /usr/local/lib/python3.10/dist-packages (from requests<3.0.0,>=2.13.0->spacy<3.7.0,>=3.6.0->en-core-web-sm==3.6.0) (2023.7.22)\n",
            "Requirement already satisfied: blis<0.8.0,>=0.7.8 in /usr/local/lib/python3.10/dist-packages (from thinc<8.2.0,>=8.1.8->spacy<3.7.0,>=3.6.0->en-core-web-sm==3.6.0) (0.7.11)\n",
            "Requirement already satisfied: confection<1.0.0,>=0.0.1 in /usr/local/lib/python3.10/dist-packages (from thinc<8.2.0,>=8.1.8->spacy<3.7.0,>=3.6.0->en-core-web-sm==3.6.0) (0.1.3)\n",
            "Requirement already satisfied: click<9.0.0,>=7.1.1 in /usr/local/lib/python3.10/dist-packages (from typer<0.10.0,>=0.3.0->spacy<3.7.0,>=3.6.0->en-core-web-sm==3.6.0) (8.1.7)\n",
            "Requirement already satisfied: MarkupSafe>=2.0 in /usr/local/lib/python3.10/dist-packages (from jinja2->spacy<3.7.0,>=3.6.0->en-core-web-sm==3.6.0) (2.1.3)\n",
            "\u001b[38;5;2m✔ Download and installation successful\u001b[0m\n",
            "You can now load the package via spacy.load('en_core_web_sm')\n"
          ]
        },
        {
          "output_type": "stream",
          "name": "stderr",
          "text": [
            "[nltk_data] Downloading collection 'popular'\n",
            "[nltk_data]    | \n",
            "[nltk_data]    | Downloading package cmudict to /root/nltk_data...\n",
            "[nltk_data]    |   Package cmudict is already up-to-date!\n",
            "[nltk_data]    | Downloading package gazetteers to /root/nltk_data...\n",
            "[nltk_data]    |   Package gazetteers is already up-to-date!\n",
            "[nltk_data]    | Downloading package genesis to /root/nltk_data...\n",
            "[nltk_data]    |   Package genesis is already up-to-date!\n",
            "[nltk_data]    | Downloading package gutenberg to /root/nltk_data...\n",
            "[nltk_data]    |   Package gutenberg is already up-to-date!\n",
            "[nltk_data]    | Downloading package inaugural to /root/nltk_data...\n",
            "[nltk_data]    |   Package inaugural is already up-to-date!\n",
            "[nltk_data]    | Downloading package movie_reviews to\n",
            "[nltk_data]    |     /root/nltk_data...\n",
            "[nltk_data]    |   Package movie_reviews is already up-to-date!\n",
            "[nltk_data]    | Downloading package names to /root/nltk_data...\n",
            "[nltk_data]    |   Package names is already up-to-date!\n",
            "[nltk_data]    | Downloading package shakespeare to /root/nltk_data...\n",
            "[nltk_data]    |   Package shakespeare is already up-to-date!\n",
            "[nltk_data]    | Downloading package stopwords to /root/nltk_data...\n",
            "[nltk_data]    |   Package stopwords is already up-to-date!\n",
            "[nltk_data]    | Downloading package treebank to /root/nltk_data...\n",
            "[nltk_data]    |   Package treebank is already up-to-date!\n",
            "[nltk_data]    | Downloading package twitter_samples to\n",
            "[nltk_data]    |     /root/nltk_data...\n",
            "[nltk_data]    |   Package twitter_samples is already up-to-date!\n",
            "[nltk_data]    | Downloading package omw to /root/nltk_data...\n",
            "[nltk_data]    |   Package omw is already up-to-date!\n",
            "[nltk_data]    | Downloading package omw-1.4 to /root/nltk_data...\n",
            "[nltk_data]    |   Package omw-1.4 is already up-to-date!\n",
            "[nltk_data]    | Downloading package wordnet to /root/nltk_data...\n",
            "[nltk_data]    |   Package wordnet is already up-to-date!\n",
            "[nltk_data]    | Downloading package wordnet2021 to /root/nltk_data...\n",
            "[nltk_data]    |   Package wordnet2021 is already up-to-date!\n",
            "[nltk_data]    | Downloading package wordnet31 to /root/nltk_data...\n",
            "[nltk_data]    |   Package wordnet31 is already up-to-date!\n",
            "[nltk_data]    | Downloading package wordnet_ic to /root/nltk_data...\n",
            "[nltk_data]    |   Package wordnet_ic is already up-to-date!\n",
            "[nltk_data]    | Downloading package words to /root/nltk_data...\n",
            "[nltk_data]    |   Package words is already up-to-date!\n",
            "[nltk_data]    | Downloading package maxent_ne_chunker to\n",
            "[nltk_data]    |     /root/nltk_data...\n",
            "[nltk_data]    |   Package maxent_ne_chunker is already up-to-date!\n",
            "[nltk_data]    | Downloading package punkt to /root/nltk_data...\n",
            "[nltk_data]    |   Package punkt is already up-to-date!\n",
            "[nltk_data]    | Downloading package snowball_data to\n",
            "[nltk_data]    |     /root/nltk_data...\n",
            "[nltk_data]    |   Package snowball_data is already up-to-date!\n",
            "[nltk_data]    | Downloading package averaged_perceptron_tagger to\n",
            "[nltk_data]    |     /root/nltk_data...\n",
            "[nltk_data]    |   Package averaged_perceptron_tagger is already up-\n",
            "[nltk_data]    |       to-date!\n",
            "[nltk_data]    | \n",
            "[nltk_data]  Done downloading collection popular\n"
          ]
        }
      ],
      "source": [
        "# Jalankan Cell ini \"HANYA\" jika Anda menggunakan Google Colaboratory\n",
        "# Jika di jalankan di komputer local, silahkan lihat NLPTM-02 untuk instalasinya\n",
        "import warnings; warnings.simplefilter('ignore')\n",
        "import nltk\n",
        "\n",
        "try:\n",
        "    import google.colab; IN_COLAB = True\n",
        "    !wget https://raw.githubusercontent.com/taudataanalytics/taudata-Academy/master/taudataNlpTm.py\n",
        "    !mkdir data\n",
        "    !wget -P data/ https://raw.githubusercontent.com/taudataanalytics/taudata-Academy/master/data/slang.txt\n",
        "    !wget -P data/ https://raw.githubusercontent.com/taudataanalytics/taudata-Academy/master/data/stopwords_id.txt\n",
        "    !wget -P data/ https://raw.githubusercontent.com/taudataanalytics/taudata-Academy/master/data/stopwords_en.txt\n",
        "    !wget -P data/ https://raw.githubusercontent.com/taudataanalytics/taudata-Academy/master/data/kata_dasar.txt\n",
        "    !wget -P data/ https://raw.githubusercontent.com/taudataanalytics/taudata-Academy/master/data/wn-ind-def.tab\n",
        "    !wget -P data/ https://raw.githubusercontent.com/taudataanalytics/taudata-Academy/master/data/wn-msa-all.tab\n",
        "    !wget -P data/ https://raw.githubusercontent.com/taudataanalytics/taudata-Academy/master/data/ind_SA.csv\n",
        "    !wget -P data/ https://raw.githubusercontent.com/taudataanalytics/taudata-Academy/master/data/all_indo_man_tag_corpus_model.crf.tagger\n",
        "\n",
        "    !pip install spacy python-crfsuite unidecode textblob sastrawi\n",
        "    !python -m spacy download xx\n",
        "    !python -m spacy download en_core_web_sm\n",
        "    !pip install spacy unidecode textblob sastrawi pyLDAvis\n",
        "    !pip install --upgrade python-crfsuite gensim\n",
        "    !pip install sklearn-pycrfsuite\n",
        "    !python -m spacy download xx_ent_wiki_sm\n",
        "    !python -m spacy download xx_sent_ud_sm\n",
        "    !python -m spacy download en_core_web_sm\n",
        "\n",
        "    nltk.download('popular')\n",
        "except:\n",
        "    IN_COLAB = False\n",
        "    print(\"Running the code locally, please make sure all Python module versions agree with Colab environment and all data/datasets downloaded\")"
      ]
    },
    {
      "cell_type": "code",
      "source": [
        "# Importing modules untuk notebook ini\n",
        "!pip install \"pandas<2.0.0\"\n",
        "import taudataNlpTm as tau, itertools, re, pickle, pyLDAvis, spacy, urllib.request\n",
        "import numpy as np, matplotlib.pyplot as plt, pandas as pd, seaborn as sns\n",
        "from tqdm import tqdm\n",
        "from nltk.tag import CRFTagger\n",
        "from nltk.corpus import stopwords\n",
        "from collections import Counter\n",
        "import pyLDAvis.lda_model\n",
        "\n",
        "pyLDAvis.enable_notebook()\n",
        "sns.set(style = \"ticks\", color_codes = True)\n",
        "random_state = 99\n",
        "'Done'"
      ],
      "metadata": {
        "colab": {
          "base_uri": "https://localhost:8080/",
          "height": 464
        },
        "id": "bjz5fKJyCtCz",
        "outputId": "67d51221-4eb7-4af9-8c38-19c655ecee23"
      },
      "execution_count": 5,
      "outputs": [
        {
          "output_type": "stream",
          "name": "stdout",
          "text": [
            "Collecting pandas<2.0.0\n",
            "  Using cached pandas-1.5.3-cp310-cp310-manylinux_2_17_x86_64.manylinux2014_x86_64.whl (12.1 MB)\n",
            "Requirement already satisfied: python-dateutil>=2.8.1 in /usr/local/lib/python3.10/dist-packages (from pandas<2.0.0) (2.8.2)\n",
            "Requirement already satisfied: pytz>=2020.1 in /usr/local/lib/python3.10/dist-packages (from pandas<2.0.0) (2023.3.post1)\n",
            "Requirement already satisfied: numpy>=1.21.0 in /usr/local/lib/python3.10/dist-packages (from pandas<2.0.0) (1.26.2)\n",
            "Requirement already satisfied: six>=1.5 in /usr/local/lib/python3.10/dist-packages (from python-dateutil>=2.8.1->pandas<2.0.0) (1.16.0)\n",
            "Installing collected packages: pandas\n",
            "  Attempting uninstall: pandas\n",
            "    Found existing installation: pandas 2.1.3\n",
            "    Uninstalling pandas-2.1.3:\n",
            "      Successfully uninstalled pandas-2.1.3\n",
            "\u001b[31mERROR: pip's dependency resolver does not currently take into account all the packages that are installed. This behaviour is the source of the following dependency conflicts.\n",
            "lida 0.0.10 requires fastapi, which is not installed.\n",
            "lida 0.0.10 requires kaleido, which is not installed.\n",
            "lida 0.0.10 requires python-multipart, which is not installed.\n",
            "lida 0.0.10 requires uvicorn, which is not installed.\n",
            "pyldavis 3.4.1 requires pandas>=2.0.0, but you have pandas 1.5.3 which is incompatible.\u001b[0m\u001b[31m\n",
            "\u001b[0mSuccessfully installed pandas-1.5.3\n"
          ]
        },
        {
          "output_type": "display_data",
          "data": {
            "application/vnd.colab-display-data+json": {
              "pip_warning": {
                "packages": [
                  "pandas"
                ]
              }
            }
          },
          "metadata": {}
        },
        {
          "output_type": "execute_result",
          "data": {
            "text/plain": [
              "'Done'"
            ],
            "application/vnd.google.colaboratory.intrinsic+json": {
              "type": "string"
            }
          },
          "metadata": {},
          "execution_count": 5
        }
      ]
    },
    {
      "cell_type": "markdown",
      "metadata": {
        "id": "I_j2ivSv1zOt"
      },
      "source": [
        "## Preprocessing\n"
      ]
    },
    {
      "cell_type": "code",
      "execution_count": 6,
      "metadata": {
        "colab": {
          "base_uri": "https://localhost:8080/"
        },
        "id": "EwL37jS7Tnjk",
        "outputId": "d75e42c8-46ef-4e5d-ba77-28fd070cb738"
      },
      "outputs": [
        {
          "output_type": "stream",
          "name": "stderr",
          "text": [
            "/usr/local/lib/python3.10/dist-packages/ipykernel/ipkernel.py:283: DeprecationWarning: `should_run_async` will not call `transform_cell` automatically in the future. Please pass the result to `transformed_cell` argument and any exception that happen during thetransform in `preprocessing_exc_tuple` in IPython 7.17 and above.\n",
            "  and should_run_async(code)\n"
          ]
        },
        {
          "output_type": "execute_result",
          "data": {
            "text/plain": [
              "ID                   int64\n",
              "label                int64\n",
              "tanggal             object\n",
              "judul               object\n",
              "narasi              object\n",
              "nama file gambar    object\n",
              "dtype: object"
            ]
          },
          "metadata": {},
          "execution_count": 6
        }
      ],
      "source": [
        "# Tipe data\n",
        "data.dtypes"
      ]
    },
    {
      "cell_type": "markdown",
      "source": [
        "- `D1`: document dari variabel `judul`\n",
        "- `D2`: document dari variabel `narasi`"
      ],
      "metadata": {
        "id": "pBrwDe86hNxS"
      }
    },
    {
      "cell_type": "code",
      "execution_count": 7,
      "metadata": {
        "colab": {
          "base_uri": "https://localhost:8080/",
          "height": 90
        },
        "id": "EvWO_calEejT",
        "outputId": "57f45d15-fd47-422d-cd2d-097315cbe192"
      },
      "outputs": [
        {
          "output_type": "stream",
          "name": "stderr",
          "text": [
            "/usr/local/lib/python3.10/dist-packages/ipykernel/ipkernel.py:283: DeprecationWarning: `should_run_async` will not call `transform_cell` automatically in the future. Please pass the result to `transformed_cell` argument and any exception that happen during thetransform in `preprocessing_exc_tuple` in IPython 7.17 and above.\n",
            "  and should_run_async(code)\n"
          ]
        },
        {
          "output_type": "execute_result",
          "data": {
            "text/plain": [
              "'Done'"
            ],
            "application/vnd.google.colaboratory.intrinsic+json": {
              "type": "string"
            }
          },
          "metadata": {},
          "execution_count": 7
        }
      ],
      "source": [
        "# Mengubah data ke bentuk yang biasa kita gunakan\n",
        "D1 = [doc for doc in data[\"judul\"]]\n",
        "Y1 = data['label']\n",
        "\"Done\""
      ]
    },
    {
      "cell_type": "code",
      "source": [
        "# Mengubah data ke bentuk yang biasa kita gunakan\n",
        "D2 = [doc for doc in data[\"narasi\"]]\n",
        "Y2 = data['label']\n",
        "\"Done\""
      ],
      "metadata": {
        "colab": {
          "base_uri": "https://localhost:8080/",
          "height": 90
        },
        "id": "_TTnbaIM8ULS",
        "outputId": "9a5e47ad-d215-4e5c-a9b6-03f7079f95ae"
      },
      "execution_count": 8,
      "outputs": [
        {
          "output_type": "stream",
          "name": "stderr",
          "text": [
            "/usr/local/lib/python3.10/dist-packages/ipykernel/ipkernel.py:283: DeprecationWarning: `should_run_async` will not call `transform_cell` automatically in the future. Please pass the result to `transformed_cell` argument and any exception that happen during thetransform in `preprocessing_exc_tuple` in IPython 7.17 and above.\n",
            "  and should_run_async(code)\n"
          ]
        },
        {
          "output_type": "execute_result",
          "data": {
            "text/plain": [
              "'Done'"
            ],
            "application/vnd.google.colaboratory.intrinsic+json": {
              "type": "string"
            }
          },
          "metadata": {},
          "execution_count": 8
        }
      ]
    },
    {
      "cell_type": "code",
      "execution_count": 9,
      "metadata": {
        "colab": {
          "base_uri": "https://localhost:8080/"
        },
        "id": "YXEzeGo0KQwV",
        "outputId": "bf3bc222-3e4b-4727-c84a-bc5fbfaa6cee"
      },
      "outputs": [
        {
          "output_type": "stream",
          "name": "stderr",
          "text": [
            "/usr/local/lib/python3.10/dist-packages/ipykernel/ipkernel.py:283: DeprecationWarning: `should_run_async` will not call `transform_cell` automatically in the future. Please pass the result to `transformed_cell` argument and any exception that happen during thetransform in `preprocessing_exc_tuple` in IPython 7.17 and above.\n",
            "  and should_run_async(code)\n"
          ]
        },
        {
          "output_type": "execute_result",
          "data": {
            "text/plain": [
              "('Pemakaian Masker Menyebabkan Penyakit Legionnaires', 1)"
            ]
          },
          "metadata": {},
          "execution_count": 9
        }
      ],
      "source": [
        "D1[0], Y1[0]"
      ]
    },
    {
      "cell_type": "code",
      "source": [
        "D2[0], Y2[0]"
      ],
      "metadata": {
        "colab": {
          "base_uri": "https://localhost:8080/"
        },
        "id": "x8W5_BXW8Zex",
        "outputId": "70a2901e-3f35-4682-ac37-4f2463bf208e"
      },
      "execution_count": 10,
      "outputs": [
        {
          "output_type": "stream",
          "name": "stderr",
          "text": [
            "/usr/local/lib/python3.10/dist-packages/ipykernel/ipkernel.py:283: DeprecationWarning: `should_run_async` will not call `transform_cell` automatically in the future. Please pass the result to `transformed_cell` argument and any exception that happen during thetransform in `preprocessing_exc_tuple` in IPython 7.17 and above.\n",
            "  and should_run_async(code)\n"
          ]
        },
        {
          "output_type": "execute_result",
          "data": {
            "text/plain": [
              "('A caller to a radio talk show recently shared that his wife was hospitalized n told she had COVID n only a couple of days left to live . A doctor friend suggested she be tested for legionnaires disease because she wore the same mask every day all day long . Turns out it WAS legionnaires disease from the moisture n bacteria in her mask . She was given antibiotics n within two days was better . WHAT IF these ‘spikes’ in COVID are really something else due to ‘mask induced infections’ .??🤔🤔🤔',\n",
              " 1)"
            ]
          },
          "metadata": {},
          "execution_count": 10
        }
      ]
    },
    {
      "cell_type": "code",
      "source": [
        "# Preprocessing\n",
        "def prepro(D, lang = \"id\"):\n",
        "  stop_add = ['ini', 'yg', 'yang', 'dlm', 'adalah', 'yth', 'tapi', 'di', 'nih', 'dari', 'tp', 'untuk',\n",
        "            'kami', 'dan', 'sih', 'sy', 'dn', 'mnjdi', 'mrk', 'krn', 'lgi', 'nya', 'itu', 'kok', 'tidak',\n",
        "            'tak', 'tdk', 'bisa', 'byk', 'lbh', 'ke', 'kita', 'jika', 'apa', 'tanpa', 'sdh', 'ku', 'pd',\n",
        "            'ttg', 'karna', 'biar', 'oleh', 'dalam', 'juga', 'jadi', 'saya', 'dengan', 'dgn', 'akan',\n",
        "            'atau', 'yng', 'nggak', 'karena', 'gk', 'tlh', 'lebih', 'serta', 'benar', 'jpg', 'png', 'hanya',\n",
        "            'udah', 'ada', 'bkn', 'bukan', '&', 'terjadi', 'lain', 'pak', 'hanya', 'dia', 'merupakan',\n",
        "            'saja', 'jaga', 'masih', 'dlu', 'tetapi', 'aja', 'koq', 'kan', 'jg', 'telah', 'tau', 'tahu',\n",
        "            'ngak', 'perlu', 'lagi', 'spt', 'seperti', 'udh', 'harus', 'para', 'kecuali', 'terjadi']\n",
        "  if lang==\"id\":\n",
        "    stops, lemmatizer = tau.LoadStopWords(lang = 'id')\n",
        "    for i in stop_add:\n",
        "      stops.add(i)\n",
        "    for i, d in tqdm(enumerate(D)):\n",
        "      D[i] = tau.cleanText(d, lemma = lemmatizer, stops = stops, symbols_remove = True, min_charLen = 2)\n",
        "  elif lang==\"en\":\n",
        "    stops, lemmatizer = tau.LoadStopWords(lang = 'en')\n",
        "    for i, d in tqdm(enumerate(D)):\n",
        "      D[i] = tau.cleanText(d, lemma = lemmatizer, stops = stops, symbols_remove = True, min_charLen = 2)\n",
        "  return(D)"
      ],
      "metadata": {
        "id": "SwPnKpxGfVAy",
        "colab": {
          "base_uri": "https://localhost:8080/"
        },
        "outputId": "5c4a5da5-7299-4b3e-8c4a-189b61db1ac7"
      },
      "execution_count": 11,
      "outputs": [
        {
          "output_type": "stream",
          "name": "stderr",
          "text": [
            "/usr/local/lib/python3.10/dist-packages/ipykernel/ipkernel.py:283: DeprecationWarning: `should_run_async` will not call `transform_cell` automatically in the future. Please pass the result to `transformed_cell` argument and any exception that happen during thetransform in `preprocessing_exc_tuple` in IPython 7.17 and above.\n",
            "  and should_run_async(code)\n"
          ]
        }
      ]
    },
    {
      "cell_type": "markdown",
      "source": [
        "Karena bahasa dalam document campuran bahasa Inggris dan bahasa Indonesia, maka *preprocessing* akan dilakukan 2 kali untuk masing-masing `D1` dan `D2` agar *stop words* dari kedua bahasa dapat ter-*filter* dengan maksimal."
      ],
      "metadata": {
        "id": "kPWtoYTIhcQh"
      }
    },
    {
      "cell_type": "code",
      "execution_count": 12,
      "metadata": {
        "colab": {
          "base_uri": "https://localhost:8080/"
        },
        "id": "rKhx0VfwKV6e",
        "outputId": "6ed46a24-641d-45d9-f77f-9d53118d4525"
      },
      "outputs": [
        {
          "output_type": "stream",
          "name": "stderr",
          "text": [
            "/usr/local/lib/python3.10/dist-packages/ipykernel/ipkernel.py:283: DeprecationWarning: `should_run_async` will not call `transform_cell` automatically in the future. Please pass the result to `transformed_cell` argument and any exception that happen during thetransform in `preprocessing_exc_tuple` in IPython 7.17 and above.\n",
            "  and should_run_async(code)\n",
            "4701it [13:09,  5.96it/s]\n"
          ]
        }
      ],
      "source": [
        "D1 = prepro(D1, lang = \"id\")"
      ]
    },
    {
      "cell_type": "code",
      "source": [
        "D1 = prepro(D1, lang = \"en\")"
      ],
      "metadata": {
        "colab": {
          "base_uri": "https://localhost:8080/"
        },
        "id": "JtwzgGBFjcSb",
        "outputId": "6359d7bf-3680-45b3-e4cd-414d870cd0e9"
      },
      "execution_count": 13,
      "outputs": [
        {
          "output_type": "stream",
          "name": "stderr",
          "text": [
            "/usr/local/lib/python3.10/dist-packages/ipykernel/ipkernel.py:283: DeprecationWarning: `should_run_async` will not call `transform_cell` automatically in the future. Please pass the result to `transformed_cell` argument and any exception that happen during thetransform in `preprocessing_exc_tuple` in IPython 7.17 and above.\n",
            "  and should_run_async(code)\n",
            "4701it [00:02, 1569.70it/s]\n"
          ]
        }
      ]
    },
    {
      "cell_type": "code",
      "source": [
        "D2 = prepro(D2, lang = \"id\")"
      ],
      "metadata": {
        "colab": {
          "base_uri": "https://localhost:8080/"
        },
        "id": "6QIdB37zjenf",
        "outputId": "3d5c587b-c5f9-46b3-c7c1-e704e939aaef"
      },
      "execution_count": 14,
      "outputs": [
        {
          "output_type": "stream",
          "name": "stderr",
          "text": [
            "/usr/local/lib/python3.10/dist-packages/ipykernel/ipkernel.py:283: DeprecationWarning: `should_run_async` will not call `transform_cell` automatically in the future. Please pass the result to `transformed_cell` argument and any exception that happen during thetransform in `preprocessing_exc_tuple` in IPython 7.17 and above.\n",
            "  and should_run_async(code)\n",
            "4701it [19:39,  3.98it/s]\n"
          ]
        }
      ]
    },
    {
      "cell_type": "code",
      "source": [
        "D2 = prepro(D2, lang = \"en\")"
      ],
      "metadata": {
        "colab": {
          "base_uri": "https://localhost:8080/"
        },
        "id": "Mv88SkPljhC5",
        "outputId": "f7491136-9ee0-4a85-c024-f8cdec6aa3c0"
      },
      "execution_count": 15,
      "outputs": [
        {
          "output_type": "stream",
          "name": "stderr",
          "text": [
            "/usr/local/lib/python3.10/dist-packages/ipykernel/ipkernel.py:283: DeprecationWarning: `should_run_async` will not call `transform_cell` automatically in the future. Please pass the result to `transformed_cell` argument and any exception that happen during thetransform in `preprocessing_exc_tuple` in IPython 7.17 and above.\n",
            "  and should_run_async(code)\n",
            "4701it [00:03, 1321.74it/s]\n"
          ]
        }
      ]
    },
    {
      "cell_type": "code",
      "source": [
        "# Bagian ini dilakukan untuk meyakinkan stop words yang telah ditambahkan dapat ter-filter\n",
        "D1 = prepro(D1, lang = \"id\")\n",
        "D2 = prepro(D2, lang = \"id\")"
      ],
      "metadata": {
        "colab": {
          "base_uri": "https://localhost:8080/"
        },
        "id": "AUyZleZVFoZs",
        "outputId": "8831e958-8ca1-4e29-e89f-3a83d55f12bb"
      },
      "execution_count": 16,
      "outputs": [
        {
          "output_type": "stream",
          "name": "stderr",
          "text": [
            "/usr/local/lib/python3.10/dist-packages/ipykernel/ipkernel.py:283: DeprecationWarning: `should_run_async` will not call `transform_cell` automatically in the future. Please pass the result to `transformed_cell` argument and any exception that happen during thetransform in `preprocessing_exc_tuple` in IPython 7.17 and above.\n",
            "  and should_run_async(code)\n",
            "4701it [00:01, 3927.65it/s]\n",
            "4701it [00:01, 2397.65it/s]\n"
          ]
        }
      ]
    },
    {
      "cell_type": "markdown",
      "source": [
        "Selanjutnya, format variabel `tanggal` akan diubah menjadi `datetime`."
      ],
      "metadata": {
        "id": "jzKNdsOElusQ"
      }
    },
    {
      "cell_type": "code",
      "source": [
        "data.loc[0, \"tanggal\"]"
      ],
      "metadata": {
        "colab": {
          "base_uri": "https://localhost:8080/",
          "height": 90
        },
        "id": "kJJW8A4JqaY1",
        "outputId": "9623bb0c-3aac-47e5-8c1c-6e4259dab49f"
      },
      "execution_count": 17,
      "outputs": [
        {
          "output_type": "stream",
          "name": "stderr",
          "text": [
            "/usr/local/lib/python3.10/dist-packages/ipykernel/ipkernel.py:283: DeprecationWarning: `should_run_async` will not call `transform_cell` automatically in the future. Please pass the result to `transformed_cell` argument and any exception that happen during thetransform in `preprocessing_exc_tuple` in IPython 7.17 and above.\n",
            "  and should_run_async(code)\n"
          ]
        },
        {
          "output_type": "execute_result",
          "data": {
            "text/plain": [
              "'17-Aug-20'"
            ],
            "application/vnd.google.colaboratory.intrinsic+json": {
              "type": "string"
            }
          },
          "metadata": {},
          "execution_count": 17
        }
      ]
    },
    {
      "cell_type": "code",
      "source": [
        "import datetime\n",
        "date = data.loc[0, \"tanggal\"]\n",
        "dt = datetime.datetime.strptime(date, '%d-%b-%y')\n",
        "if dt.year>2000:\n",
        "    dt = dt.replace(year = dt.year)\n",
        "print(dt.strftime(\"%d-%m-%Y\"))"
      ],
      "metadata": {
        "colab": {
          "base_uri": "https://localhost:8080/"
        },
        "id": "tQhqtqrnpTwy",
        "outputId": "38339127-d351-4a67-9fc5-8fec68311ba5"
      },
      "execution_count": 18,
      "outputs": [
        {
          "output_type": "stream",
          "name": "stdout",
          "text": [
            "17-08-2020\n"
          ]
        },
        {
          "output_type": "stream",
          "name": "stderr",
          "text": [
            "/usr/local/lib/python3.10/dist-packages/ipykernel/ipkernel.py:283: DeprecationWarning: `should_run_async` will not call `transform_cell` automatically in the future. Please pass the result to `transformed_cell` argument and any exception that happen during thetransform in `preprocessing_exc_tuple` in IPython 7.17 and above.\n",
            "  and should_run_async(code)\n"
          ]
        }
      ]
    },
    {
      "cell_type": "markdown",
      "source": [
        "Agar semua bulan dapat terdeteksi, akan dilakukan normalisasi pada nama bulan."
      ],
      "metadata": {
        "id": "ErK6q6-LsapY"
      }
    },
    {
      "cell_type": "code",
      "source": [
        "# Replace substring\n",
        "data[\"tanggal\"] = data[\"tanggal\"].replace({'Okt': 'Oct', 'Agu': 'Aug'}, regex = True)"
      ],
      "metadata": {
        "id": "L3d_cbLFsNeM",
        "colab": {
          "base_uri": "https://localhost:8080/"
        },
        "outputId": "56dd2fd3-0844-46a3-e99e-30efca5238ad"
      },
      "execution_count": 19,
      "outputs": [
        {
          "output_type": "stream",
          "name": "stderr",
          "text": [
            "/usr/local/lib/python3.10/dist-packages/ipykernel/ipkernel.py:283: DeprecationWarning: `should_run_async` will not call `transform_cell` automatically in the future. Please pass the result to `transformed_cell` argument and any exception that happen during thetransform in `preprocessing_exc_tuple` in IPython 7.17 and above.\n",
            "  and should_run_async(code)\n"
          ]
        }
      ]
    },
    {
      "cell_type": "code",
      "source": [
        "data[\"tanggal\"] = pd.to_datetime(data[\"tanggal\"])"
      ],
      "metadata": {
        "id": "X96QXdmXq5uV",
        "colab": {
          "base_uri": "https://localhost:8080/"
        },
        "outputId": "a7c6d506-4aed-46ef-fb48-d9710b17dd7d"
      },
      "execution_count": 20,
      "outputs": [
        {
          "output_type": "stream",
          "name": "stderr",
          "text": [
            "/usr/local/lib/python3.10/dist-packages/ipykernel/ipkernel.py:283: DeprecationWarning: `should_run_async` will not call `transform_cell` automatically in the future. Please pass the result to `transformed_cell` argument and any exception that happen during thetransform in `preprocessing_exc_tuple` in IPython 7.17 and above.\n",
            "  and should_run_async(code)\n"
          ]
        }
      ]
    },
    {
      "cell_type": "code",
      "source": [
        "data[\"tanggal\"][0:10]"
      ],
      "metadata": {
        "colab": {
          "base_uri": "https://localhost:8080/"
        },
        "id": "QCW6sysZtdfh",
        "outputId": "8a934aa2-0b8f-4405-ec25-fa24ad05cf17"
      },
      "execution_count": 21,
      "outputs": [
        {
          "output_type": "stream",
          "name": "stderr",
          "text": [
            "/usr/local/lib/python3.10/dist-packages/ipykernel/ipkernel.py:283: DeprecationWarning: `should_run_async` will not call `transform_cell` automatically in the future. Please pass the result to `transformed_cell` argument and any exception that happen during thetransform in `preprocessing_exc_tuple` in IPython 7.17 and above.\n",
            "  and should_run_async(code)\n"
          ]
        },
        {
          "output_type": "execute_result",
          "data": {
            "text/plain": [
              "0   2020-08-17\n",
              "1   2020-07-17\n",
              "2   2020-07-13\n",
              "3   2020-07-08\n",
              "4   2020-06-24\n",
              "5   2020-06-17\n",
              "6   2020-05-05\n",
              "7   2020-03-24\n",
              "8   2020-01-09\n",
              "9   2019-12-24\n",
              "Name: tanggal, dtype: datetime64[ns]"
            ]
          },
          "metadata": {},
          "execution_count": 21
        }
      ]
    },
    {
      "cell_type": "markdown",
      "source": [
        "Berikut ini tampilan data teks sebelum dan sesudah di-*preprocessing*."
      ],
      "metadata": {
        "id": "w4kUcH9nkT1P"
      }
    },
    {
      "cell_type": "code",
      "source": [
        "df = data.copy()\n",
        "df[\"judul_preprocessed\"] =  D1\n",
        "df[\"narasi_preprocessed\"] = D2\n",
        "df.head(15)"
      ],
      "metadata": {
        "colab": {
          "base_uri": "https://localhost:8080/",
          "height": 870
        },
        "id": "wmLhNGS3keNu",
        "outputId": "24c13600-9cfd-499a-b562-914a4a520e9a"
      },
      "execution_count": 22,
      "outputs": [
        {
          "output_type": "stream",
          "name": "stderr",
          "text": [
            "/usr/local/lib/python3.10/dist-packages/ipykernel/ipkernel.py:283: DeprecationWarning: `should_run_async` will not call `transform_cell` automatically in the future. Please pass the result to `transformed_cell` argument and any exception that happen during thetransform in `preprocessing_exc_tuple` in IPython 7.17 and above.\n",
            "  and should_run_async(code)\n"
          ]
        },
        {
          "output_type": "execute_result",
          "data": {
            "text/plain": [
              "      ID  label    tanggal                                              judul  \\\n",
              "0     71      1 2020-08-17  Pemakaian Masker Menyebabkan Penyakit Legionna...   \n",
              "1    461      1 2020-07-17  Instruksi Gubernur Jateng tentang penilangan  ...   \n",
              "2    495      1 2020-07-13  Foto Jim Rohn: Jokowi adalah presiden terbaik ...   \n",
              "3    550      1 2020-07-08  ini bukan politik, tapi kenyataan Pak Jokowi b...   \n",
              "4    681      1 2020-06-24       Foto Kadrun kalo lihat foto ini panas dingin   \n",
              "5    736      1 2020-06-17  event promo smartphone JNE 2020 spesial di bul...   \n",
              "6   1161      1 2020-05-05  MEREKA SUDAH MEMPERSIAPKAN DIRI DENGAN BAIK UN...   \n",
              "7   1597      1 2020-03-24  Foto Presiden Italia menangis karena tak cukup...   \n",
              "8   2098      1 2020-01-09  Kapolres Timor Tengah Utara , Nusa Tenggara Ti...   \n",
              "9   2226      1 2019-12-24  Video Polisi china telah menganiaya wanita uig...   \n",
              "10  2588      1 2019-10-13        Akhirnya, Jokowi bersedia mengundurkan diri   \n",
              "11  2875      1 2019-08-26  Info Jalur Rawan Begal dan Himbauan Untuk Tida...   \n",
              "12  2987      1 2019-07-29  Dirut PT Agung Podomoro Land Cosmas Batubara M...   \n",
              "13  3571      1 2019-04-20  SBY Sudah Telepon Moeldoko Suruh Jokowi Akui K...   \n",
              "14  3862      1 2019-03-02                 Foto Anak Rohingya Disiksa Komunis   \n",
              "\n",
              "                                               narasi nama file gambar  \\\n",
              "0   A caller to a radio talk show recently shared ...           71.jpg   \n",
              "1   Yth.Seluruh Anggota Grup Sesuai Instruksi Gube...          461.png   \n",
              "2   Jokowi adalah presiden terbaik dlm sejarah ban...          495.png   \n",
              "3   Maaf Mas2 dan Mbak2, ini bukan politik, tapi k...          550.png   \n",
              "4         Kadrun kalo lihat foto ini panas dingin . .          681.jpg   \n",
              "5   selamat siang teman teman fb ku semuanya🤩,cuma...          736.png   \n",
              "6   LIHATLAH MEREKA SUDAH MEMPERSIAPKAN DIRI DENGA...         1161.png   \n",
              "7   Italia punya fasilitas perawatan kesehatan ter...         1597.png   \n",
              "8   Polisi goblok. Bukanya cpet” d tolongin malah ...         2098.jpg   \n",
              "9   Polisi china telah menganiaya wanita uighur le...         2226.png   \n",
              "10  Akhirnya, Jokowi bersedia mengundurkan diri.\\n...         2588.png   \n",
              "11  Begal sudah mulai merambat ke wilayah CIANJUR…...         2875.jpg   \n",
              "12  Turut berduka cita atas\\n meninggalnya Pejuang...         2987.png   \n",
              "13  Bantu sebar ya\\nPak SBY sudah telpon Moeldoko,...         3571.png   \n",
              "14  Relakah anak cucu kita dibikin seperti anak2 r...         3862.jpg   \n",
              "\n",
              "                                   judul_preprocessed  \\\n",
              "0                     pakai masker sakit legionnaires   \n",
              "1   instruksi gubernur jateng tilang masker muka e...   \n",
              "2   foto jim rohn jokowi presiden sejarah bangsa i...   \n",
              "3   politik nyata jokowi hasil pulang triliun uang...   \n",
              "4            foto kadrun kalo lihat foto panas dingin   \n",
              "5             event promo smartphone jne spesial juni   \n",
              "6                                         kuasa negri   \n",
              "7   foto presiden italia menang lahan kubur korban...   \n",
              "8   kapolres timor utara nusa tenggara timur klari...   \n",
              "9   video polisi china aniaya wanita uighur leher ...   \n",
              "10                                 jokowi sedia undur   \n",
              "11  info jalur rawan begal himbauan malam kapolres...   \n",
              "12  dirut pt agung podomoro land cosmas batubara t...   \n",
              "13            sby telepon moeldoko suruh jokowi kalah   \n",
              "14                   foto anak rohingya siksa komunis   \n",
              "\n",
              "                                  narasi_preprocessed  \n",
              "0   caller radio talk shared wife hospitalized tol...  \n",
              "1   anggota grup sesuai instruksi gubernur jawa ha...  \n",
              "2   jokowi presiden sejarah bangsa indonesia jim r...  \n",
              "3   maaf politik nyata jokowi hasil pulang triliun...  \n",
              "4                 kadrun kalo lihat foto panas dingin  \n",
              "5   selamat siang teman teman fb cuman informasi r...  \n",
              "6                                   lihat kuasa negri  \n",
              "7   italia fasilitas awat sehat canggih gagal kend...  \n",
              "8               polisi goblok buka cpet tolongin liat  \n",
              "9   polisi china aniaya wanita uighur leher cekik ...  \n",
              "10                             jokowi sedia undur gue  \n",
              "11  begal rambat wilayah cianjur wilayah rewan beg...  \n",
              "12  duka cita tinggal juang angkat cosmas batubara...  \n",
              "13  bantu sebar sby telpon moeldoko suruh jkw kala...  \n",
              "14        rela anak cucu bikin rohingya komunis kuasa  "
            ],
            "text/html": [
              "\n",
              "  <div id=\"df-c288ed7d-7d84-4027-af2f-90011b72d4e1\" class=\"colab-df-container\">\n",
              "    <div>\n",
              "<style scoped>\n",
              "    .dataframe tbody tr th:only-of-type {\n",
              "        vertical-align: middle;\n",
              "    }\n",
              "\n",
              "    .dataframe tbody tr th {\n",
              "        vertical-align: top;\n",
              "    }\n",
              "\n",
              "    .dataframe thead th {\n",
              "        text-align: right;\n",
              "    }\n",
              "</style>\n",
              "<table border=\"1\" class=\"dataframe\">\n",
              "  <thead>\n",
              "    <tr style=\"text-align: right;\">\n",
              "      <th></th>\n",
              "      <th>ID</th>\n",
              "      <th>label</th>\n",
              "      <th>tanggal</th>\n",
              "      <th>judul</th>\n",
              "      <th>narasi</th>\n",
              "      <th>nama file gambar</th>\n",
              "      <th>judul_preprocessed</th>\n",
              "      <th>narasi_preprocessed</th>\n",
              "    </tr>\n",
              "  </thead>\n",
              "  <tbody>\n",
              "    <tr>\n",
              "      <th>0</th>\n",
              "      <td>71</td>\n",
              "      <td>1</td>\n",
              "      <td>2020-08-17</td>\n",
              "      <td>Pemakaian Masker Menyebabkan Penyakit Legionna...</td>\n",
              "      <td>A caller to a radio talk show recently shared ...</td>\n",
              "      <td>71.jpg</td>\n",
              "      <td>pakai masker sakit legionnaires</td>\n",
              "      <td>caller radio talk shared wife hospitalized tol...</td>\n",
              "    </tr>\n",
              "    <tr>\n",
              "      <th>1</th>\n",
              "      <td>461</td>\n",
              "      <td>1</td>\n",
              "      <td>2020-07-17</td>\n",
              "      <td>Instruksi Gubernur Jateng tentang penilangan  ...</td>\n",
              "      <td>Yth.Seluruh Anggota Grup Sesuai Instruksi Gube...</td>\n",
              "      <td>461.png</td>\n",
              "      <td>instruksi gubernur jateng tilang masker muka e...</td>\n",
              "      <td>anggota grup sesuai instruksi gubernur jawa ha...</td>\n",
              "    </tr>\n",
              "    <tr>\n",
              "      <th>2</th>\n",
              "      <td>495</td>\n",
              "      <td>1</td>\n",
              "      <td>2020-07-13</td>\n",
              "      <td>Foto Jim Rohn: Jokowi adalah presiden terbaik ...</td>\n",
              "      <td>Jokowi adalah presiden terbaik dlm sejarah ban...</td>\n",
              "      <td>495.png</td>\n",
              "      <td>foto jim rohn jokowi presiden sejarah bangsa i...</td>\n",
              "      <td>jokowi presiden sejarah bangsa indonesia jim r...</td>\n",
              "    </tr>\n",
              "    <tr>\n",
              "      <th>3</th>\n",
              "      <td>550</td>\n",
              "      <td>1</td>\n",
              "      <td>2020-07-08</td>\n",
              "      <td>ini bukan politik, tapi kenyataan Pak Jokowi b...</td>\n",
              "      <td>Maaf Mas2 dan Mbak2, ini bukan politik, tapi k...</td>\n",
              "      <td>550.png</td>\n",
              "      <td>politik nyata jokowi hasil pulang triliun uang...</td>\n",
              "      <td>maaf politik nyata jokowi hasil pulang triliun...</td>\n",
              "    </tr>\n",
              "    <tr>\n",
              "      <th>4</th>\n",
              "      <td>681</td>\n",
              "      <td>1</td>\n",
              "      <td>2020-06-24</td>\n",
              "      <td>Foto Kadrun kalo lihat foto ini panas dingin</td>\n",
              "      <td>Kadrun kalo lihat foto ini panas dingin . .</td>\n",
              "      <td>681.jpg</td>\n",
              "      <td>foto kadrun kalo lihat foto panas dingin</td>\n",
              "      <td>kadrun kalo lihat foto panas dingin</td>\n",
              "    </tr>\n",
              "    <tr>\n",
              "      <th>5</th>\n",
              "      <td>736</td>\n",
              "      <td>1</td>\n",
              "      <td>2020-06-17</td>\n",
              "      <td>event promo smartphone JNE 2020 spesial di bul...</td>\n",
              "      <td>selamat siang teman teman fb ku semuanya🤩,cuma...</td>\n",
              "      <td>736.png</td>\n",
              "      <td>event promo smartphone jne spesial juni</td>\n",
              "      <td>selamat siang teman teman fb cuman informasi r...</td>\n",
              "    </tr>\n",
              "    <tr>\n",
              "      <th>6</th>\n",
              "      <td>1161</td>\n",
              "      <td>1</td>\n",
              "      <td>2020-05-05</td>\n",
              "      <td>MEREKA SUDAH MEMPERSIAPKAN DIRI DENGAN BAIK UN...</td>\n",
              "      <td>LIHATLAH MEREKA SUDAH MEMPERSIAPKAN DIRI DENGA...</td>\n",
              "      <td>1161.png</td>\n",
              "      <td>kuasa negri</td>\n",
              "      <td>lihat kuasa negri</td>\n",
              "    </tr>\n",
              "    <tr>\n",
              "      <th>7</th>\n",
              "      <td>1597</td>\n",
              "      <td>1</td>\n",
              "      <td>2020-03-24</td>\n",
              "      <td>Foto Presiden Italia menangis karena tak cukup...</td>\n",
              "      <td>Italia punya fasilitas perawatan kesehatan ter...</td>\n",
              "      <td>1597.png</td>\n",
              "      <td>foto presiden italia menang lahan kubur korban...</td>\n",
              "      <td>italia fasilitas awat sehat canggih gagal kend...</td>\n",
              "    </tr>\n",
              "    <tr>\n",
              "      <th>8</th>\n",
              "      <td>2098</td>\n",
              "      <td>1</td>\n",
              "      <td>2020-01-09</td>\n",
              "      <td>Kapolres Timor Tengah Utara , Nusa Tenggara Ti...</td>\n",
              "      <td>Polisi goblok. Bukanya cpet” d tolongin malah ...</td>\n",
              "      <td>2098.jpg</td>\n",
              "      <td>kapolres timor utara nusa tenggara timur klari...</td>\n",
              "      <td>polisi goblok buka cpet tolongin liat</td>\n",
              "    </tr>\n",
              "    <tr>\n",
              "      <th>9</th>\n",
              "      <td>2226</td>\n",
              "      <td>1</td>\n",
              "      <td>2019-12-24</td>\n",
              "      <td>Video Polisi china telah menganiaya wanita uig...</td>\n",
              "      <td>Polisi china telah menganiaya wanita uighur le...</td>\n",
              "      <td>2226.png</td>\n",
              "      <td>video polisi china aniaya wanita uighur leher ...</td>\n",
              "      <td>polisi china aniaya wanita uighur leher cekik ...</td>\n",
              "    </tr>\n",
              "    <tr>\n",
              "      <th>10</th>\n",
              "      <td>2588</td>\n",
              "      <td>1</td>\n",
              "      <td>2019-10-13</td>\n",
              "      <td>Akhirnya, Jokowi bersedia mengundurkan diri</td>\n",
              "      <td>Akhirnya, Jokowi bersedia mengundurkan diri.\\n...</td>\n",
              "      <td>2588.png</td>\n",
              "      <td>jokowi sedia undur</td>\n",
              "      <td>jokowi sedia undur gue</td>\n",
              "    </tr>\n",
              "    <tr>\n",
              "      <th>11</th>\n",
              "      <td>2875</td>\n",
              "      <td>1</td>\n",
              "      <td>2019-08-26</td>\n",
              "      <td>Info Jalur Rawan Begal dan Himbauan Untuk Tida...</td>\n",
              "      <td>Begal sudah mulai merambat ke wilayah CIANJUR…...</td>\n",
              "      <td>2875.jpg</td>\n",
              "      <td>info jalur rawan begal himbauan malam kapolres...</td>\n",
              "      <td>begal rambat wilayah cianjur wilayah rewan beg...</td>\n",
              "    </tr>\n",
              "    <tr>\n",
              "      <th>12</th>\n",
              "      <td>2987</td>\n",
              "      <td>1</td>\n",
              "      <td>2019-07-29</td>\n",
              "      <td>Dirut PT Agung Podomoro Land Cosmas Batubara M...</td>\n",
              "      <td>Turut berduka cita atas\\n meninggalnya Pejuang...</td>\n",
              "      <td>2987.png</td>\n",
              "      <td>dirut pt agung podomoro land cosmas batubara t...</td>\n",
              "      <td>duka cita tinggal juang angkat cosmas batubara...</td>\n",
              "    </tr>\n",
              "    <tr>\n",
              "      <th>13</th>\n",
              "      <td>3571</td>\n",
              "      <td>1</td>\n",
              "      <td>2019-04-20</td>\n",
              "      <td>SBY Sudah Telepon Moeldoko Suruh Jokowi Akui K...</td>\n",
              "      <td>Bantu sebar ya\\nPak SBY sudah telpon Moeldoko,...</td>\n",
              "      <td>3571.png</td>\n",
              "      <td>sby telepon moeldoko suruh jokowi kalah</td>\n",
              "      <td>bantu sebar sby telpon moeldoko suruh jkw kala...</td>\n",
              "    </tr>\n",
              "    <tr>\n",
              "      <th>14</th>\n",
              "      <td>3862</td>\n",
              "      <td>1</td>\n",
              "      <td>2019-03-02</td>\n",
              "      <td>Foto Anak Rohingya Disiksa Komunis</td>\n",
              "      <td>Relakah anak cucu kita dibikin seperti anak2 r...</td>\n",
              "      <td>3862.jpg</td>\n",
              "      <td>foto anak rohingya siksa komunis</td>\n",
              "      <td>rela anak cucu bikin rohingya komunis kuasa</td>\n",
              "    </tr>\n",
              "  </tbody>\n",
              "</table>\n",
              "</div>\n",
              "    <div class=\"colab-df-buttons\">\n",
              "\n",
              "  <div class=\"colab-df-container\">\n",
              "    <button class=\"colab-df-convert\" onclick=\"convertToInteractive('df-c288ed7d-7d84-4027-af2f-90011b72d4e1')\"\n",
              "            title=\"Convert this dataframe to an interactive table.\"\n",
              "            style=\"display:none;\">\n",
              "\n",
              "  <svg xmlns=\"http://www.w3.org/2000/svg\" height=\"24px\" viewBox=\"0 -960 960 960\">\n",
              "    <path d=\"M120-120v-720h720v720H120Zm60-500h600v-160H180v160Zm220 220h160v-160H400v160Zm0 220h160v-160H400v160ZM180-400h160v-160H180v160Zm440 0h160v-160H620v160ZM180-180h160v-160H180v160Zm440 0h160v-160H620v160Z\"/>\n",
              "  </svg>\n",
              "    </button>\n",
              "\n",
              "  <style>\n",
              "    .colab-df-container {\n",
              "      display:flex;\n",
              "      gap: 12px;\n",
              "    }\n",
              "\n",
              "    .colab-df-convert {\n",
              "      background-color: #E8F0FE;\n",
              "      border: none;\n",
              "      border-radius: 50%;\n",
              "      cursor: pointer;\n",
              "      display: none;\n",
              "      fill: #1967D2;\n",
              "      height: 32px;\n",
              "      padding: 0 0 0 0;\n",
              "      width: 32px;\n",
              "    }\n",
              "\n",
              "    .colab-df-convert:hover {\n",
              "      background-color: #E2EBFA;\n",
              "      box-shadow: 0px 1px 2px rgba(60, 64, 67, 0.3), 0px 1px 3px 1px rgba(60, 64, 67, 0.15);\n",
              "      fill: #174EA6;\n",
              "    }\n",
              "\n",
              "    .colab-df-buttons div {\n",
              "      margin-bottom: 4px;\n",
              "    }\n",
              "\n",
              "    [theme=dark] .colab-df-convert {\n",
              "      background-color: #3B4455;\n",
              "      fill: #D2E3FC;\n",
              "    }\n",
              "\n",
              "    [theme=dark] .colab-df-convert:hover {\n",
              "      background-color: #434B5C;\n",
              "      box-shadow: 0px 1px 3px 1px rgba(0, 0, 0, 0.15);\n",
              "      filter: drop-shadow(0px 1px 2px rgba(0, 0, 0, 0.3));\n",
              "      fill: #FFFFFF;\n",
              "    }\n",
              "  </style>\n",
              "\n",
              "    <script>\n",
              "      const buttonEl =\n",
              "        document.querySelector('#df-c288ed7d-7d84-4027-af2f-90011b72d4e1 button.colab-df-convert');\n",
              "      buttonEl.style.display =\n",
              "        google.colab.kernel.accessAllowed ? 'block' : 'none';\n",
              "\n",
              "      async function convertToInteractive(key) {\n",
              "        const element = document.querySelector('#df-c288ed7d-7d84-4027-af2f-90011b72d4e1');\n",
              "        const dataTable =\n",
              "          await google.colab.kernel.invokeFunction('convertToInteractive',\n",
              "                                                    [key], {});\n",
              "        if (!dataTable) return;\n",
              "\n",
              "        const docLinkHtml = 'Like what you see? Visit the ' +\n",
              "          '<a target=\"_blank\" href=https://colab.research.google.com/notebooks/data_table.ipynb>data table notebook</a>'\n",
              "          + ' to learn more about interactive tables.';\n",
              "        element.innerHTML = '';\n",
              "        dataTable['output_type'] = 'display_data';\n",
              "        await google.colab.output.renderOutput(dataTable, element);\n",
              "        const docLink = document.createElement('div');\n",
              "        docLink.innerHTML = docLinkHtml;\n",
              "        element.appendChild(docLink);\n",
              "      }\n",
              "    </script>\n",
              "  </div>\n",
              "\n",
              "\n",
              "<div id=\"df-a64c970b-726d-4247-b051-a35b1919c5c5\">\n",
              "  <button class=\"colab-df-quickchart\" onclick=\"quickchart('df-a64c970b-726d-4247-b051-a35b1919c5c5')\"\n",
              "            title=\"Suggest charts\"\n",
              "            style=\"display:none;\">\n",
              "\n",
              "<svg xmlns=\"http://www.w3.org/2000/svg\" height=\"24px\"viewBox=\"0 0 24 24\"\n",
              "     width=\"24px\">\n",
              "    <g>\n",
              "        <path d=\"M19 3H5c-1.1 0-2 .9-2 2v14c0 1.1.9 2 2 2h14c1.1 0 2-.9 2-2V5c0-1.1-.9-2-2-2zM9 17H7v-7h2v7zm4 0h-2V7h2v10zm4 0h-2v-4h2v4z\"/>\n",
              "    </g>\n",
              "</svg>\n",
              "  </button>\n",
              "\n",
              "<style>\n",
              "  .colab-df-quickchart {\n",
              "      --bg-color: #E8F0FE;\n",
              "      --fill-color: #1967D2;\n",
              "      --hover-bg-color: #E2EBFA;\n",
              "      --hover-fill-color: #174EA6;\n",
              "      --disabled-fill-color: #AAA;\n",
              "      --disabled-bg-color: #DDD;\n",
              "  }\n",
              "\n",
              "  [theme=dark] .colab-df-quickchart {\n",
              "      --bg-color: #3B4455;\n",
              "      --fill-color: #D2E3FC;\n",
              "      --hover-bg-color: #434B5C;\n",
              "      --hover-fill-color: #FFFFFF;\n",
              "      --disabled-bg-color: #3B4455;\n",
              "      --disabled-fill-color: #666;\n",
              "  }\n",
              "\n",
              "  .colab-df-quickchart {\n",
              "    background-color: var(--bg-color);\n",
              "    border: none;\n",
              "    border-radius: 50%;\n",
              "    cursor: pointer;\n",
              "    display: none;\n",
              "    fill: var(--fill-color);\n",
              "    height: 32px;\n",
              "    padding: 0;\n",
              "    width: 32px;\n",
              "  }\n",
              "\n",
              "  .colab-df-quickchart:hover {\n",
              "    background-color: var(--hover-bg-color);\n",
              "    box-shadow: 0 1px 2px rgba(60, 64, 67, 0.3), 0 1px 3px 1px rgba(60, 64, 67, 0.15);\n",
              "    fill: var(--button-hover-fill-color);\n",
              "  }\n",
              "\n",
              "  .colab-df-quickchart-complete:disabled,\n",
              "  .colab-df-quickchart-complete:disabled:hover {\n",
              "    background-color: var(--disabled-bg-color);\n",
              "    fill: var(--disabled-fill-color);\n",
              "    box-shadow: none;\n",
              "  }\n",
              "\n",
              "  .colab-df-spinner {\n",
              "    border: 2px solid var(--fill-color);\n",
              "    border-color: transparent;\n",
              "    border-bottom-color: var(--fill-color);\n",
              "    animation:\n",
              "      spin 1s steps(1) infinite;\n",
              "  }\n",
              "\n",
              "  @keyframes spin {\n",
              "    0% {\n",
              "      border-color: transparent;\n",
              "      border-bottom-color: var(--fill-color);\n",
              "      border-left-color: var(--fill-color);\n",
              "    }\n",
              "    20% {\n",
              "      border-color: transparent;\n",
              "      border-left-color: var(--fill-color);\n",
              "      border-top-color: var(--fill-color);\n",
              "    }\n",
              "    30% {\n",
              "      border-color: transparent;\n",
              "      border-left-color: var(--fill-color);\n",
              "      border-top-color: var(--fill-color);\n",
              "      border-right-color: var(--fill-color);\n",
              "    }\n",
              "    40% {\n",
              "      border-color: transparent;\n",
              "      border-right-color: var(--fill-color);\n",
              "      border-top-color: var(--fill-color);\n",
              "    }\n",
              "    60% {\n",
              "      border-color: transparent;\n",
              "      border-right-color: var(--fill-color);\n",
              "    }\n",
              "    80% {\n",
              "      border-color: transparent;\n",
              "      border-right-color: var(--fill-color);\n",
              "      border-bottom-color: var(--fill-color);\n",
              "    }\n",
              "    90% {\n",
              "      border-color: transparent;\n",
              "      border-bottom-color: var(--fill-color);\n",
              "    }\n",
              "  }\n",
              "</style>\n",
              "\n",
              "  <script>\n",
              "    async function quickchart(key) {\n",
              "      const quickchartButtonEl =\n",
              "        document.querySelector('#' + key + ' button');\n",
              "      quickchartButtonEl.disabled = true;  // To prevent multiple clicks.\n",
              "      quickchartButtonEl.classList.add('colab-df-spinner');\n",
              "      try {\n",
              "        const charts = await google.colab.kernel.invokeFunction(\n",
              "            'suggestCharts', [key], {});\n",
              "      } catch (error) {\n",
              "        console.error('Error during call to suggestCharts:', error);\n",
              "      }\n",
              "      quickchartButtonEl.classList.remove('colab-df-spinner');\n",
              "      quickchartButtonEl.classList.add('colab-df-quickchart-complete');\n",
              "    }\n",
              "    (() => {\n",
              "      let quickchartButtonEl =\n",
              "        document.querySelector('#df-a64c970b-726d-4247-b051-a35b1919c5c5 button');\n",
              "      quickchartButtonEl.style.display =\n",
              "        google.colab.kernel.accessAllowed ? 'block' : 'none';\n",
              "    })();\n",
              "  </script>\n",
              "</div>\n",
              "    </div>\n",
              "  </div>\n"
            ]
          },
          "metadata": {},
          "execution_count": 22
        }
      ]
    },
    {
      "cell_type": "code",
      "source": [
        "df.dtypes"
      ],
      "metadata": {
        "colab": {
          "base_uri": "https://localhost:8080/"
        },
        "id": "3FG-6Ybutvjw",
        "outputId": "cce2098b-fedc-4a73-d4f4-3818ff0d6770"
      },
      "execution_count": 23,
      "outputs": [
        {
          "output_type": "stream",
          "name": "stderr",
          "text": [
            "/usr/local/lib/python3.10/dist-packages/ipykernel/ipkernel.py:283: DeprecationWarning: `should_run_async` will not call `transform_cell` automatically in the future. Please pass the result to `transformed_cell` argument and any exception that happen during thetransform in `preprocessing_exc_tuple` in IPython 7.17 and above.\n",
            "  and should_run_async(code)\n"
          ]
        },
        {
          "output_type": "execute_result",
          "data": {
            "text/plain": [
              "ID                              int64\n",
              "label                           int64\n",
              "tanggal                datetime64[ns]\n",
              "judul                          object\n",
              "narasi                         object\n",
              "nama file gambar               object\n",
              "judul_preprocessed             object\n",
              "narasi_preprocessed            object\n",
              "dtype: object"
            ]
          },
          "metadata": {},
          "execution_count": 23
        }
      ]
    },
    {
      "cell_type": "markdown",
      "source": [
        "Hasil data yang telah di-*preprocessing* akan di-*save* dalam format CSV."
      ],
      "metadata": {
        "id": "cozPQqq0oIFZ"
      }
    },
    {
      "cell_type": "code",
      "source": [
        "# df.to_csv('data_preprocessed.csv')"
      ],
      "metadata": {
        "id": "2CZvm4GyoTEp",
        "colab": {
          "base_uri": "https://localhost:8080/"
        },
        "outputId": "27a34144-8c4b-4a8b-cad2-08148d7a7ff0"
      },
      "execution_count": 24,
      "outputs": [
        {
          "output_type": "stream",
          "name": "stderr",
          "text": [
            "/usr/local/lib/python3.10/dist-packages/ipykernel/ipkernel.py:283: DeprecationWarning: `should_run_async` will not call `transform_cell` automatically in the future. Please pass the result to `transformed_cell` argument and any exception that happen during thetransform in `preprocessing_exc_tuple` in IPython 7.17 and above.\n",
            "  and should_run_async(code)\n"
          ]
        }
      ]
    },
    {
      "cell_type": "code",
      "source": [
        "# df = pd.read_csv('data_preprocessed.csv')\n",
        "# df.head()"
      ],
      "metadata": {
        "colab": {
          "base_uri": "https://localhost:8080/"
        },
        "id": "1lGoHjY-TLKJ",
        "outputId": "a9518cbb-2403-4d5d-8073-ce33c96262ac"
      },
      "execution_count": 25,
      "outputs": [
        {
          "output_type": "stream",
          "name": "stderr",
          "text": [
            "/usr/local/lib/python3.10/dist-packages/ipykernel/ipkernel.py:283: DeprecationWarning: `should_run_async` will not call `transform_cell` automatically in the future. Please pass the result to `transformed_cell` argument and any exception that happen during thetransform in `preprocessing_exc_tuple` in IPython 7.17 and above.\n",
            "  and should_run_async(code)\n"
          ]
        }
      ]
    },
    {
      "cell_type": "code",
      "source": [
        "# Mengubah data ke bentuk yang biasa kita gunakan\n",
        "D1 = [doc for doc in df[\"judul_preprocessed\"]]\n",
        "Y1 = df['label']\n",
        "\"Done\"\n",
        "# Mengubah data ke bentuk yang biasa kita gunakan\n",
        "D2 = [doc for doc in df[\"narasi_preprocessed\"]]\n",
        "Y2 = df['label']\n",
        "\"Done\""
      ],
      "metadata": {
        "colab": {
          "base_uri": "https://localhost:8080/",
          "height": 90
        },
        "id": "Xt0nEMehUFno",
        "outputId": "c098ca26-cc43-4950-e309-24e8fff8702c"
      },
      "execution_count": 26,
      "outputs": [
        {
          "output_type": "stream",
          "name": "stderr",
          "text": [
            "/usr/local/lib/python3.10/dist-packages/ipykernel/ipkernel.py:283: DeprecationWarning: `should_run_async` will not call `transform_cell` automatically in the future. Please pass the result to `transformed_cell` argument and any exception that happen during thetransform in `preprocessing_exc_tuple` in IPython 7.17 and above.\n",
            "  and should_run_async(code)\n"
          ]
        },
        {
          "output_type": "execute_result",
          "data": {
            "text/plain": [
              "'Done'"
            ],
            "application/vnd.google.colaboratory.intrinsic+json": {
              "type": "string"
            }
          },
          "metadata": {},
          "execution_count": 26
        }
      ]
    },
    {
      "cell_type": "code",
      "source": [
        "D1[0:5], D2[0:5]"
      ],
      "metadata": {
        "colab": {
          "base_uri": "https://localhost:8080/"
        },
        "id": "QEQJDOr8UluJ",
        "outputId": "5b422ed2-c44e-4088-b2ea-bc86d16847b1"
      },
      "execution_count": 27,
      "outputs": [
        {
          "output_type": "stream",
          "name": "stderr",
          "text": [
            "/usr/local/lib/python3.10/dist-packages/ipykernel/ipkernel.py:283: DeprecationWarning: `should_run_async` will not call `transform_cell` automatically in the future. Please pass the result to `transformed_cell` argument and any exception that happen during thetransform in `preprocessing_exc_tuple` in IPython 7.17 and above.\n",
            "  and should_run_async(code)\n"
          ]
        },
        {
          "output_type": "execute_result",
          "data": {
            "text/plain": [
              "(['pakai masker sakit legionnaires',\n",
              "  'instruksi gubernur jateng tilang masker muka e-tilang apps pikobar',\n",
              "  'foto jim rohn jokowi presiden sejarah bangsa indonesia',\n",
              "  'politik nyata jokowi hasil pulang triliun uang negara swiss',\n",
              "  'foto kadrun kalo lihat foto panas dingin'],\n",
              " ['caller radio talk shared wife hospitalized told covid couple days left live doctor friend suggested tested legionnaires disease wore mask day day long turns legionnaires disease moisture bacteria mask antibiotics days better spikes covid mask induced infections',\n",
              "  'anggota grup sesuai instruksi gubernur jawa hasil rapat tim gugus tugas covid jateng sbb',\n",
              "  'jokowi presiden sejarah bangsa indonesia jim rohn motivator dunia',\n",
              "  'maaf politik nyata jokowi hasil pulang triliun uang negara swiss triliun bawa indonesia ruu treaty mutual legal assistance criminal matters republic indonesia swiss confederation mla ri-swiss resmi sah dpr ri tanggal juli proses konstitusi tarik dana swiss selesai juang hadap koruptor bersenggama agama terimakasih kadrun nyinyirian uang triliun indonesia nyinyir sulit ruu sah dpr milik rekening gendut gigit jari tekan jokowi kencang baca berita',\n",
              "  'kadrun kalo lihat foto panas dingin'])"
            ]
          },
          "metadata": {},
          "execution_count": 27
        }
      ]
    },
    {
      "cell_type": "code",
      "source": [
        "df['label'].value_counts()"
      ],
      "metadata": {
        "colab": {
          "base_uri": "https://localhost:8080/"
        },
        "id": "NlZjzl8OlOYk",
        "outputId": "e33f3c4c-b8c3-4f12-9f6e-d61eadabb0fc"
      },
      "execution_count": 28,
      "outputs": [
        {
          "output_type": "stream",
          "name": "stderr",
          "text": [
            "/usr/local/lib/python3.10/dist-packages/ipykernel/ipkernel.py:283: DeprecationWarning: `should_run_async` will not call `transform_cell` automatically in the future. Please pass the result to `transformed_cell` argument and any exception that happen during thetransform in `preprocessing_exc_tuple` in IPython 7.17 and above.\n",
            "  and should_run_async(code)\n"
          ]
        },
        {
          "output_type": "execute_result",
          "data": {
            "text/plain": [
              "1    3850\n",
              "0     851\n",
              "Name: label, dtype: int64"
            ]
          },
          "metadata": {},
          "execution_count": 28
        }
      ]
    },
    {
      "cell_type": "markdown",
      "source": [
        "## EDA"
      ],
      "metadata": {
        "id": "GVD4bGqbL7h6"
      }
    },
    {
      "cell_type": "markdown",
      "source": [
        "Akan dibuat visualisasi dari data teks yang sudah di-*preprocessing* dengan menggunakan Voyant Tools. Didapatkan hasil sebagai berikut."
      ],
      "metadata": {
        "id": "Z-x5cHYmL-Ub"
      }
    },
    {
      "cell_type": "code",
      "source": [
        "# df[['label', 'judul_preprocessed']].to_csv(\"cleaned_title.csv\", index = False, encoding = 'utf8', header = False)\n",
        "# df[['label', 'narasi_preprocessed']].to_csv(\"cleaned_narasi.csv\", index = False, encoding = 'utf8', header = False)"
      ],
      "metadata": {
        "colab": {
          "base_uri": "https://localhost:8080/"
        },
        "id": "NBVDElKzZ1V_",
        "outputId": "e4d20de2-84fb-4a50-ce70-af2e406be0f7"
      },
      "execution_count": 29,
      "outputs": [
        {
          "output_type": "stream",
          "name": "stderr",
          "text": [
            "/usr/local/lib/python3.10/dist-packages/ipykernel/ipkernel.py:283: DeprecationWarning: `should_run_async` will not call `transform_cell` automatically in the future. Please pass the result to `transformed_cell` argument and any exception that happen during thetransform in `preprocessing_exc_tuple` in IPython 7.17 and above.\n",
            "  and should_run_async(code)\n"
          ]
        }
      ]
    },
    {
      "cell_type": "markdown",
      "source": [
        "### Visualisasi Narasi Bukan Hoax\n",
        "![Visualisasi narasi bukan hoax](https://raw.githubusercontent.com/zahrahaulia21/Kelompok-A---Studi-Kasus-Model-Klasifikasi-Datmin/main/bukan%20hoax%20narasi.jpg)\n",
        "\n",
        "Pada narasi yang bukan *hoax* beberapa kata yang banyak digunakan adalah Indonesia, hoax, Jokowi, Islam, dan Jakarta."
      ],
      "metadata": {
        "id": "iWKqK01BmMlO"
      }
    },
    {
      "cell_type": "markdown",
      "source": [
        "###Visualisasi Narasi Hoax\n",
        "![Visualisasi narasi hoax](https://raw.githubusercontent.com/zahrahaulia21/Kelompok-A---Studi-Kasus-Model-Klasifikasi-Datmin/main/hoax%20narasi.jpg)\n",
        "\n",
        "Pada narasi hoax, beberapa kata yang banyak digunakan adalah Indonesia, Jokowi, virus, corona, covid, Islam dan China."
      ],
      "metadata": {
        "id": "krqRQcMInWu2"
      }
    },
    {
      "cell_type": "markdown",
      "source": [
        "### Visualisasi Judul Bukan Hoax\n",
        "![Visualisasi judul bukan hoax](https://raw.githubusercontent.com/zahrahaulia21/Kelompok-A---Studi-Kasus-Model-Klasifikasi-Datmin/main/judul%20bukan%20hoax.png)\n",
        "\n",
        "Pada judul yang bukan *hoax*, kata yang banyak digunakan di antaranya adalah klarifikasi, bantah, Jokowi, Indonesia, *hoax*, polisi, dan Jakarta."
      ],
      "metadata": {
        "id": "WtJFQvZvtr8h"
      }
    },
    {
      "cell_type": "markdown",
      "source": [
        "### Visualisasi Judul Hoax\n",
        "\n",
        "![Visualisasi judul hoax](https://raw.githubusercontent.com/zahrahaulia21/Kelompok-A---Studi-Kasus-Model-Klasifikasi-Datmin/main/judul%20hoax.jpg)\n",
        "\n",
        "Pada judul *hoax*, kata yang banyak digunakan di antaranya adalah Jokowi, video, foto, Indonesia, corona, Prabowo, dan China."
      ],
      "metadata": {
        "id": "5tlLqqPGt2rO"
      }
    },
    {
      "cell_type": "markdown",
      "source": [
        "### Visualisasi Teks Hoaks Keseluruhan"
      ],
      "metadata": {
        "id": "5WHLZr9NVzYS"
      }
    },
    {
      "cell_type": "markdown",
      "source": [
        "Jika teks dalam variabel `judul` dan `narasi` digabungkan, maka didapatkan hasil visualisasi teks sebagai berikut."
      ],
      "metadata": {
        "id": "ONTbgLS1Vhx-"
      }
    },
    {
      "cell_type": "code",
      "source": [
        "D = [str(a) + ' ' + str(b) for a, b in zip(D1, D2)]\n",
        "Y = df[\"label\"]"
      ],
      "metadata": {
        "id": "WP8vLNTwW6Il",
        "colab": {
          "base_uri": "https://localhost:8080/"
        },
        "outputId": "167df3de-1668-4439-ec9e-95578f3b1d02"
      },
      "execution_count": 30,
      "outputs": [
        {
          "output_type": "stream",
          "name": "stderr",
          "text": [
            "/usr/local/lib/python3.10/dist-packages/ipykernel/ipkernel.py:283: DeprecationWarning: `should_run_async` will not call `transform_cell` automatically in the future. Please pass the result to `transformed_cell` argument and any exception that happen during thetransform in `preprocessing_exc_tuple` in IPython 7.17 and above.\n",
            "  and should_run_async(code)\n"
          ]
        }
      ]
    },
    {
      "cell_type": "code",
      "source": [
        "hoaks = df.copy()\n",
        "hoaks[\"teks\"] = D\n",
        "hoaks = hoaks[hoaks[\"label\"]==1]\n",
        "hoaks.sort_values(by = \"tanggal\", ascending = True, inplace = True)\n",
        "hoaks.head(10)"
      ],
      "metadata": {
        "id": "W32CJ5SEjrhu",
        "colab": {
          "base_uri": "https://localhost:8080/",
          "height": 782
        },
        "outputId": "eec7ce82-536d-4db9-df8d-f53da25dcc98"
      },
      "execution_count": 31,
      "outputs": [
        {
          "output_type": "stream",
          "name": "stderr",
          "text": [
            "/usr/local/lib/python3.10/dist-packages/ipykernel/ipkernel.py:283: DeprecationWarning: `should_run_async` will not call `transform_cell` automatically in the future. Please pass the result to `transformed_cell` argument and any exception that happen during thetransform in `preprocessing_exc_tuple` in IPython 7.17 and above.\n",
            "  and should_run_async(code)\n"
          ]
        },
        {
          "output_type": "execute_result",
          "data": {
            "text/plain": [
              "          ID  label    tanggal  \\\n",
              "320    73720      1 2015-07-31   \n",
              "4436  434161      1 2015-09-08   \n",
              "2133  499700      1 2015-09-08   \n",
              "1653  376817      1 2015-09-12   \n",
              "3014  712690      1 2015-09-15   \n",
              "24      8176      1 2015-09-15   \n",
              "2898  688112      1 2015-09-18   \n",
              "2043  475119      1 2015-09-21   \n",
              "771   180206      1 2015-09-22   \n",
              "597   139237      1 2015-10-03   \n",
              "\n",
              "                                                  judul  \\\n",
              "320   Ahok izinkan Natalan di Monas - tapi larang pe...   \n",
              "4436                          Mata Uang Rupiah Terpuruk   \n",
              "2133  Jokowi dituduh memasukkan ribuan tenaga kerja ...   \n",
              "1653  Jokowi dituduh bodoh, salah cara dalam bersala...   \n",
              "3014  Foto Raja Salman Mengangkat Tandu Jenazah Korb...   \n",
              "24    Larangan anti-miras di Minimarket ditiadakan o...   \n",
              "2898  Dituduh PKI Bangkit di Pamekasan, Jokowi Dicac...   \n",
              "2043                               Ahok Melarang Kurban   \n",
              "771    Jokowi Hendak Minta Maaf kepada PKI/Keluarga PKI   \n",
              "597                       : Munculnya Bara Api di Yaman   \n",
              "\n",
              "                                                 narasi nama file gambar  \\\n",
              "320   MARI KITA TOLAK. 25 desember acara pastur di m...        73720.jpg   \n",
              "4436  Hari ini, Rabu (23/09/2015), nilai tukar rupia...       434161.jpg   \n",
              "2133  Pak Jokowi itu menjadi walikota periode pertam...       499700.jpg   \n",
              "1653  hehe, selalu bisa tersenyum melihat tingkah la...       376817.jpg   \n",
              "3014  Raja Salman dari arab saudi membawa orang-oran...       712690.png   \n",
              "24    Pada 16 April lalu, Menteri Perdagangan Rachma...         8176.jpg   \n",
              "2898  PAS KAMPANYE ada warning dugaan PKI bangkit di...       688112.jpg   \n",
              "2043  Jadi Hok, mendingan lo tidur aje, ngga usah ng...       475119.jpg   \n",
              "771   “Jokowi Mau Minta Maaf pada eks PKI. Apakah In...       180206.png   \n",
              "597                         Munculnya Bara Api di Yaman       139237.jpg   \n",
              "\n",
              "                                     judul_preprocessed  \\\n",
              "320              ahok izin natal monas larang aji monas   \n",
              "4436                             mata uang rupiah puruk   \n",
              "2133  jokowi tuduh masuk ribu tenaga kerja asing ind...   \n",
              "1653          jokowi tuduh bodoh salah salam raja saudi   \n",
              "3014  foto raja salman angkat tandu jenazah korban c...   \n",
              "24    larang anti-miras minimarket tiada rezim jokow...   \n",
              "2898       tuduh pki bangkit pamekasan jokowi caci maki   \n",
              "2043                                 ahok larang kurban   \n",
              "771                        jokowi maaf pki keluarga pki   \n",
              "597                               muncul bara api yaman   \n",
              "\n",
              "                                    narasi_preprocessed  \\\n",
              "320   mari tolak desember acara pastur monas majlis ...   \n",
              "4436             rabu nilai tukar rupiah puruk rp dolar   \n",
              "2133                 jokowi walikota periode solo salah   \n",
              "1653  hehe senyum tingkah laku jokowi terimakasih hi...   \n",
              "3014  raja salman arab saudi bawa orang tinggal cran...   \n",
              "24    april menteri dagang rachmat gobel laku bijak ...   \n",
              "2898  kampanye warning duga pki bangkit jokowi kubu ...   \n",
              "2043  hok mending tidur aje ngga ngeluarin instuksi-...   \n",
              "771                      jokowi maaf eks pki test water   \n",
              "597                               muncul bara api yaman   \n",
              "\n",
              "                                                   teks  \n",
              "320   ahok izin natal monas larang aji monas mari to...  \n",
              "4436  mata uang rupiah puruk rabu nilai tukar rupiah...  \n",
              "2133  jokowi tuduh masuk ribu tenaga kerja asing ind...  \n",
              "1653  jokowi tuduh bodoh salah salam raja saudi hehe...  \n",
              "3014  foto raja salman angkat tandu jenazah korban c...  \n",
              "24    larang anti-miras minimarket tiada rezim jokow...  \n",
              "2898  tuduh pki bangkit pamekasan jokowi caci maki k...  \n",
              "2043  ahok larang kurban hok mending tidur aje ngga ...  \n",
              "771   jokowi maaf pki keluarga pki jokowi maaf eks p...  \n",
              "597         muncul bara api yaman muncul bara api yaman  "
            ],
            "text/html": [
              "\n",
              "  <div id=\"df-64a8d2b7-8c46-4ea8-ab0b-6cc528acf4ba\" class=\"colab-df-container\">\n",
              "    <div>\n",
              "<style scoped>\n",
              "    .dataframe tbody tr th:only-of-type {\n",
              "        vertical-align: middle;\n",
              "    }\n",
              "\n",
              "    .dataframe tbody tr th {\n",
              "        vertical-align: top;\n",
              "    }\n",
              "\n",
              "    .dataframe thead th {\n",
              "        text-align: right;\n",
              "    }\n",
              "</style>\n",
              "<table border=\"1\" class=\"dataframe\">\n",
              "  <thead>\n",
              "    <tr style=\"text-align: right;\">\n",
              "      <th></th>\n",
              "      <th>ID</th>\n",
              "      <th>label</th>\n",
              "      <th>tanggal</th>\n",
              "      <th>judul</th>\n",
              "      <th>narasi</th>\n",
              "      <th>nama file gambar</th>\n",
              "      <th>judul_preprocessed</th>\n",
              "      <th>narasi_preprocessed</th>\n",
              "      <th>teks</th>\n",
              "    </tr>\n",
              "  </thead>\n",
              "  <tbody>\n",
              "    <tr>\n",
              "      <th>320</th>\n",
              "      <td>73720</td>\n",
              "      <td>1</td>\n",
              "      <td>2015-07-31</td>\n",
              "      <td>Ahok izinkan Natalan di Monas - tapi larang pe...</td>\n",
              "      <td>MARI KITA TOLAK. 25 desember acara pastur di m...</td>\n",
              "      <td>73720.jpg</td>\n",
              "      <td>ahok izin natal monas larang aji monas</td>\n",
              "      <td>mari tolak desember acara pastur monas majlis ...</td>\n",
              "      <td>ahok izin natal monas larang aji monas mari to...</td>\n",
              "    </tr>\n",
              "    <tr>\n",
              "      <th>4436</th>\n",
              "      <td>434161</td>\n",
              "      <td>1</td>\n",
              "      <td>2015-09-08</td>\n",
              "      <td>Mata Uang Rupiah Terpuruk</td>\n",
              "      <td>Hari ini, Rabu (23/09/2015), nilai tukar rupia...</td>\n",
              "      <td>434161.jpg</td>\n",
              "      <td>mata uang rupiah puruk</td>\n",
              "      <td>rabu nilai tukar rupiah puruk rp dolar</td>\n",
              "      <td>mata uang rupiah puruk rabu nilai tukar rupiah...</td>\n",
              "    </tr>\n",
              "    <tr>\n",
              "      <th>2133</th>\n",
              "      <td>499700</td>\n",
              "      <td>1</td>\n",
              "      <td>2015-09-08</td>\n",
              "      <td>Jokowi dituduh memasukkan ribuan tenaga kerja ...</td>\n",
              "      <td>Pak Jokowi itu menjadi walikota periode pertam...</td>\n",
              "      <td>499700.jpg</td>\n",
              "      <td>jokowi tuduh masuk ribu tenaga kerja asing ind...</td>\n",
              "      <td>jokowi walikota periode solo salah</td>\n",
              "      <td>jokowi tuduh masuk ribu tenaga kerja asing ind...</td>\n",
              "    </tr>\n",
              "    <tr>\n",
              "      <th>1653</th>\n",
              "      <td>376817</td>\n",
              "      <td>1</td>\n",
              "      <td>2015-09-12</td>\n",
              "      <td>Jokowi dituduh bodoh, salah cara dalam bersala...</td>\n",
              "      <td>hehe, selalu bisa tersenyum melihat tingkah la...</td>\n",
              "      <td>376817.jpg</td>\n",
              "      <td>jokowi tuduh bodoh salah salam raja saudi</td>\n",
              "      <td>hehe senyum tingkah laku jokowi terimakasih hi...</td>\n",
              "      <td>jokowi tuduh bodoh salah salam raja saudi hehe...</td>\n",
              "    </tr>\n",
              "    <tr>\n",
              "      <th>3014</th>\n",
              "      <td>712690</td>\n",
              "      <td>1</td>\n",
              "      <td>2015-09-15</td>\n",
              "      <td>Foto Raja Salman Mengangkat Tandu Jenazah Korb...</td>\n",
              "      <td>Raja Salman dari arab saudi membawa orang-oran...</td>\n",
              "      <td>712690.png</td>\n",
              "      <td>foto raja salman angkat tandu jenazah korban c...</td>\n",
              "      <td>raja salman arab saudi bawa orang tinggal cran...</td>\n",
              "      <td>foto raja salman angkat tandu jenazah korban c...</td>\n",
              "    </tr>\n",
              "    <tr>\n",
              "      <th>24</th>\n",
              "      <td>8176</td>\n",
              "      <td>1</td>\n",
              "      <td>2015-09-15</td>\n",
              "      <td>Larangan anti-miras di Minimarket ditiadakan o...</td>\n",
              "      <td>Pada 16 April lalu, Menteri Perdagangan Rachma...</td>\n",
              "      <td>8176.jpg</td>\n",
              "      <td>larang anti-miras minimarket tiada rezim jokow...</td>\n",
              "      <td>april menteri dagang rachmat gobel laku bijak ...</td>\n",
              "      <td>larang anti-miras minimarket tiada rezim jokow...</td>\n",
              "    </tr>\n",
              "    <tr>\n",
              "      <th>2898</th>\n",
              "      <td>688112</td>\n",
              "      <td>1</td>\n",
              "      <td>2015-09-18</td>\n",
              "      <td>Dituduh PKI Bangkit di Pamekasan, Jokowi Dicac...</td>\n",
              "      <td>PAS KAMPANYE ada warning dugaan PKI bangkit di...</td>\n",
              "      <td>688112.jpg</td>\n",
              "      <td>tuduh pki bangkit pamekasan jokowi caci maki</td>\n",
              "      <td>kampanye warning duga pki bangkit jokowi kubu ...</td>\n",
              "      <td>tuduh pki bangkit pamekasan jokowi caci maki k...</td>\n",
              "    </tr>\n",
              "    <tr>\n",
              "      <th>2043</th>\n",
              "      <td>475119</td>\n",
              "      <td>1</td>\n",
              "      <td>2015-09-21</td>\n",
              "      <td>Ahok Melarang Kurban</td>\n",
              "      <td>Jadi Hok, mendingan lo tidur aje, ngga usah ng...</td>\n",
              "      <td>475119.jpg</td>\n",
              "      <td>ahok larang kurban</td>\n",
              "      <td>hok mending tidur aje ngga ngeluarin instuksi-...</td>\n",
              "      <td>ahok larang kurban hok mending tidur aje ngga ...</td>\n",
              "    </tr>\n",
              "    <tr>\n",
              "      <th>771</th>\n",
              "      <td>180206</td>\n",
              "      <td>1</td>\n",
              "      <td>2015-09-22</td>\n",
              "      <td>Jokowi Hendak Minta Maaf kepada PKI/Keluarga PKI</td>\n",
              "      <td>“Jokowi Mau Minta Maaf pada eks PKI. Apakah In...</td>\n",
              "      <td>180206.png</td>\n",
              "      <td>jokowi maaf pki keluarga pki</td>\n",
              "      <td>jokowi maaf eks pki test water</td>\n",
              "      <td>jokowi maaf pki keluarga pki jokowi maaf eks p...</td>\n",
              "    </tr>\n",
              "    <tr>\n",
              "      <th>597</th>\n",
              "      <td>139237</td>\n",
              "      <td>1</td>\n",
              "      <td>2015-10-03</td>\n",
              "      <td>: Munculnya Bara Api di Yaman</td>\n",
              "      <td>Munculnya Bara Api di Yaman</td>\n",
              "      <td>139237.jpg</td>\n",
              "      <td>muncul bara api yaman</td>\n",
              "      <td>muncul bara api yaman</td>\n",
              "      <td>muncul bara api yaman muncul bara api yaman</td>\n",
              "    </tr>\n",
              "  </tbody>\n",
              "</table>\n",
              "</div>\n",
              "    <div class=\"colab-df-buttons\">\n",
              "\n",
              "  <div class=\"colab-df-container\">\n",
              "    <button class=\"colab-df-convert\" onclick=\"convertToInteractive('df-64a8d2b7-8c46-4ea8-ab0b-6cc528acf4ba')\"\n",
              "            title=\"Convert this dataframe to an interactive table.\"\n",
              "            style=\"display:none;\">\n",
              "\n",
              "  <svg xmlns=\"http://www.w3.org/2000/svg\" height=\"24px\" viewBox=\"0 -960 960 960\">\n",
              "    <path d=\"M120-120v-720h720v720H120Zm60-500h600v-160H180v160Zm220 220h160v-160H400v160Zm0 220h160v-160H400v160ZM180-400h160v-160H180v160Zm440 0h160v-160H620v160ZM180-180h160v-160H180v160Zm440 0h160v-160H620v160Z\"/>\n",
              "  </svg>\n",
              "    </button>\n",
              "\n",
              "  <style>\n",
              "    .colab-df-container {\n",
              "      display:flex;\n",
              "      gap: 12px;\n",
              "    }\n",
              "\n",
              "    .colab-df-convert {\n",
              "      background-color: #E8F0FE;\n",
              "      border: none;\n",
              "      border-radius: 50%;\n",
              "      cursor: pointer;\n",
              "      display: none;\n",
              "      fill: #1967D2;\n",
              "      height: 32px;\n",
              "      padding: 0 0 0 0;\n",
              "      width: 32px;\n",
              "    }\n",
              "\n",
              "    .colab-df-convert:hover {\n",
              "      background-color: #E2EBFA;\n",
              "      box-shadow: 0px 1px 2px rgba(60, 64, 67, 0.3), 0px 1px 3px 1px rgba(60, 64, 67, 0.15);\n",
              "      fill: #174EA6;\n",
              "    }\n",
              "\n",
              "    .colab-df-buttons div {\n",
              "      margin-bottom: 4px;\n",
              "    }\n",
              "\n",
              "    [theme=dark] .colab-df-convert {\n",
              "      background-color: #3B4455;\n",
              "      fill: #D2E3FC;\n",
              "    }\n",
              "\n",
              "    [theme=dark] .colab-df-convert:hover {\n",
              "      background-color: #434B5C;\n",
              "      box-shadow: 0px 1px 3px 1px rgba(0, 0, 0, 0.15);\n",
              "      filter: drop-shadow(0px 1px 2px rgba(0, 0, 0, 0.3));\n",
              "      fill: #FFFFFF;\n",
              "    }\n",
              "  </style>\n",
              "\n",
              "    <script>\n",
              "      const buttonEl =\n",
              "        document.querySelector('#df-64a8d2b7-8c46-4ea8-ab0b-6cc528acf4ba button.colab-df-convert');\n",
              "      buttonEl.style.display =\n",
              "        google.colab.kernel.accessAllowed ? 'block' : 'none';\n",
              "\n",
              "      async function convertToInteractive(key) {\n",
              "        const element = document.querySelector('#df-64a8d2b7-8c46-4ea8-ab0b-6cc528acf4ba');\n",
              "        const dataTable =\n",
              "          await google.colab.kernel.invokeFunction('convertToInteractive',\n",
              "                                                    [key], {});\n",
              "        if (!dataTable) return;\n",
              "\n",
              "        const docLinkHtml = 'Like what you see? Visit the ' +\n",
              "          '<a target=\"_blank\" href=https://colab.research.google.com/notebooks/data_table.ipynb>data table notebook</a>'\n",
              "          + ' to learn more about interactive tables.';\n",
              "        element.innerHTML = '';\n",
              "        dataTable['output_type'] = 'display_data';\n",
              "        await google.colab.output.renderOutput(dataTable, element);\n",
              "        const docLink = document.createElement('div');\n",
              "        docLink.innerHTML = docLinkHtml;\n",
              "        element.appendChild(docLink);\n",
              "      }\n",
              "    </script>\n",
              "  </div>\n",
              "\n",
              "\n",
              "<div id=\"df-7ccb2e3d-dec5-440a-9004-2b0ac821a3a4\">\n",
              "  <button class=\"colab-df-quickchart\" onclick=\"quickchart('df-7ccb2e3d-dec5-440a-9004-2b0ac821a3a4')\"\n",
              "            title=\"Suggest charts\"\n",
              "            style=\"display:none;\">\n",
              "\n",
              "<svg xmlns=\"http://www.w3.org/2000/svg\" height=\"24px\"viewBox=\"0 0 24 24\"\n",
              "     width=\"24px\">\n",
              "    <g>\n",
              "        <path d=\"M19 3H5c-1.1 0-2 .9-2 2v14c0 1.1.9 2 2 2h14c1.1 0 2-.9 2-2V5c0-1.1-.9-2-2-2zM9 17H7v-7h2v7zm4 0h-2V7h2v10zm4 0h-2v-4h2v4z\"/>\n",
              "    </g>\n",
              "</svg>\n",
              "  </button>\n",
              "\n",
              "<style>\n",
              "  .colab-df-quickchart {\n",
              "      --bg-color: #E8F0FE;\n",
              "      --fill-color: #1967D2;\n",
              "      --hover-bg-color: #E2EBFA;\n",
              "      --hover-fill-color: #174EA6;\n",
              "      --disabled-fill-color: #AAA;\n",
              "      --disabled-bg-color: #DDD;\n",
              "  }\n",
              "\n",
              "  [theme=dark] .colab-df-quickchart {\n",
              "      --bg-color: #3B4455;\n",
              "      --fill-color: #D2E3FC;\n",
              "      --hover-bg-color: #434B5C;\n",
              "      --hover-fill-color: #FFFFFF;\n",
              "      --disabled-bg-color: #3B4455;\n",
              "      --disabled-fill-color: #666;\n",
              "  }\n",
              "\n",
              "  .colab-df-quickchart {\n",
              "    background-color: var(--bg-color);\n",
              "    border: none;\n",
              "    border-radius: 50%;\n",
              "    cursor: pointer;\n",
              "    display: none;\n",
              "    fill: var(--fill-color);\n",
              "    height: 32px;\n",
              "    padding: 0;\n",
              "    width: 32px;\n",
              "  }\n",
              "\n",
              "  .colab-df-quickchart:hover {\n",
              "    background-color: var(--hover-bg-color);\n",
              "    box-shadow: 0 1px 2px rgba(60, 64, 67, 0.3), 0 1px 3px 1px rgba(60, 64, 67, 0.15);\n",
              "    fill: var(--button-hover-fill-color);\n",
              "  }\n",
              "\n",
              "  .colab-df-quickchart-complete:disabled,\n",
              "  .colab-df-quickchart-complete:disabled:hover {\n",
              "    background-color: var(--disabled-bg-color);\n",
              "    fill: var(--disabled-fill-color);\n",
              "    box-shadow: none;\n",
              "  }\n",
              "\n",
              "  .colab-df-spinner {\n",
              "    border: 2px solid var(--fill-color);\n",
              "    border-color: transparent;\n",
              "    border-bottom-color: var(--fill-color);\n",
              "    animation:\n",
              "      spin 1s steps(1) infinite;\n",
              "  }\n",
              "\n",
              "  @keyframes spin {\n",
              "    0% {\n",
              "      border-color: transparent;\n",
              "      border-bottom-color: var(--fill-color);\n",
              "      border-left-color: var(--fill-color);\n",
              "    }\n",
              "    20% {\n",
              "      border-color: transparent;\n",
              "      border-left-color: var(--fill-color);\n",
              "      border-top-color: var(--fill-color);\n",
              "    }\n",
              "    30% {\n",
              "      border-color: transparent;\n",
              "      border-left-color: var(--fill-color);\n",
              "      border-top-color: var(--fill-color);\n",
              "      border-right-color: var(--fill-color);\n",
              "    }\n",
              "    40% {\n",
              "      border-color: transparent;\n",
              "      border-right-color: var(--fill-color);\n",
              "      border-top-color: var(--fill-color);\n",
              "    }\n",
              "    60% {\n",
              "      border-color: transparent;\n",
              "      border-right-color: var(--fill-color);\n",
              "    }\n",
              "    80% {\n",
              "      border-color: transparent;\n",
              "      border-right-color: var(--fill-color);\n",
              "      border-bottom-color: var(--fill-color);\n",
              "    }\n",
              "    90% {\n",
              "      border-color: transparent;\n",
              "      border-bottom-color: var(--fill-color);\n",
              "    }\n",
              "  }\n",
              "</style>\n",
              "\n",
              "  <script>\n",
              "    async function quickchart(key) {\n",
              "      const quickchartButtonEl =\n",
              "        document.querySelector('#' + key + ' button');\n",
              "      quickchartButtonEl.disabled = true;  // To prevent multiple clicks.\n",
              "      quickchartButtonEl.classList.add('colab-df-spinner');\n",
              "      try {\n",
              "        const charts = await google.colab.kernel.invokeFunction(\n",
              "            'suggestCharts', [key], {});\n",
              "      } catch (error) {\n",
              "        console.error('Error during call to suggestCharts:', error);\n",
              "      }\n",
              "      quickchartButtonEl.classList.remove('colab-df-spinner');\n",
              "      quickchartButtonEl.classList.add('colab-df-quickchart-complete');\n",
              "    }\n",
              "    (() => {\n",
              "      let quickchartButtonEl =\n",
              "        document.querySelector('#df-7ccb2e3d-dec5-440a-9004-2b0ac821a3a4 button');\n",
              "      quickchartButtonEl.style.display =\n",
              "        google.colab.kernel.accessAllowed ? 'block' : 'none';\n",
              "    })();\n",
              "  </script>\n",
              "</div>\n",
              "    </div>\n",
              "  </div>\n"
            ]
          },
          "metadata": {},
          "execution_count": 31
        }
      ]
    },
    {
      "cell_type": "code",
      "source": [
        "# hoaks[\"teks\"].to_csv(\"hoaks.txt\", index = False, encoding = 'utf8', header = False)"
      ],
      "metadata": {
        "colab": {
          "base_uri": "https://localhost:8080/"
        },
        "id": "DLmvb9S1N0mV",
        "outputId": "c151b92f-8a7e-4ce2-e4a5-271b12e4045a"
      },
      "execution_count": 32,
      "outputs": [
        {
          "output_type": "stream",
          "name": "stderr",
          "text": [
            "/usr/local/lib/python3.10/dist-packages/ipykernel/ipkernel.py:283: DeprecationWarning: `should_run_async` will not call `transform_cell` automatically in the future. Please pass the result to `transformed_cell` argument and any exception that happen during thetransform in `preprocessing_exc_tuple` in IPython 7.17 and above.\n",
            "  and should_run_async(code)\n"
          ]
        }
      ]
    },
    {
      "cell_type": "markdown",
      "source": [
        "![Visualisasi teks hoax](https://github.com/dikiwahyudi11/Case-Study-2-DMDBI/blob/main/teks_hoaks.png?raw=1)\n",
        "\n",
        "Terlihat bahwa kata-kata yang terkait dengan pemerintahan/politik seperti presiden, Jokowi, dan Prabowo banyak mengandung informasi hoaks-nya."
      ],
      "metadata": {
        "id": "WzlCmWVnWAdS"
      }
    },
    {
      "cell_type": "markdown",
      "source": [
        "![Visualisasi trend teks hoax](https://github.com/dikiwahyudi11/Case-Study-2-DMDBI/blob/main/tren_hoaks.png?raw=1)\n",
        "\n",
        "Terlihat bahwa kata covid mengalami kenaikian jumlah informasi yang mengandung hoaks pada periode tertentu. Hal tersebut diduga karena efek pandemi covid yang terjadi pada tahun 2019 lalu, di mana informasi-informasi yang berkaitan dengan covid dapat menyebar dengan cepat tanpa jaminan kevalidannya."
      ],
      "metadata": {
        "id": "HhOCCnU9W0Ya"
      }
    },
    {
      "cell_type": "markdown",
      "source": [
        "Berikut ini merupakan kata yang berkaitan dari dokumen yang merupakan hoaks.\n",
        "\n",
        "![Visualisasi trend teks hoax](https://github.com/dikiwahyudi11/Case-Study-2-DMDBI/blob/main/korelasi_katahoaks.png?raw=1)\n"
      ],
      "metadata": {
        "id": "CRajT0bF3qcs"
      }
    },
    {
      "cell_type": "markdown",
      "metadata": {
        "id": "aiLgTy4QT9ye"
      },
      "source": [
        "## Feature Engineering"
      ]
    },
    {
      "cell_type": "markdown",
      "source": [
        "Akan dilakukan klasifikasi dokumen dengan menggabungkan data teks dalam variabel `judul` dan `narasi`."
      ],
      "metadata": {
        "id": "j2RXnzxzuOEu"
      }
    },
    {
      "cell_type": "code",
      "source": [
        "D[0:5]"
      ],
      "metadata": {
        "colab": {
          "base_uri": "https://localhost:8080/"
        },
        "id": "K3YdqxqjXLOd",
        "outputId": "7a3dab06-3ddf-41ae-a1de-3ac984ee656e"
      },
      "execution_count": 33,
      "outputs": [
        {
          "output_type": "stream",
          "name": "stderr",
          "text": [
            "/usr/local/lib/python3.10/dist-packages/ipykernel/ipkernel.py:283: DeprecationWarning: `should_run_async` will not call `transform_cell` automatically in the future. Please pass the result to `transformed_cell` argument and any exception that happen during thetransform in `preprocessing_exc_tuple` in IPython 7.17 and above.\n",
            "  and should_run_async(code)\n"
          ]
        },
        {
          "output_type": "execute_result",
          "data": {
            "text/plain": [
              "['pakai masker sakit legionnaires caller radio talk shared wife hospitalized told covid couple days left live doctor friend suggested tested legionnaires disease wore mask day day long turns legionnaires disease moisture bacteria mask antibiotics days better spikes covid mask induced infections',\n",
              " 'instruksi gubernur jateng tilang masker muka e-tilang apps pikobar anggota grup sesuai instruksi gubernur jawa hasil rapat tim gugus tugas covid jateng sbb',\n",
              " 'foto jim rohn jokowi presiden sejarah bangsa indonesia jokowi presiden sejarah bangsa indonesia jim rohn motivator dunia',\n",
              " 'politik nyata jokowi hasil pulang triliun uang negara swiss maaf politik nyata jokowi hasil pulang triliun uang negara swiss triliun bawa indonesia ruu treaty mutual legal assistance criminal matters republic indonesia swiss confederation mla ri-swiss resmi sah dpr ri tanggal juli proses konstitusi tarik dana swiss selesai juang hadap koruptor bersenggama agama terimakasih kadrun nyinyirian uang triliun indonesia nyinyir sulit ruu sah dpr milik rekening gendut gigit jari tekan jokowi kencang baca berita',\n",
              " 'foto kadrun kalo lihat foto panas dingin kadrun kalo lihat foto panas dingin']"
            ]
          },
          "metadata": {},
          "execution_count": 33
        }
      ]
    },
    {
      "cell_type": "code",
      "source": [
        "len(D), len(Y)"
      ],
      "metadata": {
        "colab": {
          "base_uri": "https://localhost:8080/"
        },
        "id": "awonzNctvx6h",
        "outputId": "9d8adead-9fc0-4483-8700-783795e4ce4f"
      },
      "execution_count": 34,
      "outputs": [
        {
          "output_type": "stream",
          "name": "stderr",
          "text": [
            "/usr/local/lib/python3.10/dist-packages/ipykernel/ipkernel.py:283: DeprecationWarning: `should_run_async` will not call `transform_cell` automatically in the future. Please pass the result to `transformed_cell` argument and any exception that happen during thetransform in `preprocessing_exc_tuple` in IPython 7.17 and above.\n",
            "  and should_run_async(code)\n"
          ]
        },
        {
          "output_type": "execute_result",
          "data": {
            "text/plain": [
              "(4701, 4701)"
            ]
          },
          "metadata": {},
          "execution_count": 34
        }
      ]
    },
    {
      "cell_type": "code",
      "execution_count": 35,
      "metadata": {
        "id": "D7Lrk2hSKfka",
        "colab": {
          "base_uri": "https://localhost:8080/"
        },
        "outputId": "fbe1ca87-93f8-43ef-9e43-7e2a5f876d15"
      },
      "outputs": [
        {
          "output_type": "stream",
          "name": "stderr",
          "text": [
            "/usr/local/lib/python3.10/dist-packages/ipykernel/ipkernel.py:283: DeprecationWarning: `should_run_async` will not call `transform_cell` automatically in the future. Please pass the result to `transformed_cell` argument and any exception that happen during thetransform in `preprocessing_exc_tuple` in IPython 7.17 and above.\n",
            "  and should_run_async(code)\n"
          ]
        }
      ],
      "source": [
        "# Bentuk VSM-nya\n",
        "from sklearn.feature_extraction.text import TfidfVectorizer\n",
        "tfidf_vectorizer = TfidfVectorizer(lowercase = True, stop_words = 'english', smooth_idf = True, sublinear_tf = True,\n",
        "                                   ngram_range = (1, 2), max_df = 0.90, min_df = 2)"
      ]
    },
    {
      "cell_type": "code",
      "execution_count": 36,
      "metadata": {
        "colab": {
          "base_uri": "https://localhost:8080/"
        },
        "id": "-3kWItihPqFc",
        "outputId": "fc6da875-db5a-49d8-f249-380ac5f470c1"
      },
      "outputs": [
        {
          "output_type": "stream",
          "name": "stderr",
          "text": [
            "/usr/local/lib/python3.10/dist-packages/ipykernel/ipkernel.py:283: DeprecationWarning: `should_run_async` will not call `transform_cell` automatically in the future. Please pass the result to `transformed_cell` argument and any exception that happen during thetransform in `preprocessing_exc_tuple` in IPython 7.17 and above.\n",
            "  and should_run_async(code)\n"
          ]
        },
        {
          "output_type": "stream",
          "name": "stdout",
          "text": [
            "(3290, 8905) (1411, 8905)\n"
          ]
        }
      ],
      "source": [
        "from sklearn.model_selection import train_test_split\n",
        "seed = 99\n",
        "\n",
        "x_train, x_test, y_train, y_test = train_test_split(D, Y, test_size = 0.3, random_state = seed)\n",
        "x_train = tfidf_vectorizer.fit_transform(x_train) # \"fit_transform\"\n",
        "x_test = tfidf_vectorizer.transform(x_test) # Perhatikan di sini hanya \"transform\"\n",
        "\n",
        "print(x_train.shape, x_test.shape) # Jumlah kolom sama -> ini penting"
      ]
    },
    {
      "cell_type": "code",
      "execution_count": 37,
      "metadata": {
        "colab": {
          "base_uri": "https://localhost:8080/"
        },
        "id": "oHjDX63fPyO0",
        "outputId": "24b4b7b4-c252-4f48-839c-bcc63a6abf19"
      },
      "outputs": [
        {
          "output_type": "stream",
          "name": "stdout",
          "text": [
            "(3289, 8905) (1410, 8905)\n"
          ]
        },
        {
          "output_type": "stream",
          "name": "stderr",
          "text": [
            "/usr/local/lib/python3.10/dist-packages/ipykernel/ipkernel.py:283: DeprecationWarning: `should_run_async` will not call `transform_cell` automatically in the future. Please pass the result to `transformed_cell` argument and any exception that happen during thetransform in `preprocessing_exc_tuple` in IPython 7.17 and above.\n",
            "  and should_run_async(code)\n"
          ]
        }
      ],
      "source": [
        "# Jangan lupa langkah penting ini!\n",
        "def hapusKosong(X,Y):\n",
        "    Y = Y[X.getnnz(1)>0] # Delete label dokumen yang memiliki row = 0 di tfidf-nya\n",
        "    X = X[X.getnnz(1)>0] # Remove zero rows\n",
        "    return X, Y\n",
        "\n",
        "x_train, y_train = hapusKosong(x_train, y_train)\n",
        "x_test, y_test = hapusKosong(x_test, y_test)\n",
        "print(x_train.shape, x_test.shape)"
      ]
    },
    {
      "cell_type": "markdown",
      "metadata": {
        "id": "steOg0a9N3lO"
      },
      "source": [
        "## Classification"
      ]
    },
    {
      "cell_type": "code",
      "source": [
        "from sklearn.linear_model import LogisticRegression\n",
        "from sklearn.neural_network import MLPClassifier\n",
        "from sklearn.neighbors import KNeighborsClassifier\n",
        "from sklearn.svm import SVC\n",
        "from sklearn.ensemble import RandomForestClassifier\n",
        "from sklearn.metrics import classification_report, confusion_matrix, accuracy_score"
      ],
      "metadata": {
        "id": "rUlDNeh2iKAT",
        "colab": {
          "base_uri": "https://localhost:8080/"
        },
        "outputId": "cc0162e4-7443-48fd-8334-c0e5780ba420"
      },
      "execution_count": 38,
      "outputs": [
        {
          "output_type": "stream",
          "name": "stderr",
          "text": [
            "/usr/local/lib/python3.10/dist-packages/ipykernel/ipkernel.py:283: DeprecationWarning: `should_run_async` will not call `transform_cell` automatically in the future. Please pass the result to `transformed_cell` argument and any exception that happen during thetransform in `preprocessing_exc_tuple` in IPython 7.17 and above.\n",
            "  and should_run_async(code)\n"
          ]
        }
      ]
    },
    {
      "cell_type": "markdown",
      "source": [
        "### SVM"
      ],
      "metadata": {
        "id": "cr7eKBF169H3"
      }
    },
    {
      "cell_type": "code",
      "source": [
        "# Support Vector Machines\n",
        "model = SVC()\n",
        "model.fit(x_train, y_train)\n",
        "y_train_hat = model.predict(x_train)\n",
        "y_test_hat = model.predict(x_test)\n",
        "\n",
        "print(model)\n",
        "print('Train performance')\n",
        "print('-------------------------------------------------------')\n",
        "print(classification_report(y_train, y_train_hat))\n",
        "\n",
        "print('Test performance')\n",
        "print('-------------------------------------------------------')\n",
        "print(classification_report(y_test, y_test_hat))\n",
        "\n",
        "print('Accuracy Score')\n",
        "print('-------------------------------------------------------')\n",
        "print(accuracy_score(y_test, y_test_hat))\n",
        "print('')\n",
        "\n",
        "print('Confusion matrix')\n",
        "print('-------------------------------------------------------')\n",
        "print(confusion_matrix(y_test, y_test_hat))"
      ],
      "metadata": {
        "colab": {
          "base_uri": "https://localhost:8080/"
        },
        "id": "ae6oaajMieSF",
        "outputId": "0564cd05-de9d-406f-bde5-31da0fdc8fb8"
      },
      "execution_count": 39,
      "outputs": [
        {
          "output_type": "stream",
          "name": "stderr",
          "text": [
            "/usr/local/lib/python3.10/dist-packages/ipykernel/ipkernel.py:283: DeprecationWarning: `should_run_async` will not call `transform_cell` automatically in the future. Please pass the result to `transformed_cell` argument and any exception that happen during thetransform in `preprocessing_exc_tuple` in IPython 7.17 and above.\n",
            "  and should_run_async(code)\n"
          ]
        },
        {
          "output_type": "stream",
          "name": "stdout",
          "text": [
            "SVC()\n",
            "Train performance\n",
            "-------------------------------------------------------\n",
            "              precision    recall  f1-score   support\n",
            "\n",
            "           0       1.00      0.67      0.81       578\n",
            "           1       0.94      1.00      0.97      2711\n",
            "\n",
            "    accuracy                           0.94      3289\n",
            "   macro avg       0.97      0.84      0.89      3289\n",
            "weighted avg       0.95      0.94      0.94      3289\n",
            "\n",
            "Test performance\n",
            "-------------------------------------------------------\n",
            "              precision    recall  f1-score   support\n",
            "\n",
            "           0       0.91      0.11      0.20       273\n",
            "           1       0.82      1.00      0.90      1137\n",
            "\n",
            "    accuracy                           0.83      1410\n",
            "   macro avg       0.87      0.55      0.55      1410\n",
            "weighted avg       0.84      0.83      0.77      1410\n",
            "\n",
            "Accuracy Score\n",
            "-------------------------------------------------------\n",
            "0.825531914893617\n",
            "\n",
            "Confusion matrix\n",
            "-------------------------------------------------------\n",
            "[[  30  243]\n",
            " [   3 1134]]\n"
          ]
        }
      ]
    },
    {
      "cell_type": "markdown",
      "source": [
        "### Logistic Regression"
      ],
      "metadata": {
        "id": "0SsuJsaQ7C6L"
      }
    },
    {
      "cell_type": "code",
      "source": [
        "# Logistic Regression\n",
        "model = LogisticRegression()\n",
        "model.fit(x_train, y_train)\n",
        "y_train_hat = model.predict(x_train)\n",
        "y_test_hat = model.predict(x_test)\n",
        "\n",
        "print(model)\n",
        "print('Train performance')\n",
        "print('-------------------------------------------------------')\n",
        "print(classification_report(y_train, y_train_hat))\n",
        "\n",
        "print('Test performance')\n",
        "print('-------------------------------------------------------')\n",
        "print(classification_report(y_test, y_test_hat))\n",
        "\n",
        "print('Accuracy score')\n",
        "print('-------------------------------------------------------')\n",
        "print(accuracy_score(y_test, y_test_hat))\n",
        "print('')\n",
        "\n",
        "print('Confusion matrix')\n",
        "print('-------------------------------------------------------')\n",
        "print(confusion_matrix(y_test, y_test_hat))"
      ],
      "metadata": {
        "colab": {
          "base_uri": "https://localhost:8080/"
        },
        "id": "gwb0TFm6ivvo",
        "outputId": "3a21795c-332f-4145-b1f7-3779b4201f3e"
      },
      "execution_count": 40,
      "outputs": [
        {
          "output_type": "stream",
          "name": "stdout",
          "text": [
            "LogisticRegression()\n",
            "Train performance\n",
            "-------------------------------------------------------\n",
            "              precision    recall  f1-score   support\n",
            "\n",
            "           0       0.94      0.16      0.27       578\n",
            "           1       0.85      1.00      0.92      2711\n",
            "\n",
            "    accuracy                           0.85      3289\n",
            "   macro avg       0.89      0.58      0.59      3289\n",
            "weighted avg       0.86      0.85      0.80      3289\n",
            "\n",
            "Test performance\n",
            "-------------------------------------------------------\n",
            "              precision    recall  f1-score   support\n",
            "\n",
            "           0       0.84      0.10      0.18       273\n",
            "           1       0.82      1.00      0.90      1137\n",
            "\n",
            "    accuracy                           0.82      1410\n",
            "   macro avg       0.83      0.55      0.54      1410\n",
            "weighted avg       0.83      0.82      0.76      1410\n",
            "\n",
            "Accuracy score\n",
            "-------------------------------------------------------\n",
            "0.8219858156028369\n",
            "\n",
            "Confusion matrix\n",
            "-------------------------------------------------------\n",
            "[[  27  246]\n",
            " [   5 1132]]\n"
          ]
        },
        {
          "output_type": "stream",
          "name": "stderr",
          "text": [
            "/usr/local/lib/python3.10/dist-packages/ipykernel/ipkernel.py:283: DeprecationWarning: `should_run_async` will not call `transform_cell` automatically in the future. Please pass the result to `transformed_cell` argument and any exception that happen during thetransform in `preprocessing_exc_tuple` in IPython 7.17 and above.\n",
            "  and should_run_async(code)\n"
          ]
        }
      ]
    },
    {
      "cell_type": "markdown",
      "source": [
        "### Random Forest"
      ],
      "metadata": {
        "id": "4KPOtGxT7H23"
      }
    },
    {
      "cell_type": "code",
      "source": [
        "# Random Forest\n",
        "model = RandomForestClassifier(n_jobs = -2, random_state = 123)\n",
        "model.fit(x_train, y_train)\n",
        "y_train_hat = model.predict(x_train)\n",
        "y_test_hat = model.predict(x_test)\n",
        "\n",
        "print(model)\n",
        "print('Train performance')\n",
        "print('-------------------------------------------------------')\n",
        "print(classification_report(y_train, y_train_hat))\n",
        "\n",
        "print('Test performance')\n",
        "print('-------------------------------------------------------')\n",
        "print(classification_report(y_test, y_test_hat))\n",
        "\n",
        "print('Accuracy score')\n",
        "print('-------------------------------------------------------')\n",
        "print(accuracy_score(y_test, y_test_hat))\n",
        "print('')\n",
        "\n",
        "print('Confusion matrix')\n",
        "print('-------------------------------------------------------')\n",
        "print(confusion_matrix(y_test, y_test_hat))"
      ],
      "metadata": {
        "colab": {
          "base_uri": "https://localhost:8080/"
        },
        "id": "DS3IBW_Vi-TA",
        "outputId": "8baa1a05-667c-4cc8-82da-3cf1868f1a15"
      },
      "execution_count": 41,
      "outputs": [
        {
          "output_type": "stream",
          "name": "stderr",
          "text": [
            "/usr/local/lib/python3.10/dist-packages/ipykernel/ipkernel.py:283: DeprecationWarning: `should_run_async` will not call `transform_cell` automatically in the future. Please pass the result to `transformed_cell` argument and any exception that happen during thetransform in `preprocessing_exc_tuple` in IPython 7.17 and above.\n",
            "  and should_run_async(code)\n"
          ]
        },
        {
          "output_type": "stream",
          "name": "stdout",
          "text": [
            "RandomForestClassifier(n_jobs=-2, random_state=123)\n",
            "Train performance\n",
            "-------------------------------------------------------\n",
            "              precision    recall  f1-score   support\n",
            "\n",
            "           0       1.00      1.00      1.00       578\n",
            "           1       1.00      1.00      1.00      2711\n",
            "\n",
            "    accuracy                           1.00      3289\n",
            "   macro avg       1.00      1.00      1.00      3289\n",
            "weighted avg       1.00      1.00      1.00      3289\n",
            "\n",
            "Test performance\n",
            "-------------------------------------------------------\n",
            "              precision    recall  f1-score   support\n",
            "\n",
            "           0       0.76      0.25      0.38       273\n",
            "           1       0.84      0.98      0.91      1137\n",
            "\n",
            "    accuracy                           0.84      1410\n",
            "   macro avg       0.80      0.62      0.64      1410\n",
            "weighted avg       0.83      0.84      0.80      1410\n",
            "\n",
            "Accuracy score\n",
            "-------------------------------------------------------\n",
            "0.8397163120567376\n",
            "\n",
            "Confusion matrix\n",
            "-------------------------------------------------------\n",
            "[[  68  205]\n",
            " [  21 1116]]\n"
          ]
        }
      ]
    },
    {
      "cell_type": "markdown",
      "source": [
        "### Neural Network"
      ],
      "metadata": {
        "id": "3uQYlrrR7NPs"
      }
    },
    {
      "cell_type": "code",
      "source": [
        "# Neural Network\n",
        "model = MLPClassifier()\n",
        "model.fit(x_train, y_train)\n",
        "y_train_hat = model.predict(x_train)\n",
        "y_test_hat = model.predict(x_test)\n",
        "\n",
        "print(model)\n",
        "print('Train performance')\n",
        "print('-------------------------------------------------------')\n",
        "print(classification_report(y_train, y_train_hat))\n",
        "\n",
        "print('Test performance')\n",
        "print('-------------------------------------------------------')\n",
        "print(classification_report(y_test, y_test_hat))\n",
        "\n",
        "print('Accuracy score')\n",
        "print('-------------------------------------------------------')\n",
        "print(accuracy_score(y_test, y_test_hat))\n",
        "print('')\n",
        "\n",
        "print('Confusion matrix')\n",
        "print('-------------------------------------------------------')\n",
        "print(confusion_matrix(y_test, y_test_hat))"
      ],
      "metadata": {
        "colab": {
          "base_uri": "https://localhost:8080/"
        },
        "id": "DEuWnLMPjVOk",
        "outputId": "1b9430ae-c4ed-4367-8d38-ab09a43ce691"
      },
      "execution_count": 42,
      "outputs": [
        {
          "output_type": "stream",
          "name": "stderr",
          "text": [
            "/usr/local/lib/python3.10/dist-packages/ipykernel/ipkernel.py:283: DeprecationWarning: `should_run_async` will not call `transform_cell` automatically in the future. Please pass the result to `transformed_cell` argument and any exception that happen during thetransform in `preprocessing_exc_tuple` in IPython 7.17 and above.\n",
            "  and should_run_async(code)\n"
          ]
        },
        {
          "output_type": "stream",
          "name": "stdout",
          "text": [
            "MLPClassifier()\n",
            "Train performance\n",
            "-------------------------------------------------------\n",
            "              precision    recall  f1-score   support\n",
            "\n",
            "           0       1.00      1.00      1.00       578\n",
            "           1       1.00      1.00      1.00      2711\n",
            "\n",
            "    accuracy                           1.00      3289\n",
            "   macro avg       1.00      1.00      1.00      3289\n",
            "weighted avg       1.00      1.00      1.00      3289\n",
            "\n",
            "Test performance\n",
            "-------------------------------------------------------\n",
            "              precision    recall  f1-score   support\n",
            "\n",
            "           0       0.53      0.34      0.42       273\n",
            "           1       0.85      0.93      0.89      1137\n",
            "\n",
            "    accuracy                           0.81      1410\n",
            "   macro avg       0.69      0.63      0.65      1410\n",
            "weighted avg       0.79      0.81      0.80      1410\n",
            "\n",
            "Accuracy score\n",
            "-------------------------------------------------------\n",
            "0.8127659574468085\n",
            "\n",
            "Confusion matrix\n",
            "-------------------------------------------------------\n",
            "[[  94  179]\n",
            " [  85 1052]]\n"
          ]
        }
      ]
    },
    {
      "cell_type": "markdown",
      "source": [
        "### $k$-NN"
      ],
      "metadata": {
        "id": "UgLuI1Y98f7W"
      }
    },
    {
      "cell_type": "code",
      "source": [
        "# k-Nearest Neighbors\n",
        "model = KNeighborsClassifier()\n",
        "model.fit(x_train, y_train)\n",
        "y_train_hat = model.predict(x_train)\n",
        "y_test_hat = model.predict(x_test)\n",
        "print(model)\n",
        "print('Train performance')\n",
        "print('-------------------------------------------------------')\n",
        "print(classification_report(y_train, y_train_hat))\n",
        "\n",
        "print('Test performance')\n",
        "print('-------------------------------------------------------')\n",
        "print(classification_report(y_test, y_test_hat))\n",
        "\n",
        "print('Accuracy score')\n",
        "print('-------------------------------------------------------')\n",
        "print(accuracy_score(y_test, y_test_hat))\n",
        "print('')\n",
        "\n",
        "print('Confusion matrix')\n",
        "print('-------------------------------------------------------')\n",
        "print(confusion_matrix(y_test, y_test_hat))"
      ],
      "metadata": {
        "colab": {
          "base_uri": "https://localhost:8080/"
        },
        "id": "qiI68l3U8iNT",
        "outputId": "aab20777-a3ac-49cb-b6ad-d03b9c47d029"
      },
      "execution_count": 43,
      "outputs": [
        {
          "output_type": "stream",
          "name": "stderr",
          "text": [
            "/usr/local/lib/python3.10/dist-packages/ipykernel/ipkernel.py:283: DeprecationWarning: `should_run_async` will not call `transform_cell` automatically in the future. Please pass the result to `transformed_cell` argument and any exception that happen during thetransform in `preprocessing_exc_tuple` in IPython 7.17 and above.\n",
            "  and should_run_async(code)\n"
          ]
        },
        {
          "output_type": "stream",
          "name": "stdout",
          "text": [
            "KNeighborsClassifier()\n",
            "Train performance\n",
            "-------------------------------------------------------\n",
            "              precision    recall  f1-score   support\n",
            "\n",
            "           0       0.75      0.32      0.45       578\n",
            "           1       0.87      0.98      0.92      2711\n",
            "\n",
            "    accuracy                           0.86      3289\n",
            "   macro avg       0.81      0.65      0.68      3289\n",
            "weighted avg       0.85      0.86      0.84      3289\n",
            "\n",
            "Test performance\n",
            "-------------------------------------------------------\n",
            "              precision    recall  f1-score   support\n",
            "\n",
            "           0       0.54      0.16      0.25       273\n",
            "           1       0.83      0.97      0.89      1137\n",
            "\n",
            "    accuracy                           0.81      1410\n",
            "   macro avg       0.69      0.57      0.57      1410\n",
            "weighted avg       0.77      0.81      0.77      1410\n",
            "\n",
            "Accuracy score\n",
            "-------------------------------------------------------\n",
            "0.8113475177304964\n",
            "\n",
            "Confusion matrix\n",
            "-------------------------------------------------------\n",
            "[[  45  228]\n",
            " [  38 1099]]\n"
          ]
        }
      ]
    },
    {
      "cell_type": "markdown",
      "source": [
        "### XGBoost"
      ],
      "metadata": {
        "id": "2rmWTos57REw"
      }
    },
    {
      "cell_type": "code",
      "source": [
        "from xgboost import XGBClassifier\n",
        "\n",
        "model = XGBClassifier(random_state = 123)\n",
        "model.fit(x_train, y_train)\n",
        "y_train_hat = model.predict(x_train)\n",
        "y_test_hat = model.predict(x_test)\n",
        "\n",
        "print(model)\n",
        "print('Train performance')\n",
        "print('-------------------------------------------------------')\n",
        "print(classification_report(y_train, y_train_hat))\n",
        "\n",
        "print('Test performance')\n",
        "print('-------------------------------------------------------')\n",
        "print(classification_report(y_test, y_test_hat))\n",
        "\n",
        "print('Accuracy score')\n",
        "print('-------------------------------------------------------')\n",
        "print(accuracy_score(y_test, y_test_hat))\n",
        "print('')\n",
        "\n",
        "print('Confusion matrix')\n",
        "print('-------------------------------------------------------')\n",
        "print(confusion_matrix(y_test, y_test_hat))"
      ],
      "metadata": {
        "colab": {
          "base_uri": "https://localhost:8080/"
        },
        "id": "D5De3GRujrq4",
        "outputId": "7fef8878-ec60-43db-8618-57e2237c0176"
      },
      "execution_count": 44,
      "outputs": [
        {
          "output_type": "stream",
          "name": "stderr",
          "text": [
            "/usr/local/lib/python3.10/dist-packages/ipykernel/ipkernel.py:283: DeprecationWarning: `should_run_async` will not call `transform_cell` automatically in the future. Please pass the result to `transformed_cell` argument and any exception that happen during thetransform in `preprocessing_exc_tuple` in IPython 7.17 and above.\n",
            "  and should_run_async(code)\n"
          ]
        },
        {
          "output_type": "stream",
          "name": "stdout",
          "text": [
            "XGBClassifier(base_score=None, booster=None, callbacks=None,\n",
            "              colsample_bylevel=None, colsample_bynode=None,\n",
            "              colsample_bytree=None, device=None, early_stopping_rounds=None,\n",
            "              enable_categorical=False, eval_metric=None, feature_types=None,\n",
            "              gamma=None, grow_policy=None, importance_type=None,\n",
            "              interaction_constraints=None, learning_rate=None, max_bin=None,\n",
            "              max_cat_threshold=None, max_cat_to_onehot=None,\n",
            "              max_delta_step=None, max_depth=None, max_leaves=None,\n",
            "              min_child_weight=None, missing=nan, monotone_constraints=None,\n",
            "              multi_strategy=None, n_estimators=None, n_jobs=None,\n",
            "              num_parallel_tree=None, random_state=123, ...)\n",
            "Train performance\n",
            "-------------------------------------------------------\n",
            "              precision    recall  f1-score   support\n",
            "\n",
            "           0       0.97      0.59      0.74       578\n",
            "           1       0.92      1.00      0.96      2711\n",
            "\n",
            "    accuracy                           0.93      3289\n",
            "   macro avg       0.95      0.79      0.85      3289\n",
            "weighted avg       0.93      0.93      0.92      3289\n",
            "\n",
            "Test performance\n",
            "-------------------------------------------------------\n",
            "              precision    recall  f1-score   support\n",
            "\n",
            "           0       0.74      0.35      0.47       273\n",
            "           1       0.86      0.97      0.91      1137\n",
            "\n",
            "    accuracy                           0.85      1410\n",
            "   macro avg       0.80      0.66      0.69      1410\n",
            "weighted avg       0.84      0.85      0.83      1410\n",
            "\n",
            "Accuracy score\n",
            "-------------------------------------------------------\n",
            "0.849645390070922\n",
            "\n",
            "Confusion matrix\n",
            "-------------------------------------------------------\n",
            "[[  95  178]\n",
            " [  34 1103]]\n"
          ]
        }
      ]
    },
    {
      "cell_type": "markdown",
      "source": [
        "## Model Evaluation & Optimization"
      ],
      "metadata": {
        "id": "YjJyuoZV74V1"
      }
    },
    {
      "cell_type": "markdown",
      "source": [
        "Karena 3 model yang baik (akurasi tinggi pada data test) yaitu Random Forest, XGBoost, dan SVM, maka selanjutnya akan dilakukan *hyperparameter tuning* dengan metode Randomized Search."
      ],
      "metadata": {
        "id": "KrIHQvov8I6T"
      }
    },
    {
      "cell_type": "code",
      "source": [
        "from sklearn.model_selection import RandomizedSearchCV, KFold"
      ],
      "metadata": {
        "id": "DnbHvam9kPUc",
        "colab": {
          "base_uri": "https://localhost:8080/"
        },
        "outputId": "6b0ef6b4-4eb2-465c-eae0-b40fb49bb7a9"
      },
      "execution_count": 45,
      "outputs": [
        {
          "output_type": "stream",
          "name": "stderr",
          "text": [
            "/usr/local/lib/python3.10/dist-packages/ipykernel/ipkernel.py:283: DeprecationWarning: `should_run_async` will not call `transform_cell` automatically in the future. Please pass the result to `transformed_cell` argument and any exception that happen during thetransform in `preprocessing_exc_tuple` in IPython 7.17 and above.\n",
            "  and should_run_async(code)\n"
          ]
        }
      ]
    },
    {
      "cell_type": "code",
      "source": [
        "# Random Forest\n",
        "# n_jobs = -1 to allow run it on all cores\n",
        "params = {\n",
        "    'n_estimators': [100, 200, 500],\n",
        "    'criterion': ['gini', 'entropy'],\n",
        "    'min_samples_split': [2, 4, 5],\n",
        "    'min_samples_leaf': [1, 2, 4, 5],\n",
        "    'max_leaf_nodes': [4, 10, 20, 50, None]\n",
        "}\n",
        "\n",
        "gs1 = RandomizedSearchCV(RandomForestClassifier(n_jobs = -1), params, n_jobs = -1,\n",
        "                         cv = KFold(n_splits = 3), scoring = 'accuracy')\n",
        "gs1.fit(x_train, y_train)\n",
        "\n",
        "print('Best score:', gs1.best_score_)\n",
        "print('Best parameters:', gs1.best_params_)"
      ],
      "metadata": {
        "colab": {
          "base_uri": "https://localhost:8080/"
        },
        "id": "xqP1oOEimrKL",
        "outputId": "6a127d81-61f3-45bc-f39b-d16bccfb6843"
      },
      "execution_count": 46,
      "outputs": [
        {
          "output_type": "stream",
          "name": "stderr",
          "text": [
            "/usr/local/lib/python3.10/dist-packages/ipykernel/ipkernel.py:283: DeprecationWarning: `should_run_async` will not call `transform_cell` automatically in the future. Please pass the result to `transformed_cell` argument and any exception that happen during thetransform in `preprocessing_exc_tuple` in IPython 7.17 and above.\n",
            "  and should_run_async(code)\n",
            "/usr/local/lib/python3.10/dist-packages/sklearn/model_selection/_search.py:313: DeprecationWarning: `product` is deprecated as of NumPy 1.25.0, and will be removed in NumPy 2.0. Please use `prod` instead.\n",
            "  yield param_grid[i]\n",
            "/usr/local/lib/python3.10/dist-packages/sklearn/model_selection/_search.py:313: DeprecationWarning: `product` is deprecated as of NumPy 1.25.0, and will be removed in NumPy 2.0. Please use `prod` instead.\n",
            "  yield param_grid[i]\n",
            "/usr/local/lib/python3.10/dist-packages/sklearn/model_selection/_search.py:313: DeprecationWarning: `product` is deprecated as of NumPy 1.25.0, and will be removed in NumPy 2.0. Please use `prod` instead.\n",
            "  yield param_grid[i]\n",
            "/usr/local/lib/python3.10/dist-packages/sklearn/model_selection/_search.py:313: DeprecationWarning: `product` is deprecated as of NumPy 1.25.0, and will be removed in NumPy 2.0. Please use `prod` instead.\n",
            "  yield param_grid[i]\n",
            "/usr/local/lib/python3.10/dist-packages/sklearn/model_selection/_search.py:313: DeprecationWarning: `product` is deprecated as of NumPy 1.25.0, and will be removed in NumPy 2.0. Please use `prod` instead.\n",
            "  yield param_grid[i]\n",
            "/usr/local/lib/python3.10/dist-packages/sklearn/model_selection/_search.py:313: DeprecationWarning: `product` is deprecated as of NumPy 1.25.0, and will be removed in NumPy 2.0. Please use `prod` instead.\n",
            "  yield param_grid[i]\n",
            "/usr/local/lib/python3.10/dist-packages/sklearn/model_selection/_search.py:313: DeprecationWarning: `product` is deprecated as of NumPy 1.25.0, and will be removed in NumPy 2.0. Please use `prod` instead.\n",
            "  yield param_grid[i]\n",
            "/usr/local/lib/python3.10/dist-packages/sklearn/model_selection/_search.py:313: DeprecationWarning: `product` is deprecated as of NumPy 1.25.0, and will be removed in NumPy 2.0. Please use `prod` instead.\n",
            "  yield param_grid[i]\n",
            "/usr/local/lib/python3.10/dist-packages/sklearn/model_selection/_search.py:313: DeprecationWarning: `product` is deprecated as of NumPy 1.25.0, and will be removed in NumPy 2.0. Please use `prod` instead.\n",
            "  yield param_grid[i]\n",
            "/usr/local/lib/python3.10/dist-packages/sklearn/model_selection/_search.py:313: DeprecationWarning: `product` is deprecated as of NumPy 1.25.0, and will be removed in NumPy 2.0. Please use `prod` instead.\n",
            "  yield param_grid[i]\n"
          ]
        },
        {
          "output_type": "stream",
          "name": "stdout",
          "text": [
            "Best score: 0.842506493045621\n",
            "Best parameters: {'n_estimators': 200, 'min_samples_split': 4, 'min_samples_leaf': 1, 'max_leaf_nodes': None, 'criterion': 'gini'}\n"
          ]
        }
      ]
    },
    {
      "cell_type": "code",
      "source": [
        "# XGBoost\n",
        "# n_jobs = -1 to allow run it on all cores\n",
        "params = {\n",
        "    'n_estimators': [100, 200, 500],\n",
        "    'learning_rate': [0.01, 0.05, 0.1],\n",
        "    'booster': ['gbtree', 'gblinear'],\n",
        "    'gamma': [0, 0.5, 1],\n",
        "    'reg_alpha': [0, 0.5, 1],\n",
        "    'reg_lambda': [0.5, 1, 5]\n",
        "}\n",
        "\n",
        "gs2 = RandomizedSearchCV(XGBClassifier(n_jobs = -1), params, n_jobs = -1,\n",
        "                         cv = KFold(n_splits = 3), scoring = 'accuracy', verbose = -1)\n",
        "gs2.fit(x_train, y_train)\n",
        "\n",
        "print('Best score:', gs2.best_score_)\n",
        "print('Best parameters:', gs2.best_params_)"
      ],
      "metadata": {
        "colab": {
          "base_uri": "https://localhost:8080/"
        },
        "id": "2Kl6XeF6kacz",
        "outputId": "ce1d6771-1ecb-4688-bc5e-bda824ef1583"
      },
      "execution_count": 47,
      "outputs": [
        {
          "output_type": "stream",
          "name": "stderr",
          "text": [
            "/usr/local/lib/python3.10/dist-packages/ipykernel/ipkernel.py:283: DeprecationWarning: `should_run_async` will not call `transform_cell` automatically in the future. Please pass the result to `transformed_cell` argument and any exception that happen during thetransform in `preprocessing_exc_tuple` in IPython 7.17 and above.\n",
            "  and should_run_async(code)\n",
            "/usr/local/lib/python3.10/dist-packages/sklearn/model_selection/_search.py:313: DeprecationWarning: `product` is deprecated as of NumPy 1.25.0, and will be removed in NumPy 2.0. Please use `prod` instead.\n",
            "  yield param_grid[i]\n",
            "/usr/local/lib/python3.10/dist-packages/sklearn/model_selection/_search.py:313: DeprecationWarning: `product` is deprecated as of NumPy 1.25.0, and will be removed in NumPy 2.0. Please use `prod` instead.\n",
            "  yield param_grid[i]\n",
            "/usr/local/lib/python3.10/dist-packages/sklearn/model_selection/_search.py:313: DeprecationWarning: `product` is deprecated as of NumPy 1.25.0, and will be removed in NumPy 2.0. Please use `prod` instead.\n",
            "  yield param_grid[i]\n",
            "/usr/local/lib/python3.10/dist-packages/sklearn/model_selection/_search.py:313: DeprecationWarning: `product` is deprecated as of NumPy 1.25.0, and will be removed in NumPy 2.0. Please use `prod` instead.\n",
            "  yield param_grid[i]\n",
            "/usr/local/lib/python3.10/dist-packages/sklearn/model_selection/_search.py:313: DeprecationWarning: `product` is deprecated as of NumPy 1.25.0, and will be removed in NumPy 2.0. Please use `prod` instead.\n",
            "  yield param_grid[i]\n",
            "/usr/local/lib/python3.10/dist-packages/sklearn/model_selection/_search.py:313: DeprecationWarning: `product` is deprecated as of NumPy 1.25.0, and will be removed in NumPy 2.0. Please use `prod` instead.\n",
            "  yield param_grid[i]\n",
            "/usr/local/lib/python3.10/dist-packages/sklearn/model_selection/_search.py:313: DeprecationWarning: `product` is deprecated as of NumPy 1.25.0, and will be removed in NumPy 2.0. Please use `prod` instead.\n",
            "  yield param_grid[i]\n",
            "/usr/local/lib/python3.10/dist-packages/sklearn/model_selection/_search.py:313: DeprecationWarning: `product` is deprecated as of NumPy 1.25.0, and will be removed in NumPy 2.0. Please use `prod` instead.\n",
            "  yield param_grid[i]\n",
            "/usr/local/lib/python3.10/dist-packages/sklearn/model_selection/_search.py:313: DeprecationWarning: `product` is deprecated as of NumPy 1.25.0, and will be removed in NumPy 2.0. Please use `prod` instead.\n",
            "  yield param_grid[i]\n",
            "/usr/local/lib/python3.10/dist-packages/sklearn/model_selection/_search.py:313: DeprecationWarning: `product` is deprecated as of NumPy 1.25.0, and will be removed in NumPy 2.0. Please use `prod` instead.\n",
            "  yield param_grid[i]\n"
          ]
        },
        {
          "output_type": "stream",
          "name": "stdout",
          "text": [
            "Best score: 0.8504123721629661\n",
            "Best parameters: {'reg_lambda': 0.5, 'reg_alpha': 1, 'n_estimators': 100, 'learning_rate': 0.1, 'gamma': 0.5, 'booster': 'gbtree'}\n"
          ]
        }
      ]
    },
    {
      "cell_type": "code",
      "source": [
        "params = {'C': [0.1, 1, 10, 100, 1000],\n",
        "          'gamma': [1, 0.1, 0.01, 0.001, 0.0001],\n",
        "          'kernel': ['rbf', 'poly', 'sigmoid', 'linear']}\n",
        "gs3 = RandomizedSearchCV(SVC(probability = True), params, n_jobs = -1,\n",
        "                         cv = KFold(n_splits = 3), scoring = 'accuracy', verbose = 1)\n",
        "gs3.fit(x_train, y_train)\n",
        "\n",
        "print('Best score:', gs3.best_score_)\n",
        "print('Best parameters:', gs3.best_params_)"
      ],
      "metadata": {
        "colab": {
          "base_uri": "https://localhost:8080/"
        },
        "id": "Z7hzrnFinFBc",
        "outputId": "f3111dc2-c6b5-407b-f9d0-53c60d7161f8"
      },
      "execution_count": 48,
      "outputs": [
        {
          "output_type": "stream",
          "name": "stdout",
          "text": [
            "Fitting 3 folds for each of 10 candidates, totalling 30 fits\n"
          ]
        },
        {
          "output_type": "stream",
          "name": "stderr",
          "text": [
            "/usr/local/lib/python3.10/dist-packages/ipykernel/ipkernel.py:283: DeprecationWarning: `should_run_async` will not call `transform_cell` automatically in the future. Please pass the result to `transformed_cell` argument and any exception that happen during thetransform in `preprocessing_exc_tuple` in IPython 7.17 and above.\n",
            "  and should_run_async(code)\n",
            "/usr/local/lib/python3.10/dist-packages/sklearn/model_selection/_search.py:313: DeprecationWarning: `product` is deprecated as of NumPy 1.25.0, and will be removed in NumPy 2.0. Please use `prod` instead.\n",
            "  yield param_grid[i]\n",
            "/usr/local/lib/python3.10/dist-packages/sklearn/model_selection/_search.py:313: DeprecationWarning: `product` is deprecated as of NumPy 1.25.0, and will be removed in NumPy 2.0. Please use `prod` instead.\n",
            "  yield param_grid[i]\n",
            "/usr/local/lib/python3.10/dist-packages/sklearn/model_selection/_search.py:313: DeprecationWarning: `product` is deprecated as of NumPy 1.25.0, and will be removed in NumPy 2.0. Please use `prod` instead.\n",
            "  yield param_grid[i]\n",
            "/usr/local/lib/python3.10/dist-packages/sklearn/model_selection/_search.py:313: DeprecationWarning: `product` is deprecated as of NumPy 1.25.0, and will be removed in NumPy 2.0. Please use `prod` instead.\n",
            "  yield param_grid[i]\n",
            "/usr/local/lib/python3.10/dist-packages/sklearn/model_selection/_search.py:313: DeprecationWarning: `product` is deprecated as of NumPy 1.25.0, and will be removed in NumPy 2.0. Please use `prod` instead.\n",
            "  yield param_grid[i]\n",
            "/usr/local/lib/python3.10/dist-packages/sklearn/model_selection/_search.py:313: DeprecationWarning: `product` is deprecated as of NumPy 1.25.0, and will be removed in NumPy 2.0. Please use `prod` instead.\n",
            "  yield param_grid[i]\n",
            "/usr/local/lib/python3.10/dist-packages/sklearn/model_selection/_search.py:313: DeprecationWarning: `product` is deprecated as of NumPy 1.25.0, and will be removed in NumPy 2.0. Please use `prod` instead.\n",
            "  yield param_grid[i]\n",
            "/usr/local/lib/python3.10/dist-packages/sklearn/model_selection/_search.py:313: DeprecationWarning: `product` is deprecated as of NumPy 1.25.0, and will be removed in NumPy 2.0. Please use `prod` instead.\n",
            "  yield param_grid[i]\n",
            "/usr/local/lib/python3.10/dist-packages/sklearn/model_selection/_search.py:313: DeprecationWarning: `product` is deprecated as of NumPy 1.25.0, and will be removed in NumPy 2.0. Please use `prod` instead.\n",
            "  yield param_grid[i]\n",
            "/usr/local/lib/python3.10/dist-packages/sklearn/model_selection/_search.py:313: DeprecationWarning: `product` is deprecated as of NumPy 1.25.0, and will be removed in NumPy 2.0. Please use `prod` instead.\n",
            "  yield param_grid[i]\n"
          ]
        },
        {
          "output_type": "stream",
          "name": "stdout",
          "text": [
            "Best score: 0.8245685534758588\n",
            "Best parameters: {'kernel': 'poly', 'gamma': 1, 'C': 100}\n"
          ]
        }
      ]
    },
    {
      "cell_type": "markdown",
      "source": [
        "Selanjutnya, akan dilakukan voting dengan mengabungkan ketiga model yang telah dioptimalkan di atas."
      ],
      "metadata": {
        "id": "-qKEMd749whR"
      }
    },
    {
      "cell_type": "code",
      "source": [
        "from sklearn.model_selection import cross_validate\n",
        "from sklearn.ensemble import VotingClassifier\n",
        "votes = [('rf', gs1.best_estimator_), ('xgb', gs2.best_estimator_), ('svm', gs3.best_estimator_)]\n",
        "# Soft voting based on weights\n",
        "votesClass = VotingClassifier(estimators = votes, voting = 'soft', n_jobs = -1)\n",
        "votesClass_cv = cross_validate(votesClass, x_train, y_train, cv = KFold(3))\n",
        "votesClass.fit(x_train, y_train)\n",
        "\n",
        "votesClass_cv"
      ],
      "metadata": {
        "colab": {
          "base_uri": "https://localhost:8080/"
        },
        "id": "sJaABak3kanq",
        "outputId": "1a742023-5d3e-4242-cc30-27fb5113ed5c"
      },
      "execution_count": 49,
      "outputs": [
        {
          "output_type": "stream",
          "name": "stderr",
          "text": [
            "/usr/local/lib/python3.10/dist-packages/ipykernel/ipkernel.py:283: DeprecationWarning: `should_run_async` will not call `transform_cell` automatically in the future. Please pass the result to `transformed_cell` argument and any exception that happen during thetransform in `preprocessing_exc_tuple` in IPython 7.17 and above.\n",
            "  and should_run_async(code)\n"
          ]
        },
        {
          "output_type": "execute_result",
          "data": {
            "text/plain": [
              "{'fit_time': array([11.15347672, 14.05275464, 10.88764811]),\n",
              " 'score_time': array([0.55071926, 0.54938293, 0.75218749]),\n",
              " 'test_score': array([0.83409298, 0.84854015, 0.8330292 ])}"
            ]
          },
          "metadata": {},
          "execution_count": 49
        }
      ]
    },
    {
      "cell_type": "code",
      "source": [
        "from sklearn.ensemble import ExtraTreesClassifier\n",
        "\n",
        "model = votesClass\n",
        "# model.fit(x_train, y_train)\n",
        "y_train_hat = model.predict(x_train)\n",
        "y_test_hat = model.predict(x_test)\n",
        "\n",
        "print(model)\n",
        "print('Train performance')\n",
        "print('-------------------------------------------------------')\n",
        "print(classification_report(y_train, y_train_hat))\n",
        "\n",
        "print('Test performance')\n",
        "print('-------------------------------------------------------')\n",
        "print(classification_report(y_test, y_test_hat))\n",
        "\n",
        "print('Accuracy score')\n",
        "print('-------------------------------------------------------')\n",
        "print(accuracy_score(y_test, y_test_hat))\n",
        "print('')\n",
        "\n",
        "print('Confusion matrix')\n",
        "print('-------------------------------------------------------')\n",
        "print(confusion_matrix(y_test, y_test_hat))"
      ],
      "metadata": {
        "colab": {
          "base_uri": "https://localhost:8080/"
        },
        "id": "AQ-Ml8QSpwaR",
        "outputId": "6f2d9c5a-d646-4e01-95a6-624741842452"
      },
      "execution_count": 50,
      "outputs": [
        {
          "output_type": "stream",
          "name": "stderr",
          "text": [
            "/usr/local/lib/python3.10/dist-packages/ipykernel/ipkernel.py:283: DeprecationWarning: `should_run_async` will not call `transform_cell` automatically in the future. Please pass the result to `transformed_cell` argument and any exception that happen during thetransform in `preprocessing_exc_tuple` in IPython 7.17 and above.\n",
            "  and should_run_async(code)\n"
          ]
        },
        {
          "output_type": "stream",
          "name": "stdout",
          "text": [
            "VotingClassifier(estimators=[('rf',\n",
            "                              RandomForestClassifier(min_samples_split=4,\n",
            "                                                     n_estimators=200,\n",
            "                                                     n_jobs=-1)),\n",
            "                             ('xgb',\n",
            "                              XGBClassifier(base_score=None, booster='gbtree',\n",
            "                                            callbacks=None,\n",
            "                                            colsample_bylevel=None,\n",
            "                                            colsample_bynode=None,\n",
            "                                            colsample_bytree=None, device=None,\n",
            "                                            early_stopping_rounds=None,\n",
            "                                            enable_categorical=False,\n",
            "                                            eval_metric=None,\n",
            "                                            feature_types=None, gamma=0...\n",
            "                                            learning_rate=0.1, max_bin=None,\n",
            "                                            max_cat_threshold=None,\n",
            "                                            max_cat_to_onehot=None,\n",
            "                                            max_delta_step=None, max_depth=None,\n",
            "                                            max_leaves=None,\n",
            "                                            min_child_weight=None, missing=nan,\n",
            "                                            monotone_constraints=None,\n",
            "                                            multi_strategy=None,\n",
            "                                            n_estimators=100, n_jobs=-1,\n",
            "                                            num_parallel_tree=None,\n",
            "                                            random_state=None, ...)),\n",
            "                             ('svm',\n",
            "                              SVC(C=100, gamma=1, kernel='poly',\n",
            "                                  probability=True))],\n",
            "                 n_jobs=-1, voting='soft')\n",
            "Train performance\n",
            "-------------------------------------------------------\n",
            "              precision    recall  f1-score   support\n",
            "\n",
            "           0       1.00      1.00      1.00       578\n",
            "           1       1.00      1.00      1.00      2711\n",
            "\n",
            "    accuracy                           1.00      3289\n",
            "   macro avg       1.00      1.00      1.00      3289\n",
            "weighted avg       1.00      1.00      1.00      3289\n",
            "\n",
            "Test performance\n",
            "-------------------------------------------------------\n",
            "              precision    recall  f1-score   support\n",
            "\n",
            "           0       0.82      0.21      0.33       273\n",
            "           1       0.84      0.99      0.91      1137\n",
            "\n",
            "    accuracy                           0.84      1410\n",
            "   macro avg       0.83      0.60      0.62      1410\n",
            "weighted avg       0.84      0.84      0.80      1410\n",
            "\n",
            "Accuracy score\n",
            "-------------------------------------------------------\n",
            "0.8375886524822695\n",
            "\n",
            "Confusion matrix\n",
            "-------------------------------------------------------\n",
            "[[  56  217]\n",
            " [  12 1125]]\n"
          ]
        }
      ]
    },
    {
      "cell_type": "markdown",
      "source": [
        "Selanjutnya, akan dilakukan *fitting* model Random Forest, XGBoost, dan SVM dengan *hyperparameter* yang telah dioptimalkan."
      ],
      "metadata": {
        "id": "tCpx96xqKfoW"
      }
    },
    {
      "cell_type": "code",
      "source": [
        "# Random Forest\n",
        "model = RandomForestClassifier(n_jobs = -2, random_state = 123, **gs1.best_params_)\n",
        "model.fit(x_train, y_train)\n",
        "y_train_hat = model.predict(x_train)\n",
        "y_test_hat = model.predict(x_test)\n",
        "\n",
        "print(model)\n",
        "print('Train performance')\n",
        "print('-------------------------------------------------------')\n",
        "print(classification_report(y_train, y_train_hat))\n",
        "\n",
        "print('Test performance')\n",
        "print('-------------------------------------------------------')\n",
        "print(classification_report(y_test, y_test_hat))\n",
        "\n",
        "print('Accuracy score')\n",
        "print('-------------------------------------------------------')\n",
        "print(accuracy_score(y_test, y_test_hat))\n",
        "print('')\n",
        "\n",
        "print('Confusion matrix')\n",
        "print('-------------------------------------------------------')\n",
        "print(confusion_matrix(y_test, y_test_hat))"
      ],
      "metadata": {
        "colab": {
          "base_uri": "https://localhost:8080/"
        },
        "id": "1R-K_yJyKNm0",
        "outputId": "296a9bdf-fb88-4e86-c6fa-492b070a85fe"
      },
      "execution_count": 51,
      "outputs": [
        {
          "output_type": "stream",
          "name": "stderr",
          "text": [
            "/usr/local/lib/python3.10/dist-packages/ipykernel/ipkernel.py:283: DeprecationWarning: `should_run_async` will not call `transform_cell` automatically in the future. Please pass the result to `transformed_cell` argument and any exception that happen during thetransform in `preprocessing_exc_tuple` in IPython 7.17 and above.\n",
            "  and should_run_async(code)\n"
          ]
        },
        {
          "output_type": "stream",
          "name": "stdout",
          "text": [
            "RandomForestClassifier(min_samples_split=4, n_estimators=200, n_jobs=-2,\n",
            "                       random_state=123)\n",
            "Train performance\n",
            "-------------------------------------------------------\n",
            "              precision    recall  f1-score   support\n",
            "\n",
            "           0       1.00      0.99      1.00       578\n",
            "           1       1.00      1.00      1.00      2711\n",
            "\n",
            "    accuracy                           1.00      3289\n",
            "   macro avg       1.00      1.00      1.00      3289\n",
            "weighted avg       1.00      1.00      1.00      3289\n",
            "\n",
            "Test performance\n",
            "-------------------------------------------------------\n",
            "              precision    recall  f1-score   support\n",
            "\n",
            "           0       0.78      0.27      0.40       273\n",
            "           1       0.85      0.98      0.91      1137\n",
            "\n",
            "    accuracy                           0.84      1410\n",
            "   macro avg       0.81      0.62      0.65      1410\n",
            "weighted avg       0.83      0.84      0.81      1410\n",
            "\n",
            "Accuracy score\n",
            "-------------------------------------------------------\n",
            "0.8432624113475178\n",
            "\n",
            "Confusion matrix\n",
            "-------------------------------------------------------\n",
            "[[  73  200]\n",
            " [  21 1116]]\n"
          ]
        }
      ]
    },
    {
      "cell_type": "code",
      "source": [
        "model = XGBClassifier(random_state = 123, **gs2.best_params_)\n",
        "model.fit(x_train, y_train)\n",
        "y_train_hat = model.predict(x_train)\n",
        "y_test_hat = model.predict(x_test)\n",
        "\n",
        "print(model)\n",
        "print('Train performance')\n",
        "print('-------------------------------------------------------')\n",
        "print(classification_report(y_train, y_train_hat))\n",
        "\n",
        "print('Test performance')\n",
        "print('-------------------------------------------------------')\n",
        "print(classification_report(y_test, y_test_hat))\n",
        "\n",
        "print('Accuracy score')\n",
        "print('-------------------------------------------------------')\n",
        "print(accuracy_score(y_test, y_test_hat))\n",
        "print('')\n",
        "\n",
        "print('Confusion matrix')\n",
        "print('-------------------------------------------------------')\n",
        "print(confusion_matrix(y_test, y_test_hat))"
      ],
      "metadata": {
        "colab": {
          "base_uri": "https://localhost:8080/"
        },
        "id": "TBNmkHl0rs48",
        "outputId": "b90a019f-5b4b-4de4-fff5-45b1c507ff94"
      },
      "execution_count": 52,
      "outputs": [
        {
          "output_type": "stream",
          "name": "stderr",
          "text": [
            "/usr/local/lib/python3.10/dist-packages/ipykernel/ipkernel.py:283: DeprecationWarning: `should_run_async` will not call `transform_cell` automatically in the future. Please pass the result to `transformed_cell` argument and any exception that happen during thetransform in `preprocessing_exc_tuple` in IPython 7.17 and above.\n",
            "  and should_run_async(code)\n"
          ]
        },
        {
          "output_type": "stream",
          "name": "stdout",
          "text": [
            "XGBClassifier(base_score=None, booster='gbtree', callbacks=None,\n",
            "              colsample_bylevel=None, colsample_bynode=None,\n",
            "              colsample_bytree=None, device=None, early_stopping_rounds=None,\n",
            "              enable_categorical=False, eval_metric=None, feature_types=None,\n",
            "              gamma=0.5, grow_policy=None, importance_type=None,\n",
            "              interaction_constraints=None, learning_rate=0.1, max_bin=None,\n",
            "              max_cat_threshold=None, max_cat_to_onehot=None,\n",
            "              max_delta_step=None, max_depth=None, max_leaves=None,\n",
            "              min_child_weight=None, missing=nan, monotone_constraints=None,\n",
            "              multi_strategy=None, n_estimators=100, n_jobs=None,\n",
            "              num_parallel_tree=None, random_state=123, ...)\n",
            "Train performance\n",
            "-------------------------------------------------------\n",
            "              precision    recall  f1-score   support\n",
            "\n",
            "           0       0.94      0.37      0.54       578\n",
            "           1       0.88      1.00      0.94      2711\n",
            "\n",
            "    accuracy                           0.89      3289\n",
            "   macro avg       0.91      0.68      0.74      3289\n",
            "weighted avg       0.89      0.89      0.86      3289\n",
            "\n",
            "Test performance\n",
            "-------------------------------------------------------\n",
            "              precision    recall  f1-score   support\n",
            "\n",
            "           0       0.77      0.32      0.45       273\n",
            "           1       0.86      0.98      0.91      1137\n",
            "\n",
            "    accuracy                           0.85      1410\n",
            "   macro avg       0.82      0.65      0.68      1410\n",
            "weighted avg       0.84      0.85      0.82      1410\n",
            "\n",
            "Accuracy score\n",
            "-------------------------------------------------------\n",
            "0.849645390070922\n",
            "\n",
            "Confusion matrix\n",
            "-------------------------------------------------------\n",
            "[[  86  187]\n",
            " [  25 1112]]\n"
          ]
        }
      ]
    },
    {
      "cell_type": "code",
      "source": [
        "# Support Vector Machines\n",
        "model = SVC(**gs3.best_params_)\n",
        "model.fit(x_train, y_train)\n",
        "y_train_hat = model.predict(x_train)\n",
        "y_test_hat = model.predict(x_test)\n",
        "\n",
        "print(model)\n",
        "print('Train performance')\n",
        "print('-------------------------------------------------------')\n",
        "print(classification_report(y_train, y_train_hat))\n",
        "\n",
        "print('Test performance')\n",
        "print('-------------------------------------------------------')\n",
        "print(classification_report(y_test, y_test_hat))\n",
        "\n",
        "print('Accuracy Score')\n",
        "print('-------------------------------------------------------')\n",
        "print(accuracy_score(y_test, y_test_hat))\n",
        "print('')\n",
        "\n",
        "print('Confusion matrix')\n",
        "print('-------------------------------------------------------')\n",
        "print(confusion_matrix(y_test, y_test_hat))"
      ],
      "metadata": {
        "colab": {
          "base_uri": "https://localhost:8080/"
        },
        "id": "ZXWA6-XPKVQH",
        "outputId": "9cb0ddbf-85cf-4e62-8d7c-7acee38cb116"
      },
      "execution_count": 53,
      "outputs": [
        {
          "output_type": "stream",
          "name": "stderr",
          "text": [
            "/usr/local/lib/python3.10/dist-packages/ipykernel/ipkernel.py:283: DeprecationWarning: `should_run_async` will not call `transform_cell` automatically in the future. Please pass the result to `transformed_cell` argument and any exception that happen during thetransform in `preprocessing_exc_tuple` in IPython 7.17 and above.\n",
            "  and should_run_async(code)\n"
          ]
        },
        {
          "output_type": "stream",
          "name": "stdout",
          "text": [
            "SVC(C=100, gamma=1, kernel='poly')\n",
            "Train performance\n",
            "-------------------------------------------------------\n",
            "              precision    recall  f1-score   support\n",
            "\n",
            "           0       1.00      1.00      1.00       578\n",
            "           1       1.00      1.00      1.00      2711\n",
            "\n",
            "    accuracy                           1.00      3289\n",
            "   macro avg       1.00      1.00      1.00      3289\n",
            "weighted avg       1.00      1.00      1.00      3289\n",
            "\n",
            "Test performance\n",
            "-------------------------------------------------------\n",
            "              precision    recall  f1-score   support\n",
            "\n",
            "           0       0.67      0.01      0.01       273\n",
            "           1       0.81      1.00      0.89      1137\n",
            "\n",
            "    accuracy                           0.81      1410\n",
            "   macro avg       0.74      0.50      0.45      1410\n",
            "weighted avg       0.78      0.81      0.72      1410\n",
            "\n",
            "Accuracy Score\n",
            "-------------------------------------------------------\n",
            "0.8070921985815603\n",
            "\n",
            "Confusion matrix\n",
            "-------------------------------------------------------\n",
            "[[   2  271]\n",
            " [   1 1136]]\n"
          ]
        }
      ]
    },
    {
      "cell_type": "markdown",
      "source": [
        "Dari hasil di atas, didapatkan bahwa model terbaik yang kami dapatkan untuk meng-klasifikasi-kan apakah suatu dokumen hoaks/tidak yaitu model XGBoost dengan akurasi **84.96%**."
      ],
      "metadata": {
        "id": "dYjhgTV5-k-G"
      }
    },
    {
      "cell_type": "markdown",
      "source": [
        "## Topic Modelling"
      ],
      "metadata": {
        "id": "tmj-BAQA-L2r"
      }
    },
    {
      "cell_type": "markdown",
      "source": [
        "Akan dilakukan *topic modelling* dengan metode LDA Matrix Decomposition untuk mengetahui topik-topik apa saja yang dibahas di dalam dokumen."
      ],
      "metadata": {
        "id": "2oiczoq6_ej9"
      }
    },
    {
      "cell_type": "code",
      "source": [
        "# Kita mulai dengan membuat VSM-nya\n",
        "from sklearn.feature_extraction.text import CountVectorizer\n",
        "tf_vectorizer = CountVectorizer()\n",
        "\n",
        "tf = tf_vectorizer.fit_transform(D)\n",
        "tf_terms = tf_vectorizer.get_feature_names_out()\n",
        "\n",
        "tf.shape"
      ],
      "metadata": {
        "colab": {
          "base_uri": "https://localhost:8080/"
        },
        "id": "SfC0oWEi6BDT",
        "outputId": "f4fe5c46-436f-4aab-b2be-63430c60ccad"
      },
      "execution_count": 54,
      "outputs": [
        {
          "output_type": "stream",
          "name": "stderr",
          "text": [
            "/usr/local/lib/python3.10/dist-packages/ipykernel/ipkernel.py:283: DeprecationWarning: `should_run_async` will not call `transform_cell` automatically in the future. Please pass the result to `transformed_cell` argument and any exception that happen during thetransform in `preprocessing_exc_tuple` in IPython 7.17 and above.\n",
            "  and should_run_async(code)\n"
          ]
        },
        {
          "output_type": "execute_result",
          "data": {
            "text/plain": [
              "(4701, 14118)"
            ]
          },
          "metadata": {},
          "execution_count": 54
        }
      ]
    },
    {
      "cell_type": "code",
      "source": [
        "tf_terms[0:15]"
      ],
      "metadata": {
        "colab": {
          "base_uri": "https://localhost:8080/"
        },
        "id": "pg3O_AHBRLkg",
        "outputId": "e454902a-ec3c-4a48-cc3c-8b4f5166566d"
      },
      "execution_count": 55,
      "outputs": [
        {
          "output_type": "stream",
          "name": "stderr",
          "text": [
            "/usr/local/lib/python3.10/dist-packages/ipykernel/ipkernel.py:283: DeprecationWarning: `should_run_async` will not call `transform_cell` automatically in the future. Please pass the result to `transformed_cell` argument and any exception that happen during thetransform in `preprocessing_exc_tuple` in IPython 7.17 and above.\n",
            "  and should_run_async(code)\n"
          ]
        },
        {
          "output_type": "execute_result",
          "data": {
            "text/plain": [
              "array(['aa', 'aac', 'aach', 'aaj', 'aalaamiin', 'aalamiin', 'aamiin',\n",
              "       'aamiinkan', 'aamiinn', 'aamin', 'aamir', 'aarekkhaan', 'ab',\n",
              "       'abad', 'abadi'], dtype=object)"
            ]
          },
          "metadata": {},
          "execution_count": 55
        }
      ]
    },
    {
      "cell_type": "code",
      "source": [
        "# Dilanjutkan dengan membentuk model LDA-nya\n",
        "from sklearn.decomposition import LatentDirichletAllocation as LDA\n",
        "\n",
        "n_topics = 4\n",
        "lda = LDA(n_components = n_topics, learning_method = 'batch', random_state = 0).fit(tf)\n",
        "lda"
      ],
      "metadata": {
        "colab": {
          "base_uri": "https://localhost:8080/",
          "height": 129
        },
        "id": "HZLvXOM3AmAX",
        "outputId": "17f3fa16-924d-4fd4-f8e7-e18480e5b1c5"
      },
      "execution_count": 56,
      "outputs": [
        {
          "output_type": "stream",
          "name": "stderr",
          "text": [
            "/usr/local/lib/python3.10/dist-packages/ipykernel/ipkernel.py:283: DeprecationWarning: `should_run_async` will not call `transform_cell` automatically in the future. Please pass the result to `transformed_cell` argument and any exception that happen during thetransform in `preprocessing_exc_tuple` in IPython 7.17 and above.\n",
            "  and should_run_async(code)\n"
          ]
        },
        {
          "output_type": "execute_result",
          "data": {
            "text/plain": [
              "LatentDirichletAllocation(n_components=4, random_state=0)"
            ],
            "text/html": [
              "<style>#sk-container-id-1 {color: black;background-color: white;}#sk-container-id-1 pre{padding: 0;}#sk-container-id-1 div.sk-toggleable {background-color: white;}#sk-container-id-1 label.sk-toggleable__label {cursor: pointer;display: block;width: 100%;margin-bottom: 0;padding: 0.3em;box-sizing: border-box;text-align: center;}#sk-container-id-1 label.sk-toggleable__label-arrow:before {content: \"▸\";float: left;margin-right: 0.25em;color: #696969;}#sk-container-id-1 label.sk-toggleable__label-arrow:hover:before {color: black;}#sk-container-id-1 div.sk-estimator:hover label.sk-toggleable__label-arrow:before {color: black;}#sk-container-id-1 div.sk-toggleable__content {max-height: 0;max-width: 0;overflow: hidden;text-align: left;background-color: #f0f8ff;}#sk-container-id-1 div.sk-toggleable__content pre {margin: 0.2em;color: black;border-radius: 0.25em;background-color: #f0f8ff;}#sk-container-id-1 input.sk-toggleable__control:checked~div.sk-toggleable__content {max-height: 200px;max-width: 100%;overflow: auto;}#sk-container-id-1 input.sk-toggleable__control:checked~label.sk-toggleable__label-arrow:before {content: \"▾\";}#sk-container-id-1 div.sk-estimator input.sk-toggleable__control:checked~label.sk-toggleable__label {background-color: #d4ebff;}#sk-container-id-1 div.sk-label input.sk-toggleable__control:checked~label.sk-toggleable__label {background-color: #d4ebff;}#sk-container-id-1 input.sk-hidden--visually {border: 0;clip: rect(1px 1px 1px 1px);clip: rect(1px, 1px, 1px, 1px);height: 1px;margin: -1px;overflow: hidden;padding: 0;position: absolute;width: 1px;}#sk-container-id-1 div.sk-estimator {font-family: monospace;background-color: #f0f8ff;border: 1px dotted black;border-radius: 0.25em;box-sizing: border-box;margin-bottom: 0.5em;}#sk-container-id-1 div.sk-estimator:hover {background-color: #d4ebff;}#sk-container-id-1 div.sk-parallel-item::after {content: \"\";width: 100%;border-bottom: 1px solid gray;flex-grow: 1;}#sk-container-id-1 div.sk-label:hover label.sk-toggleable__label {background-color: #d4ebff;}#sk-container-id-1 div.sk-serial::before {content: \"\";position: absolute;border-left: 1px solid gray;box-sizing: border-box;top: 0;bottom: 0;left: 50%;z-index: 0;}#sk-container-id-1 div.sk-serial {display: flex;flex-direction: column;align-items: center;background-color: white;padding-right: 0.2em;padding-left: 0.2em;position: relative;}#sk-container-id-1 div.sk-item {position: relative;z-index: 1;}#sk-container-id-1 div.sk-parallel {display: flex;align-items: stretch;justify-content: center;background-color: white;position: relative;}#sk-container-id-1 div.sk-item::before, #sk-container-id-1 div.sk-parallel-item::before {content: \"\";position: absolute;border-left: 1px solid gray;box-sizing: border-box;top: 0;bottom: 0;left: 50%;z-index: -1;}#sk-container-id-1 div.sk-parallel-item {display: flex;flex-direction: column;z-index: 1;position: relative;background-color: white;}#sk-container-id-1 div.sk-parallel-item:first-child::after {align-self: flex-end;width: 50%;}#sk-container-id-1 div.sk-parallel-item:last-child::after {align-self: flex-start;width: 50%;}#sk-container-id-1 div.sk-parallel-item:only-child::after {width: 0;}#sk-container-id-1 div.sk-dashed-wrapped {border: 1px dashed gray;margin: 0 0.4em 0.5em 0.4em;box-sizing: border-box;padding-bottom: 0.4em;background-color: white;}#sk-container-id-1 div.sk-label label {font-family: monospace;font-weight: bold;display: inline-block;line-height: 1.2em;}#sk-container-id-1 div.sk-label-container {text-align: center;}#sk-container-id-1 div.sk-container {/* jupyter's `normalize.less` sets `[hidden] { display: none; }` but bootstrap.min.css set `[hidden] { display: none !important; }` so we also need the `!important` here to be able to override the default hidden behavior on the sphinx rendered scikit-learn.org. See: https://github.com/scikit-learn/scikit-learn/issues/21755 */display: inline-block !important;position: relative;}#sk-container-id-1 div.sk-text-repr-fallback {display: none;}</style><div id=\"sk-container-id-1\" class=\"sk-top-container\"><div class=\"sk-text-repr-fallback\"><pre>LatentDirichletAllocation(n_components=4, random_state=0)</pre><b>In a Jupyter environment, please rerun this cell to show the HTML representation or trust the notebook. <br />On GitHub, the HTML representation is unable to render, please try loading this page with nbviewer.org.</b></div><div class=\"sk-container\" hidden><div class=\"sk-item\"><div class=\"sk-estimator sk-toggleable\"><input class=\"sk-toggleable__control sk-hidden--visually\" id=\"sk-estimator-id-1\" type=\"checkbox\" checked><label for=\"sk-estimator-id-1\" class=\"sk-toggleable__label sk-toggleable__label-arrow\">LatentDirichletAllocation</label><div class=\"sk-toggleable__content\"><pre>LatentDirichletAllocation(n_components=4, random_state=0)</pre></div></div></div></div></div>"
            ]
          },
          "metadata": {},
          "execution_count": 56
        }
      ]
    },
    {
      "cell_type": "code",
      "source": [
        "# Melihat topik-topiknya\n",
        "vsm_topics = lda.transform(tf)\n",
        "print(vsm_topics.shape)\n",
        "vsm_topics\n",
        "# Ukuran kolom = # Topics -> Dimension Reduction"
      ],
      "metadata": {
        "colab": {
          "base_uri": "https://localhost:8080/"
        },
        "id": "XTL3SiwgA_7h",
        "outputId": "b38de1cc-0f66-455d-dc38-c02c9248eec9"
      },
      "execution_count": 57,
      "outputs": [
        {
          "output_type": "stream",
          "name": "stderr",
          "text": [
            "/usr/local/lib/python3.10/dist-packages/ipykernel/ipkernel.py:283: DeprecationWarning: `should_run_async` will not call `transform_cell` automatically in the future. Please pass the result to `transformed_cell` argument and any exception that happen during thetransform in `preprocessing_exc_tuple` in IPython 7.17 and above.\n",
            "  and should_run_async(code)\n"
          ]
        },
        {
          "output_type": "stream",
          "name": "stdout",
          "text": [
            "(4701, 4)\n"
          ]
        },
        {
          "output_type": "execute_result",
          "data": {
            "text/plain": [
              "array([[0.00623923, 0.00601722, 0.00601298, 0.98173056],\n",
              "       [0.96646782, 0.01120672, 0.01107653, 0.01124893],\n",
              "       [0.71561799, 0.25583983, 0.01429942, 0.01424275],\n",
              "       ...,\n",
              "       [0.97218918, 0.00924245, 0.00923996, 0.00932841],\n",
              "       [0.01832552, 0.94432005, 0.01884166, 0.01851277],\n",
              "       [0.01594497, 0.01626619, 0.01504258, 0.95274626]])"
            ]
          },
          "metadata": {},
          "execution_count": 57
        }
      ]
    },
    {
      "cell_type": "code",
      "source": [
        "# Diasumsikan 1 dokumen hanya membahas 1 topik dengan nilai skor topik terbesar\n",
        "doc_topic =  [a.argmax() + 1 for a in tqdm(vsm_topics)] # Topic of documents\n",
        "doc_topic[:10]"
      ],
      "metadata": {
        "colab": {
          "base_uri": "https://localhost:8080/"
        },
        "id": "A0gg2jPKBKK7",
        "outputId": "5663de74-1e99-4e98-e18c-016080d4766f"
      },
      "execution_count": 58,
      "outputs": [
        {
          "output_type": "stream",
          "name": "stderr",
          "text": [
            "/usr/local/lib/python3.10/dist-packages/ipykernel/ipkernel.py:283: DeprecationWarning: `should_run_async` will not call `transform_cell` automatically in the future. Please pass the result to `transformed_cell` argument and any exception that happen during thetransform in `preprocessing_exc_tuple` in IPython 7.17 and above.\n",
            "  and should_run_async(code)\n",
            "100%|██████████| 4701/4701 [00:00<00:00, 531123.35it/s]\n"
          ]
        },
        {
          "output_type": "execute_result",
          "data": {
            "text/plain": [
              "[4, 1, 1, 1, 1, 4, 1, 1, 3, 3]"
            ]
          },
          "metadata": {},
          "execution_count": 58
        }
      ]
    },
    {
      "cell_type": "code",
      "source": [
        "# Mari kita plot\n",
        "counts = Counter(doc_topic)\n",
        "plt.bar(counts.keys(), counts.values())"
      ],
      "metadata": {
        "colab": {
          "base_uri": "https://localhost:8080/",
          "height": 506
        },
        "id": "nqLGqzxwBUd6",
        "outputId": "46330dda-fa2c-4e41-d0d3-212c12ef0cf8"
      },
      "execution_count": 59,
      "outputs": [
        {
          "output_type": "stream",
          "name": "stderr",
          "text": [
            "/usr/local/lib/python3.10/dist-packages/ipykernel/ipkernel.py:283: DeprecationWarning: `should_run_async` will not call `transform_cell` automatically in the future. Please pass the result to `transformed_cell` argument and any exception that happen during thetransform in `preprocessing_exc_tuple` in IPython 7.17 and above.\n",
            "  and should_run_async(code)\n"
          ]
        },
        {
          "output_type": "execute_result",
          "data": {
            "text/plain": [
              "<BarContainer object of 4 artists>"
            ]
          },
          "metadata": {},
          "execution_count": 59
        },
        {
          "output_type": "display_data",
          "data": {
            "text/plain": [
              "<Figure size 640x480 with 1 Axes>"
            ],
            "image/png": "[encoded data removed]"
          },
          "metadata": {}
        }
      ]
    },
    {
      "cell_type": "code",
      "source": [
        "# Mari kita coba maknai masing-masing topik ini\n",
        "Top_Words = 25\n",
        "print('Printing top {0} Topics, with top {1} Words:'.format(n_topics, Top_Words))\n",
        "tau.print_Topics(lda, tf_terms, n_topics, Top_Words)"
      ],
      "metadata": {
        "colab": {
          "base_uri": "https://localhost:8080/"
        },
        "id": "X0DrLWIkBmkd",
        "outputId": "342d94e3-2100-41e4-f078-22d7ef63a46f"
      },
      "execution_count": 60,
      "outputs": [
        {
          "output_type": "stream",
          "name": "stdout",
          "text": [
            "Printing top 4 Topics, with top 25 Words:\n",
            "Topic #1:\n",
            "virus corona orang china jokowi indonesia tinggal sakit anak jakarta air positif rumah covid pasien cina foto dunia anies obat mati temu jalan manusia rs\n",
            "Topic #2:\n",
            "jokowi indonesia presiden prabowo foto dukung pki video ahok jakarta islam suara anak kpu negara perintah pilih dki dunia warga agama rakyat kait sandi masuk\n",
            "Topic #3:\n",
            "indonesia tni hoax foto kerja polisi surat akun islam nama kait edar anggota pt polri berita aksi uang info muslim masyarakat mahasiswa laku bank facebook\n",
            "Topic #4:\n",
            "orang indonesia video tinggal anak bakar sebar china korban negara makan polisi rumah salah masuk air foto corona hati allah perintah rakyat arab nama pakai\n"
          ]
        },
        {
          "output_type": "stream",
          "name": "stderr",
          "text": [
            "/usr/local/lib/python3.10/dist-packages/ipykernel/ipkernel.py:283: DeprecationWarning: `should_run_async` will not call `transform_cell` automatically in the future. Please pass the result to `transformed_cell` argument and any exception that happen during thetransform in `preprocessing_exc_tuple` in IPython 7.17 and above.\n",
            "  and should_run_async(code)\n"
          ]
        }
      ]
    },
    {
      "cell_type": "code",
      "source": [
        "# %matplotlib inline\n",
        "# Mari kita plot, supaya lebih jelas\n",
        "# Catatan, bergantung dari laptop yang digunakan, image terkadang cukup lama untuk muncul\n",
        "pyLDAvis.enable_notebook()\n",
        "pyLDAvis.lda_model.prepare(lda, tf, tf_vectorizer, mds = \"mmds\")"
      ],
      "metadata": {
        "id": "l7Yl98_PB6VV",
        "colab": {
          "base_uri": "https://localhost:8080/",
          "height": 968
        },
        "outputId": "2bdd9297-fa07-4116-e155-52e5745c8340"
      },
      "execution_count": 61,
      "outputs": [
        {
          "output_type": "stream",
          "name": "stderr",
          "text": [
            "/usr/local/lib/python3.10/dist-packages/ipykernel/ipkernel.py:283: DeprecationWarning: `should_run_async` will not call `transform_cell` automatically in the future. Please pass the result to `transformed_cell` argument and any exception that happen during thetransform in `preprocessing_exc_tuple` in IPython 7.17 and above.\n",
            "  and should_run_async(code)\n",
            "/usr/local/lib/python3.10/dist-packages/pandas/core/dtypes/cast.py:1641: DeprecationWarning: np.find_common_type is deprecated.  Please use `np.result_type` or `np.promote_types`.\n",
            "See https://numpy.org/devdocs/release/1.25.0-notes.html and the docs for more information.  (Deprecated NumPy 1.25)\n",
            "  return np.find_common_type(types, [])\n"
          ]
        },
        {
          "output_type": "execute_result",
          "data": {
            "text/plain": [
              "PreparedData(topic_coordinates=              x         y  topics  cluster       Freq\n",
              "topic                                                \n",
              "1     -0.110333 -0.095558       1        1  27.836134\n",
              "0     -0.072883  0.141820       2        1  24.531901\n",
              "2      0.091389 -0.118663       3        1  24.222830\n",
              "3      0.091827  0.072401       4        1  23.409134, topic_info=          Term        Freq       Total Category  logprob  loglift\n",
              "13582    virus  389.000000  389.000000  Default  30.0000  30.0000\n",
              "2484    corona  409.000000  409.000000  Default  29.0000  29.0000\n",
              "5544    jokowi  620.000000  620.000000  Default  28.0000  28.0000\n",
              "9980   prabowo  244.000000  244.000000  Default  27.0000  27.0000\n",
              "13015      tni  184.000000  184.000000  Default  26.0000  26.0000\n",
              "...        ...         ...         ...      ...      ...      ...\n",
              "2484    corona   66.980132  409.787931   Topic4  -5.8664  -0.3592\n",
              "3798      foto   69.611822  508.457184   Topic4  -5.8279  -0.5364\n",
              "1106     bantu   55.399873  163.497078   Topic4  -6.0562   0.3698\n",
              "8443      nama   58.949402  244.926601   Topic4  -5.9941   0.0278\n",
              "5218     islam   55.765457  271.239345   Topic4  -6.0496  -0.1298\n",
              "\n",
              "[339 rows x 6 columns], token_table=       Topic      Freq     Term\n",
              "term                           \n",
              "28         1  0.894296    abdul\n",
              "28         2  0.033122    abdul\n",
              "28         4  0.033122    abdul\n",
              "56         1  0.668996    acara\n",
              "56         2  0.087737    acara\n",
              "...      ...       ...      ...\n",
              "13718      3  0.213056    warga\n",
              "13718      4  0.204861    warga\n",
              "13778      1  0.963929  website\n",
              "13840      1  0.957487  wiranto\n",
              "13918      2  0.981110    wuhan\n",
              "\n",
              "[619 rows x 3 columns], R=30, lambda_step=0.01, plot_opts={'xlab': 'PC1', 'ylab': 'PC2'}, topic_order=[2, 1, 3, 4])"
            ],
            "text/html": [
              "\n",
              "<link rel=\"stylesheet\" type=\"text/css\" href=\"https://cdn.jsdelivr.net/gh/bmabey/pyLDAvis@3.4.0/pyLDAvis/js/ldavis.v1.0.0.css\">\n",
              "\n",
              "\n",
              "<div id=\"ldavis_el55266138920852645344547888188\" style=\"background-color:white;\"></div>\n",
              "<script type=\"text/javascript\">\n",
              "\n",
              "var ldavis_el55266138920852645344547888188_data = {\"mdsDat\": {\"x\": [-0.11033340349118903, -0.07288285258798556, 0.09138938117548985, 0.09182687490368471], \"y\": [-0.09555777416228478, 0.14182041995855416, -0.11866341635509088, 0.07240077055882149], \"topics\": [1, 2, 3, 4], \"cluster\": [1, 1, 1, 1], \"Freq\": [27.83613440468332, 24.53190144781167, 24.222830322646693, 23.409133824858312]}, \"tinfo\": {\"Term\": [\"virus\", \"corona\", \"jokowi\", \"prabowo\", \"tni\", \"dukung\", \"pki\", \"sakit\", \"positif\", \"ahok\", \"pasien\", \"tinggal\", \"polri\", \"akun\", \"kpu\", \"presiden\", \"covid\", \"air\", \"orang\", \"obat\", \"mahasiswa\", \"bakar\", \"suara\", \"pt\", \"anies\", \"anggota\", \"rs\", \"hoax\", \"aksi\", \"bank\", \"curang\", \"megawati\", \"erdogan\", \"sunting\", \"wiranto\", \"somad\", \"subianto\", \"ruf\", \"meme\", \"emak\", \"basuki\", \"maruf\", \"mahfud\", \"prabowo\", \"azan\", \"ratna\", \"keren\", \"website\", \"pilpres\", \"pdip\", \"prancis\", \"dayak\", \"sarumpaet\", \"kutuk\", \"dukung\", \"pilkada\", \"mpr\", \"ganjil\", \"genap\", \"bir\", \"turki\", \"usul\", \"pki\", \"kpu\", \"abdul\", \"djarot\", \"google\", \"sandi\", \"jokowi\", \"suara\", \"amin\", \"palestina\", \"presiden\", \"partai\", \"dpr\", \"pasang\", \"ruu\", \"ahok\", \"pilih\", \"sekolah\", \"dki\", \"foto\", \"acara\", \"joko\", \"menang\", \"indonesia\", \"ketua\", \"video\", \"islam\", \"jakarta\", \"agama\", \"negara\", \"perintah\", \"anak\", \"ri\", \"rakyat\", \"dunia\", \"warga\", \"kait\", \"hasil\", \"masuk\", \"masjid\", \"berita\", \"anies\", \"nama\", \"pasien\", \"wuhan\", \"mayat\", \"singapura\", \"mulyani\", \"matahari\", \"organ\", \"isolasi\", \"positif\", \"cuci\", \"korona\", \"stroke\", \"kabinet\", \"jangkit\", \"tempel\", \"gaza\", \"vietnam\", \"mandi\", \"global\", \"daun\", \"obat\", \"serangga\", \"flu\", \"jantung\", \"batuk\", \"lift\", \"sm\", \"iq\", \"nadiem\", \"banjir\", \"virus\", \"sembuh\", \"madam\", \"kapal\", \"rs\", \"corona\", \"ikan\", \"racun\", \"bayi\", \"derita\", \"bencana\", \"kanker\", \"sakit\", \"covid\", \"wanita\", \"dokter\", \"bumi\", \"medis\", \"usia\", \"manusia\", \"laut\", \"bahaya\", \"air\", \"tinggal\", \"china\", \"minum\", \"tubuh\", \"orang\", \"anies\", \"anak\", \"cina\", \"rumah\", \"jakarta\", \"jokowi\", \"indonesia\", \"temu\", \"keluarga\", \"dunia\", \"mati\", \"jalan\", \"nyata\", \"dr\", \"menteri\", \"foto\", \"warga\", \"info\", \"video\", \"tni\", \"cpns\", \"panglima\", \"seleksi\", \"lowong\", \"brimob\", \"kominfo\", \"tito\", \"registrasi\", \"instagram\", \"roti\", \"mca\", \"erick\", \"nik\", \"humas\", \"kuota\", \"demonstran\", \"lelang\", \"peran\", \"bi\", \"susup\", \"densus\", \"lamar\", \"sweeping\", \"gadai\", \"semut\", \"waras\", \"provokasi\", \"diy\", \"tuan\", \"polri\", \"pertamina\", \"mahasiswa\", \"bocor\", \"bank\", \"haji\", \"intelijen\", \"persero\", \"anggota\", \"bupati\", \"pt\", \"rekrutmen\", \"sim\", \"polda\", \"akun\", \"kpk\", \"hoax\", \"demo\", \"calon\", \"kerja\", \"guru\", \"surat\", \"hoaks\", \"facebook\", \"aksi\", \"polisi\", \"edar\", \"indonesia\", \"kait\", \"masyarakat\", \"muslim\", \"foto\", \"uang\", \"nama\", \"islam\", \"info\", \"laku\", \"berita\", \"tangkap\", \"informasi\", \"ahok\", \"cina\", \"video\", \"orang\", \"gunung\", \"begal\", \"terminal\", \"bri\", \"lampung\", \"donasi\", \"indomaret\", \"ampun\", \"telepon\", \"voucher\", \"chat\", \"hiv\", \"porno\", \"baby\", \"jarum\", \"moral\", \"lion\", \"sadis\", \"sudjiatmi\", \"dapur\", \"kantong\", \"firza\", \"aqua\", \"bpom\", \"letus\", \"kalong\", \"lutfi\", \"panjaitan\", \"ganja\", \"mangga\", \"garam\", \"mudik\", \"game\", \"kaleng\", \"lockdown\", \"bensin\", \"akal\", \"jajah\", \"bpjs\", \"saudi\", \"babi\", \"hp\", \"mesjid\", \"rokok\", \"bakar\", \"kubur\", \"korban\", \"arab\", \"orang\", \"vaksin\", \"gila\", \"rizieq\", \"tinggal\", \"malam\", \"sebar\", \"makan\", \"video\", \"gak\", \"main\", \"hati\", \"doa\", \"anak\", \"salah\", \"indonesia\", \"air\", \"negara\", \"allah\", \"rumah\", \"moga\", \"polisi\", \"china\", \"masuk\", \"pakai\", \"rakyat\", \"perintah\", \"hasil\", \"masjid\", \"muslim\", \"corona\", \"foto\", \"bantu\", \"nama\", \"islam\"], \"Freq\": [389.0, 409.0, 620.0, 244.0, 184.0, 191.0, 198.0, 172.0, 98.0, 183.0, 82.0, 300.0, 92.0, 150.0, 116.0, 363.0, 108.0, 183.0, 473.0, 77.0, 82.0, 155.0, 135.0, 116.0, 138.0, 110.0, 78.0, 251.0, 144.0, 83.0, 61.62653516552313, 40.05100967562888, 26.032450149996215, 24.248862762410198, 23.35865433633787, 23.35794233385189, 20.676266230498793, 22.38159794881736, 17.130346898494523, 16.234874282499234, 16.22611362085604, 38.42054113317622, 15.347096907255375, 234.15097545673117, 14.461468349624175, 13.572106911571344, 12.674166975363352, 11.792107223420818, 57.27045345781533, 58.8221750596833, 10.904586220032643, 10.903303654492198, 10.901758894517737, 10.882765400673515, 179.56709093760617, 27.505620042865832, 10.807903517909287, 9.123734048366288, 9.122488735824634, 9.073136365851386, 37.95003921105412, 17.93170513594912, 169.36128825234007, 99.0958808353922, 27.10292293874996, 27.012419694366823, 31.985192490387238, 69.38683438753394, 424.18092351354755, 105.36248235392436, 60.40837739815111, 49.47755886850487, 239.1541762017053, 54.62367243529373, 51.055652393894704, 59.47499867864943, 26.452409663211196, 115.96244668798684, 85.37741144005496, 60.933719752408585, 82.18289894587859, 222.09546309133307, 61.246772172901856, 42.08588654824519, 68.76404844754008, 248.8874551959728, 54.96851816839896, 154.06673493974148, 113.59385248547257, 114.36649480968043, 74.05785827327892, 98.42710504423654, 91.16620165893201, 99.54466626983843, 61.898583286008595, 73.94625117046454, 75.50690874798289, 75.04113090690299, 70.16294326190051, 67.27339777523503, 68.78419862909055, 64.37654341728161, 66.09402805887463, 63.01101940405519, 63.568021128410024, 81.45319646020653, 42.14253376589812, 37.76614194684594, 27.28187743593932, 24.670726716209842, 23.738365849885124, 18.549123309609804, 19.37148091356091, 94.60754310538397, 14.189868389668977, 14.178532820676834, 14.17492747554991, 14.154983420150854, 13.318651354506178, 12.427891305341864, 11.574894499658678, 11.5688468736189, 11.566999123330325, 10.692130821674105, 10.691317900670795, 72.91110545905453, 9.827733106242833, 9.825131407526229, 25.353036681654306, 8.951843303841699, 8.949803981889168, 8.928463966171153, 8.080589105795884, 8.080287116647943, 37.167013871991, 358.23346562230694, 46.67209184568495, 18.407423846132204, 33.20486095336644, 68.98274774444488, 341.9723983674319, 43.48008251245322, 35.90059105690079, 54.10637097563346, 29.0588903620007, 35.733177930466944, 55.52558031469338, 131.9027661353742, 85.37388030754781, 63.08949070694286, 56.80337175351708, 41.78333698777979, 35.45347323183789, 34.9997509853383, 69.6798507313795, 47.870833100821905, 58.44496203742554, 99.77960534994548, 139.22335987260908, 148.70833346669374, 53.90807698787344, 48.215850375954524, 161.5732393513582, 73.58802695129401, 130.34082911476804, 79.9908282546776, 90.2933881617724, 102.4515121399568, 144.26781889143663, 143.0411470644093, 71.67975696104946, 57.89258274473226, 77.28559282225713, 72.46861637998242, 71.45526919703227, 61.79396514350478, 64.26822761725415, 63.73102159478351, 79.14844565578962, 67.40771003486, 66.09066296198213, 63.66068454930483, 183.75519932588207, 44.249940283772254, 37.187662824228156, 35.4369046573079, 33.67483544513703, 22.17184784325437, 21.311360590777305, 16.93785725028342, 17.693404157804608, 14.304301308574047, 13.427460097675105, 13.424864659217295, 12.541129036784433, 12.538917805762127, 30.909767902779514, 12.508131749082192, 11.66559501609663, 11.664402087739335, 11.663090358182851, 11.660061252537087, 11.65770707568811, 11.655125512981234, 10.787663782544893, 10.786373741992334, 10.783669186940054, 10.77560620243987, 10.761270954297032, 9.89881676608492, 9.897997593414537, 9.895400164202092, 84.79083163592819, 22.845387993137173, 74.20982492672972, 34.81076193615982, 70.95545707967061, 52.12354396104123, 13.12047041065193, 16.872445294421098, 87.16672451490257, 22.517057079041454, 86.34416132912, 16.626383222439088, 37.59553683775043, 29.46339486372534, 100.84316770655464, 41.650510538072226, 144.38855499103042, 58.15294349188817, 42.44814433164164, 122.3088328624764, 40.586063976181485, 102.2285558831011, 51.615073612343245, 69.86376252752261, 81.85434912145244, 116.39967456514461, 87.70149228435238, 209.65873405338326, 88.2472716013124, 74.32609796318913, 74.65862448139696, 137.601453181944, 81.25628406562328, 90.43437901713996, 91.44121600069093, 79.82822373661497, 73.55432892486485, 82.79845899176028, 65.30400209186291, 63.76541994667608, 67.11482772330834, 59.47458183592059, 66.32097995372085, 67.00783608788477, 48.35971707009105, 37.32211096311638, 19.18324183558116, 18.321351350599734, 17.4645737389268, 14.885562942904675, 14.023259397750213, 16.49350329464088, 14.01922586592361, 14.011800148748764, 13.149247403656526, 12.299296678858559, 13.113103859096258, 11.437018959563597, 11.418352690874356, 11.407527764396429, 10.564642707833489, 9.705877034378775, 9.705552223051775, 8.844947643457655, 8.841838939501516, 10.446514950368586, 8.83699694389377, 8.824918778833572, 14.385993565336944, 7.983302548699118, 7.981471491986907, 7.977568341526001, 7.977297987822359, 7.968612058067759, 23.87009308297914, 18.784228698917744, 23.90280098445784, 15.614829935282112, 42.672924368234916, 20.032425207726643, 13.319992156074608, 18.866585891295053, 25.900279250494826, 53.25561971383468, 40.99449385814759, 43.00035643483768, 22.963852647701177, 24.04961509150107, 98.04846833502522, 35.38882751495299, 85.54680197522505, 62.12316038712854, 195.17604741912717, 40.22522977556653, 29.969544115291974, 42.23192586557368, 123.32631680678078, 57.68373904864546, 89.61455985541663, 81.11195647403251, 146.51520968778973, 50.29119166067252, 44.150714419805034, 65.64137729768909, 41.06638946540854, 114.10920131706564, 71.93959884522876, 167.9604189468551, 70.0257337440019, 83.49930312509582, 64.9346614567362, 73.5733523527492, 52.57493545423789, 74.32916716395476, 85.89238491843075, 71.54766372255294, 57.69193814508063, 62.26989859306115, 64.89472569592218, 57.19506418835401, 55.10687464800047, 55.107143992477766, 66.98013213012231, 69.6118223446711, 55.39987294172348, 58.94940150299752, 55.76545705460917], \"Total\": [389.0, 409.0, 620.0, 244.0, 184.0, 191.0, 198.0, 172.0, 98.0, 183.0, 82.0, 300.0, 92.0, 150.0, 116.0, 363.0, 108.0, 183.0, 473.0, 77.0, 82.0, 155.0, 135.0, 116.0, 138.0, 110.0, 78.0, 251.0, 144.0, 83.0, 62.2983745055141, 40.93036417311953, 26.691801398802156, 24.911391840640437, 24.021214518354938, 24.021169771793808, 21.350578404406388, 23.130070118196922, 17.790026682574823, 16.899861984178557, 16.899695956054064, 40.03318153717979, 16.00969122743384, 244.61133511276077, 15.119570176039662, 14.229398521962972, 13.339019585899436, 12.449051882379198, 60.470484107106266, 62.26830928878883, 11.558956630703902, 11.55894285045896, 11.558890313582253, 11.55850146055866, 191.25385385195003, 29.34944776197725, 11.556148945954535, 9.778602301902962, 9.778581130061776, 9.77727220752993, 41.790221311064144, 19.552162174309043, 198.57227177095595, 116.41574639125997, 30.191331984276594, 30.21646171840627, 36.419658034374166, 85.20903146343557, 620.8183722718754, 135.32294281933736, 73.52669948197091, 59.45641643334402, 363.3827840268784, 70.14908123192937, 64.82697128384252, 77.9587198313856, 30.205595573514678, 183.52699553369953, 129.0277145577922, 87.61371426284538, 130.91923297088212, 508.4571842737378, 91.18139557747996, 54.80479048181683, 109.59830975533814, 769.5477552606205, 84.10599139264303, 430.56360913055687, 271.23934513274, 294.1021342661734, 140.72726654501872, 284.2843141195794, 261.6548521852228, 375.4974301218593, 108.7493306697066, 195.60452216691584, 213.12651779256217, 244.0677575055549, 199.9386178068154, 169.31198981549846, 234.81368429569477, 152.77274894360352, 252.85129968999806, 138.33597693369654, 244.92660079631074, 82.11977060026416, 42.80865929550008, 38.44082931688223, 27.957917301990776, 25.33720158210935, 24.46285532073835, 19.222194973573213, 20.09490972004329, 98.67695349659766, 14.854154412935104, 14.854138284032173, 14.854152471571457, 14.854756086741535, 13.980601554355948, 13.106872409035187, 12.233419420677642, 12.23349484463824, 12.233421384961703, 11.359914868187877, 11.35990955433954, 77.70221214773626, 10.486260749315898, 10.486277047052553, 27.091395775288362, 9.612685573040144, 9.612753221482492, 9.61289088358098, 8.739102023112695, 8.739104425396011, 40.214123618672346, 389.2537445788914, 50.631342762165524, 20.083507945090197, 36.74216937174146, 78.52081257294883, 409.7879310885738, 48.88367355600895, 40.14482126607383, 61.941023181090536, 32.33406401691436, 40.259808912111744, 64.54742164809802, 172.54238334219195, 108.08094632899152, 78.65553367559545, 72.40836931790426, 51.58171658396895, 42.81681051339683, 42.87891555329669, 98.73404099033121, 64.00549144192124, 86.34248980786, 183.7084843712887, 300.3908695989259, 331.2215702755585, 79.20779290091923, 68.79705772722153, 473.46322853746597, 138.33597693369654, 375.4974301218593, 168.11237653072965, 226.11594964579706, 294.1021342661734, 620.8183722718754, 769.5477552606205, 164.86659176545498, 100.69752426466431, 213.12651779256217, 186.44172941705082, 188.0514382995566, 122.03336465440587, 142.32975135680732, 140.4476836596895, 508.4571842737378, 244.0677575055549, 214.34084018842722, 430.56360913055687, 184.93309722213007, 44.908246069364075, 37.86325817884097, 36.10200814357202, 34.34064539883777, 22.89305275494465, 22.012282459806546, 17.60873280781108, 18.490860853661626, 14.966845766409417, 14.086318163932697, 14.086288436548212, 13.205742480165325, 13.205470984942089, 32.582893082824114, 13.205366306959645, 12.325043836333958, 12.325019206050033, 12.32498264260219, 12.325001246384694, 12.324993917617467, 12.324833014227206, 11.444414414924871, 11.444419644778193, 11.444386608359057, 11.444297644908406, 11.44425812892326, 10.5637559309353, 10.563656228458873, 10.563806822178071, 92.53395642294342, 24.66611040076601, 82.8602062264793, 38.71764860392402, 83.48873482738588, 60.61499060144533, 14.08391368264994, 18.4817505008045, 110.95101778812977, 25.55973780064574, 116.09814292536664, 18.47975091527205, 47.368798327693796, 35.983628294377624, 150.6388657383383, 55.618357579696216, 251.00404886136357, 85.20351478166651, 58.27804306724707, 215.77989134070282, 56.10668882007843, 183.00055337991066, 77.39395552698727, 115.05709351849164, 144.8737319329367, 241.723307013406, 178.59962433788453, 769.5477552606205, 199.9386178068154, 152.80981028507364, 159.24210344581758, 508.4571842737378, 195.11936792205853, 244.92660079631074, 271.23934513274, 214.34084018842722, 185.02272721341663, 252.85129968999806, 148.52055500005616, 148.32043332536307, 183.52699553369953, 168.11237653072965, 430.56360913055687, 473.46322853746597, 49.21832259268397, 37.99351178467599, 19.867082717471874, 19.003972652924972, 18.14070623529005, 15.550878017520528, 14.68774809960981, 17.279628901849154, 14.687815481956386, 14.68783173228464, 13.82476925006782, 12.961312203252563, 13.82559149568876, 12.098128828380869, 12.098442237918968, 12.098802851121585, 11.235157071892163, 10.371864542489078, 10.371869597444167, 9.508642800931648, 9.508712735788441, 11.237528756238339, 9.508919110007573, 9.508954489816173, 15.566519821808392, 8.645471250061783, 8.645528619254533, 8.645615631075016, 8.645524542018286, 8.645632143008354, 25.92550432777445, 20.769939262390807, 26.799406232328515, 17.289294931911765, 49.28550375887989, 22.477478791679612, 14.696477764127836, 21.638167965270366, 31.16611774402515, 71.1095107211766, 52.83675436816698, 56.38707076196647, 27.746600925327776, 29.417702262500416, 155.83742565777217, 47.723174692508024, 152.13218393611777, 101.86472257825187, 473.46322853746597, 59.79799815703271, 40.81233239761346, 65.19523032708324, 300.3908695989259, 108.02990484520237, 203.9968034073562, 178.38060503086507, 430.56360913055687, 92.57564648650128, 76.71865354820457, 144.71257260349128, 71.19978903231345, 375.4974301218593, 180.95446426731206, 769.5477552606205, 183.7084843712887, 284.2843141195794, 177.62178396293663, 226.11594964579706, 119.3183726260575, 241.723307013406, 331.2215702755585, 234.81368429569477, 157.55139782386232, 195.60452216691584, 261.6548521852228, 169.31198981549846, 152.77274894360352, 159.24210344581758, 409.7879310885738, 508.4571842737378, 163.49707760986558, 244.92660079631074, 271.23934513274], \"Category\": [\"Default\", \"Default\", \"Default\", \"Default\", \"Default\", \"Default\", \"Default\", \"Default\", \"Default\", \"Default\", \"Default\", \"Default\", \"Default\", \"Default\", \"Default\", \"Default\", \"Default\", \"Default\", \"Default\", \"Default\", \"Default\", \"Default\", \"Default\", \"Default\", \"Default\", \"Default\", \"Default\", \"Default\", \"Default\", \"Default\", \"Topic1\", \"Topic1\", \"Topic1\", \"Topic1\", \"Topic1\", \"Topic1\", \"Topic1\", \"Topic1\", \"Topic1\", \"Topic1\", \"Topic1\", \"Topic1\", \"Topic1\", \"Topic1\", \"Topic1\", \"Topic1\", \"Topic1\", \"Topic1\", \"Topic1\", \"Topic1\", \"Topic1\", \"Topic1\", \"Topic1\", \"Topic1\", \"Topic1\", \"Topic1\", \"Topic1\", \"Topic1\", \"Topic1\", \"Topic1\", \"Topic1\", \"Topic1\", \"Topic1\", \"Topic1\", \"Topic1\", \"Topic1\", \"Topic1\", \"Topic1\", \"Topic1\", \"Topic1\", \"Topic1\", \"Topic1\", \"Topic1\", \"Topic1\", \"Topic1\", \"Topic1\", \"Topic1\", \"Topic1\", \"Topic1\", \"Topic1\", \"Topic1\", \"Topic1\", \"Topic1\", \"Topic1\", \"Topic1\", \"Topic1\", \"Topic1\", \"Topic1\", \"Topic1\", \"Topic1\", \"Topic1\", \"Topic1\", \"Topic1\", \"Topic1\", \"Topic1\", \"Topic1\", \"Topic1\", \"Topic1\", \"Topic1\", \"Topic1\", \"Topic1\", \"Topic1\", \"Topic1\", \"Topic1\", \"Topic1\", \"Topic2\", \"Topic2\", \"Topic2\", \"Topic2\", \"Topic2\", \"Topic2\", \"Topic2\", \"Topic2\", \"Topic2\", \"Topic2\", \"Topic2\", \"Topic2\", \"Topic2\", \"Topic2\", \"Topic2\", \"Topic2\", \"Topic2\", \"Topic2\", \"Topic2\", \"Topic2\", \"Topic2\", \"Topic2\", \"Topic2\", \"Topic2\", \"Topic2\", \"Topic2\", \"Topic2\", \"Topic2\", \"Topic2\", \"Topic2\", \"Topic2\", \"Topic2\", \"Topic2\", \"Topic2\", \"Topic2\", \"Topic2\", \"Topic2\", \"Topic2\", \"Topic2\", \"Topic2\", \"Topic2\", \"Topic2\", \"Topic2\", \"Topic2\", \"Topic2\", \"Topic2\", \"Topic2\", \"Topic2\", \"Topic2\", \"Topic2\", \"Topic2\", \"Topic2\", \"Topic2\", \"Topic2\", \"Topic2\", \"Topic2\", \"Topic2\", \"Topic2\", \"Topic2\", \"Topic2\", \"Topic2\", \"Topic2\", \"Topic2\", \"Topic2\", \"Topic2\", \"Topic2\", \"Topic2\", \"Topic2\", \"Topic2\", \"Topic2\", \"Topic2\", \"Topic2\", \"Topic2\", \"Topic2\", \"Topic2\", \"Topic2\", \"Topic2\", \"Topic3\", \"Topic3\", \"Topic3\", \"Topic3\", \"Topic3\", \"Topic3\", \"Topic3\", \"Topic3\", \"Topic3\", \"Topic3\", \"Topic3\", \"Topic3\", \"Topic3\", \"Topic3\", \"Topic3\", \"Topic3\", \"Topic3\", \"Topic3\", \"Topic3\", \"Topic3\", \"Topic3\", \"Topic3\", \"Topic3\", \"Topic3\", \"Topic3\", \"Topic3\", \"Topic3\", \"Topic3\", \"Topic3\", \"Topic3\", \"Topic3\", \"Topic3\", \"Topic3\", \"Topic3\", \"Topic3\", \"Topic3\", \"Topic3\", \"Topic3\", \"Topic3\", \"Topic3\", \"Topic3\", \"Topic3\", \"Topic3\", \"Topic3\", \"Topic3\", \"Topic3\", \"Topic3\", \"Topic3\", \"Topic3\", \"Topic3\", \"Topic3\", \"Topic3\", \"Topic3\", \"Topic3\", \"Topic3\", \"Topic3\", \"Topic3\", \"Topic3\", \"Topic3\", \"Topic3\", \"Topic3\", \"Topic3\", \"Topic3\", \"Topic3\", \"Topic3\", \"Topic3\", \"Topic3\", \"Topic3\", \"Topic3\", \"Topic3\", \"Topic3\", \"Topic3\", \"Topic3\", \"Topic3\", \"Topic4\", \"Topic4\", \"Topic4\", \"Topic4\", \"Topic4\", \"Topic4\", \"Topic4\", \"Topic4\", \"Topic4\", \"Topic4\", \"Topic4\", \"Topic4\", \"Topic4\", \"Topic4\", \"Topic4\", \"Topic4\", \"Topic4\", \"Topic4\", \"Topic4\", \"Topic4\", \"Topic4\", \"Topic4\", \"Topic4\", \"Topic4\", \"Topic4\", \"Topic4\", \"Topic4\", \"Topic4\", \"Topic4\", \"Topic4\", \"Topic4\", \"Topic4\", \"Topic4\", \"Topic4\", \"Topic4\", \"Topic4\", \"Topic4\", \"Topic4\", \"Topic4\", \"Topic4\", \"Topic4\", \"Topic4\", \"Topic4\", \"Topic4\", \"Topic4\", \"Topic4\", \"Topic4\", \"Topic4\", \"Topic4\", \"Topic4\", \"Topic4\", \"Topic4\", \"Topic4\", \"Topic4\", \"Topic4\", \"Topic4\", \"Topic4\", \"Topic4\", \"Topic4\", \"Topic4\", \"Topic4\", \"Topic4\", \"Topic4\", \"Topic4\", \"Topic4\", \"Topic4\", \"Topic4\", \"Topic4\", \"Topic4\", \"Topic4\", \"Topic4\", \"Topic4\", \"Topic4\", \"Topic4\", \"Topic4\", \"Topic4\", \"Topic4\", \"Topic4\", \"Topic4\", \"Topic4\", \"Topic4\", \"Topic4\", \"Topic4\"], \"logprob\": [30.0, 29.0, 28.0, 27.0, 26.0, 25.0, 24.0, 23.0, 22.0, 21.0, 20.0, 19.0, 18.0, 17.0, 16.0, 15.0, 14.0, 13.0, 12.0, 11.0, 10.0, 9.0, 8.0, 7.0, 6.0, 5.0, 4.0, 3.0, 2.0, 1.0, -6.1229, -6.5538, -6.9847, -7.0556, -7.093, -7.0931, -7.215, -7.1358, -7.4031, -7.4568, -7.4574, -6.5954, -7.5131, -4.788, -7.5725, -7.636, -7.7044, -7.7766, -6.1962, -6.1695, -7.8548, -7.8549, -7.8551, -7.8568, -5.0535, -6.9296, -7.8637, -8.0331, -8.0333, -8.0387, -6.6077, -7.3574, -5.112, -5.6479, -6.9444, -6.9477, -6.7787, -6.0043, -4.1938, -5.5866, -6.1429, -6.3425, -4.7669, -6.2435, -6.3111, -6.1584, -6.9687, -5.4907, -5.7969, -6.1342, -5.8351, -4.8409, -6.1291, -6.5043, -6.0133, -4.727, -6.2372, -5.2066, -5.5114, -5.5046, -5.9392, -5.6547, -5.7313, -5.6434, -6.1185, -5.9407, -5.9198, -5.926, -5.9932, -6.0352, -6.013, -6.0793, -6.0529, -6.1007, -6.0919, -5.7176, -6.3766, -6.4862, -6.8114, -6.912, -6.9505, -7.1972, -7.1538, -5.5679, -7.4651, -7.4659, -7.4662, -7.4676, -7.5285, -7.5977, -7.6688, -7.6693, -7.6695, -7.7481, -7.7482, -5.8284, -7.8324, -7.8327, -6.8847, -7.9258, -7.926, -7.9284, -8.0282, -8.0282, -6.5022, -4.2365, -6.2745, -7.2049, -6.6149, -5.8838, -4.2829, -6.3453, -6.5369, -6.1267, -6.7483, -6.5416, -6.1008, -5.2356, -5.6706, -5.9731, -6.078, -6.3851, -6.5494, -6.5623, -5.8737, -6.2491, -6.0496, -5.5147, -5.1816, -5.1157, -6.1304, -6.242, -5.0327, -5.8192, -5.2475, -5.7357, -5.6146, -5.4883, -5.146, -5.1545, -5.8454, -6.0591, -5.7701, -5.8345, -5.8486, -5.9938, -5.9546, -5.963, -5.7463, -5.9069, -5.9266, -5.9641, -4.8914, -6.3151, -6.489, -6.5372, -6.5882, -7.0061, -7.0457, -7.2754, -7.2318, -7.4444, -7.5077, -7.5079, -7.5759, -7.5761, -6.6739, -7.5786, -7.6483, -7.6484, -7.6485, -7.6488, -7.649, -7.6492, -7.7266, -7.7267, -7.7269, -7.7277, -7.729, -7.8125, -7.8126, -7.8129, -5.6648, -6.9762, -5.7981, -6.555, -5.8429, -6.1513, -7.5308, -7.2793, -5.6371, -6.9907, -5.6466, -7.294, -6.4781, -6.7218, -5.4914, -6.3756, -5.1325, -6.0419, -6.3567, -5.2984, -6.4015, -5.4778, -6.1611, -5.8584, -5.7, -5.3479, -5.631, -4.7595, -5.6248, -5.7965, -5.792, -5.1806, -5.7074, -5.6003, -5.5893, -5.7251, -5.8069, -5.6886, -5.9259, -5.9498, -5.8986, -6.0194, -5.9105, -5.9002, -6.1921, -6.4512, -7.1168, -7.1627, -7.2106, -7.3704, -7.4301, -7.2678, -7.4304, -7.4309, -7.4944, -7.5613, -7.4972, -7.6339, -7.6356, -7.6365, -7.7133, -7.7981, -7.7981, -7.8909, -7.8913, -7.7245, -7.8918, -7.8932, -7.4045, -7.9934, -7.9937, -7.9942, -7.9942, -7.9953, -6.8982, -7.1378, -6.8968, -7.3226, -6.3172, -7.0734, -7.4815, -7.1334, -6.8165, -6.0957, -6.3574, -6.3096, -6.9369, -6.8907, -5.4853, -6.5044, -5.6217, -5.9417, -4.7969, -6.3763, -6.6706, -6.3276, -5.256, -6.0158, -5.5753, -5.675, -5.0837, -6.153, -6.2832, -5.8866, -6.3556, -5.3336, -5.795, -4.9471, -5.8219, -5.646, -5.8974, -5.7725, -6.1086, -5.7623, -5.6177, -5.8004, -6.0157, -5.9393, -5.898, -6.0243, -6.0615, -6.0615, -5.8664, -5.8279, -6.0562, -5.9941, -6.0496], \"loglift\": [30.0, 29.0, 28.0, 27.0, 26.0, 25.0, 24.0, 23.0, 22.0, 21.0, 20.0, 19.0, 18.0, 17.0, 16.0, 15.0, 14.0, 13.0, 12.0, 11.0, 10.0, 9.0, 8.0, 7.0, 6.0, 5.0, 4.0, 3.0, 2.0, 1.0, 1.268, 1.2571, 1.2538, 1.2519, 1.2509, 1.2508, 1.2467, 1.2459, 1.241, 1.2387, 1.2382, 1.2377, 1.2366, 1.2351, 1.2343, 1.2315, 1.2277, 1.2246, 1.2245, 1.2219, 1.2206, 1.2204, 1.2203, 1.2186, 1.2158, 1.214, 1.2119, 1.2095, 1.2094, 1.2041, 1.1824, 1.1923, 1.1197, 1.1178, 1.1709, 1.1667, 1.149, 1.0734, 0.898, 1.0286, 1.0823, 1.0951, 0.8605, 1.0287, 1.04, 1.0082, 1.1462, 0.8197, 0.8659, 0.9157, 0.8132, 0.4506, 0.8809, 1.0148, 0.8127, 0.15, 0.8535, 0.2511, 0.4085, 0.3343, 0.6369, 0.2182, 0.2245, -0.0488, 0.7153, 0.3061, 0.2412, 0.0994, 0.2316, 0.3559, 0.051, 0.4146, -0.0629, 0.4925, -0.07, 1.397, 1.3895, 1.3875, 1.3807, 1.3785, 1.3751, 1.3696, 1.3685, 1.3631, 1.3594, 1.3586, 1.3584, 1.3569, 1.3567, 1.352, 1.3499, 1.3493, 1.3492, 1.3446, 1.3445, 1.3416, 1.3403, 1.3401, 1.3389, 1.334, 1.3337, 1.3313, 1.3269, 1.3268, 1.3264, 1.3221, 1.3238, 1.3181, 1.304, 1.2757, 1.2243, 1.2881, 1.2935, 1.27, 1.2984, 1.2859, 1.2546, 1.1366, 1.1694, 1.1847, 1.1625, 1.1945, 1.2165, 1.2022, 1.0567, 1.1147, 1.015, 0.7948, 0.6362, 0.6044, 1.0204, 1.0497, 0.3301, 0.774, 0.3471, 0.6625, 0.4872, 0.3507, -0.0542, -0.2775, 0.5723, 0.8517, 0.3908, 0.4602, 0.4376, 0.7247, 0.6101, 0.615, -0.4549, 0.1185, 0.2287, -0.5063, 1.4115, 1.4031, 1.3999, 1.3993, 1.3983, 1.3859, 1.3855, 1.379, 1.3738, 1.3726, 1.37, 1.3698, 1.3662, 1.3661, 1.3652, 1.3636, 1.3629, 1.3628, 1.3627, 1.3624, 1.3622, 1.362, 1.3588, 1.3587, 1.3584, 1.3577, 1.3563, 1.3529, 1.3528, 1.3525, 1.3305, 1.3412, 1.3076, 1.3115, 1.2552, 1.2669, 1.347, 1.3268, 1.1766, 1.2911, 1.1218, 1.3122, 1.1868, 1.218, 1.0166, 1.1287, 0.8649, 1.0359, 1.1009, 0.8502, 1.094, 0.8356, 1.0128, 0.919, 0.847, 0.6871, 0.7067, 0.1176, 0.6, 0.6971, 0.6604, 0.1109, 0.5419, 0.4215, 0.3306, 0.4302, 0.4954, 0.3015, 0.5962, 0.5737, 0.4119, 0.3788, -0.4527, -0.5374, 1.4344, 1.4342, 1.417, 1.4155, 1.4141, 1.4083, 1.4057, 1.4055, 1.4055, 1.4049, 1.4019, 1.3996, 1.3991, 1.3958, 1.3942, 1.3932, 1.3905, 1.3857, 1.3856, 1.3797, 1.3793, 1.3791, 1.3788, 1.3774, 1.3732, 1.3724, 1.3721, 1.3716, 1.3716, 1.3705, 1.3694, 1.3516, 1.3377, 1.3502, 1.308, 1.3369, 1.3537, 1.315, 1.267, 1.1629, 1.1983, 1.181, 1.2629, 1.2506, 0.9887, 1.153, 0.8764, 0.9575, 0.5659, 1.0556, 1.1432, 1.0178, 0.5618, 0.8246, 0.6295, 0.664, 0.3741, 0.8418, 0.8995, 0.6615, 0.9017, 0.2609, 0.5296, -0.07, 0.4876, 0.2269, 0.4458, 0.3293, 0.6325, 0.2728, 0.1024, 0.2636, 0.4474, 0.3074, 0.0578, 0.3668, 0.4324, 0.3909, -0.3592, -0.5364, 0.3698, 0.0278, -0.1298]}, \"token.table\": {\"Topic\": [1, 2, 4, 1, 2, 3, 4, 1, 2, 3, 4, 1, 3, 1, 2, 3, 4, 2, 4, 1, 3, 4, 1, 2, 3, 4, 1, 2, 3, 4, 1, 2, 3, 4, 4, 1, 2, 3, 4, 1, 2, 3, 4, 1, 2, 3, 4, 1, 2, 3, 4, 1, 1, 2, 4, 4, 2, 3, 4, 1, 3, 4, 1, 2, 3, 1, 3, 4, 1, 2, 3, 4, 1, 2, 2, 4, 4, 1, 2, 2, 4, 1, 2, 3, 4, 3, 1, 2, 3, 2, 3, 4, 4, 4, 3, 1, 2, 4, 1, 3, 1, 3, 4, 1, 2, 3, 4, 1, 2, 3, 4, 1, 2, 4, 1, 2, 4, 3, 2, 1, 4, 2, 1, 1, 3, 4, 3, 3, 1, 2, 4, 3, 1, 3, 4, 1, 2, 3, 2, 3, 4, 2, 3, 4, 4, 1, 3, 1, 2, 3, 4, 1, 3, 1, 2, 3, 4, 1, 2, 3, 4, 1, 1, 3, 1, 2, 3, 4, 4, 2, 1, 2, 3, 4, 3, 1, 2, 3, 4, 2, 4, 4, 1, 2, 4, 2, 1, 1, 2, 3, 4, 2, 1, 2, 3, 4, 1, 3, 4, 2, 3, 4, 1, 2, 3, 4, 1, 2, 3, 4, 4, 1, 2, 3, 4, 1, 2, 3, 4, 1, 2, 3, 4, 1, 3, 2, 3, 4, 4, 1, 2, 3, 4, 1, 2, 3, 4, 1, 2, 3, 4, 3, 2, 3, 2, 1, 2, 3, 4, 2, 1, 2, 4, 1, 2, 3, 4, 1, 2, 3, 4, 2, 2, 3, 4, 1, 2, 4, 1, 2, 3, 4, 2, 1, 2, 3, 4, 2, 4, 4, 2, 4, 4, 1, 2, 1, 2, 3, 4, 1, 1, 2, 3, 4, 1, 2, 3, 4, 3, 1, 2, 3, 4, 2, 1, 3, 1, 3, 1, 2, 4, 3, 1, 1, 2, 3, 4, 3, 4, 1, 2, 4, 3, 1, 4, 2, 4, 2, 4, 3, 4, 2, 4, 1, 3, 1, 1, 2, 3, 4, 2, 3, 4, 1, 2, 3, 4, 2, 4, 1, 2, 3, 4, 1, 3, 1, 2, 3, 4, 1, 2, 3, 4, 1, 2, 3, 4, 2, 1, 2, 3, 4, 2, 3, 1, 2, 4, 1, 1, 1, 2, 3, 4, 1, 2, 3, 4, 1, 3, 4, 2, 4, 1, 2, 3, 4, 4, 1, 1, 4, 2, 1, 2, 3, 4, 2, 1, 2, 3, 4, 1, 2, 3, 4, 3, 1, 2, 3, 4, 2, 4, 1, 2, 3, 4, 2, 1, 2, 3, 4, 1, 2, 3, 3, 4, 1, 3, 1, 2, 3, 4, 2, 1, 3, 3, 1, 2, 3, 4, 2, 3, 1, 3, 1, 2, 3, 4, 1, 3, 1, 2, 1, 2, 3, 4, 3, 4, 1, 2, 3, 4, 1, 3, 4, 2, 4, 1, 3, 4, 1, 1, 2, 3, 4, 3, 1, 2, 3, 2, 4, 1, 2, 3, 4, 1, 3, 2, 3, 1, 2, 3, 4, 3, 4, 2, 4, 3, 2, 4, 1, 1, 2, 3, 4, 1, 2, 3, 4, 1, 2, 4, 1, 2, 3, 4, 1, 2, 3, 4, 1, 2, 3, 4, 1, 2, 3, 4, 1, 2, 3, 4, 3, 2, 4, 3, 2, 3, 4, 2, 2, 1, 2, 1, 2, 4, 1, 4, 1, 1, 2, 3, 4, 3, 3, 1, 2, 3, 4, 4, 2, 1, 2, 3, 4, 4, 1, 2, 3, 4, 3, 1, 3, 3, 2, 3, 4, 1, 3, 1, 2, 3, 4, 1, 2, 3, 1, 2, 2, 4, 1, 2, 3, 4, 2, 2, 4, 4, 1, 2, 3, 4, 3, 1, 2, 3, 4, 1, 1, 2], \"Freq\": [0.894296416403933, 0.03312208949644196, 0.03312208949644196, 0.6689961215626077, 0.08773719627050593, 0.18644154207482508, 0.06580289720287945, 0.5258398163821889, 0.056847547716993393, 0.4121447209482021, 0.007105943464624174, 0.6320596033442932, 0.36506890882816934, 0.059877474018936276, 0.5443406728994207, 0.01633022018698262, 0.3810384710295945, 0.06804351464681341, 0.8845656904085744, 0.38654350414554717, 0.5660101310702654, 0.048317938018193396, 0.0331919652706697, 0.00663839305413394, 0.6704776984675279, 0.29208929438189335, 0.2927568839802361, 0.2758670637506071, 0.06755928091851603, 0.3659461049752951, 0.8160301009392144, 0.02720100336464048, 0.01360050168232024, 0.1360050168232024, 0.9259458111561518, 0.26631340717178076, 0.346207429323315, 0.08522029029496984, 0.30359728417583004, 0.09914284897327771, 0.1081558352435757, 0.7841298055159238, 0.009012986270297974, 0.4554129836390678, 0.5349295363379526, 0.014457555036160882, 0.9464798149905422, 0.14725411919202047, 0.08835247151521228, 0.1570710604714885, 0.6086503593270179, 0.9259522484432876, 0.037852438589698036, 0.17033597365364117, 0.7759749910888097, 0.9092315147277338, 0.6717434270087506, 0.10423604901859923, 0.20847209803719846, 0.11550498812479758, 0.25667775138843907, 0.6288604909016757, 0.0248668853132902, 0.9200747565917374, 0.0497337706265804, 0.03593299151319686, 0.8504141324789923, 0.11977663837732286, 0.14679161457104734, 0.2385363736779519, 0.2752342773207137, 0.3363974500586501, 0.9467625951145138, 0.9362628093486705, 0.8717970292826098, 0.11301072601811608, 0.9738504882016012, 0.0993546692864864, 0.8941920235783776, 0.08897795070950444, 0.8897795070950444, 0.2610229810205351, 0.20169957624314078, 0.32825617310158206, 0.20960936354679335, 0.9736307331830877, 0.9205021409825006, 0.07748404430985903, 0.9039805169483552, 0.06417225322789585, 0.09625837984184377, 0.834239291962646, 0.9464762934388582, 0.9471703800431197, 0.9609902285857546, 0.09693357125602034, 0.8142419985505709, 0.09693357125602034, 0.11737209604412328, 0.8998527363382784, 0.2573868168958846, 0.720683087308477, 0.9403411923085968, 0.11170770058610009, 0.4498499293872679, 0.17812849552918664, 0.259644925686611, 0.04758721615322392, 0.4758721615322392, 0.35095571913002643, 0.1189680403830598, 0.0024402866071325424, 0.8345780196393295, 0.16349920267788035, 0.009252324613776638, 0.7864475921710142, 0.20355114150308604, 0.9797755167734402, 0.942497271188234, 0.9952105571311867, 0.9465073184911509, 0.9683175686727142, 0.9516441202547544, 0.1291026553093195, 0.6807230916309573, 0.18778568044991925, 0.9736273687420295, 0.9736440230993609, 0.061854272291716084, 0.8968869482298832, 0.061854272291716084, 0.946641937576465, 0.8935526684632645, 0.06618908655283441, 0.033094543276417206, 0.6263403637434822, 0.27497869627762633, 0.0992978625446984, 0.3230346650263477, 0.09831489805149712, 0.5758444028730546, 0.7872018184768834, 0.055242232875570764, 0.1519161404078196, 0.9645757611306657, 0.7867095900053446, 0.2005338170601859, 0.11944094497420006, 0.44966002813816497, 0.11944094497420006, 0.3021153314053296, 0.9411575054552278, 0.05751518088893059, 0.35659570093465065, 0.3612877496311592, 0.037536389572068486, 0.24398653221844518, 0.26875756417712826, 0.08958585472570942, 0.4927222009914018, 0.15117612984963463, 0.9467532939013942, 0.9740818767356331, 0.9844202262406415, 0.1651354072919144, 0.01738267445178046, 0.6083936058123162, 0.20859209342136553, 0.8898753646746983, 0.9536272935694338, 0.43661493409144553, 0.15537198105055944, 0.2714092833541418, 0.13767137561441975, 0.9611699059489589, 0.3024553547577198, 0.06481186173379709, 0.09721779260069564, 0.5400988477816424, 0.0746285191045528, 0.8955422292546337, 0.925334253707689, 0.920376933444625, 0.07714411163285895, 0.9257293395943074, 0.9809195276765299, 0.9203789261748594, 0.1225119885648187, 0.09800959085185496, 0.04900479542592748, 0.7350719313889122, 0.9683171157210185, 0.8786463609789325, 0.08237309634177492, 0.02745769878059164, 0.9752465641146196, 0.03564637375792308, 0.7307506620374231, 0.23170142942650002, 0.016497569166927423, 0.857873596680226, 0.11548298416849197, 0.395719169522553, 0.15946891906132732, 0.10631261270755155, 0.3366566069072466, 0.16584599090612107, 0.3455124810544189, 0.041461497726530266, 0.45607647499183296, 0.9258321851848205, 0.14212996254163932, 0.10336724548482859, 0.6718870956513858, 0.09044633979922502, 0.1354559823008239, 0.07569599010928395, 0.5736959250387835, 0.21115197241010783, 0.05320368587090223, 0.03546912391393482, 0.1418764956557393, 0.7625861641495987, 0.030690951765948136, 0.9514195047443922, 0.8796392920579573, 0.020456727722278075, 0.0818269108891123, 0.9531753884294843, 0.32356666405410006, 0.18582342554110967, 0.27288754799743375, 0.21831003839794702, 0.07464746329227032, 0.30792078608061507, 0.3732373164613516, 0.24260425569987853, 0.19552262186548605, 0.16855398436679833, 0.43149819997900374, 0.20226478124015798, 0.9354008331816086, 0.0710029912517787, 0.9230388862731231, 0.915425861700898, 0.42029300706433387, 0.03686780763722227, 0.33549704949872267, 0.2064597227684447, 0.9455130809096797, 0.04621463340172871, 0.04621463340172871, 0.8780780346328455, 0.3876204444569782, 0.34681829240887524, 0.19041004289114719, 0.0714037660841802, 0.20207237096196992, 0.3775562720605228, 0.12762465534440207, 0.29247316849758803, 0.9298598454048338, 0.9228022139340623, 0.036912088557362485, 0.9092079611310432, 0.766356364667333, 0.018246580111126978, 0.21895896133352372, 0.682969478574512, 0.2319518983837965, 0.02255087900953577, 0.06120952874016852, 0.9424590964839579, 0.3501074518162138, 0.050015350259459114, 0.44013508228324016, 0.15504758580432323, 0.05783925856653918, 0.9254281370646269, 0.9253399576041421, 0.8675791932527194, 0.13943237034418704, 0.9465003571015693, 0.08165005091689853, 0.8981505600858838, 0.1588916918945002, 0.5759823831175632, 0.1390302304076877, 0.1390302304076877, 0.9745843700343756, 0.27342677593086157, 0.03707481707537106, 0.5653909603994086, 0.12049315549495593, 0.6539367658510353, 0.023779518758219466, 0.2496849469613044, 0.0713385562746584, 0.9540128352589092, 0.04601261757301393, 0.2563560121925062, 0.1380378527190418, 0.5652978730398854, 0.9424982945695106, 0.2517154516822837, 0.7551463550468511, 0.8504004232148489, 0.14602835550153972, 0.10477090076710553, 0.14667926107394774, 0.7333963053697387, 0.9844482688184567, 0.9516804611337857, 0.18376120875562657, 0.17835646732163754, 0.3999508661151872, 0.23780862309551673, 0.9611675705883822, 0.9371189731813762, 0.21873123203348324, 0.7499356526862283, 0.03124731886192618, 0.9736293144362412, 0.06424043469234655, 0.8993660856928517, 0.9362562205265899, 0.9790695341073181, 0.12173965045287713, 0.8724674949122861, 0.9900804019586277, 0.9253338173195251, 0.8962577677770904, 0.049792098209838355, 0.09654815458863138, 0.8930704299448402, 0.9369324983792531, 0.24765815249953188, 0.14338103565762372, 0.03910391881571556, 0.5735241426304949, 0.3531774095569367, 0.1849976907203002, 0.45408524085891866, 0.13885044165774024, 0.1851339222103203, 0.14810713776825624, 0.5368883744099289, 0.9809193701732009, 0.9253227372702328, 0.12153862922692622, 0.7089753371570696, 0.010128219102243851, 0.17217972473814547, 0.9492125916774432, 0.024979278728353767, 0.41892288017692064, 0.02618268001105754, 0.18982443008016717, 0.3600118501520412, 0.29384999518643934, 0.2555217349447299, 0.1447956498020136, 0.30662608193367585, 0.19632247395657149, 0.1177934843739429, 0.4842621024262097, 0.19632247395657149, 0.9810792601816206, 0.25208948740689846, 0.38617964028290824, 0.08045409172560589, 0.2789075179821004, 0.9885322630984803, 0.9228832746509908, 0.0700659382151162, 0.8174359458430223, 0.09342125095348826, 0.9772695847712362, 0.9555915965348918, 0.6295717530136387, 0.13686342456818232, 0.13686342456818232, 0.10036651135000035, 0.13528168998527437, 0.4556856925819769, 0.36312453627626284, 0.04984062262615372, 0.10812135180354746, 0.07208090120236497, 0.8289303638271972, 0.6817511007729811, 0.3156255096171209, 0.06704751182847518, 0.3603803760780541, 0.13409502365695036, 0.4441897658636481, 0.909180861557743, 0.9518741971433982, 0.09629301148807413, 0.9147836091367043, 0.9866914433696794, 0.10675568604118747, 0.07535695485260292, 0.4709809678287683, 0.3453860430744301, 0.9154256100604361, 0.2613027731243638, 0.1306513865621819, 0.36745702470613656, 0.24088849397402284, 0.34472531593416705, 0.1758802632317179, 0.1829154737609866, 0.2919612369646517, 0.9844404652301775, 0.2540288886387005, 0.508057777277401, 0.1556951252946874, 0.08194480278667758, 0.9394841920485367, 0.05147858586567325, 0.10560482205651038, 0.34215962346309364, 0.14151046155572392, 0.4118588060203905, 0.9884407075321685, 0.2729268073398669, 0.2031083217412963, 0.15867837636038776, 0.3681338331560996, 0.8241330867112282, 0.1513713832734909, 0.016819042585943432, 0.9772006367026442, 0.9253245045090285, 0.7840444811836816, 0.21383031305009498, 0.7568107856004973, 0.11544571305770297, 0.05130920580342355, 0.06413650725427943, 0.9863641776873089, 0.9475124774364594, 0.04817860054761658, 0.9736322028171573, 0.3477864035006774, 0.2063787449344679, 0.19491325910477525, 0.24841885964334098, 0.0541074288367041, 0.9198262902239698, 0.040541454803873125, 0.932453460489082, 0.6587731968384827, 0.05425191032787505, 0.13175463936769655, 0.155005458079643, 0.9540213576445726, 0.034072191344449027, 0.9426086270293571, 0.04961098036996617, 0.8510755227443527, 0.010071899677447961, 0.015107849516171942, 0.12086279612937553, 0.8059220644109198, 0.1667424960850179, 0.12824580460617618, 0.08273922877817819, 0.47988752691343345, 0.30613514647925927, 0.07564790559700285, 0.918581710820749, 0.9402852676541033, 0.9627374643591481, 0.04053631428880623, 0.9566196100116572, 0.02861682594051966, 0.012264353974508426, 0.9516429857328859, 0.6577086491316051, 0.13759595170117261, 0.10732484232691464, 0.09631716619082083, 0.9466330030132203, 0.04306701101338232, 0.20672165286423513, 0.7407525894301759, 0.8967532763789735, 0.09963925293099705, 0.37831436195965523, 0.19426953722252566, 0.10735948109665891, 0.3169660870472787, 0.983878551042836, 0.973453866883411, 0.05411328348444238, 0.9199258192355205, 0.5701184514717278, 0.1379318834205793, 0.23908193126233748, 0.045977294473526435, 0.337447998720557, 0.644218906648336, 0.16996568784957902, 0.8158353016779792, 0.9228813270231139, 0.8787479107643769, 0.11461929270839699, 0.9511428148543366, 0.10171772506994185, 0.3980258807084681, 0.17247788164033617, 0.32726572413807375, 0.8607676659353046, 0.06621289737963883, 0.06621289737963883, 0.9641467991636693, 0.01159135489645771, 0.7650294231662089, 0.2202357430326965, 0.20999758228603366, 0.19894507795518976, 0.19341882578976782, 0.3978901559103795, 0.8097733164542412, 0.09388676132802797, 0.08215091616202447, 0.011735845166003496, 0.9516484456189077, 0.05625126596193537, 0.1968794308667738, 0.7453292739956436, 0.0637264887628686, 0.24019984226004318, 0.2549059550514744, 0.4411833837429365, 0.6962380320619332, 0.11413738230523496, 0.10272364407471146, 0.07989616761366447, 0.9694751566397772, 0.928278758491093, 0.07900244753115686, 0.9611773777042513, 0.9536287756960821, 0.8022158328171817, 0.1899984867198588, 0.9657371723492949, 0.9362428128017338, 0.9574887575628025, 0.942497394367927, 0.7759216420542971, 0.036948649621633196, 0.18474324810816597, 0.983579910681294, 0.9641463292658632, 0.9634146559746376, 0.24590089575619822, 0.027322321750688692, 0.5573753637140493, 0.16939839485426988, 0.9736313121296621, 0.9611671313555011, 0.2827891398600289, 0.03366537379286059, 0.43764985930718764, 0.2356576165500241, 0.9531710156080494, 0.9155502262864658, 0.2911444913490205, 0.4367167370235307, 0.08491714331013098, 0.18803081732957572, 0.9563558107749092, 0.059921927800379325, 0.4627304424584848, 0.06657991977819926, 0.4094665066359254, 0.9654300616373115, 0.005407360905218942, 0.9949544065602854, 0.9466284425994621, 0.6977042563407101, 0.01453550534043146, 0.2761746014681978, 0.9093036315158095, 0.0717871288038797, 0.210127781965641, 0.27162859619948715, 0.4151304960784615, 0.09737628920358973, 0.023321485329008424, 0.8162519865152948, 0.13992891197405055, 0.9206142952134195, 0.05114523862296775, 0.3177363889357131, 0.6689187135488697, 0.3576707290961592, 0.14864238092307916, 0.1532874553269254, 0.34141296868269744, 0.9809134799496337, 0.9197085576846464, 0.07963956784420123, 0.9531699610383779, 0.012713663658101544, 0.8009608104603972, 0.12713663658101543, 0.06356831829050771, 0.9611806965625427, 0.3072917159010363, 0.2745139328715924, 0.21305558969138516, 0.20486114393402421, 0.9639288287476092, 0.9574869739590138, 0.9811099130688009], \"Term\": [\"abdul\", \"abdul\", \"abdul\", \"acara\", \"acara\", \"acara\", \"acara\", \"agama\", \"agama\", \"agama\", \"agama\", \"ahok\", \"ahok\", \"air\", \"air\", \"air\", \"air\", \"akal\", \"akal\", \"aksi\", \"aksi\", \"aksi\", \"akun\", \"akun\", \"akun\", \"akun\", \"allah\", \"allah\", \"allah\", \"allah\", \"amin\", \"amin\", \"amin\", \"amin\", \"ampun\", \"anak\", \"anak\", \"anak\", \"anak\", \"anggota\", \"anggota\", \"anggota\", \"anggota\", \"anies\", \"anies\", \"anies\", \"aqua\", \"arab\", \"arab\", \"arab\", \"arab\", \"azan\", \"babi\", \"babi\", \"babi\", \"baby\", \"bahaya\", \"bahaya\", \"bahaya\", \"bakar\", \"bakar\", \"bakar\", \"banjir\", \"banjir\", \"banjir\", \"bank\", \"bank\", \"bank\", \"bantu\", \"bantu\", \"bantu\", \"bantu\", \"basuki\", \"batuk\", \"bayi\", \"bayi\", \"begal\", \"bencana\", \"bencana\", \"bensin\", \"bensin\", \"berita\", \"berita\", \"berita\", \"berita\", \"bi\", \"bir\", \"bocor\", \"bocor\", \"bpjs\", \"bpjs\", \"bpjs\", \"bpom\", \"bri\", \"brimob\", \"bumi\", \"bumi\", \"bumi\", \"bupati\", \"bupati\", \"calon\", \"calon\", \"chat\", \"china\", \"china\", \"china\", \"china\", \"cina\", \"cina\", \"cina\", \"cina\", \"corona\", \"corona\", \"corona\", \"covid\", \"covid\", \"covid\", \"cpns\", \"cuci\", \"curang\", \"dapur\", \"daun\", \"dayak\", \"demo\", \"demo\", \"demo\", \"demonstran\", \"densus\", \"derita\", \"derita\", \"derita\", \"diy\", \"djarot\", \"djarot\", \"djarot\", \"dki\", \"dki\", \"dki\", \"doa\", \"doa\", \"doa\", \"dokter\", \"dokter\", \"dokter\", \"donasi\", \"dpr\", \"dpr\", \"dr\", \"dr\", \"dr\", \"dr\", \"dukung\", \"dukung\", \"dunia\", \"dunia\", \"dunia\", \"dunia\", \"edar\", \"edar\", \"edar\", \"edar\", \"emak\", \"erdogan\", \"erick\", \"facebook\", \"facebook\", \"facebook\", \"facebook\", \"firza\", \"flu\", \"foto\", \"foto\", \"foto\", \"foto\", \"gadai\", \"gak\", \"gak\", \"gak\", \"gak\", \"game\", \"game\", \"ganja\", \"ganjil\", \"garam\", \"garam\", \"gaza\", \"genap\", \"gila\", \"gila\", \"gila\", \"gila\", \"global\", \"google\", \"google\", \"google\", \"gunung\", \"guru\", \"guru\", \"guru\", \"haji\", \"haji\", \"haji\", \"hasil\", \"hasil\", \"hasil\", \"hasil\", \"hati\", \"hati\", \"hati\", \"hati\", \"hiv\", \"hoaks\", \"hoaks\", \"hoaks\", \"hoaks\", \"hoax\", \"hoax\", \"hoax\", \"hoax\", \"hp\", \"hp\", \"hp\", \"hp\", \"humas\", \"humas\", \"ikan\", \"ikan\", \"ikan\", \"indomaret\", \"indonesia\", \"indonesia\", \"indonesia\", \"indonesia\", \"info\", \"info\", \"info\", \"info\", \"informasi\", \"informasi\", \"informasi\", \"informasi\", \"instagram\", \"intelijen\", \"intelijen\", \"iq\", \"islam\", \"islam\", \"islam\", \"islam\", \"isolasi\", \"jajah\", \"jajah\", \"jajah\", \"jakarta\", \"jakarta\", \"jakarta\", \"jakarta\", \"jalan\", \"jalan\", \"jalan\", \"jalan\", \"jangkit\", \"jantung\", \"jantung\", \"jarum\", \"joko\", \"joko\", \"joko\", \"jokowi\", \"jokowi\", \"jokowi\", \"jokowi\", \"kabinet\", \"kait\", \"kait\", \"kait\", \"kait\", \"kaleng\", \"kaleng\", \"kalong\", \"kanker\", \"kanker\", \"kantong\", \"kapal\", \"kapal\", \"keluarga\", \"keluarga\", \"keluarga\", \"keluarga\", \"keren\", \"kerja\", \"kerja\", \"kerja\", \"kerja\", \"ketua\", \"ketua\", \"ketua\", \"ketua\", \"kominfo\", \"korban\", \"korban\", \"korban\", \"korban\", \"korona\", \"kpk\", \"kpk\", \"kpu\", \"kpu\", \"kubur\", \"kubur\", \"kubur\", \"kuota\", \"kutuk\", \"laku\", \"laku\", \"laku\", \"laku\", \"lamar\", \"lampung\", \"laut\", \"laut\", \"laut\", \"lelang\", \"letus\", \"letus\", \"lift\", \"lion\", \"lockdown\", \"lockdown\", \"lowong\", \"lutfi\", \"madam\", \"madam\", \"mahasiswa\", \"mahasiswa\", \"mahfud\", \"main\", \"main\", \"main\", \"main\", \"makan\", \"makan\", \"makan\", \"malam\", \"malam\", \"malam\", \"malam\", \"mandi\", \"mangga\", \"manusia\", \"manusia\", \"manusia\", \"manusia\", \"maruf\", \"maruf\", \"masjid\", \"masjid\", \"masjid\", \"masjid\", \"masuk\", \"masuk\", \"masuk\", \"masuk\", \"masyarakat\", \"masyarakat\", \"masyarakat\", \"masyarakat\", \"matahari\", \"mati\", \"mati\", \"mati\", \"mati\", \"mayat\", \"mca\", \"medis\", \"medis\", \"medis\", \"megawati\", \"meme\", \"menang\", \"menang\", \"menang\", \"menang\", \"menteri\", \"menteri\", \"menteri\", \"menteri\", \"mesjid\", \"mesjid\", \"mesjid\", \"minum\", \"minum\", \"moga\", \"moga\", \"moga\", \"moga\", \"moral\", \"mpr\", \"mudik\", \"mudik\", \"mulyani\", \"muslim\", \"muslim\", \"muslim\", \"muslim\", \"nadiem\", \"nama\", \"nama\", \"nama\", \"nama\", \"negara\", \"negara\", \"negara\", \"negara\", \"nik\", \"nyata\", \"nyata\", \"nyata\", \"nyata\", \"obat\", \"obat\", \"orang\", \"orang\", \"orang\", \"orang\", \"organ\", \"pakai\", \"pakai\", \"pakai\", \"pakai\", \"palestina\", \"palestina\", \"palestina\", \"panglima\", \"panjaitan\", \"partai\", \"partai\", \"pasang\", \"pasang\", \"pasang\", \"pasang\", \"pasien\", \"pdip\", \"pdip\", \"peran\", \"perintah\", \"perintah\", \"perintah\", \"perintah\", \"persero\", \"persero\", \"pertamina\", \"pertamina\", \"pilih\", \"pilih\", \"pilih\", \"pilih\", \"pilkada\", \"pilkada\", \"pilpres\", \"pilpres\", \"pki\", \"pki\", \"pki\", \"pki\", \"polda\", \"polda\", \"polisi\", \"polisi\", \"polisi\", \"polisi\", \"polri\", \"polri\", \"porno\", \"positif\", \"positif\", \"prabowo\", \"prabowo\", \"prabowo\", \"prancis\", \"presiden\", \"presiden\", \"presiden\", \"presiden\", \"provokasi\", \"pt\", \"pt\", \"pt\", \"racun\", \"racun\", \"rakyat\", \"rakyat\", \"rakyat\", \"rakyat\", \"ratna\", \"registrasi\", \"rekrutmen\", \"rekrutmen\", \"ri\", \"ri\", \"ri\", \"ri\", \"rizieq\", \"rizieq\", \"rokok\", \"rokok\", \"roti\", \"rs\", \"rs\", \"ruf\", \"rumah\", \"rumah\", \"rumah\", \"rumah\", \"ruu\", \"ruu\", \"ruu\", \"sadis\", \"sakit\", \"sakit\", \"sakit\", \"salah\", \"salah\", \"salah\", \"salah\", \"sandi\", \"sandi\", \"sandi\", \"sandi\", \"sarumpaet\", \"saudi\", \"saudi\", \"saudi\", \"sebar\", \"sebar\", \"sebar\", \"sebar\", \"sekolah\", \"sekolah\", \"sekolah\", \"sekolah\", \"seleksi\", \"sembuh\", \"sembuh\", \"semut\", \"serangga\", \"sim\", \"sim\", \"singapura\", \"sm\", \"somad\", \"stroke\", \"suara\", \"suara\", \"suara\", \"subianto\", \"sudjiatmi\", \"sunting\", \"surat\", \"surat\", \"surat\", \"surat\", \"susup\", \"sweeping\", \"tangkap\", \"tangkap\", \"tangkap\", \"tangkap\", \"telepon\", \"tempel\", \"temu\", \"temu\", \"temu\", \"temu\", \"terminal\", \"tinggal\", \"tinggal\", \"tinggal\", \"tinggal\", \"tito\", \"tni\", \"tni\", \"tuan\", \"tubuh\", \"tubuh\", \"tubuh\", \"turki\", \"turki\", \"uang\", \"uang\", \"uang\", \"uang\", \"usia\", \"usia\", \"usia\", \"usul\", \"usul\", \"vaksin\", \"vaksin\", \"video\", \"video\", \"video\", \"video\", \"vietnam\", \"virus\", \"virus\", \"voucher\", \"wanita\", \"wanita\", \"wanita\", \"wanita\", \"waras\", \"warga\", \"warga\", \"warga\", \"warga\", \"website\", \"wiranto\", \"wuhan\"]}, \"R\": 30, \"lambda.step\": 0.01, \"plot.opts\": {\"xlab\": \"PC1\", \"ylab\": \"PC2\"}, \"topic.order\": [2, 1, 3, 4]};\n",
              "\n",
              "function LDAvis_load_lib(url, callback){\n",
              "  var s = document.createElement('script');\n",
              "  s.src = url;\n",
              "  s.async = true;\n",
              "  s.onreadystatechange = s.onload = callback;\n",
              "  s.onerror = function(){console.warn(\"failed to load library \" + url);};\n",
              "  document.getElementsByTagName(\"head\")[0].appendChild(s);\n",
              "}\n",
              "\n",
              "if(typeof(LDAvis) !== \"undefined\"){\n",
              "   // already loaded: just create the visualization\n",
              "   !function(LDAvis){\n",
              "       new LDAvis(\"#\" + \"ldavis_el55266138920852645344547888188\", ldavis_el55266138920852645344547888188_data);\n",
              "   }(LDAvis);\n",
              "}else if(typeof define === \"function\" && define.amd){\n",
              "   // require.js is available: use it to load d3/LDAvis\n",
              "   require.config({paths: {d3: \"https://d3js.org/d3.v5\"}});\n",
              "   require([\"d3\"], function(d3){\n",
              "      window.d3 = d3;\n",
              "      LDAvis_load_lib(\"https://cdn.jsdelivr.net/gh/bmabey/pyLDAvis@3.4.0/pyLDAvis/js/ldavis.v3.0.0.js\", function(){\n",
              "        new LDAvis(\"#\" + \"ldavis_el55266138920852645344547888188\", ldavis_el55266138920852645344547888188_data);\n",
              "      });\n",
              "    });\n",
              "}else{\n",
              "    // require.js not available: dynamically load d3 & LDAvis\n",
              "    LDAvis_load_lib(\"https://d3js.org/d3.v5.js\", function(){\n",
              "         LDAvis_load_lib(\"https://cdn.jsdelivr.net/gh/bmabey/pyLDAvis@3.4.0/pyLDAvis/js/ldavis.v3.0.0.js\", function(){\n",
              "                 new LDAvis(\"#\" + \"ldavis_el55266138920852645344547888188\", ldavis_el55266138920852645344547888188_data);\n",
              "            })\n",
              "         });\n",
              "}\n",
              "</script>"
            ]
          },
          "metadata": {},
          "execution_count": 61
        }
      ]
    },
    {
      "cell_type": "markdown",
      "source": [
        "Berdasarkan hasil di atas, topik yang diduga mewakili dokumen-dokumen dalam data yaitu 1: Politik, 2: Kesehatan, 3: Agama, dan 4: Ketenagakerjaan.\n"
      ],
      "metadata": {
        "id": "mYOFMIiab5JX"
      }
    },
    {
      "cell_type": "code",
      "source": [
        "df2 = df.copy()\n",
        "df2[\"teks\"] = D\n",
        "df2[\"topik\"] = doc_topic\n",
        "df2.head(15)"
      ],
      "metadata": {
        "colab": {
          "base_uri": "https://localhost:8080/",
          "height": 1000
        },
        "id": "WHL0OC8bBtvL",
        "outputId": "9a5662d6-4fcf-4384-d4ff-7df5e33d91a0"
      },
      "execution_count": 62,
      "outputs": [
        {
          "output_type": "stream",
          "name": "stderr",
          "text": [
            "/usr/local/lib/python3.10/dist-packages/ipykernel/ipkernel.py:283: DeprecationWarning: `should_run_async` will not call `transform_cell` automatically in the future. Please pass the result to `transformed_cell` argument and any exception that happen during thetransform in `preprocessing_exc_tuple` in IPython 7.17 and above.\n",
            "  and should_run_async(code)\n"
          ]
        },
        {
          "output_type": "execute_result",
          "data": {
            "text/plain": [
              "      ID  label    tanggal                                              judul  \\\n",
              "0     71      1 2020-08-17  Pemakaian Masker Menyebabkan Penyakit Legionna...   \n",
              "1    461      1 2020-07-17  Instruksi Gubernur Jateng tentang penilangan  ...   \n",
              "2    495      1 2020-07-13  Foto Jim Rohn: Jokowi adalah presiden terbaik ...   \n",
              "3    550      1 2020-07-08  ini bukan politik, tapi kenyataan Pak Jokowi b...   \n",
              "4    681      1 2020-06-24       Foto Kadrun kalo lihat foto ini panas dingin   \n",
              "5    736      1 2020-06-17  event promo smartphone JNE 2020 spesial di bul...   \n",
              "6   1161      1 2020-05-05  MEREKA SUDAH MEMPERSIAPKAN DIRI DENGAN BAIK UN...   \n",
              "7   1597      1 2020-03-24  Foto Presiden Italia menangis karena tak cukup...   \n",
              "8   2098      1 2020-01-09  Kapolres Timor Tengah Utara , Nusa Tenggara Ti...   \n",
              "9   2226      1 2019-12-24  Video Polisi china telah menganiaya wanita uig...   \n",
              "10  2588      1 2019-10-13        Akhirnya, Jokowi bersedia mengundurkan diri   \n",
              "11  2875      1 2019-08-26  Info Jalur Rawan Begal dan Himbauan Untuk Tida...   \n",
              "12  2987      1 2019-07-29  Dirut PT Agung Podomoro Land Cosmas Batubara M...   \n",
              "13  3571      1 2019-04-20  SBY Sudah Telepon Moeldoko Suruh Jokowi Akui K...   \n",
              "14  3862      1 2019-03-02                 Foto Anak Rohingya Disiksa Komunis   \n",
              "\n",
              "                                               narasi nama file gambar  \\\n",
              "0   A caller to a radio talk show recently shared ...           71.jpg   \n",
              "1   Yth.Seluruh Anggota Grup Sesuai Instruksi Gube...          461.png   \n",
              "2   Jokowi adalah presiden terbaik dlm sejarah ban...          495.png   \n",
              "3   Maaf Mas2 dan Mbak2, ini bukan politik, tapi k...          550.png   \n",
              "4         Kadrun kalo lihat foto ini panas dingin . .          681.jpg   \n",
              "5   selamat siang teman teman fb ku semuanya🤩,cuma...          736.png   \n",
              "6   LIHATLAH MEREKA SUDAH MEMPERSIAPKAN DIRI DENGA...         1161.png   \n",
              "7   Italia punya fasilitas perawatan kesehatan ter...         1597.png   \n",
              "8   Polisi goblok. Bukanya cpet” d tolongin malah ...         2098.jpg   \n",
              "9   Polisi china telah menganiaya wanita uighur le...         2226.png   \n",
              "10  Akhirnya, Jokowi bersedia mengundurkan diri.\\n...         2588.png   \n",
              "11  Begal sudah mulai merambat ke wilayah CIANJUR…...         2875.jpg   \n",
              "12  Turut berduka cita atas\\n meninggalnya Pejuang...         2987.png   \n",
              "13  Bantu sebar ya\\nPak SBY sudah telpon Moeldoko,...         3571.png   \n",
              "14  Relakah anak cucu kita dibikin seperti anak2 r...         3862.jpg   \n",
              "\n",
              "                                   judul_preprocessed  \\\n",
              "0                     pakai masker sakit legionnaires   \n",
              "1   instruksi gubernur jateng tilang masker muka e...   \n",
              "2   foto jim rohn jokowi presiden sejarah bangsa i...   \n",
              "3   politik nyata jokowi hasil pulang triliun uang...   \n",
              "4            foto kadrun kalo lihat foto panas dingin   \n",
              "5             event promo smartphone jne spesial juni   \n",
              "6                                         kuasa negri   \n",
              "7   foto presiden italia menang lahan kubur korban...   \n",
              "8   kapolres timor utara nusa tenggara timur klari...   \n",
              "9   video polisi china aniaya wanita uighur leher ...   \n",
              "10                                 jokowi sedia undur   \n",
              "11  info jalur rawan begal himbauan malam kapolres...   \n",
              "12  dirut pt agung podomoro land cosmas batubara t...   \n",
              "13            sby telepon moeldoko suruh jokowi kalah   \n",
              "14                   foto anak rohingya siksa komunis   \n",
              "\n",
              "                                  narasi_preprocessed  \\\n",
              "0   caller radio talk shared wife hospitalized tol...   \n",
              "1   anggota grup sesuai instruksi gubernur jawa ha...   \n",
              "2   jokowi presiden sejarah bangsa indonesia jim r...   \n",
              "3   maaf politik nyata jokowi hasil pulang triliun...   \n",
              "4                 kadrun kalo lihat foto panas dingin   \n",
              "5   selamat siang teman teman fb cuman informasi r...   \n",
              "6                                   lihat kuasa negri   \n",
              "7   italia fasilitas awat sehat canggih gagal kend...   \n",
              "8               polisi goblok buka cpet tolongin liat   \n",
              "9   polisi china aniaya wanita uighur leher cekik ...   \n",
              "10                             jokowi sedia undur gue   \n",
              "11  begal rambat wilayah cianjur wilayah rewan beg...   \n",
              "12  duka cita tinggal juang angkat cosmas batubara...   \n",
              "13  bantu sebar sby telpon moeldoko suruh jkw kala...   \n",
              "14        rela anak cucu bikin rohingya komunis kuasa   \n",
              "\n",
              "                                                 teks  topik  \n",
              "0   pakai masker sakit legionnaires caller radio t...      4  \n",
              "1   instruksi gubernur jateng tilang masker muka e...      1  \n",
              "2   foto jim rohn jokowi presiden sejarah bangsa i...      1  \n",
              "3   politik nyata jokowi hasil pulang triliun uang...      1  \n",
              "4   foto kadrun kalo lihat foto panas dingin kadru...      1  \n",
              "5   event promo smartphone jne spesial juni selama...      4  \n",
              "6                       kuasa negri lihat kuasa negri      1  \n",
              "7   foto presiden italia menang lahan kubur korban...      1  \n",
              "8   kapolres timor utara nusa tenggara timur klari...      3  \n",
              "9   video polisi china aniaya wanita uighur leher ...      3  \n",
              "10          jokowi sedia undur jokowi sedia undur gue      2  \n",
              "11  info jalur rawan begal himbauan malam kapolres...      2  \n",
              "12  dirut pt agung podomoro land cosmas batubara t...      1  \n",
              "13  sby telepon moeldoko suruh jokowi kalah bantu ...      2  \n",
              "14  foto anak rohingya siksa komunis rela anak cuc...      4  "
            ],
            "text/html": [
              "\n",
              "  <div id=\"df-fa9fc2e7-4864-428e-b228-2a7cc8260931\" class=\"colab-df-container\">\n",
              "    <div>\n",
              "<style scoped>\n",
              "    .dataframe tbody tr th:only-of-type {\n",
              "        vertical-align: middle;\n",
              "    }\n",
              "\n",
              "    .dataframe tbody tr th {\n",
              "        vertical-align: top;\n",
              "    }\n",
              "\n",
              "    .dataframe thead th {\n",
              "        text-align: right;\n",
              "    }\n",
              "</style>\n",
              "<table border=\"1\" class=\"dataframe\">\n",
              "  <thead>\n",
              "    <tr style=\"text-align: right;\">\n",
              "      <th></th>\n",
              "      <th>ID</th>\n",
              "      <th>label</th>\n",
              "      <th>tanggal</th>\n",
              "      <th>judul</th>\n",
              "      <th>narasi</th>\n",
              "      <th>nama file gambar</th>\n",
              "      <th>judul_preprocessed</th>\n",
              "      <th>narasi_preprocessed</th>\n",
              "      <th>teks</th>\n",
              "      <th>topik</th>\n",
              "    </tr>\n",
              "  </thead>\n",
              "  <tbody>\n",
              "    <tr>\n",
              "      <th>0</th>\n",
              "      <td>71</td>\n",
              "      <td>1</td>\n",
              "      <td>2020-08-17</td>\n",
              "      <td>Pemakaian Masker Menyebabkan Penyakit Legionna...</td>\n",
              "      <td>A caller to a radio talk show recently shared ...</td>\n",
              "      <td>71.jpg</td>\n",
              "      <td>pakai masker sakit legionnaires</td>\n",
              "      <td>caller radio talk shared wife hospitalized tol...</td>\n",
              "      <td>pakai masker sakit legionnaires caller radio t...</td>\n",
              "      <td>4</td>\n",
              "    </tr>\n",
              "    <tr>\n",
              "      <th>1</th>\n",
              "      <td>461</td>\n",
              "      <td>1</td>\n",
              "      <td>2020-07-17</td>\n",
              "      <td>Instruksi Gubernur Jateng tentang penilangan  ...</td>\n",
              "      <td>Yth.Seluruh Anggota Grup Sesuai Instruksi Gube...</td>\n",
              "      <td>461.png</td>\n",
              "      <td>instruksi gubernur jateng tilang masker muka e...</td>\n",
              "      <td>anggota grup sesuai instruksi gubernur jawa ha...</td>\n",
              "      <td>instruksi gubernur jateng tilang masker muka e...</td>\n",
              "      <td>1</td>\n",
              "    </tr>\n",
              "    <tr>\n",
              "      <th>2</th>\n",
              "      <td>495</td>\n",
              "      <td>1</td>\n",
              "      <td>2020-07-13</td>\n",
              "      <td>Foto Jim Rohn: Jokowi adalah presiden terbaik ...</td>\n",
              "      <td>Jokowi adalah presiden terbaik dlm sejarah ban...</td>\n",
              "      <td>495.png</td>\n",
              "      <td>foto jim rohn jokowi presiden sejarah bangsa i...</td>\n",
              "      <td>jokowi presiden sejarah bangsa indonesia jim r...</td>\n",
              "      <td>foto jim rohn jokowi presiden sejarah bangsa i...</td>\n",
              "      <td>1</td>\n",
              "    </tr>\n",
              "    <tr>\n",
              "      <th>3</th>\n",
              "      <td>550</td>\n",
              "      <td>1</td>\n",
              "      <td>2020-07-08</td>\n",
              "      <td>ini bukan politik, tapi kenyataan Pak Jokowi b...</td>\n",
              "      <td>Maaf Mas2 dan Mbak2, ini bukan politik, tapi k...</td>\n",
              "      <td>550.png</td>\n",
              "      <td>politik nyata jokowi hasil pulang triliun uang...</td>\n",
              "      <td>maaf politik nyata jokowi hasil pulang triliun...</td>\n",
              "      <td>politik nyata jokowi hasil pulang triliun uang...</td>\n",
              "      <td>1</td>\n",
              "    </tr>\n",
              "    <tr>\n",
              "      <th>4</th>\n",
              "      <td>681</td>\n",
              "      <td>1</td>\n",
              "      <td>2020-06-24</td>\n",
              "      <td>Foto Kadrun kalo lihat foto ini panas dingin</td>\n",
              "      <td>Kadrun kalo lihat foto ini panas dingin . .</td>\n",
              "      <td>681.jpg</td>\n",
              "      <td>foto kadrun kalo lihat foto panas dingin</td>\n",
              "      <td>kadrun kalo lihat foto panas dingin</td>\n",
              "      <td>foto kadrun kalo lihat foto panas dingin kadru...</td>\n",
              "      <td>1</td>\n",
              "    </tr>\n",
              "    <tr>\n",
              "      <th>5</th>\n",
              "      <td>736</td>\n",
              "      <td>1</td>\n",
              "      <td>2020-06-17</td>\n",
              "      <td>event promo smartphone JNE 2020 spesial di bul...</td>\n",
              "      <td>selamat siang teman teman fb ku semuanya🤩,cuma...</td>\n",
              "      <td>736.png</td>\n",
              "      <td>event promo smartphone jne spesial juni</td>\n",
              "      <td>selamat siang teman teman fb cuman informasi r...</td>\n",
              "      <td>event promo smartphone jne spesial juni selama...</td>\n",
              "      <td>4</td>\n",
              "    </tr>\n",
              "    <tr>\n",
              "      <th>6</th>\n",
              "      <td>1161</td>\n",
              "      <td>1</td>\n",
              "      <td>2020-05-05</td>\n",
              "      <td>MEREKA SUDAH MEMPERSIAPKAN DIRI DENGAN BAIK UN...</td>\n",
              "      <td>LIHATLAH MEREKA SUDAH MEMPERSIAPKAN DIRI DENGA...</td>\n",
              "      <td>1161.png</td>\n",
              "      <td>kuasa negri</td>\n",
              "      <td>lihat kuasa negri</td>\n",
              "      <td>kuasa negri lihat kuasa negri</td>\n",
              "      <td>1</td>\n",
              "    </tr>\n",
              "    <tr>\n",
              "      <th>7</th>\n",
              "      <td>1597</td>\n",
              "      <td>1</td>\n",
              "      <td>2020-03-24</td>\n",
              "      <td>Foto Presiden Italia menangis karena tak cukup...</td>\n",
              "      <td>Italia punya fasilitas perawatan kesehatan ter...</td>\n",
              "      <td>1597.png</td>\n",
              "      <td>foto presiden italia menang lahan kubur korban...</td>\n",
              "      <td>italia fasilitas awat sehat canggih gagal kend...</td>\n",
              "      <td>foto presiden italia menang lahan kubur korban...</td>\n",
              "      <td>1</td>\n",
              "    </tr>\n",
              "    <tr>\n",
              "      <th>8</th>\n",
              "      <td>2098</td>\n",
              "      <td>1</td>\n",
              "      <td>2020-01-09</td>\n",
              "      <td>Kapolres Timor Tengah Utara , Nusa Tenggara Ti...</td>\n",
              "      <td>Polisi goblok. Bukanya cpet” d tolongin malah ...</td>\n",
              "      <td>2098.jpg</td>\n",
              "      <td>kapolres timor utara nusa tenggara timur klari...</td>\n",
              "      <td>polisi goblok buka cpet tolongin liat</td>\n",
              "      <td>kapolres timor utara nusa tenggara timur klari...</td>\n",
              "      <td>3</td>\n",
              "    </tr>\n",
              "    <tr>\n",
              "      <th>9</th>\n",
              "      <td>2226</td>\n",
              "      <td>1</td>\n",
              "      <td>2019-12-24</td>\n",
              "      <td>Video Polisi china telah menganiaya wanita uig...</td>\n",
              "      <td>Polisi china telah menganiaya wanita uighur le...</td>\n",
              "      <td>2226.png</td>\n",
              "      <td>video polisi china aniaya wanita uighur leher ...</td>\n",
              "      <td>polisi china aniaya wanita uighur leher cekik ...</td>\n",
              "      <td>video polisi china aniaya wanita uighur leher ...</td>\n",
              "      <td>3</td>\n",
              "    </tr>\n",
              "    <tr>\n",
              "      <th>10</th>\n",
              "      <td>2588</td>\n",
              "      <td>1</td>\n",
              "      <td>2019-10-13</td>\n",
              "      <td>Akhirnya, Jokowi bersedia mengundurkan diri</td>\n",
              "      <td>Akhirnya, Jokowi bersedia mengundurkan diri.\\n...</td>\n",
              "      <td>2588.png</td>\n",
              "      <td>jokowi sedia undur</td>\n",
              "      <td>jokowi sedia undur gue</td>\n",
              "      <td>jokowi sedia undur jokowi sedia undur gue</td>\n",
              "      <td>2</td>\n",
              "    </tr>\n",
              "    <tr>\n",
              "      <th>11</th>\n",
              "      <td>2875</td>\n",
              "      <td>1</td>\n",
              "      <td>2019-08-26</td>\n",
              "      <td>Info Jalur Rawan Begal dan Himbauan Untuk Tida...</td>\n",
              "      <td>Begal sudah mulai merambat ke wilayah CIANJUR…...</td>\n",
              "      <td>2875.jpg</td>\n",
              "      <td>info jalur rawan begal himbauan malam kapolres...</td>\n",
              "      <td>begal rambat wilayah cianjur wilayah rewan beg...</td>\n",
              "      <td>info jalur rawan begal himbauan malam kapolres...</td>\n",
              "      <td>2</td>\n",
              "    </tr>\n",
              "    <tr>\n",
              "      <th>12</th>\n",
              "      <td>2987</td>\n",
              "      <td>1</td>\n",
              "      <td>2019-07-29</td>\n",
              "      <td>Dirut PT Agung Podomoro Land Cosmas Batubara M...</td>\n",
              "      <td>Turut berduka cita atas\\n meninggalnya Pejuang...</td>\n",
              "      <td>2987.png</td>\n",
              "      <td>dirut pt agung podomoro land cosmas batubara t...</td>\n",
              "      <td>duka cita tinggal juang angkat cosmas batubara...</td>\n",
              "      <td>dirut pt agung podomoro land cosmas batubara t...</td>\n",
              "      <td>1</td>\n",
              "    </tr>\n",
              "    <tr>\n",
              "      <th>13</th>\n",
              "      <td>3571</td>\n",
              "      <td>1</td>\n",
              "      <td>2019-04-20</td>\n",
              "      <td>SBY Sudah Telepon Moeldoko Suruh Jokowi Akui K...</td>\n",
              "      <td>Bantu sebar ya\\nPak SBY sudah telpon Moeldoko,...</td>\n",
              "      <td>3571.png</td>\n",
              "      <td>sby telepon moeldoko suruh jokowi kalah</td>\n",
              "      <td>bantu sebar sby telpon moeldoko suruh jkw kala...</td>\n",
              "      <td>sby telepon moeldoko suruh jokowi kalah bantu ...</td>\n",
              "      <td>2</td>\n",
              "    </tr>\n",
              "    <tr>\n",
              "      <th>14</th>\n",
              "      <td>3862</td>\n",
              "      <td>1</td>\n",
              "      <td>2019-03-02</td>\n",
              "      <td>Foto Anak Rohingya Disiksa Komunis</td>\n",
              "      <td>Relakah anak cucu kita dibikin seperti anak2 r...</td>\n",
              "      <td>3862.jpg</td>\n",
              "      <td>foto anak rohingya siksa komunis</td>\n",
              "      <td>rela anak cucu bikin rohingya komunis kuasa</td>\n",
              "      <td>foto anak rohingya siksa komunis rela anak cuc...</td>\n",
              "      <td>4</td>\n",
              "    </tr>\n",
              "  </tbody>\n",
              "</table>\n",
              "</div>\n",
              "    <div class=\"colab-df-buttons\">\n",
              "\n",
              "  <div class=\"colab-df-container\">\n",
              "    <button class=\"colab-df-convert\" onclick=\"convertToInteractive('df-fa9fc2e7-4864-428e-b228-2a7cc8260931')\"\n",
              "            title=\"Convert this dataframe to an interactive table.\"\n",
              "            style=\"display:none;\">\n",
              "\n",
              "  <svg xmlns=\"http://www.w3.org/2000/svg\" height=\"24px\" viewBox=\"0 -960 960 960\">\n",
              "    <path d=\"M120-120v-720h720v720H120Zm60-500h600v-160H180v160Zm220 220h160v-160H400v160Zm0 220h160v-160H400v160ZM180-400h160v-160H180v160Zm440 0h160v-160H620v160ZM180-180h160v-160H180v160Zm440 0h160v-160H620v160Z\"/>\n",
              "  </svg>\n",
              "    </button>\n",
              "\n",
              "  <style>\n",
              "    .colab-df-container {\n",
              "      display:flex;\n",
              "      gap: 12px;\n",
              "    }\n",
              "\n",
              "    .colab-df-convert {\n",
              "      background-color: #E8F0FE;\n",
              "      border: none;\n",
              "      border-radius: 50%;\n",
              "      cursor: pointer;\n",
              "      display: none;\n",
              "      fill: #1967D2;\n",
              "      height: 32px;\n",
              "      padding: 0 0 0 0;\n",
              "      width: 32px;\n",
              "    }\n",
              "\n",
              "    .colab-df-convert:hover {\n",
              "      background-color: #E2EBFA;\n",
              "      box-shadow: 0px 1px 2px rgba(60, 64, 67, 0.3), 0px 1px 3px 1px rgba(60, 64, 67, 0.15);\n",
              "      fill: #174EA6;\n",
              "    }\n",
              "\n",
              "    .colab-df-buttons div {\n",
              "      margin-bottom: 4px;\n",
              "    }\n",
              "\n",
              "    [theme=dark] .colab-df-convert {\n",
              "      background-color: #3B4455;\n",
              "      fill: #D2E3FC;\n",
              "    }\n",
              "\n",
              "    [theme=dark] .colab-df-convert:hover {\n",
              "      background-color: #434B5C;\n",
              "      box-shadow: 0px 1px 3px 1px rgba(0, 0, 0, 0.15);\n",
              "      filter: drop-shadow(0px 1px 2px rgba(0, 0, 0, 0.3));\n",
              "      fill: #FFFFFF;\n",
              "    }\n",
              "  </style>\n",
              "\n",
              "    <script>\n",
              "      const buttonEl =\n",
              "        document.querySelector('#df-fa9fc2e7-4864-428e-b228-2a7cc8260931 button.colab-df-convert');\n",
              "      buttonEl.style.display =\n",
              "        google.colab.kernel.accessAllowed ? 'block' : 'none';\n",
              "\n",
              "      async function convertToInteractive(key) {\n",
              "        const element = document.querySelector('#df-fa9fc2e7-4864-428e-b228-2a7cc8260931');\n",
              "        const dataTable =\n",
              "          await google.colab.kernel.invokeFunction('convertToInteractive',\n",
              "                                                    [key], {});\n",
              "        if (!dataTable) return;\n",
              "\n",
              "        const docLinkHtml = 'Like what you see? Visit the ' +\n",
              "          '<a target=\"_blank\" href=https://colab.research.google.com/notebooks/data_table.ipynb>data table notebook</a>'\n",
              "          + ' to learn more about interactive tables.';\n",
              "        element.innerHTML = '';\n",
              "        dataTable['output_type'] = 'display_data';\n",
              "        await google.colab.output.renderOutput(dataTable, element);\n",
              "        const docLink = document.createElement('div');\n",
              "        docLink.innerHTML = docLinkHtml;\n",
              "        element.appendChild(docLink);\n",
              "      }\n",
              "    </script>\n",
              "  </div>\n",
              "\n",
              "\n",
              "<div id=\"df-72d98bdf-c430-4cbb-9522-641237815f6a\">\n",
              "  <button class=\"colab-df-quickchart\" onclick=\"quickchart('df-72d98bdf-c430-4cbb-9522-641237815f6a')\"\n",
              "            title=\"Suggest charts\"\n",
              "            style=\"display:none;\">\n",
              "\n",
              "<svg xmlns=\"http://www.w3.org/2000/svg\" height=\"24px\"viewBox=\"0 0 24 24\"\n",
              "     width=\"24px\">\n",
              "    <g>\n",
              "        <path d=\"M19 3H5c-1.1 0-2 .9-2 2v14c0 1.1.9 2 2 2h14c1.1 0 2-.9 2-2V5c0-1.1-.9-2-2-2zM9 17H7v-7h2v7zm4 0h-2V7h2v10zm4 0h-2v-4h2v4z\"/>\n",
              "    </g>\n",
              "</svg>\n",
              "  </button>\n",
              "\n",
              "<style>\n",
              "  .colab-df-quickchart {\n",
              "      --bg-color: #E8F0FE;\n",
              "      --fill-color: #1967D2;\n",
              "      --hover-bg-color: #E2EBFA;\n",
              "      --hover-fill-color: #174EA6;\n",
              "      --disabled-fill-color: #AAA;\n",
              "      --disabled-bg-color: #DDD;\n",
              "  }\n",
              "\n",
              "  [theme=dark] .colab-df-quickchart {\n",
              "      --bg-color: #3B4455;\n",
              "      --fill-color: #D2E3FC;\n",
              "      --hover-bg-color: #434B5C;\n",
              "      --hover-fill-color: #FFFFFF;\n",
              "      --disabled-bg-color: #3B4455;\n",
              "      --disabled-fill-color: #666;\n",
              "  }\n",
              "\n",
              "  .colab-df-quickchart {\n",
              "    background-color: var(--bg-color);\n",
              "    border: none;\n",
              "    border-radius: 50%;\n",
              "    cursor: pointer;\n",
              "    display: none;\n",
              "    fill: var(--fill-color);\n",
              "    height: 32px;\n",
              "    padding: 0;\n",
              "    width: 32px;\n",
              "  }\n",
              "\n",
              "  .colab-df-quickchart:hover {\n",
              "    background-color: var(--hover-bg-color);\n",
              "    box-shadow: 0 1px 2px rgba(60, 64, 67, 0.3), 0 1px 3px 1px rgba(60, 64, 67, 0.15);\n",
              "    fill: var(--button-hover-fill-color);\n",
              "  }\n",
              "\n",
              "  .colab-df-quickchart-complete:disabled,\n",
              "  .colab-df-quickchart-complete:disabled:hover {\n",
              "    background-color: var(--disabled-bg-color);\n",
              "    fill: var(--disabled-fill-color);\n",
              "    box-shadow: none;\n",
              "  }\n",
              "\n",
              "  .colab-df-spinner {\n",
              "    border: 2px solid var(--fill-color);\n",
              "    border-color: transparent;\n",
              "    border-bottom-color: var(--fill-color);\n",
              "    animation:\n",
              "      spin 1s steps(1) infinite;\n",
              "  }\n",
              "\n",
              "  @keyframes spin {\n",
              "    0% {\n",
              "      border-color: transparent;\n",
              "      border-bottom-color: var(--fill-color);\n",
              "      border-left-color: var(--fill-color);\n",
              "    }\n",
              "    20% {\n",
              "      border-color: transparent;\n",
              "      border-left-color: var(--fill-color);\n",
              "      border-top-color: var(--fill-color);\n",
              "    }\n",
              "    30% {\n",
              "      border-color: transparent;\n",
              "      border-left-color: var(--fill-color);\n",
              "      border-top-color: var(--fill-color);\n",
              "      border-right-color: var(--fill-color);\n",
              "    }\n",
              "    40% {\n",
              "      border-color: transparent;\n",
              "      border-right-color: var(--fill-color);\n",
              "      border-top-color: var(--fill-color);\n",
              "    }\n",
              "    60% {\n",
              "      border-color: transparent;\n",
              "      border-right-color: var(--fill-color);\n",
              "    }\n",
              "    80% {\n",
              "      border-color: transparent;\n",
              "      border-right-color: var(--fill-color);\n",
              "      border-bottom-color: var(--fill-color);\n",
              "    }\n",
              "    90% {\n",
              "      border-color: transparent;\n",
              "      border-bottom-color: var(--fill-color);\n",
              "    }\n",
              "  }\n",
              "</style>\n",
              "\n",
              "  <script>\n",
              "    async function quickchart(key) {\n",
              "      const quickchartButtonEl =\n",
              "        document.querySelector('#' + key + ' button');\n",
              "      quickchartButtonEl.disabled = true;  // To prevent multiple clicks.\n",
              "      quickchartButtonEl.classList.add('colab-df-spinner');\n",
              "      try {\n",
              "        const charts = await google.colab.kernel.invokeFunction(\n",
              "            'suggestCharts', [key], {});\n",
              "      } catch (error) {\n",
              "        console.error('Error during call to suggestCharts:', error);\n",
              "      }\n",
              "      quickchartButtonEl.classList.remove('colab-df-spinner');\n",
              "      quickchartButtonEl.classList.add('colab-df-quickchart-complete');\n",
              "    }\n",
              "    (() => {\n",
              "      let quickchartButtonEl =\n",
              "        document.querySelector('#df-72d98bdf-c430-4cbb-9522-641237815f6a button');\n",
              "      quickchartButtonEl.style.display =\n",
              "        google.colab.kernel.accessAllowed ? 'block' : 'none';\n",
              "    })();\n",
              "  </script>\n",
              "</div>\n",
              "    </div>\n",
              "  </div>\n"
            ]
          },
          "metadata": {},
          "execution_count": 62
        }
      ]
    },
    {
      "cell_type": "code",
      "source": [
        "df2[\"tanggal\"] = pd.to_datetime(df2[\"tanggal\"])\n",
        "df2[\"tahun\"] = df2[\"tanggal\"].dt.strftime('%Y')\n",
        "df2.head()"
      ],
      "metadata": {
        "colab": {
          "base_uri": "https://localhost:8080/",
          "height": 469
        },
        "id": "8qq4Gx7FCfzw",
        "outputId": "dee27124-95b6-488d-8458-74fc394cca55"
      },
      "execution_count": 63,
      "outputs": [
        {
          "output_type": "stream",
          "name": "stderr",
          "text": [
            "/usr/local/lib/python3.10/dist-packages/ipykernel/ipkernel.py:283: DeprecationWarning: `should_run_async` will not call `transform_cell` automatically in the future. Please pass the result to `transformed_cell` argument and any exception that happen during thetransform in `preprocessing_exc_tuple` in IPython 7.17 and above.\n",
            "  and should_run_async(code)\n"
          ]
        },
        {
          "output_type": "execute_result",
          "data": {
            "text/plain": [
              "    ID  label    tanggal                                              judul  \\\n",
              "0   71      1 2020-08-17  Pemakaian Masker Menyebabkan Penyakit Legionna...   \n",
              "1  461      1 2020-07-17  Instruksi Gubernur Jateng tentang penilangan  ...   \n",
              "2  495      1 2020-07-13  Foto Jim Rohn: Jokowi adalah presiden terbaik ...   \n",
              "3  550      1 2020-07-08  ini bukan politik, tapi kenyataan Pak Jokowi b...   \n",
              "4  681      1 2020-06-24       Foto Kadrun kalo lihat foto ini panas dingin   \n",
              "\n",
              "                                              narasi nama file gambar  \\\n",
              "0  A caller to a radio talk show recently shared ...           71.jpg   \n",
              "1  Yth.Seluruh Anggota Grup Sesuai Instruksi Gube...          461.png   \n",
              "2  Jokowi adalah presiden terbaik dlm sejarah ban...          495.png   \n",
              "3  Maaf Mas2 dan Mbak2, ini bukan politik, tapi k...          550.png   \n",
              "4        Kadrun kalo lihat foto ini panas dingin . .          681.jpg   \n",
              "\n",
              "                                  judul_preprocessed  \\\n",
              "0                    pakai masker sakit legionnaires   \n",
              "1  instruksi gubernur jateng tilang masker muka e...   \n",
              "2  foto jim rohn jokowi presiden sejarah bangsa i...   \n",
              "3  politik nyata jokowi hasil pulang triliun uang...   \n",
              "4           foto kadrun kalo lihat foto panas dingin   \n",
              "\n",
              "                                 narasi_preprocessed  \\\n",
              "0  caller radio talk shared wife hospitalized tol...   \n",
              "1  anggota grup sesuai instruksi gubernur jawa ha...   \n",
              "2  jokowi presiden sejarah bangsa indonesia jim r...   \n",
              "3  maaf politik nyata jokowi hasil pulang triliun...   \n",
              "4                kadrun kalo lihat foto panas dingin   \n",
              "\n",
              "                                                teks  topik tahun  \n",
              "0  pakai masker sakit legionnaires caller radio t...      4  2020  \n",
              "1  instruksi gubernur jateng tilang masker muka e...      1  2020  \n",
              "2  foto jim rohn jokowi presiden sejarah bangsa i...      1  2020  \n",
              "3  politik nyata jokowi hasil pulang triliun uang...      1  2020  \n",
              "4  foto kadrun kalo lihat foto panas dingin kadru...      1  2020  "
            ],
            "text/html": [
              "\n",
              "  <div id=\"df-98334fdc-9306-4b36-9f54-1d93f1c09fff\" class=\"colab-df-container\">\n",
              "    <div>\n",
              "<style scoped>\n",
              "    .dataframe tbody tr th:only-of-type {\n",
              "        vertical-align: middle;\n",
              "    }\n",
              "\n",
              "    .dataframe tbody tr th {\n",
              "        vertical-align: top;\n",
              "    }\n",
              "\n",
              "    .dataframe thead th {\n",
              "        text-align: right;\n",
              "    }\n",
              "</style>\n",
              "<table border=\"1\" class=\"dataframe\">\n",
              "  <thead>\n",
              "    <tr style=\"text-align: right;\">\n",
              "      <th></th>\n",
              "      <th>ID</th>\n",
              "      <th>label</th>\n",
              "      <th>tanggal</th>\n",
              "      <th>judul</th>\n",
              "      <th>narasi</th>\n",
              "      <th>nama file gambar</th>\n",
              "      <th>judul_preprocessed</th>\n",
              "      <th>narasi_preprocessed</th>\n",
              "      <th>teks</th>\n",
              "      <th>topik</th>\n",
              "      <th>tahun</th>\n",
              "    </tr>\n",
              "  </thead>\n",
              "  <tbody>\n",
              "    <tr>\n",
              "      <th>0</th>\n",
              "      <td>71</td>\n",
              "      <td>1</td>\n",
              "      <td>2020-08-17</td>\n",
              "      <td>Pemakaian Masker Menyebabkan Penyakit Legionna...</td>\n",
              "      <td>A caller to a radio talk show recently shared ...</td>\n",
              "      <td>71.jpg</td>\n",
              "      <td>pakai masker sakit legionnaires</td>\n",
              "      <td>caller radio talk shared wife hospitalized tol...</td>\n",
              "      <td>pakai masker sakit legionnaires caller radio t...</td>\n",
              "      <td>4</td>\n",
              "      <td>2020</td>\n",
              "    </tr>\n",
              "    <tr>\n",
              "      <th>1</th>\n",
              "      <td>461</td>\n",
              "      <td>1</td>\n",
              "      <td>2020-07-17</td>\n",
              "      <td>Instruksi Gubernur Jateng tentang penilangan  ...</td>\n",
              "      <td>Yth.Seluruh Anggota Grup Sesuai Instruksi Gube...</td>\n",
              "      <td>461.png</td>\n",
              "      <td>instruksi gubernur jateng tilang masker muka e...</td>\n",
              "      <td>anggota grup sesuai instruksi gubernur jawa ha...</td>\n",
              "      <td>instruksi gubernur jateng tilang masker muka e...</td>\n",
              "      <td>1</td>\n",
              "      <td>2020</td>\n",
              "    </tr>\n",
              "    <tr>\n",
              "      <th>2</th>\n",
              "      <td>495</td>\n",
              "      <td>1</td>\n",
              "      <td>2020-07-13</td>\n",
              "      <td>Foto Jim Rohn: Jokowi adalah presiden terbaik ...</td>\n",
              "      <td>Jokowi adalah presiden terbaik dlm sejarah ban...</td>\n",
              "      <td>495.png</td>\n",
              "      <td>foto jim rohn jokowi presiden sejarah bangsa i...</td>\n",
              "      <td>jokowi presiden sejarah bangsa indonesia jim r...</td>\n",
              "      <td>foto jim rohn jokowi presiden sejarah bangsa i...</td>\n",
              "      <td>1</td>\n",
              "      <td>2020</td>\n",
              "    </tr>\n",
              "    <tr>\n",
              "      <th>3</th>\n",
              "      <td>550</td>\n",
              "      <td>1</td>\n",
              "      <td>2020-07-08</td>\n",
              "      <td>ini bukan politik, tapi kenyataan Pak Jokowi b...</td>\n",
              "      <td>Maaf Mas2 dan Mbak2, ini bukan politik, tapi k...</td>\n",
              "      <td>550.png</td>\n",
              "      <td>politik nyata jokowi hasil pulang triliun uang...</td>\n",
              "      <td>maaf politik nyata jokowi hasil pulang triliun...</td>\n",
              "      <td>politik nyata jokowi hasil pulang triliun uang...</td>\n",
              "      <td>1</td>\n",
              "      <td>2020</td>\n",
              "    </tr>\n",
              "    <tr>\n",
              "      <th>4</th>\n",
              "      <td>681</td>\n",
              "      <td>1</td>\n",
              "      <td>2020-06-24</td>\n",
              "      <td>Foto Kadrun kalo lihat foto ini panas dingin</td>\n",
              "      <td>Kadrun kalo lihat foto ini panas dingin . .</td>\n",
              "      <td>681.jpg</td>\n",
              "      <td>foto kadrun kalo lihat foto panas dingin</td>\n",
              "      <td>kadrun kalo lihat foto panas dingin</td>\n",
              "      <td>foto kadrun kalo lihat foto panas dingin kadru...</td>\n",
              "      <td>1</td>\n",
              "      <td>2020</td>\n",
              "    </tr>\n",
              "  </tbody>\n",
              "</table>\n",
              "</div>\n",
              "    <div class=\"colab-df-buttons\">\n",
              "\n",
              "  <div class=\"colab-df-container\">\n",
              "    <button class=\"colab-df-convert\" onclick=\"convertToInteractive('df-98334fdc-9306-4b36-9f54-1d93f1c09fff')\"\n",
              "            title=\"Convert this dataframe to an interactive table.\"\n",
              "            style=\"display:none;\">\n",
              "\n",
              "  <svg xmlns=\"http://www.w3.org/2000/svg\" height=\"24px\" viewBox=\"0 -960 960 960\">\n",
              "    <path d=\"M120-120v-720h720v720H120Zm60-500h600v-160H180v160Zm220 220h160v-160H400v160Zm0 220h160v-160H400v160ZM180-400h160v-160H180v160Zm440 0h160v-160H620v160ZM180-180h160v-160H180v160Zm440 0h160v-160H620v160Z\"/>\n",
              "  </svg>\n",
              "    </button>\n",
              "\n",
              "  <style>\n",
              "    .colab-df-container {\n",
              "      display:flex;\n",
              "      gap: 12px;\n",
              "    }\n",
              "\n",
              "    .colab-df-convert {\n",
              "      background-color: #E8F0FE;\n",
              "      border: none;\n",
              "      border-radius: 50%;\n",
              "      cursor: pointer;\n",
              "      display: none;\n",
              "      fill: #1967D2;\n",
              "      height: 32px;\n",
              "      padding: 0 0 0 0;\n",
              "      width: 32px;\n",
              "    }\n",
              "\n",
              "    .colab-df-convert:hover {\n",
              "      background-color: #E2EBFA;\n",
              "      box-shadow: 0px 1px 2px rgba(60, 64, 67, 0.3), 0px 1px 3px 1px rgba(60, 64, 67, 0.15);\n",
              "      fill: #174EA6;\n",
              "    }\n",
              "\n",
              "    .colab-df-buttons div {\n",
              "      margin-bottom: 4px;\n",
              "    }\n",
              "\n",
              "    [theme=dark] .colab-df-convert {\n",
              "      background-color: #3B4455;\n",
              "      fill: #D2E3FC;\n",
              "    }\n",
              "\n",
              "    [theme=dark] .colab-df-convert:hover {\n",
              "      background-color: #434B5C;\n",
              "      box-shadow: 0px 1px 3px 1px rgba(0, 0, 0, 0.15);\n",
              "      filter: drop-shadow(0px 1px 2px rgba(0, 0, 0, 0.3));\n",
              "      fill: #FFFFFF;\n",
              "    }\n",
              "  </style>\n",
              "\n",
              "    <script>\n",
              "      const buttonEl =\n",
              "        document.querySelector('#df-98334fdc-9306-4b36-9f54-1d93f1c09fff button.colab-df-convert');\n",
              "      buttonEl.style.display =\n",
              "        google.colab.kernel.accessAllowed ? 'block' : 'none';\n",
              "\n",
              "      async function convertToInteractive(key) {\n",
              "        const element = document.querySelector('#df-98334fdc-9306-4b36-9f54-1d93f1c09fff');\n",
              "        const dataTable =\n",
              "          await google.colab.kernel.invokeFunction('convertToInteractive',\n",
              "                                                    [key], {});\n",
              "        if (!dataTable) return;\n",
              "\n",
              "        const docLinkHtml = 'Like what you see? Visit the ' +\n",
              "          '<a target=\"_blank\" href=https://colab.research.google.com/notebooks/data_table.ipynb>data table notebook</a>'\n",
              "          + ' to learn more about interactive tables.';\n",
              "        element.innerHTML = '';\n",
              "        dataTable['output_type'] = 'display_data';\n",
              "        await google.colab.output.renderOutput(dataTable, element);\n",
              "        const docLink = document.createElement('div');\n",
              "        docLink.innerHTML = docLinkHtml;\n",
              "        element.appendChild(docLink);\n",
              "      }\n",
              "    </script>\n",
              "  </div>\n",
              "\n",
              "\n",
              "<div id=\"df-2cc44651-9c6b-4ee8-a522-e7b49d16fc79\">\n",
              "  <button class=\"colab-df-quickchart\" onclick=\"quickchart('df-2cc44651-9c6b-4ee8-a522-e7b49d16fc79')\"\n",
              "            title=\"Suggest charts\"\n",
              "            style=\"display:none;\">\n",
              "\n",
              "<svg xmlns=\"http://www.w3.org/2000/svg\" height=\"24px\"viewBox=\"0 0 24 24\"\n",
              "     width=\"24px\">\n",
              "    <g>\n",
              "        <path d=\"M19 3H5c-1.1 0-2 .9-2 2v14c0 1.1.9 2 2 2h14c1.1 0 2-.9 2-2V5c0-1.1-.9-2-2-2zM9 17H7v-7h2v7zm4 0h-2V7h2v10zm4 0h-2v-4h2v4z\"/>\n",
              "    </g>\n",
              "</svg>\n",
              "  </button>\n",
              "\n",
              "<style>\n",
              "  .colab-df-quickchart {\n",
              "      --bg-color: #E8F0FE;\n",
              "      --fill-color: #1967D2;\n",
              "      --hover-bg-color: #E2EBFA;\n",
              "      --hover-fill-color: #174EA6;\n",
              "      --disabled-fill-color: #AAA;\n",
              "      --disabled-bg-color: #DDD;\n",
              "  }\n",
              "\n",
              "  [theme=dark] .colab-df-quickchart {\n",
              "      --bg-color: #3B4455;\n",
              "      --fill-color: #D2E3FC;\n",
              "      --hover-bg-color: #434B5C;\n",
              "      --hover-fill-color: #FFFFFF;\n",
              "      --disabled-bg-color: #3B4455;\n",
              "      --disabled-fill-color: #666;\n",
              "  }\n",
              "\n",
              "  .colab-df-quickchart {\n",
              "    background-color: var(--bg-color);\n",
              "    border: none;\n",
              "    border-radius: 50%;\n",
              "    cursor: pointer;\n",
              "    display: none;\n",
              "    fill: var(--fill-color);\n",
              "    height: 32px;\n",
              "    padding: 0;\n",
              "    width: 32px;\n",
              "  }\n",
              "\n",
              "  .colab-df-quickchart:hover {\n",
              "    background-color: var(--hover-bg-color);\n",
              "    box-shadow: 0 1px 2px rgba(60, 64, 67, 0.3), 0 1px 3px 1px rgba(60, 64, 67, 0.15);\n",
              "    fill: var(--button-hover-fill-color);\n",
              "  }\n",
              "\n",
              "  .colab-df-quickchart-complete:disabled,\n",
              "  .colab-df-quickchart-complete:disabled:hover {\n",
              "    background-color: var(--disabled-bg-color);\n",
              "    fill: var(--disabled-fill-color);\n",
              "    box-shadow: none;\n",
              "  }\n",
              "\n",
              "  .colab-df-spinner {\n",
              "    border: 2px solid var(--fill-color);\n",
              "    border-color: transparent;\n",
              "    border-bottom-color: var(--fill-color);\n",
              "    animation:\n",
              "      spin 1s steps(1) infinite;\n",
              "  }\n",
              "\n",
              "  @keyframes spin {\n",
              "    0% {\n",
              "      border-color: transparent;\n",
              "      border-bottom-color: var(--fill-color);\n",
              "      border-left-color: var(--fill-color);\n",
              "    }\n",
              "    20% {\n",
              "      border-color: transparent;\n",
              "      border-left-color: var(--fill-color);\n",
              "      border-top-color: var(--fill-color);\n",
              "    }\n",
              "    30% {\n",
              "      border-color: transparent;\n",
              "      border-left-color: var(--fill-color);\n",
              "      border-top-color: var(--fill-color);\n",
              "      border-right-color: var(--fill-color);\n",
              "    }\n",
              "    40% {\n",
              "      border-color: transparent;\n",
              "      border-right-color: var(--fill-color);\n",
              "      border-top-color: var(--fill-color);\n",
              "    }\n",
              "    60% {\n",
              "      border-color: transparent;\n",
              "      border-right-color: var(--fill-color);\n",
              "    }\n",
              "    80% {\n",
              "      border-color: transparent;\n",
              "      border-right-color: var(--fill-color);\n",
              "      border-bottom-color: var(--fill-color);\n",
              "    }\n",
              "    90% {\n",
              "      border-color: transparent;\n",
              "      border-bottom-color: var(--fill-color);\n",
              "    }\n",
              "  }\n",
              "</style>\n",
              "\n",
              "  <script>\n",
              "    async function quickchart(key) {\n",
              "      const quickchartButtonEl =\n",
              "        document.querySelector('#' + key + ' button');\n",
              "      quickchartButtonEl.disabled = true;  // To prevent multiple clicks.\n",
              "      quickchartButtonEl.classList.add('colab-df-spinner');\n",
              "      try {\n",
              "        const charts = await google.colab.kernel.invokeFunction(\n",
              "            'suggestCharts', [key], {});\n",
              "      } catch (error) {\n",
              "        console.error('Error during call to suggestCharts:', error);\n",
              "      }\n",
              "      quickchartButtonEl.classList.remove('colab-df-spinner');\n",
              "      quickchartButtonEl.classList.add('colab-df-quickchart-complete');\n",
              "    }\n",
              "    (() => {\n",
              "      let quickchartButtonEl =\n",
              "        document.querySelector('#df-2cc44651-9c6b-4ee8-a522-e7b49d16fc79 button');\n",
              "      quickchartButtonEl.style.display =\n",
              "        google.colab.kernel.accessAllowed ? 'block' : 'none';\n",
              "    })();\n",
              "  </script>\n",
              "</div>\n",
              "    </div>\n",
              "  </div>\n"
            ]
          },
          "metadata": {},
          "execution_count": 63
        }
      ]
    },
    {
      "cell_type": "code",
      "source": [
        "hoaks2 = df2[df2[\"label\"]==1]"
      ],
      "metadata": {
        "colab": {
          "base_uri": "https://localhost:8080/"
        },
        "id": "L_tfEnCODCe8",
        "outputId": "f18ff726-3719-47b5-b226-20e1d6173b2d"
      },
      "execution_count": 64,
      "outputs": [
        {
          "output_type": "stream",
          "name": "stderr",
          "text": [
            "/usr/local/lib/python3.10/dist-packages/ipykernel/ipkernel.py:283: DeprecationWarning: `should_run_async` will not call `transform_cell` automatically in the future. Please pass the result to `transformed_cell` argument and any exception that happen during thetransform in `preprocessing_exc_tuple` in IPython 7.17 and above.\n",
            "  and should_run_async(code)\n"
          ]
        }
      ]
    },
    {
      "cell_type": "code",
      "source": [
        "df_topik = hoaks2.groupby([\"tahun\", \"topik\"], as_index = False)[\"ID\"].count()\n",
        "df_topik.rename(columns = {'ID': 'count'}, inplace = True)\n",
        "value_dict = {1: 'Politik', 2: 'Kesehatan', 3: 'Agama', 4: 'Ketenagakerjaan'}\n",
        "df_topik['topik2'] = df_topik['topik'].map(value_dict)\n",
        "df_topik.head()"
      ],
      "metadata": {
        "colab": {
          "base_uri": "https://localhost:8080/",
          "height": 261
        },
        "id": "SyqG0D4AlxqR",
        "outputId": "de7ef433-5079-4294-94d0-d613f8c68f99"
      },
      "execution_count": 69,
      "outputs": [
        {
          "output_type": "stream",
          "name": "stderr",
          "text": [
            "/usr/local/lib/python3.10/dist-packages/ipykernel/ipkernel.py:283: DeprecationWarning: `should_run_async` will not call `transform_cell` automatically in the future. Please pass the result to `transformed_cell` argument and any exception that happen during thetransform in `preprocessing_exc_tuple` in IPython 7.17 and above.\n",
            "  and should_run_async(code)\n"
          ]
        },
        {
          "output_type": "execute_result",
          "data": {
            "text/plain": [
              "  tahun  topik  count           topik2\n",
              "0  2015      1     13          Politik\n",
              "1  2015      2     10        Kesehatan\n",
              "2  2015      3      8            Agama\n",
              "3  2015      4     13  Ketenagakerjaan\n",
              "4  2016      1     37          Politik"
            ],
            "text/html": [
              "\n",
              "  <div id=\"df-2fd90aa0-3b2b-4007-bf93-8cb061dac4e2\" class=\"colab-df-container\">\n",
              "    <div>\n",
              "<style scoped>\n",
              "    .dataframe tbody tr th:only-of-type {\n",
              "        vertical-align: middle;\n",
              "    }\n",
              "\n",
              "    .dataframe tbody tr th {\n",
              "        vertical-align: top;\n",
              "    }\n",
              "\n",
              "    .dataframe thead th {\n",
              "        text-align: right;\n",
              "    }\n",
              "</style>\n",
              "<table border=\"1\" class=\"dataframe\">\n",
              "  <thead>\n",
              "    <tr style=\"text-align: right;\">\n",
              "      <th></th>\n",
              "      <th>tahun</th>\n",
              "      <th>topik</th>\n",
              "      <th>count</th>\n",
              "      <th>topik2</th>\n",
              "    </tr>\n",
              "  </thead>\n",
              "  <tbody>\n",
              "    <tr>\n",
              "      <th>0</th>\n",
              "      <td>2015</td>\n",
              "      <td>1</td>\n",
              "      <td>13</td>\n",
              "      <td>Politik</td>\n",
              "    </tr>\n",
              "    <tr>\n",
              "      <th>1</th>\n",
              "      <td>2015</td>\n",
              "      <td>2</td>\n",
              "      <td>10</td>\n",
              "      <td>Kesehatan</td>\n",
              "    </tr>\n",
              "    <tr>\n",
              "      <th>2</th>\n",
              "      <td>2015</td>\n",
              "      <td>3</td>\n",
              "      <td>8</td>\n",
              "      <td>Agama</td>\n",
              "    </tr>\n",
              "    <tr>\n",
              "      <th>3</th>\n",
              "      <td>2015</td>\n",
              "      <td>4</td>\n",
              "      <td>13</td>\n",
              "      <td>Ketenagakerjaan</td>\n",
              "    </tr>\n",
              "    <tr>\n",
              "      <th>4</th>\n",
              "      <td>2016</td>\n",
              "      <td>1</td>\n",
              "      <td>37</td>\n",
              "      <td>Politik</td>\n",
              "    </tr>\n",
              "  </tbody>\n",
              "</table>\n",
              "</div>\n",
              "    <div class=\"colab-df-buttons\">\n",
              "\n",
              "  <div class=\"colab-df-container\">\n",
              "    <button class=\"colab-df-convert\" onclick=\"convertToInteractive('df-2fd90aa0-3b2b-4007-bf93-8cb061dac4e2')\"\n",
              "            title=\"Convert this dataframe to an interactive table.\"\n",
              "            style=\"display:none;\">\n",
              "\n",
              "  <svg xmlns=\"http://www.w3.org/2000/svg\" height=\"24px\" viewBox=\"0 -960 960 960\">\n",
              "    <path d=\"M120-120v-720h720v720H120Zm60-500h600v-160H180v160Zm220 220h160v-160H400v160Zm0 220h160v-160H400v160ZM180-400h160v-160H180v160Zm440 0h160v-160H620v160ZM180-180h160v-160H180v160Zm440 0h160v-160H620v160Z\"/>\n",
              "  </svg>\n",
              "    </button>\n",
              "\n",
              "  <style>\n",
              "    .colab-df-container {\n",
              "      display:flex;\n",
              "      gap: 12px;\n",
              "    }\n",
              "\n",
              "    .colab-df-convert {\n",
              "      background-color: #E8F0FE;\n",
              "      border: none;\n",
              "      border-radius: 50%;\n",
              "      cursor: pointer;\n",
              "      display: none;\n",
              "      fill: #1967D2;\n",
              "      height: 32px;\n",
              "      padding: 0 0 0 0;\n",
              "      width: 32px;\n",
              "    }\n",
              "\n",
              "    .colab-df-convert:hover {\n",
              "      background-color: #E2EBFA;\n",
              "      box-shadow: 0px 1px 2px rgba(60, 64, 67, 0.3), 0px 1px 3px 1px rgba(60, 64, 67, 0.15);\n",
              "      fill: #174EA6;\n",
              "    }\n",
              "\n",
              "    .colab-df-buttons div {\n",
              "      margin-bottom: 4px;\n",
              "    }\n",
              "\n",
              "    [theme=dark] .colab-df-convert {\n",
              "      background-color: #3B4455;\n",
              "      fill: #D2E3FC;\n",
              "    }\n",
              "\n",
              "    [theme=dark] .colab-df-convert:hover {\n",
              "      background-color: #434B5C;\n",
              "      box-shadow: 0px 1px 3px 1px rgba(0, 0, 0, 0.15);\n",
              "      filter: drop-shadow(0px 1px 2px rgba(0, 0, 0, 0.3));\n",
              "      fill: #FFFFFF;\n",
              "    }\n",
              "  </style>\n",
              "\n",
              "    <script>\n",
              "      const buttonEl =\n",
              "        document.querySelector('#df-2fd90aa0-3b2b-4007-bf93-8cb061dac4e2 button.colab-df-convert');\n",
              "      buttonEl.style.display =\n",
              "        google.colab.kernel.accessAllowed ? 'block' : 'none';\n",
              "\n",
              "      async function convertToInteractive(key) {\n",
              "        const element = document.querySelector('#df-2fd90aa0-3b2b-4007-bf93-8cb061dac4e2');\n",
              "        const dataTable =\n",
              "          await google.colab.kernel.invokeFunction('convertToInteractive',\n",
              "                                                    [key], {});\n",
              "        if (!dataTable) return;\n",
              "\n",
              "        const docLinkHtml = 'Like what you see? Visit the ' +\n",
              "          '<a target=\"_blank\" href=https://colab.research.google.com/notebooks/data_table.ipynb>data table notebook</a>'\n",
              "          + ' to learn more about interactive tables.';\n",
              "        element.innerHTML = '';\n",
              "        dataTable['output_type'] = 'display_data';\n",
              "        await google.colab.output.renderOutput(dataTable, element);\n",
              "        const docLink = document.createElement('div');\n",
              "        docLink.innerHTML = docLinkHtml;\n",
              "        element.appendChild(docLink);\n",
              "      }\n",
              "    </script>\n",
              "  </div>\n",
              "\n",
              "\n",
              "<div id=\"df-d008cdcb-2495-4658-ae08-c7cd1a724854\">\n",
              "  <button class=\"colab-df-quickchart\" onclick=\"quickchart('df-d008cdcb-2495-4658-ae08-c7cd1a724854')\"\n",
              "            title=\"Suggest charts\"\n",
              "            style=\"display:none;\">\n",
              "\n",
              "<svg xmlns=\"http://www.w3.org/2000/svg\" height=\"24px\"viewBox=\"0 0 24 24\"\n",
              "     width=\"24px\">\n",
              "    <g>\n",
              "        <path d=\"M19 3H5c-1.1 0-2 .9-2 2v14c0 1.1.9 2 2 2h14c1.1 0 2-.9 2-2V5c0-1.1-.9-2-2-2zM9 17H7v-7h2v7zm4 0h-2V7h2v10zm4 0h-2v-4h2v4z\"/>\n",
              "    </g>\n",
              "</svg>\n",
              "  </button>\n",
              "\n",
              "<style>\n",
              "  .colab-df-quickchart {\n",
              "      --bg-color: #E8F0FE;\n",
              "      --fill-color: #1967D2;\n",
              "      --hover-bg-color: #E2EBFA;\n",
              "      --hover-fill-color: #174EA6;\n",
              "      --disabled-fill-color: #AAA;\n",
              "      --disabled-bg-color: #DDD;\n",
              "  }\n",
              "\n",
              "  [theme=dark] .colab-df-quickchart {\n",
              "      --bg-color: #3B4455;\n",
              "      --fill-color: #D2E3FC;\n",
              "      --hover-bg-color: #434B5C;\n",
              "      --hover-fill-color: #FFFFFF;\n",
              "      --disabled-bg-color: #3B4455;\n",
              "      --disabled-fill-color: #666;\n",
              "  }\n",
              "\n",
              "  .colab-df-quickchart {\n",
              "    background-color: var(--bg-color);\n",
              "    border: none;\n",
              "    border-radius: 50%;\n",
              "    cursor: pointer;\n",
              "    display: none;\n",
              "    fill: var(--fill-color);\n",
              "    height: 32px;\n",
              "    padding: 0;\n",
              "    width: 32px;\n",
              "  }\n",
              "\n",
              "  .colab-df-quickchart:hover {\n",
              "    background-color: var(--hover-bg-color);\n",
              "    box-shadow: 0 1px 2px rgba(60, 64, 67, 0.3), 0 1px 3px 1px rgba(60, 64, 67, 0.15);\n",
              "    fill: var(--button-hover-fill-color);\n",
              "  }\n",
              "\n",
              "  .colab-df-quickchart-complete:disabled,\n",
              "  .colab-df-quickchart-complete:disabled:hover {\n",
              "    background-color: var(--disabled-bg-color);\n",
              "    fill: var(--disabled-fill-color);\n",
              "    box-shadow: none;\n",
              "  }\n",
              "\n",
              "  .colab-df-spinner {\n",
              "    border: 2px solid var(--fill-color);\n",
              "    border-color: transparent;\n",
              "    border-bottom-color: var(--fill-color);\n",
              "    animation:\n",
              "      spin 1s steps(1) infinite;\n",
              "  }\n",
              "\n",
              "  @keyframes spin {\n",
              "    0% {\n",
              "      border-color: transparent;\n",
              "      border-bottom-color: var(--fill-color);\n",
              "      border-left-color: var(--fill-color);\n",
              "    }\n",
              "    20% {\n",
              "      border-color: transparent;\n",
              "      border-left-color: var(--fill-color);\n",
              "      border-top-color: var(--fill-color);\n",
              "    }\n",
              "    30% {\n",
              "      border-color: transparent;\n",
              "      border-left-color: var(--fill-color);\n",
              "      border-top-color: var(--fill-color);\n",
              "      border-right-color: var(--fill-color);\n",
              "    }\n",
              "    40% {\n",
              "      border-color: transparent;\n",
              "      border-right-color: var(--fill-color);\n",
              "      border-top-color: var(--fill-color);\n",
              "    }\n",
              "    60% {\n",
              "      border-color: transparent;\n",
              "      border-right-color: var(--fill-color);\n",
              "    }\n",
              "    80% {\n",
              "      border-color: transparent;\n",
              "      border-right-color: var(--fill-color);\n",
              "      border-bottom-color: var(--fill-color);\n",
              "    }\n",
              "    90% {\n",
              "      border-color: transparent;\n",
              "      border-bottom-color: var(--fill-color);\n",
              "    }\n",
              "  }\n",
              "</style>\n",
              "\n",
              "  <script>\n",
              "    async function quickchart(key) {\n",
              "      const quickchartButtonEl =\n",
              "        document.querySelector('#' + key + ' button');\n",
              "      quickchartButtonEl.disabled = true;  // To prevent multiple clicks.\n",
              "      quickchartButtonEl.classList.add('colab-df-spinner');\n",
              "      try {\n",
              "        const charts = await google.colab.kernel.invokeFunction(\n",
              "            'suggestCharts', [key], {});\n",
              "      } catch (error) {\n",
              "        console.error('Error during call to suggestCharts:', error);\n",
              "      }\n",
              "      quickchartButtonEl.classList.remove('colab-df-spinner');\n",
              "      quickchartButtonEl.classList.add('colab-df-quickchart-complete');\n",
              "    }\n",
              "    (() => {\n",
              "      let quickchartButtonEl =\n",
              "        document.querySelector('#df-d008cdcb-2495-4658-ae08-c7cd1a724854 button');\n",
              "      quickchartButtonEl.style.display =\n",
              "        google.colab.kernel.accessAllowed ? 'block' : 'none';\n",
              "    })();\n",
              "  </script>\n",
              "</div>\n",
              "    </div>\n",
              "  </div>\n"
            ]
          },
          "metadata": {},
          "execution_count": 69
        }
      ]
    },
    {
      "cell_type": "code",
      "source": [
        "import datetime as dt\n",
        "fig, ax = plt.subplots()\n",
        "\n",
        "for key, data in df_topik.groupby('topik2'):\n",
        "    data.plot(x = 'tahun', y = 'count', ax = ax, label = key)\n",
        "plt.xlabel('Tahun')\n",
        "plt.ylabel('Jumlah')\n",
        "plt.title('Grafik Tren Jumlah Topik Hoaks')"
      ],
      "metadata": {
        "colab": {
          "base_uri": "https://localhost:8080/",
          "height": 656
        },
        "id": "RACAuosxJn0C",
        "outputId": "273f0515-37d5-4a94-d2c6-7af4f33f26ba"
      },
      "execution_count": 71,
      "outputs": [
        {
          "output_type": "stream",
          "name": "stderr",
          "text": [
            "/usr/local/lib/python3.10/dist-packages/ipykernel/ipkernel.py:283: DeprecationWarning: `should_run_async` will not call `transform_cell` automatically in the future. Please pass the result to `transformed_cell` argument and any exception that happen during thetransform in `preprocessing_exc_tuple` in IPython 7.17 and above.\n",
            "  and should_run_async(code)\n",
            "/usr/local/lib/python3.10/dist-packages/pandas/plotting/_matplotlib/core.py:792: MatplotlibDeprecationWarning: The legendHandles attribute was deprecated in Matplotlib 3.7 and will be removed two minor releases later. Use legend_handles instead.\n",
            "  handles = leg.legendHandles\n",
            "/usr/local/lib/python3.10/dist-packages/pandas/plotting/_matplotlib/core.py:792: MatplotlibDeprecationWarning: The legendHandles attribute was deprecated in Matplotlib 3.7 and will be removed two minor releases later. Use legend_handles instead.\n",
            "  handles = leg.legendHandles\n",
            "/usr/local/lib/python3.10/dist-packages/pandas/plotting/_matplotlib/core.py:792: MatplotlibDeprecationWarning: The legendHandles attribute was deprecated in Matplotlib 3.7 and will be removed two minor releases later. Use legend_handles instead.\n",
            "  handles = leg.legendHandles\n"
          ]
        },
        {
          "output_type": "execute_result",
          "data": {
            "text/plain": [
              "Text(0.5, 1.0, 'Grafik Tren Jumlah Topik Hoaks')"
            ]
          },
          "metadata": {},
          "execution_count": 71
        },
        {
          "output_type": "display_data",
          "data": {
            "text/plain": [
              "<Figure size 640x480 with 1 Axes>"
            ],
            "image/png": "[encoded data removed]"
          },
          "metadata": {}
        }
      ]
    },
    {
      "cell_type": "markdown",
      "source": [
        "Terlihat bahwa setelah tahun 2019, topik-topik yang berkaitan dengan politik yang berupa hoaks meningkat drastis. Hal tersebut diduga karena Pemilu tahun 2019, di mana terdapat kemungkinan kedua belah pendukung pasangan calon presiden saling menyebarkan informasi yang tidak valid."
      ],
      "metadata": {
        "id": "c1cOFEBLhzZz"
      }
    },
    {
      "cell_type": "markdown",
      "source": [
        "# **Laporan Analisis Data**"
      ],
      "metadata": {
        "id": "P8Yvb0mGiFSF"
      }
    },
    {
      "cell_type": "markdown",
      "source": [
        "## Model Klasifikasi"
      ],
      "metadata": {
        "id": "yATOInHqiSIo"
      }
    },
    {
      "cell_type": "markdown",
      "source": [
        "**Model klasifikasi terbaik** untuk mengklasifikasikan apakah suatu dokumen merupakan hoaks atau tidak pada data *hoax* dari https://www.mafindo.or.id/ yaitu **XGBoost dengan akurasi sebesar 84.96%**."
      ],
      "metadata": {
        "id": "W7Pf9nXRiWID"
      }
    },
    {
      "cell_type": "markdown",
      "source": [
        "## Insight 1"
      ],
      "metadata": {
        "id": "sVMtl6iMjSRc"
      }
    },
    {
      "cell_type": "code",
      "source": [
        "ins1 = df_topik.groupby([\"topik2\"], as_index = False)[\"count\"].sum()\n",
        "ins1[\"percentage\"] = ins1[\"count\"]*100/sum(ins1[\"count\"])\n",
        "ins1"
      ],
      "metadata": {
        "colab": {
          "base_uri": "https://localhost:8080/",
          "height": 230
        },
        "id": "8UPsudwXjYAt",
        "outputId": "93f6ce76-4b08-4423-aa48-71058a9600ce"
      },
      "execution_count": 73,
      "outputs": [
        {
          "output_type": "stream",
          "name": "stderr",
          "text": [
            "/usr/local/lib/python3.10/dist-packages/ipykernel/ipkernel.py:283: DeprecationWarning: `should_run_async` will not call `transform_cell` automatically in the future. Please pass the result to `transformed_cell` argument and any exception that happen during thetransform in `preprocessing_exc_tuple` in IPython 7.17 and above.\n",
            "  and should_run_async(code)\n"
          ]
        },
        {
          "output_type": "execute_result",
          "data": {
            "text/plain": [
              "            topik2  count  percentage\n",
              "0            Agama    880   22.857143\n",
              "1        Kesehatan   1116   28.987013\n",
              "2  Ketenagakerjaan    932   24.207792\n",
              "3          Politik    922   23.948052"
            ],
            "text/html": [
              "\n",
              "  <div id=\"df-ac523043-b722-469f-b85b-546e7ee866b8\" class=\"colab-df-container\">\n",
              "    <div>\n",
              "<style scoped>\n",
              "    .dataframe tbody tr th:only-of-type {\n",
              "        vertical-align: middle;\n",
              "    }\n",
              "\n",
              "    .dataframe tbody tr th {\n",
              "        vertical-align: top;\n",
              "    }\n",
              "\n",
              "    .dataframe thead th {\n",
              "        text-align: right;\n",
              "    }\n",
              "</style>\n",
              "<table border=\"1\" class=\"dataframe\">\n",
              "  <thead>\n",
              "    <tr style=\"text-align: right;\">\n",
              "      <th></th>\n",
              "      <th>topik2</th>\n",
              "      <th>count</th>\n",
              "      <th>percentage</th>\n",
              "    </tr>\n",
              "  </thead>\n",
              "  <tbody>\n",
              "    <tr>\n",
              "      <th>0</th>\n",
              "      <td>Agama</td>\n",
              "      <td>880</td>\n",
              "      <td>22.857143</td>\n",
              "    </tr>\n",
              "    <tr>\n",
              "      <th>1</th>\n",
              "      <td>Kesehatan</td>\n",
              "      <td>1116</td>\n",
              "      <td>28.987013</td>\n",
              "    </tr>\n",
              "    <tr>\n",
              "      <th>2</th>\n",
              "      <td>Ketenagakerjaan</td>\n",
              "      <td>932</td>\n",
              "      <td>24.207792</td>\n",
              "    </tr>\n",
              "    <tr>\n",
              "      <th>3</th>\n",
              "      <td>Politik</td>\n",
              "      <td>922</td>\n",
              "      <td>23.948052</td>\n",
              "    </tr>\n",
              "  </tbody>\n",
              "</table>\n",
              "</div>\n",
              "    <div class=\"colab-df-buttons\">\n",
              "\n",
              "  <div class=\"colab-df-container\">\n",
              "    <button class=\"colab-df-convert\" onclick=\"convertToInteractive('df-ac523043-b722-469f-b85b-546e7ee866b8')\"\n",
              "            title=\"Convert this dataframe to an interactive table.\"\n",
              "            style=\"display:none;\">\n",
              "\n",
              "  <svg xmlns=\"http://www.w3.org/2000/svg\" height=\"24px\" viewBox=\"0 -960 960 960\">\n",
              "    <path d=\"M120-120v-720h720v720H120Zm60-500h600v-160H180v160Zm220 220h160v-160H400v160Zm0 220h160v-160H400v160ZM180-400h160v-160H180v160Zm440 0h160v-160H620v160ZM180-180h160v-160H180v160Zm440 0h160v-160H620v160Z\"/>\n",
              "  </svg>\n",
              "    </button>\n",
              "\n",
              "  <style>\n",
              "    .colab-df-container {\n",
              "      display:flex;\n",
              "      gap: 12px;\n",
              "    }\n",
              "\n",
              "    .colab-df-convert {\n",
              "      background-color: #E8F0FE;\n",
              "      border: none;\n",
              "      border-radius: 50%;\n",
              "      cursor: pointer;\n",
              "      display: none;\n",
              "      fill: #1967D2;\n",
              "      height: 32px;\n",
              "      padding: 0 0 0 0;\n",
              "      width: 32px;\n",
              "    }\n",
              "\n",
              "    .colab-df-convert:hover {\n",
              "      background-color: #E2EBFA;\n",
              "      box-shadow: 0px 1px 2px rgba(60, 64, 67, 0.3), 0px 1px 3px 1px rgba(60, 64, 67, 0.15);\n",
              "      fill: #174EA6;\n",
              "    }\n",
              "\n",
              "    .colab-df-buttons div {\n",
              "      margin-bottom: 4px;\n",
              "    }\n",
              "\n",
              "    [theme=dark] .colab-df-convert {\n",
              "      background-color: #3B4455;\n",
              "      fill: #D2E3FC;\n",
              "    }\n",
              "\n",
              "    [theme=dark] .colab-df-convert:hover {\n",
              "      background-color: #434B5C;\n",
              "      box-shadow: 0px 1px 3px 1px rgba(0, 0, 0, 0.15);\n",
              "      filter: drop-shadow(0px 1px 2px rgba(0, 0, 0, 0.3));\n",
              "      fill: #FFFFFF;\n",
              "    }\n",
              "  </style>\n",
              "\n",
              "    <script>\n",
              "      const buttonEl =\n",
              "        document.querySelector('#df-ac523043-b722-469f-b85b-546e7ee866b8 button.colab-df-convert');\n",
              "      buttonEl.style.display =\n",
              "        google.colab.kernel.accessAllowed ? 'block' : 'none';\n",
              "\n",
              "      async function convertToInteractive(key) {\n",
              "        const element = document.querySelector('#df-ac523043-b722-469f-b85b-546e7ee866b8');\n",
              "        const dataTable =\n",
              "          await google.colab.kernel.invokeFunction('convertToInteractive',\n",
              "                                                    [key], {});\n",
              "        if (!dataTable) return;\n",
              "\n",
              "        const docLinkHtml = 'Like what you see? Visit the ' +\n",
              "          '<a target=\"_blank\" href=https://colab.research.google.com/notebooks/data_table.ipynb>data table notebook</a>'\n",
              "          + ' to learn more about interactive tables.';\n",
              "        element.innerHTML = '';\n",
              "        dataTable['output_type'] = 'display_data';\n",
              "        await google.colab.output.renderOutput(dataTable, element);\n",
              "        const docLink = document.createElement('div');\n",
              "        docLink.innerHTML = docLinkHtml;\n",
              "        element.appendChild(docLink);\n",
              "      }\n",
              "    </script>\n",
              "  </div>\n",
              "\n",
              "\n",
              "<div id=\"df-a3b160a3-a2b3-4df3-996b-2444918a3ce4\">\n",
              "  <button class=\"colab-df-quickchart\" onclick=\"quickchart('df-a3b160a3-a2b3-4df3-996b-2444918a3ce4')\"\n",
              "            title=\"Suggest charts\"\n",
              "            style=\"display:none;\">\n",
              "\n",
              "<svg xmlns=\"http://www.w3.org/2000/svg\" height=\"24px\"viewBox=\"0 0 24 24\"\n",
              "     width=\"24px\">\n",
              "    <g>\n",
              "        <path d=\"M19 3H5c-1.1 0-2 .9-2 2v14c0 1.1.9 2 2 2h14c1.1 0 2-.9 2-2V5c0-1.1-.9-2-2-2zM9 17H7v-7h2v7zm4 0h-2V7h2v10zm4 0h-2v-4h2v4z\"/>\n",
              "    </g>\n",
              "</svg>\n",
              "  </button>\n",
              "\n",
              "<style>\n",
              "  .colab-df-quickchart {\n",
              "      --bg-color: #E8F0FE;\n",
              "      --fill-color: #1967D2;\n",
              "      --hover-bg-color: #E2EBFA;\n",
              "      --hover-fill-color: #174EA6;\n",
              "      --disabled-fill-color: #AAA;\n",
              "      --disabled-bg-color: #DDD;\n",
              "  }\n",
              "\n",
              "  [theme=dark] .colab-df-quickchart {\n",
              "      --bg-color: #3B4455;\n",
              "      --fill-color: #D2E3FC;\n",
              "      --hover-bg-color: #434B5C;\n",
              "      --hover-fill-color: #FFFFFF;\n",
              "      --disabled-bg-color: #3B4455;\n",
              "      --disabled-fill-color: #666;\n",
              "  }\n",
              "\n",
              "  .colab-df-quickchart {\n",
              "    background-color: var(--bg-color);\n",
              "    border: none;\n",
              "    border-radius: 50%;\n",
              "    cursor: pointer;\n",
              "    display: none;\n",
              "    fill: var(--fill-color);\n",
              "    height: 32px;\n",
              "    padding: 0;\n",
              "    width: 32px;\n",
              "  }\n",
              "\n",
              "  .colab-df-quickchart:hover {\n",
              "    background-color: var(--hover-bg-color);\n",
              "    box-shadow: 0 1px 2px rgba(60, 64, 67, 0.3), 0 1px 3px 1px rgba(60, 64, 67, 0.15);\n",
              "    fill: var(--button-hover-fill-color);\n",
              "  }\n",
              "\n",
              "  .colab-df-quickchart-complete:disabled,\n",
              "  .colab-df-quickchart-complete:disabled:hover {\n",
              "    background-color: var(--disabled-bg-color);\n",
              "    fill: var(--disabled-fill-color);\n",
              "    box-shadow: none;\n",
              "  }\n",
              "\n",
              "  .colab-df-spinner {\n",
              "    border: 2px solid var(--fill-color);\n",
              "    border-color: transparent;\n",
              "    border-bottom-color: var(--fill-color);\n",
              "    animation:\n",
              "      spin 1s steps(1) infinite;\n",
              "  }\n",
              "\n",
              "  @keyframes spin {\n",
              "    0% {\n",
              "      border-color: transparent;\n",
              "      border-bottom-color: var(--fill-color);\n",
              "      border-left-color: var(--fill-color);\n",
              "    }\n",
              "    20% {\n",
              "      border-color: transparent;\n",
              "      border-left-color: var(--fill-color);\n",
              "      border-top-color: var(--fill-color);\n",
              "    }\n",
              "    30% {\n",
              "      border-color: transparent;\n",
              "      border-left-color: var(--fill-color);\n",
              "      border-top-color: var(--fill-color);\n",
              "      border-right-color: var(--fill-color);\n",
              "    }\n",
              "    40% {\n",
              "      border-color: transparent;\n",
              "      border-right-color: var(--fill-color);\n",
              "      border-top-color: var(--fill-color);\n",
              "    }\n",
              "    60% {\n",
              "      border-color: transparent;\n",
              "      border-right-color: var(--fill-color);\n",
              "    }\n",
              "    80% {\n",
              "      border-color: transparent;\n",
              "      border-right-color: var(--fill-color);\n",
              "      border-bottom-color: var(--fill-color);\n",
              "    }\n",
              "    90% {\n",
              "      border-color: transparent;\n",
              "      border-bottom-color: var(--fill-color);\n",
              "    }\n",
              "  }\n",
              "</style>\n",
              "\n",
              "  <script>\n",
              "    async function quickchart(key) {\n",
              "      const quickchartButtonEl =\n",
              "        document.querySelector('#' + key + ' button');\n",
              "      quickchartButtonEl.disabled = true;  // To prevent multiple clicks.\n",
              "      quickchartButtonEl.classList.add('colab-df-spinner');\n",
              "      try {\n",
              "        const charts = await google.colab.kernel.invokeFunction(\n",
              "            'suggestCharts', [key], {});\n",
              "      } catch (error) {\n",
              "        console.error('Error during call to suggestCharts:', error);\n",
              "      }\n",
              "      quickchartButtonEl.classList.remove('colab-df-spinner');\n",
              "      quickchartButtonEl.classList.add('colab-df-quickchart-complete');\n",
              "    }\n",
              "    (() => {\n",
              "      let quickchartButtonEl =\n",
              "        document.querySelector('#df-a3b160a3-a2b3-4df3-996b-2444918a3ce4 button');\n",
              "      quickchartButtonEl.style.display =\n",
              "        google.colab.kernel.accessAllowed ? 'block' : 'none';\n",
              "    })();\n",
              "  </script>\n",
              "</div>\n",
              "    </div>\n",
              "  </div>\n"
            ]
          },
          "metadata": {},
          "execution_count": 73
        }
      ]
    },
    {
      "cell_type": "markdown",
      "source": [
        "Berdasarkan hasil analisis data sebelumnya, didapatkan bahwa **topik yang dibicarakan pada data terbagi menjadi 4 topik umum** yaitu topik **politik, ketenagakerjaan, kesehatan, dan agama**. Topik yang merupakan hoaks **didominasi oleh topik kesehatan** di mana terdapat **sebanyak 28.987013%** dari total keseluruhan dokumen yang merupakan hoaks."
      ],
      "metadata": {
        "id": "IjAL_3gjn-7w"
      }
    },
    {
      "cell_type": "markdown",
      "source": [
        "## Insight 2"
      ],
      "metadata": {
        "id": "O7yrGELgpPDU"
      }
    },
    {
      "cell_type": "code",
      "source": [
        "fig, ax = plt.subplots()\n",
        "\n",
        "for key, data in df_topik.groupby('topik2'):\n",
        "    data.plot(x = 'tahun', y = 'count', ax = ax, label = key)\n",
        "plt.xlabel('Tahun')\n",
        "plt.ylabel('Jumlah')\n",
        "plt.title('Grafik Tren Jumlah Topik Hoaks')"
      ],
      "metadata": {
        "colab": {
          "base_uri": "https://localhost:8080/",
          "height": 656
        },
        "id": "Ed-oNG-9o3w0",
        "outputId": "6ffab39c-b1ab-4ab6-92d0-f8ce90f9d963"
      },
      "execution_count": 74,
      "outputs": [
        {
          "output_type": "stream",
          "name": "stderr",
          "text": [
            "/usr/local/lib/python3.10/dist-packages/ipykernel/ipkernel.py:283: DeprecationWarning: `should_run_async` will not call `transform_cell` automatically in the future. Please pass the result to `transformed_cell` argument and any exception that happen during thetransform in `preprocessing_exc_tuple` in IPython 7.17 and above.\n",
            "  and should_run_async(code)\n",
            "/usr/local/lib/python3.10/dist-packages/pandas/plotting/_matplotlib/core.py:792: MatplotlibDeprecationWarning: The legendHandles attribute was deprecated in Matplotlib 3.7 and will be removed two minor releases later. Use legend_handles instead.\n",
            "  handles = leg.legendHandles\n",
            "/usr/local/lib/python3.10/dist-packages/pandas/plotting/_matplotlib/core.py:792: MatplotlibDeprecationWarning: The legendHandles attribute was deprecated in Matplotlib 3.7 and will be removed two minor releases later. Use legend_handles instead.\n",
            "  handles = leg.legendHandles\n",
            "/usr/local/lib/python3.10/dist-packages/pandas/plotting/_matplotlib/core.py:792: MatplotlibDeprecationWarning: The legendHandles attribute was deprecated in Matplotlib 3.7 and will be removed two minor releases later. Use legend_handles instead.\n",
            "  handles = leg.legendHandles\n"
          ]
        },
        {
          "output_type": "execute_result",
          "data": {
            "text/plain": [
              "Text(0.5, 1.0, 'Grafik Tren Jumlah Topik Hoaks')"
            ]
          },
          "metadata": {},
          "execution_count": 74
        },
        {
          "output_type": "display_data",
          "data": {
            "text/plain": [
              "<Figure size 640x480 with 1 Axes>"
            ],
            "image/png": "[encoded data removed]"
          },
          "metadata": {}
        }
      ]
    },
    {
      "cell_type": "markdown",
      "source": [
        "**Topik hoaks politik mengalami kenaikan drastis setelah tahun 2019** di mana diduga hal tersebut diduga karena adanya Pemilu pada tahun 2019 silam. Topik hoaks pemilu diduga diakibatkan oleh kedua belah pendukung pasangan calon presiden yang saling menyebarkan informasi yang tidak valid."
      ],
      "metadata": {
        "id": "eWa1AId0pk4n"
      }
    }
  ],
  "metadata": {
    "colab": {
      "provenance": [],
      "include_colab_link": true
    },
    "kernelspec": {
      "display_name": "Python 3",
      "name": "python3"
    },
    "language_info": {
      "name": "python"
    },
    "vp": {
      "vp_note_display": false,
      "vp_note_width": 0
    }
  },
  "nbformat": 4,
  "nbformat_minor": 0
}
